{
  "nbformat": 4,
  "nbformat_minor": 0,
  "metadata": {
    "colab": {
      "provenance": []
    },
    "kernelspec": {
      "name": "python3",
      "display_name": "Python 3"
    },
    "language_info": {
      "name": "python"
    },
    "widgets": {
      "application/vnd.jupyter.widget-state+json": {
        "8b0bd1f9b709425cad14ea803566ad01": {
          "model_module": "@jupyter-widgets/controls",
          "model_name": "HBoxModel",
          "model_module_version": "1.5.0",
          "state": {
            "_dom_classes": [],
            "_model_module": "@jupyter-widgets/controls",
            "_model_module_version": "1.5.0",
            "_model_name": "HBoxModel",
            "_view_count": null,
            "_view_module": "@jupyter-widgets/controls",
            "_view_module_version": "1.5.0",
            "_view_name": "HBoxView",
            "box_style": "",
            "children": [
              "IPY_MODEL_41434f20e9bb4f95b4ce3e9d8a29c50f",
              "IPY_MODEL_1e38fc6dd6474a4488a553df133d11b0",
              "IPY_MODEL_ef23dbaf3b8d47b980d32f867b271086"
            ],
            "layout": "IPY_MODEL_281765fe40d842c0aecdd439dec9110d"
          }
        },
        "41434f20e9bb4f95b4ce3e9d8a29c50f": {
          "model_module": "@jupyter-widgets/controls",
          "model_name": "HTMLModel",
          "model_module_version": "1.5.0",
          "state": {
            "_dom_classes": [],
            "_model_module": "@jupyter-widgets/controls",
            "_model_module_version": "1.5.0",
            "_model_name": "HTMLModel",
            "_view_count": null,
            "_view_module": "@jupyter-widgets/controls",
            "_view_module_version": "1.5.0",
            "_view_name": "HTMLView",
            "description": "",
            "description_tooltip": null,
            "layout": "IPY_MODEL_177f24e2a7a245c7a269a59716d607b1",
            "placeholder": "​",
            "style": "IPY_MODEL_5c1f4c636a39443db1b04d40be7444b8",
            "value": "config.json: 100%"
          }
        },
        "1e38fc6dd6474a4488a553df133d11b0": {
          "model_module": "@jupyter-widgets/controls",
          "model_name": "FloatProgressModel",
          "model_module_version": "1.5.0",
          "state": {
            "_dom_classes": [],
            "_model_module": "@jupyter-widgets/controls",
            "_model_module_version": "1.5.0",
            "_model_name": "FloatProgressModel",
            "_view_count": null,
            "_view_module": "@jupyter-widgets/controls",
            "_view_module_version": "1.5.0",
            "_view_name": "ProgressView",
            "bar_style": "success",
            "description": "",
            "description_tooltip": null,
            "layout": "IPY_MODEL_e8f74b627c28454084eaebe7d9939803",
            "max": 1206,
            "min": 0,
            "orientation": "horizontal",
            "style": "IPY_MODEL_d1cd933fb20343acaf0b48d4188a910d",
            "value": 1206
          }
        },
        "ef23dbaf3b8d47b980d32f867b271086": {
          "model_module": "@jupyter-widgets/controls",
          "model_name": "HTMLModel",
          "model_module_version": "1.5.0",
          "state": {
            "_dom_classes": [],
            "_model_module": "@jupyter-widgets/controls",
            "_model_module_version": "1.5.0",
            "_model_name": "HTMLModel",
            "_view_count": null,
            "_view_module": "@jupyter-widgets/controls",
            "_view_module_version": "1.5.0",
            "_view_name": "HTMLView",
            "description": "",
            "description_tooltip": null,
            "layout": "IPY_MODEL_3fa3c76df5ed4582ba842b96f3ae4da2",
            "placeholder": "​",
            "style": "IPY_MODEL_0adb733f8022422c86f8bf55c26e8ab1",
            "value": " 1.21k/1.21k [00:00&lt;00:00, 89.8kB/s]"
          }
        },
        "281765fe40d842c0aecdd439dec9110d": {
          "model_module": "@jupyter-widgets/base",
          "model_name": "LayoutModel",
          "model_module_version": "1.2.0",
          "state": {
            "_model_module": "@jupyter-widgets/base",
            "_model_module_version": "1.2.0",
            "_model_name": "LayoutModel",
            "_view_count": null,
            "_view_module": "@jupyter-widgets/base",
            "_view_module_version": "1.2.0",
            "_view_name": "LayoutView",
            "align_content": null,
            "align_items": null,
            "align_self": null,
            "border": null,
            "bottom": null,
            "display": null,
            "flex": null,
            "flex_flow": null,
            "grid_area": null,
            "grid_auto_columns": null,
            "grid_auto_flow": null,
            "grid_auto_rows": null,
            "grid_column": null,
            "grid_gap": null,
            "grid_row": null,
            "grid_template_areas": null,
            "grid_template_columns": null,
            "grid_template_rows": null,
            "height": null,
            "justify_content": null,
            "justify_items": null,
            "left": null,
            "margin": null,
            "max_height": null,
            "max_width": null,
            "min_height": null,
            "min_width": null,
            "object_fit": null,
            "object_position": null,
            "order": null,
            "overflow": null,
            "overflow_x": null,
            "overflow_y": null,
            "padding": null,
            "right": null,
            "top": null,
            "visibility": null,
            "width": null
          }
        },
        "177f24e2a7a245c7a269a59716d607b1": {
          "model_module": "@jupyter-widgets/base",
          "model_name": "LayoutModel",
          "model_module_version": "1.2.0",
          "state": {
            "_model_module": "@jupyter-widgets/base",
            "_model_module_version": "1.2.0",
            "_model_name": "LayoutModel",
            "_view_count": null,
            "_view_module": "@jupyter-widgets/base",
            "_view_module_version": "1.2.0",
            "_view_name": "LayoutView",
            "align_content": null,
            "align_items": null,
            "align_self": null,
            "border": null,
            "bottom": null,
            "display": null,
            "flex": null,
            "flex_flow": null,
            "grid_area": null,
            "grid_auto_columns": null,
            "grid_auto_flow": null,
            "grid_auto_rows": null,
            "grid_column": null,
            "grid_gap": null,
            "grid_row": null,
            "grid_template_areas": null,
            "grid_template_columns": null,
            "grid_template_rows": null,
            "height": null,
            "justify_content": null,
            "justify_items": null,
            "left": null,
            "margin": null,
            "max_height": null,
            "max_width": null,
            "min_height": null,
            "min_width": null,
            "object_fit": null,
            "object_position": null,
            "order": null,
            "overflow": null,
            "overflow_x": null,
            "overflow_y": null,
            "padding": null,
            "right": null,
            "top": null,
            "visibility": null,
            "width": null
          }
        },
        "5c1f4c636a39443db1b04d40be7444b8": {
          "model_module": "@jupyter-widgets/controls",
          "model_name": "DescriptionStyleModel",
          "model_module_version": "1.5.0",
          "state": {
            "_model_module": "@jupyter-widgets/controls",
            "_model_module_version": "1.5.0",
            "_model_name": "DescriptionStyleModel",
            "_view_count": null,
            "_view_module": "@jupyter-widgets/base",
            "_view_module_version": "1.2.0",
            "_view_name": "StyleView",
            "description_width": ""
          }
        },
        "e8f74b627c28454084eaebe7d9939803": {
          "model_module": "@jupyter-widgets/base",
          "model_name": "LayoutModel",
          "model_module_version": "1.2.0",
          "state": {
            "_model_module": "@jupyter-widgets/base",
            "_model_module_version": "1.2.0",
            "_model_name": "LayoutModel",
            "_view_count": null,
            "_view_module": "@jupyter-widgets/base",
            "_view_module_version": "1.2.0",
            "_view_name": "LayoutView",
            "align_content": null,
            "align_items": null,
            "align_self": null,
            "border": null,
            "bottom": null,
            "display": null,
            "flex": null,
            "flex_flow": null,
            "grid_area": null,
            "grid_auto_columns": null,
            "grid_auto_flow": null,
            "grid_auto_rows": null,
            "grid_column": null,
            "grid_gap": null,
            "grid_row": null,
            "grid_template_areas": null,
            "grid_template_columns": null,
            "grid_template_rows": null,
            "height": null,
            "justify_content": null,
            "justify_items": null,
            "left": null,
            "margin": null,
            "max_height": null,
            "max_width": null,
            "min_height": null,
            "min_width": null,
            "object_fit": null,
            "object_position": null,
            "order": null,
            "overflow": null,
            "overflow_x": null,
            "overflow_y": null,
            "padding": null,
            "right": null,
            "top": null,
            "visibility": null,
            "width": null
          }
        },
        "d1cd933fb20343acaf0b48d4188a910d": {
          "model_module": "@jupyter-widgets/controls",
          "model_name": "ProgressStyleModel",
          "model_module_version": "1.5.0",
          "state": {
            "_model_module": "@jupyter-widgets/controls",
            "_model_module_version": "1.5.0",
            "_model_name": "ProgressStyleModel",
            "_view_count": null,
            "_view_module": "@jupyter-widgets/base",
            "_view_module_version": "1.2.0",
            "_view_name": "StyleView",
            "bar_color": null,
            "description_width": ""
          }
        },
        "3fa3c76df5ed4582ba842b96f3ae4da2": {
          "model_module": "@jupyter-widgets/base",
          "model_name": "LayoutModel",
          "model_module_version": "1.2.0",
          "state": {
            "_model_module": "@jupyter-widgets/base",
            "_model_module_version": "1.2.0",
            "_model_name": "LayoutModel",
            "_view_count": null,
            "_view_module": "@jupyter-widgets/base",
            "_view_module_version": "1.2.0",
            "_view_name": "LayoutView",
            "align_content": null,
            "align_items": null,
            "align_self": null,
            "border": null,
            "bottom": null,
            "display": null,
            "flex": null,
            "flex_flow": null,
            "grid_area": null,
            "grid_auto_columns": null,
            "grid_auto_flow": null,
            "grid_auto_rows": null,
            "grid_column": null,
            "grid_gap": null,
            "grid_row": null,
            "grid_template_areas": null,
            "grid_template_columns": null,
            "grid_template_rows": null,
            "height": null,
            "justify_content": null,
            "justify_items": null,
            "left": null,
            "margin": null,
            "max_height": null,
            "max_width": null,
            "min_height": null,
            "min_width": null,
            "object_fit": null,
            "object_position": null,
            "order": null,
            "overflow": null,
            "overflow_x": null,
            "overflow_y": null,
            "padding": null,
            "right": null,
            "top": null,
            "visibility": null,
            "width": null
          }
        },
        "0adb733f8022422c86f8bf55c26e8ab1": {
          "model_module": "@jupyter-widgets/controls",
          "model_name": "DescriptionStyleModel",
          "model_module_version": "1.5.0",
          "state": {
            "_model_module": "@jupyter-widgets/controls",
            "_model_module_version": "1.5.0",
            "_model_name": "DescriptionStyleModel",
            "_view_count": null,
            "_view_module": "@jupyter-widgets/base",
            "_view_module_version": "1.2.0",
            "_view_name": "StyleView",
            "description_width": ""
          }
        },
        "ec0a3b810ded47c998d77565c8e4bbfb": {
          "model_module": "@jupyter-widgets/controls",
          "model_name": "HBoxModel",
          "model_module_version": "1.5.0",
          "state": {
            "_dom_classes": [],
            "_model_module": "@jupyter-widgets/controls",
            "_model_module_version": "1.5.0",
            "_model_name": "HBoxModel",
            "_view_count": null,
            "_view_module": "@jupyter-widgets/controls",
            "_view_module_version": "1.5.0",
            "_view_name": "HBoxView",
            "box_style": "",
            "children": [
              "IPY_MODEL_c6d46d75ca0845df8bad780568e71d3e",
              "IPY_MODEL_d08f222017ce45039de0fbc60bd23d13",
              "IPY_MODEL_077f4a7ab4a4408c8665052d525b3b09"
            ],
            "layout": "IPY_MODEL_5daa76a7b20c48ab8c64e725f6bff78d"
          }
        },
        "c6d46d75ca0845df8bad780568e71d3e": {
          "model_module": "@jupyter-widgets/controls",
          "model_name": "HTMLModel",
          "model_module_version": "1.5.0",
          "state": {
            "_dom_classes": [],
            "_model_module": "@jupyter-widgets/controls",
            "_model_module_version": "1.5.0",
            "_model_name": "HTMLModel",
            "_view_count": null,
            "_view_module": "@jupyter-widgets/controls",
            "_view_module_version": "1.5.0",
            "_view_name": "HTMLView",
            "description": "",
            "description_tooltip": null,
            "layout": "IPY_MODEL_ece78934c8bb4a9c954e394f80171d8b",
            "placeholder": "​",
            "style": "IPY_MODEL_342762e5103845438f0576e93a9ef9a2",
            "value": "model.safetensors: 100%"
          }
        },
        "d08f222017ce45039de0fbc60bd23d13": {
          "model_module": "@jupyter-widgets/controls",
          "model_name": "FloatProgressModel",
          "model_module_version": "1.5.0",
          "state": {
            "_dom_classes": [],
            "_model_module": "@jupyter-widgets/controls",
            "_model_module_version": "1.5.0",
            "_model_name": "FloatProgressModel",
            "_view_count": null,
            "_view_module": "@jupyter-widgets/controls",
            "_view_module_version": "1.5.0",
            "_view_name": "ProgressView",
            "bar_style": "success",
            "description": "",
            "description_tooltip": null,
            "layout": "IPY_MODEL_137359b24e5a4c548f5585552ce36602",
            "max": 242043056,
            "min": 0,
            "orientation": "horizontal",
            "style": "IPY_MODEL_d2f36b21657446b49e4c4f07050da959",
            "value": 242043056
          }
        },
        "077f4a7ab4a4408c8665052d525b3b09": {
          "model_module": "@jupyter-widgets/controls",
          "model_name": "HTMLModel",
          "model_module_version": "1.5.0",
          "state": {
            "_dom_classes": [],
            "_model_module": "@jupyter-widgets/controls",
            "_model_module_version": "1.5.0",
            "_model_name": "HTMLModel",
            "_view_count": null,
            "_view_module": "@jupyter-widgets/controls",
            "_view_module_version": "1.5.0",
            "_view_name": "HTMLView",
            "description": "",
            "description_tooltip": null,
            "layout": "IPY_MODEL_ffa4c3836cfe4004885375109f963b05",
            "placeholder": "​",
            "style": "IPY_MODEL_cba0f37efb9c4c1d88604cb4cfb1b176",
            "value": " 242M/242M [00:02&lt;00:00, 115MB/s]"
          }
        },
        "5daa76a7b20c48ab8c64e725f6bff78d": {
          "model_module": "@jupyter-widgets/base",
          "model_name": "LayoutModel",
          "model_module_version": "1.2.0",
          "state": {
            "_model_module": "@jupyter-widgets/base",
            "_model_module_version": "1.2.0",
            "_model_name": "LayoutModel",
            "_view_count": null,
            "_view_module": "@jupyter-widgets/base",
            "_view_module_version": "1.2.0",
            "_view_name": "LayoutView",
            "align_content": null,
            "align_items": null,
            "align_self": null,
            "border": null,
            "bottom": null,
            "display": null,
            "flex": null,
            "flex_flow": null,
            "grid_area": null,
            "grid_auto_columns": null,
            "grid_auto_flow": null,
            "grid_auto_rows": null,
            "grid_column": null,
            "grid_gap": null,
            "grid_row": null,
            "grid_template_areas": null,
            "grid_template_columns": null,
            "grid_template_rows": null,
            "height": null,
            "justify_content": null,
            "justify_items": null,
            "left": null,
            "margin": null,
            "max_height": null,
            "max_width": null,
            "min_height": null,
            "min_width": null,
            "object_fit": null,
            "object_position": null,
            "order": null,
            "overflow": null,
            "overflow_x": null,
            "overflow_y": null,
            "padding": null,
            "right": null,
            "top": null,
            "visibility": null,
            "width": null
          }
        },
        "ece78934c8bb4a9c954e394f80171d8b": {
          "model_module": "@jupyter-widgets/base",
          "model_name": "LayoutModel",
          "model_module_version": "1.2.0",
          "state": {
            "_model_module": "@jupyter-widgets/base",
            "_model_module_version": "1.2.0",
            "_model_name": "LayoutModel",
            "_view_count": null,
            "_view_module": "@jupyter-widgets/base",
            "_view_module_version": "1.2.0",
            "_view_name": "LayoutView",
            "align_content": null,
            "align_items": null,
            "align_self": null,
            "border": null,
            "bottom": null,
            "display": null,
            "flex": null,
            "flex_flow": null,
            "grid_area": null,
            "grid_auto_columns": null,
            "grid_auto_flow": null,
            "grid_auto_rows": null,
            "grid_column": null,
            "grid_gap": null,
            "grid_row": null,
            "grid_template_areas": null,
            "grid_template_columns": null,
            "grid_template_rows": null,
            "height": null,
            "justify_content": null,
            "justify_items": null,
            "left": null,
            "margin": null,
            "max_height": null,
            "max_width": null,
            "min_height": null,
            "min_width": null,
            "object_fit": null,
            "object_position": null,
            "order": null,
            "overflow": null,
            "overflow_x": null,
            "overflow_y": null,
            "padding": null,
            "right": null,
            "top": null,
            "visibility": null,
            "width": null
          }
        },
        "342762e5103845438f0576e93a9ef9a2": {
          "model_module": "@jupyter-widgets/controls",
          "model_name": "DescriptionStyleModel",
          "model_module_version": "1.5.0",
          "state": {
            "_model_module": "@jupyter-widgets/controls",
            "_model_module_version": "1.5.0",
            "_model_name": "DescriptionStyleModel",
            "_view_count": null,
            "_view_module": "@jupyter-widgets/base",
            "_view_module_version": "1.2.0",
            "_view_name": "StyleView",
            "description_width": ""
          }
        },
        "137359b24e5a4c548f5585552ce36602": {
          "model_module": "@jupyter-widgets/base",
          "model_name": "LayoutModel",
          "model_module_version": "1.2.0",
          "state": {
            "_model_module": "@jupyter-widgets/base",
            "_model_module_version": "1.2.0",
            "_model_name": "LayoutModel",
            "_view_count": null,
            "_view_module": "@jupyter-widgets/base",
            "_view_module_version": "1.2.0",
            "_view_name": "LayoutView",
            "align_content": null,
            "align_items": null,
            "align_self": null,
            "border": null,
            "bottom": null,
            "display": null,
            "flex": null,
            "flex_flow": null,
            "grid_area": null,
            "grid_auto_columns": null,
            "grid_auto_flow": null,
            "grid_auto_rows": null,
            "grid_column": null,
            "grid_gap": null,
            "grid_row": null,
            "grid_template_areas": null,
            "grid_template_columns": null,
            "grid_template_rows": null,
            "height": null,
            "justify_content": null,
            "justify_items": null,
            "left": null,
            "margin": null,
            "max_height": null,
            "max_width": null,
            "min_height": null,
            "min_width": null,
            "object_fit": null,
            "object_position": null,
            "order": null,
            "overflow": null,
            "overflow_x": null,
            "overflow_y": null,
            "padding": null,
            "right": null,
            "top": null,
            "visibility": null,
            "width": null
          }
        },
        "d2f36b21657446b49e4c4f07050da959": {
          "model_module": "@jupyter-widgets/controls",
          "model_name": "ProgressStyleModel",
          "model_module_version": "1.5.0",
          "state": {
            "_model_module": "@jupyter-widgets/controls",
            "_model_module_version": "1.5.0",
            "_model_name": "ProgressStyleModel",
            "_view_count": null,
            "_view_module": "@jupyter-widgets/base",
            "_view_module_version": "1.2.0",
            "_view_name": "StyleView",
            "bar_color": null,
            "description_width": ""
          }
        },
        "ffa4c3836cfe4004885375109f963b05": {
          "model_module": "@jupyter-widgets/base",
          "model_name": "LayoutModel",
          "model_module_version": "1.2.0",
          "state": {
            "_model_module": "@jupyter-widgets/base",
            "_model_module_version": "1.2.0",
            "_model_name": "LayoutModel",
            "_view_count": null,
            "_view_module": "@jupyter-widgets/base",
            "_view_module_version": "1.2.0",
            "_view_name": "LayoutView",
            "align_content": null,
            "align_items": null,
            "align_self": null,
            "border": null,
            "bottom": null,
            "display": null,
            "flex": null,
            "flex_flow": null,
            "grid_area": null,
            "grid_auto_columns": null,
            "grid_auto_flow": null,
            "grid_auto_rows": null,
            "grid_column": null,
            "grid_gap": null,
            "grid_row": null,
            "grid_template_areas": null,
            "grid_template_columns": null,
            "grid_template_rows": null,
            "height": null,
            "justify_content": null,
            "justify_items": null,
            "left": null,
            "margin": null,
            "max_height": null,
            "max_width": null,
            "min_height": null,
            "min_width": null,
            "object_fit": null,
            "object_position": null,
            "order": null,
            "overflow": null,
            "overflow_x": null,
            "overflow_y": null,
            "padding": null,
            "right": null,
            "top": null,
            "visibility": null,
            "width": null
          }
        },
        "cba0f37efb9c4c1d88604cb4cfb1b176": {
          "model_module": "@jupyter-widgets/controls",
          "model_name": "DescriptionStyleModel",
          "model_module_version": "1.5.0",
          "state": {
            "_model_module": "@jupyter-widgets/controls",
            "_model_module_version": "1.5.0",
            "_model_name": "DescriptionStyleModel",
            "_view_count": null,
            "_view_module": "@jupyter-widgets/base",
            "_view_module_version": "1.2.0",
            "_view_name": "StyleView",
            "description_width": ""
          }
        },
        "8bc64edbc6644592a9add4745c9b7a7b": {
          "model_module": "@jupyter-widgets/controls",
          "model_name": "HBoxModel",
          "model_module_version": "1.5.0",
          "state": {
            "_dom_classes": [],
            "_model_module": "@jupyter-widgets/controls",
            "_model_module_version": "1.5.0",
            "_model_name": "HBoxModel",
            "_view_count": null,
            "_view_module": "@jupyter-widgets/controls",
            "_view_module_version": "1.5.0",
            "_view_name": "HBoxView",
            "box_style": "",
            "children": [
              "IPY_MODEL_36c9c954e28b4c0bafe63c25251d4f0a",
              "IPY_MODEL_5b2f5e353656488893e33ec29b9e6713",
              "IPY_MODEL_e3e4c9598f11485ebd6d165b25260372"
            ],
            "layout": "IPY_MODEL_594d6e35a3644da59a8e0cd960ac7a0f"
          }
        },
        "36c9c954e28b4c0bafe63c25251d4f0a": {
          "model_module": "@jupyter-widgets/controls",
          "model_name": "HTMLModel",
          "model_module_version": "1.5.0",
          "state": {
            "_dom_classes": [],
            "_model_module": "@jupyter-widgets/controls",
            "_model_module_version": "1.5.0",
            "_model_name": "HTMLModel",
            "_view_count": null,
            "_view_module": "@jupyter-widgets/controls",
            "_view_module_version": "1.5.0",
            "_view_name": "HTMLView",
            "description": "",
            "description_tooltip": null,
            "layout": "IPY_MODEL_f4ddab1af4c54636bf27a0618b1f72ef",
            "placeholder": "​",
            "style": "IPY_MODEL_375ea6e7fec84cb1a66d9f4b2d236bb4",
            "value": "generation_config.json: 100%"
          }
        },
        "5b2f5e353656488893e33ec29b9e6713": {
          "model_module": "@jupyter-widgets/controls",
          "model_name": "FloatProgressModel",
          "model_module_version": "1.5.0",
          "state": {
            "_dom_classes": [],
            "_model_module": "@jupyter-widgets/controls",
            "_model_module_version": "1.5.0",
            "_model_name": "FloatProgressModel",
            "_view_count": null,
            "_view_module": "@jupyter-widgets/controls",
            "_view_module_version": "1.5.0",
            "_view_name": "ProgressView",
            "bar_style": "success",
            "description": "",
            "description_tooltip": null,
            "layout": "IPY_MODEL_6ddb84ea26be43428951ff418a8f5e0b",
            "max": 147,
            "min": 0,
            "orientation": "horizontal",
            "style": "IPY_MODEL_8f0164ac4d8c4b11a7d7f47bc3d71aee",
            "value": 147
          }
        },
        "e3e4c9598f11485ebd6d165b25260372": {
          "model_module": "@jupyter-widgets/controls",
          "model_name": "HTMLModel",
          "model_module_version": "1.5.0",
          "state": {
            "_dom_classes": [],
            "_model_module": "@jupyter-widgets/controls",
            "_model_module_version": "1.5.0",
            "_model_name": "HTMLModel",
            "_view_count": null,
            "_view_module": "@jupyter-widgets/controls",
            "_view_module_version": "1.5.0",
            "_view_name": "HTMLView",
            "description": "",
            "description_tooltip": null,
            "layout": "IPY_MODEL_8bd2d4e1dc8a4a13a1573e708fd0d392",
            "placeholder": "​",
            "style": "IPY_MODEL_65d4b0e841d64ffe877910e27854872d",
            "value": " 147/147 [00:00&lt;00:00, 11.3kB/s]"
          }
        },
        "594d6e35a3644da59a8e0cd960ac7a0f": {
          "model_module": "@jupyter-widgets/base",
          "model_name": "LayoutModel",
          "model_module_version": "1.2.0",
          "state": {
            "_model_module": "@jupyter-widgets/base",
            "_model_module_version": "1.2.0",
            "_model_name": "LayoutModel",
            "_view_count": null,
            "_view_module": "@jupyter-widgets/base",
            "_view_module_version": "1.2.0",
            "_view_name": "LayoutView",
            "align_content": null,
            "align_items": null,
            "align_self": null,
            "border": null,
            "bottom": null,
            "display": null,
            "flex": null,
            "flex_flow": null,
            "grid_area": null,
            "grid_auto_columns": null,
            "grid_auto_flow": null,
            "grid_auto_rows": null,
            "grid_column": null,
            "grid_gap": null,
            "grid_row": null,
            "grid_template_areas": null,
            "grid_template_columns": null,
            "grid_template_rows": null,
            "height": null,
            "justify_content": null,
            "justify_items": null,
            "left": null,
            "margin": null,
            "max_height": null,
            "max_width": null,
            "min_height": null,
            "min_width": null,
            "object_fit": null,
            "object_position": null,
            "order": null,
            "overflow": null,
            "overflow_x": null,
            "overflow_y": null,
            "padding": null,
            "right": null,
            "top": null,
            "visibility": null,
            "width": null
          }
        },
        "f4ddab1af4c54636bf27a0618b1f72ef": {
          "model_module": "@jupyter-widgets/base",
          "model_name": "LayoutModel",
          "model_module_version": "1.2.0",
          "state": {
            "_model_module": "@jupyter-widgets/base",
            "_model_module_version": "1.2.0",
            "_model_name": "LayoutModel",
            "_view_count": null,
            "_view_module": "@jupyter-widgets/base",
            "_view_module_version": "1.2.0",
            "_view_name": "LayoutView",
            "align_content": null,
            "align_items": null,
            "align_self": null,
            "border": null,
            "bottom": null,
            "display": null,
            "flex": null,
            "flex_flow": null,
            "grid_area": null,
            "grid_auto_columns": null,
            "grid_auto_flow": null,
            "grid_auto_rows": null,
            "grid_column": null,
            "grid_gap": null,
            "grid_row": null,
            "grid_template_areas": null,
            "grid_template_columns": null,
            "grid_template_rows": null,
            "height": null,
            "justify_content": null,
            "justify_items": null,
            "left": null,
            "margin": null,
            "max_height": null,
            "max_width": null,
            "min_height": null,
            "min_width": null,
            "object_fit": null,
            "object_position": null,
            "order": null,
            "overflow": null,
            "overflow_x": null,
            "overflow_y": null,
            "padding": null,
            "right": null,
            "top": null,
            "visibility": null,
            "width": null
          }
        },
        "375ea6e7fec84cb1a66d9f4b2d236bb4": {
          "model_module": "@jupyter-widgets/controls",
          "model_name": "DescriptionStyleModel",
          "model_module_version": "1.5.0",
          "state": {
            "_model_module": "@jupyter-widgets/controls",
            "_model_module_version": "1.5.0",
            "_model_name": "DescriptionStyleModel",
            "_view_count": null,
            "_view_module": "@jupyter-widgets/base",
            "_view_module_version": "1.2.0",
            "_view_name": "StyleView",
            "description_width": ""
          }
        },
        "6ddb84ea26be43428951ff418a8f5e0b": {
          "model_module": "@jupyter-widgets/base",
          "model_name": "LayoutModel",
          "model_module_version": "1.2.0",
          "state": {
            "_model_module": "@jupyter-widgets/base",
            "_model_module_version": "1.2.0",
            "_model_name": "LayoutModel",
            "_view_count": null,
            "_view_module": "@jupyter-widgets/base",
            "_view_module_version": "1.2.0",
            "_view_name": "LayoutView",
            "align_content": null,
            "align_items": null,
            "align_self": null,
            "border": null,
            "bottom": null,
            "display": null,
            "flex": null,
            "flex_flow": null,
            "grid_area": null,
            "grid_auto_columns": null,
            "grid_auto_flow": null,
            "grid_auto_rows": null,
            "grid_column": null,
            "grid_gap": null,
            "grid_row": null,
            "grid_template_areas": null,
            "grid_template_columns": null,
            "grid_template_rows": null,
            "height": null,
            "justify_content": null,
            "justify_items": null,
            "left": null,
            "margin": null,
            "max_height": null,
            "max_width": null,
            "min_height": null,
            "min_width": null,
            "object_fit": null,
            "object_position": null,
            "order": null,
            "overflow": null,
            "overflow_x": null,
            "overflow_y": null,
            "padding": null,
            "right": null,
            "top": null,
            "visibility": null,
            "width": null
          }
        },
        "8f0164ac4d8c4b11a7d7f47bc3d71aee": {
          "model_module": "@jupyter-widgets/controls",
          "model_name": "ProgressStyleModel",
          "model_module_version": "1.5.0",
          "state": {
            "_model_module": "@jupyter-widgets/controls",
            "_model_module_version": "1.5.0",
            "_model_name": "ProgressStyleModel",
            "_view_count": null,
            "_view_module": "@jupyter-widgets/base",
            "_view_module_version": "1.2.0",
            "_view_name": "StyleView",
            "bar_color": null,
            "description_width": ""
          }
        },
        "8bd2d4e1dc8a4a13a1573e708fd0d392": {
          "model_module": "@jupyter-widgets/base",
          "model_name": "LayoutModel",
          "model_module_version": "1.2.0",
          "state": {
            "_model_module": "@jupyter-widgets/base",
            "_model_module_version": "1.2.0",
            "_model_name": "LayoutModel",
            "_view_count": null,
            "_view_module": "@jupyter-widgets/base",
            "_view_module_version": "1.2.0",
            "_view_name": "LayoutView",
            "align_content": null,
            "align_items": null,
            "align_self": null,
            "border": null,
            "bottom": null,
            "display": null,
            "flex": null,
            "flex_flow": null,
            "grid_area": null,
            "grid_auto_columns": null,
            "grid_auto_flow": null,
            "grid_auto_rows": null,
            "grid_column": null,
            "grid_gap": null,
            "grid_row": null,
            "grid_template_areas": null,
            "grid_template_columns": null,
            "grid_template_rows": null,
            "height": null,
            "justify_content": null,
            "justify_items": null,
            "left": null,
            "margin": null,
            "max_height": null,
            "max_width": null,
            "min_height": null,
            "min_width": null,
            "object_fit": null,
            "object_position": null,
            "order": null,
            "overflow": null,
            "overflow_x": null,
            "overflow_y": null,
            "padding": null,
            "right": null,
            "top": null,
            "visibility": null,
            "width": null
          }
        },
        "65d4b0e841d64ffe877910e27854872d": {
          "model_module": "@jupyter-widgets/controls",
          "model_name": "DescriptionStyleModel",
          "model_module_version": "1.5.0",
          "state": {
            "_model_module": "@jupyter-widgets/controls",
            "_model_module_version": "1.5.0",
            "_model_name": "DescriptionStyleModel",
            "_view_count": null,
            "_view_module": "@jupyter-widgets/base",
            "_view_module_version": "1.2.0",
            "_view_name": "StyleView",
            "description_width": ""
          }
        },
        "9a8d434684cf4d79a0961e7f98830f7d": {
          "model_module": "@jupyter-widgets/controls",
          "model_name": "HBoxModel",
          "model_module_version": "1.5.0",
          "state": {
            "_dom_classes": [],
            "_model_module": "@jupyter-widgets/controls",
            "_model_module_version": "1.5.0",
            "_model_name": "HBoxModel",
            "_view_count": null,
            "_view_module": "@jupyter-widgets/controls",
            "_view_module_version": "1.5.0",
            "_view_name": "HBoxView",
            "box_style": "",
            "children": [
              "IPY_MODEL_99def74fca414b87b262d0641cb89be1",
              "IPY_MODEL_f80cbd8616ce4b78ba025c7ee097e73c",
              "IPY_MODEL_90d628d1bff046ecabc13f1173bed801"
            ],
            "layout": "IPY_MODEL_fc25e0cb08634df792fd44683fbd32fa"
          }
        },
        "99def74fca414b87b262d0641cb89be1": {
          "model_module": "@jupyter-widgets/controls",
          "model_name": "HTMLModel",
          "model_module_version": "1.5.0",
          "state": {
            "_dom_classes": [],
            "_model_module": "@jupyter-widgets/controls",
            "_model_module_version": "1.5.0",
            "_model_name": "HTMLModel",
            "_view_count": null,
            "_view_module": "@jupyter-widgets/controls",
            "_view_module_version": "1.5.0",
            "_view_name": "HTMLView",
            "description": "",
            "description_tooltip": null,
            "layout": "IPY_MODEL_4b5ec267a1b34f5bb219d3480464d115",
            "placeholder": "​",
            "style": "IPY_MODEL_38a85c5019af48638ce5308c435c8753",
            "value": "tokenizer_config.json: 100%"
          }
        },
        "f80cbd8616ce4b78ba025c7ee097e73c": {
          "model_module": "@jupyter-widgets/controls",
          "model_name": "FloatProgressModel",
          "model_module_version": "1.5.0",
          "state": {
            "_dom_classes": [],
            "_model_module": "@jupyter-widgets/controls",
            "_model_module_version": "1.5.0",
            "_model_name": "FloatProgressModel",
            "_view_count": null,
            "_view_module": "@jupyter-widgets/controls",
            "_view_module_version": "1.5.0",
            "_view_name": "ProgressView",
            "bar_style": "success",
            "description": "",
            "description_tooltip": null,
            "layout": "IPY_MODEL_8cc72450c16b46ed8c12fe2e2091a2cb",
            "max": 2324,
            "min": 0,
            "orientation": "horizontal",
            "style": "IPY_MODEL_fd48fa3b100a42459606d47e1c94d905",
            "value": 2324
          }
        },
        "90d628d1bff046ecabc13f1173bed801": {
          "model_module": "@jupyter-widgets/controls",
          "model_name": "HTMLModel",
          "model_module_version": "1.5.0",
          "state": {
            "_dom_classes": [],
            "_model_module": "@jupyter-widgets/controls",
            "_model_module_version": "1.5.0",
            "_model_name": "HTMLModel",
            "_view_count": null,
            "_view_module": "@jupyter-widgets/controls",
            "_view_module_version": "1.5.0",
            "_view_name": "HTMLView",
            "description": "",
            "description_tooltip": null,
            "layout": "IPY_MODEL_5165e1a49e244ac7a98a5548daea7185",
            "placeholder": "​",
            "style": "IPY_MODEL_905cac001e8b4b629abff2539e2e2acd",
            "value": " 2.32k/2.32k [00:00&lt;00:00, 190kB/s]"
          }
        },
        "fc25e0cb08634df792fd44683fbd32fa": {
          "model_module": "@jupyter-widgets/base",
          "model_name": "LayoutModel",
          "model_module_version": "1.2.0",
          "state": {
            "_model_module": "@jupyter-widgets/base",
            "_model_module_version": "1.2.0",
            "_model_name": "LayoutModel",
            "_view_count": null,
            "_view_module": "@jupyter-widgets/base",
            "_view_module_version": "1.2.0",
            "_view_name": "LayoutView",
            "align_content": null,
            "align_items": null,
            "align_self": null,
            "border": null,
            "bottom": null,
            "display": null,
            "flex": null,
            "flex_flow": null,
            "grid_area": null,
            "grid_auto_columns": null,
            "grid_auto_flow": null,
            "grid_auto_rows": null,
            "grid_column": null,
            "grid_gap": null,
            "grid_row": null,
            "grid_template_areas": null,
            "grid_template_columns": null,
            "grid_template_rows": null,
            "height": null,
            "justify_content": null,
            "justify_items": null,
            "left": null,
            "margin": null,
            "max_height": null,
            "max_width": null,
            "min_height": null,
            "min_width": null,
            "object_fit": null,
            "object_position": null,
            "order": null,
            "overflow": null,
            "overflow_x": null,
            "overflow_y": null,
            "padding": null,
            "right": null,
            "top": null,
            "visibility": null,
            "width": null
          }
        },
        "4b5ec267a1b34f5bb219d3480464d115": {
          "model_module": "@jupyter-widgets/base",
          "model_name": "LayoutModel",
          "model_module_version": "1.2.0",
          "state": {
            "_model_module": "@jupyter-widgets/base",
            "_model_module_version": "1.2.0",
            "_model_name": "LayoutModel",
            "_view_count": null,
            "_view_module": "@jupyter-widgets/base",
            "_view_module_version": "1.2.0",
            "_view_name": "LayoutView",
            "align_content": null,
            "align_items": null,
            "align_self": null,
            "border": null,
            "bottom": null,
            "display": null,
            "flex": null,
            "flex_flow": null,
            "grid_area": null,
            "grid_auto_columns": null,
            "grid_auto_flow": null,
            "grid_auto_rows": null,
            "grid_column": null,
            "grid_gap": null,
            "grid_row": null,
            "grid_template_areas": null,
            "grid_template_columns": null,
            "grid_template_rows": null,
            "height": null,
            "justify_content": null,
            "justify_items": null,
            "left": null,
            "margin": null,
            "max_height": null,
            "max_width": null,
            "min_height": null,
            "min_width": null,
            "object_fit": null,
            "object_position": null,
            "order": null,
            "overflow": null,
            "overflow_x": null,
            "overflow_y": null,
            "padding": null,
            "right": null,
            "top": null,
            "visibility": null,
            "width": null
          }
        },
        "38a85c5019af48638ce5308c435c8753": {
          "model_module": "@jupyter-widgets/controls",
          "model_name": "DescriptionStyleModel",
          "model_module_version": "1.5.0",
          "state": {
            "_model_module": "@jupyter-widgets/controls",
            "_model_module_version": "1.5.0",
            "_model_name": "DescriptionStyleModel",
            "_view_count": null,
            "_view_module": "@jupyter-widgets/base",
            "_view_module_version": "1.2.0",
            "_view_name": "StyleView",
            "description_width": ""
          }
        },
        "8cc72450c16b46ed8c12fe2e2091a2cb": {
          "model_module": "@jupyter-widgets/base",
          "model_name": "LayoutModel",
          "model_module_version": "1.2.0",
          "state": {
            "_model_module": "@jupyter-widgets/base",
            "_model_module_version": "1.2.0",
            "_model_name": "LayoutModel",
            "_view_count": null,
            "_view_module": "@jupyter-widgets/base",
            "_view_module_version": "1.2.0",
            "_view_name": "LayoutView",
            "align_content": null,
            "align_items": null,
            "align_self": null,
            "border": null,
            "bottom": null,
            "display": null,
            "flex": null,
            "flex_flow": null,
            "grid_area": null,
            "grid_auto_columns": null,
            "grid_auto_flow": null,
            "grid_auto_rows": null,
            "grid_column": null,
            "grid_gap": null,
            "grid_row": null,
            "grid_template_areas": null,
            "grid_template_columns": null,
            "grid_template_rows": null,
            "height": null,
            "justify_content": null,
            "justify_items": null,
            "left": null,
            "margin": null,
            "max_height": null,
            "max_width": null,
            "min_height": null,
            "min_width": null,
            "object_fit": null,
            "object_position": null,
            "order": null,
            "overflow": null,
            "overflow_x": null,
            "overflow_y": null,
            "padding": null,
            "right": null,
            "top": null,
            "visibility": null,
            "width": null
          }
        },
        "fd48fa3b100a42459606d47e1c94d905": {
          "model_module": "@jupyter-widgets/controls",
          "model_name": "ProgressStyleModel",
          "model_module_version": "1.5.0",
          "state": {
            "_model_module": "@jupyter-widgets/controls",
            "_model_module_version": "1.5.0",
            "_model_name": "ProgressStyleModel",
            "_view_count": null,
            "_view_module": "@jupyter-widgets/base",
            "_view_module_version": "1.2.0",
            "_view_name": "StyleView",
            "bar_color": null,
            "description_width": ""
          }
        },
        "5165e1a49e244ac7a98a5548daea7185": {
          "model_module": "@jupyter-widgets/base",
          "model_name": "LayoutModel",
          "model_module_version": "1.2.0",
          "state": {
            "_model_module": "@jupyter-widgets/base",
            "_model_module_version": "1.2.0",
            "_model_name": "LayoutModel",
            "_view_count": null,
            "_view_module": "@jupyter-widgets/base",
            "_view_module_version": "1.2.0",
            "_view_name": "LayoutView",
            "align_content": null,
            "align_items": null,
            "align_self": null,
            "border": null,
            "bottom": null,
            "display": null,
            "flex": null,
            "flex_flow": null,
            "grid_area": null,
            "grid_auto_columns": null,
            "grid_auto_flow": null,
            "grid_auto_rows": null,
            "grid_column": null,
            "grid_gap": null,
            "grid_row": null,
            "grid_template_areas": null,
            "grid_template_columns": null,
            "grid_template_rows": null,
            "height": null,
            "justify_content": null,
            "justify_items": null,
            "left": null,
            "margin": null,
            "max_height": null,
            "max_width": null,
            "min_height": null,
            "min_width": null,
            "object_fit": null,
            "object_position": null,
            "order": null,
            "overflow": null,
            "overflow_x": null,
            "overflow_y": null,
            "padding": null,
            "right": null,
            "top": null,
            "visibility": null,
            "width": null
          }
        },
        "905cac001e8b4b629abff2539e2e2acd": {
          "model_module": "@jupyter-widgets/controls",
          "model_name": "DescriptionStyleModel",
          "model_module_version": "1.5.0",
          "state": {
            "_model_module": "@jupyter-widgets/controls",
            "_model_module_version": "1.5.0",
            "_model_name": "DescriptionStyleModel",
            "_view_count": null,
            "_view_module": "@jupyter-widgets/base",
            "_view_module_version": "1.2.0",
            "_view_name": "StyleView",
            "description_width": ""
          }
        },
        "45f00e533c3244639260c3dce5c8826b": {
          "model_module": "@jupyter-widgets/controls",
          "model_name": "HBoxModel",
          "model_module_version": "1.5.0",
          "state": {
            "_dom_classes": [],
            "_model_module": "@jupyter-widgets/controls",
            "_model_module_version": "1.5.0",
            "_model_name": "HBoxModel",
            "_view_count": null,
            "_view_module": "@jupyter-widgets/controls",
            "_view_module_version": "1.5.0",
            "_view_name": "HBoxView",
            "box_style": "",
            "children": [
              "IPY_MODEL_8d54e4d571e141d591e3a9955af4b8b7",
              "IPY_MODEL_400c527c99b3430fa4662ebe0847de7b",
              "IPY_MODEL_a3af0b4796f24ef78e9e9b0c65fce2ff"
            ],
            "layout": "IPY_MODEL_b37e8c658319440794b02220f76e0504"
          }
        },
        "8d54e4d571e141d591e3a9955af4b8b7": {
          "model_module": "@jupyter-widgets/controls",
          "model_name": "HTMLModel",
          "model_module_version": "1.5.0",
          "state": {
            "_dom_classes": [],
            "_model_module": "@jupyter-widgets/controls",
            "_model_module_version": "1.5.0",
            "_model_name": "HTMLModel",
            "_view_count": null,
            "_view_module": "@jupyter-widgets/controls",
            "_view_module_version": "1.5.0",
            "_view_name": "HTMLView",
            "description": "",
            "description_tooltip": null,
            "layout": "IPY_MODEL_ae6f4a6f787c4f6980e107809dacf1f2",
            "placeholder": "​",
            "style": "IPY_MODEL_b5b73193ca5f49a5be0ce09d5e1dfe7e",
            "value": "spiece.model: 100%"
          }
        },
        "400c527c99b3430fa4662ebe0847de7b": {
          "model_module": "@jupyter-widgets/controls",
          "model_name": "FloatProgressModel",
          "model_module_version": "1.5.0",
          "state": {
            "_dom_classes": [],
            "_model_module": "@jupyter-widgets/controls",
            "_model_module_version": "1.5.0",
            "_model_name": "FloatProgressModel",
            "_view_count": null,
            "_view_module": "@jupyter-widgets/controls",
            "_view_module_version": "1.5.0",
            "_view_name": "ProgressView",
            "bar_style": "success",
            "description": "",
            "description_tooltip": null,
            "layout": "IPY_MODEL_2169dca12dcf43d7b86fed3a0a7e9485",
            "max": 791656,
            "min": 0,
            "orientation": "horizontal",
            "style": "IPY_MODEL_76ff7c31bda240c9b66daf8aa07f5b5f",
            "value": 791656
          }
        },
        "a3af0b4796f24ef78e9e9b0c65fce2ff": {
          "model_module": "@jupyter-widgets/controls",
          "model_name": "HTMLModel",
          "model_module_version": "1.5.0",
          "state": {
            "_dom_classes": [],
            "_model_module": "@jupyter-widgets/controls",
            "_model_module_version": "1.5.0",
            "_model_name": "HTMLModel",
            "_view_count": null,
            "_view_module": "@jupyter-widgets/controls",
            "_view_module_version": "1.5.0",
            "_view_name": "HTMLView",
            "description": "",
            "description_tooltip": null,
            "layout": "IPY_MODEL_d8d96ca011d64a369acc5aabd4ad3c00",
            "placeholder": "​",
            "style": "IPY_MODEL_3c22a64ea9734798b9479d5b038e954e",
            "value": " 792k/792k [00:00&lt;00:00, 5.83MB/s]"
          }
        },
        "b37e8c658319440794b02220f76e0504": {
          "model_module": "@jupyter-widgets/base",
          "model_name": "LayoutModel",
          "model_module_version": "1.2.0",
          "state": {
            "_model_module": "@jupyter-widgets/base",
            "_model_module_version": "1.2.0",
            "_model_name": "LayoutModel",
            "_view_count": null,
            "_view_module": "@jupyter-widgets/base",
            "_view_module_version": "1.2.0",
            "_view_name": "LayoutView",
            "align_content": null,
            "align_items": null,
            "align_self": null,
            "border": null,
            "bottom": null,
            "display": null,
            "flex": null,
            "flex_flow": null,
            "grid_area": null,
            "grid_auto_columns": null,
            "grid_auto_flow": null,
            "grid_auto_rows": null,
            "grid_column": null,
            "grid_gap": null,
            "grid_row": null,
            "grid_template_areas": null,
            "grid_template_columns": null,
            "grid_template_rows": null,
            "height": null,
            "justify_content": null,
            "justify_items": null,
            "left": null,
            "margin": null,
            "max_height": null,
            "max_width": null,
            "min_height": null,
            "min_width": null,
            "object_fit": null,
            "object_position": null,
            "order": null,
            "overflow": null,
            "overflow_x": null,
            "overflow_y": null,
            "padding": null,
            "right": null,
            "top": null,
            "visibility": null,
            "width": null
          }
        },
        "ae6f4a6f787c4f6980e107809dacf1f2": {
          "model_module": "@jupyter-widgets/base",
          "model_name": "LayoutModel",
          "model_module_version": "1.2.0",
          "state": {
            "_model_module": "@jupyter-widgets/base",
            "_model_module_version": "1.2.0",
            "_model_name": "LayoutModel",
            "_view_count": null,
            "_view_module": "@jupyter-widgets/base",
            "_view_module_version": "1.2.0",
            "_view_name": "LayoutView",
            "align_content": null,
            "align_items": null,
            "align_self": null,
            "border": null,
            "bottom": null,
            "display": null,
            "flex": null,
            "flex_flow": null,
            "grid_area": null,
            "grid_auto_columns": null,
            "grid_auto_flow": null,
            "grid_auto_rows": null,
            "grid_column": null,
            "grid_gap": null,
            "grid_row": null,
            "grid_template_areas": null,
            "grid_template_columns": null,
            "grid_template_rows": null,
            "height": null,
            "justify_content": null,
            "justify_items": null,
            "left": null,
            "margin": null,
            "max_height": null,
            "max_width": null,
            "min_height": null,
            "min_width": null,
            "object_fit": null,
            "object_position": null,
            "order": null,
            "overflow": null,
            "overflow_x": null,
            "overflow_y": null,
            "padding": null,
            "right": null,
            "top": null,
            "visibility": null,
            "width": null
          }
        },
        "b5b73193ca5f49a5be0ce09d5e1dfe7e": {
          "model_module": "@jupyter-widgets/controls",
          "model_name": "DescriptionStyleModel",
          "model_module_version": "1.5.0",
          "state": {
            "_model_module": "@jupyter-widgets/controls",
            "_model_module_version": "1.5.0",
            "_model_name": "DescriptionStyleModel",
            "_view_count": null,
            "_view_module": "@jupyter-widgets/base",
            "_view_module_version": "1.2.0",
            "_view_name": "StyleView",
            "description_width": ""
          }
        },
        "2169dca12dcf43d7b86fed3a0a7e9485": {
          "model_module": "@jupyter-widgets/base",
          "model_name": "LayoutModel",
          "model_module_version": "1.2.0",
          "state": {
            "_model_module": "@jupyter-widgets/base",
            "_model_module_version": "1.2.0",
            "_model_name": "LayoutModel",
            "_view_count": null,
            "_view_module": "@jupyter-widgets/base",
            "_view_module_version": "1.2.0",
            "_view_name": "LayoutView",
            "align_content": null,
            "align_items": null,
            "align_self": null,
            "border": null,
            "bottom": null,
            "display": null,
            "flex": null,
            "flex_flow": null,
            "grid_area": null,
            "grid_auto_columns": null,
            "grid_auto_flow": null,
            "grid_auto_rows": null,
            "grid_column": null,
            "grid_gap": null,
            "grid_row": null,
            "grid_template_areas": null,
            "grid_template_columns": null,
            "grid_template_rows": null,
            "height": null,
            "justify_content": null,
            "justify_items": null,
            "left": null,
            "margin": null,
            "max_height": null,
            "max_width": null,
            "min_height": null,
            "min_width": null,
            "object_fit": null,
            "object_position": null,
            "order": null,
            "overflow": null,
            "overflow_x": null,
            "overflow_y": null,
            "padding": null,
            "right": null,
            "top": null,
            "visibility": null,
            "width": null
          }
        },
        "76ff7c31bda240c9b66daf8aa07f5b5f": {
          "model_module": "@jupyter-widgets/controls",
          "model_name": "ProgressStyleModel",
          "model_module_version": "1.5.0",
          "state": {
            "_model_module": "@jupyter-widgets/controls",
            "_model_module_version": "1.5.0",
            "_model_name": "ProgressStyleModel",
            "_view_count": null,
            "_view_module": "@jupyter-widgets/base",
            "_view_module_version": "1.2.0",
            "_view_name": "StyleView",
            "bar_color": null,
            "description_width": ""
          }
        },
        "d8d96ca011d64a369acc5aabd4ad3c00": {
          "model_module": "@jupyter-widgets/base",
          "model_name": "LayoutModel",
          "model_module_version": "1.2.0",
          "state": {
            "_model_module": "@jupyter-widgets/base",
            "_model_module_version": "1.2.0",
            "_model_name": "LayoutModel",
            "_view_count": null,
            "_view_module": "@jupyter-widgets/base",
            "_view_module_version": "1.2.0",
            "_view_name": "LayoutView",
            "align_content": null,
            "align_items": null,
            "align_self": null,
            "border": null,
            "bottom": null,
            "display": null,
            "flex": null,
            "flex_flow": null,
            "grid_area": null,
            "grid_auto_columns": null,
            "grid_auto_flow": null,
            "grid_auto_rows": null,
            "grid_column": null,
            "grid_gap": null,
            "grid_row": null,
            "grid_template_areas": null,
            "grid_template_columns": null,
            "grid_template_rows": null,
            "height": null,
            "justify_content": null,
            "justify_items": null,
            "left": null,
            "margin": null,
            "max_height": null,
            "max_width": null,
            "min_height": null,
            "min_width": null,
            "object_fit": null,
            "object_position": null,
            "order": null,
            "overflow": null,
            "overflow_x": null,
            "overflow_y": null,
            "padding": null,
            "right": null,
            "top": null,
            "visibility": null,
            "width": null
          }
        },
        "3c22a64ea9734798b9479d5b038e954e": {
          "model_module": "@jupyter-widgets/controls",
          "model_name": "DescriptionStyleModel",
          "model_module_version": "1.5.0",
          "state": {
            "_model_module": "@jupyter-widgets/controls",
            "_model_module_version": "1.5.0",
            "_model_name": "DescriptionStyleModel",
            "_view_count": null,
            "_view_module": "@jupyter-widgets/base",
            "_view_module_version": "1.2.0",
            "_view_name": "StyleView",
            "description_width": ""
          }
        },
        "c42b8e15f217494eabb6f716a5566c25": {
          "model_module": "@jupyter-widgets/controls",
          "model_name": "HBoxModel",
          "model_module_version": "1.5.0",
          "state": {
            "_dom_classes": [],
            "_model_module": "@jupyter-widgets/controls",
            "_model_module_version": "1.5.0",
            "_model_name": "HBoxModel",
            "_view_count": null,
            "_view_module": "@jupyter-widgets/controls",
            "_view_module_version": "1.5.0",
            "_view_name": "HBoxView",
            "box_style": "",
            "children": [
              "IPY_MODEL_6e9524c380da4e6e8c86ba828196bbe4",
              "IPY_MODEL_2c02e8f1bdc840a89c05ce12c027f2e0",
              "IPY_MODEL_16225f380b8542288777ea3242d0ec26"
            ],
            "layout": "IPY_MODEL_cc3e11c617594edaa7a8dea9afb3fd16"
          }
        },
        "6e9524c380da4e6e8c86ba828196bbe4": {
          "model_module": "@jupyter-widgets/controls",
          "model_name": "HTMLModel",
          "model_module_version": "1.5.0",
          "state": {
            "_dom_classes": [],
            "_model_module": "@jupyter-widgets/controls",
            "_model_module_version": "1.5.0",
            "_model_name": "HTMLModel",
            "_view_count": null,
            "_view_module": "@jupyter-widgets/controls",
            "_view_module_version": "1.5.0",
            "_view_name": "HTMLView",
            "description": "",
            "description_tooltip": null,
            "layout": "IPY_MODEL_24a6b78de889493385d0d4b3bdcb9020",
            "placeholder": "​",
            "style": "IPY_MODEL_91d63ecf8a98408a9cade26ef30b35b7",
            "value": "tokenizer.json: 100%"
          }
        },
        "2c02e8f1bdc840a89c05ce12c027f2e0": {
          "model_module": "@jupyter-widgets/controls",
          "model_name": "FloatProgressModel",
          "model_module_version": "1.5.0",
          "state": {
            "_dom_classes": [],
            "_model_module": "@jupyter-widgets/controls",
            "_model_module_version": "1.5.0",
            "_model_name": "FloatProgressModel",
            "_view_count": null,
            "_view_module": "@jupyter-widgets/controls",
            "_view_module_version": "1.5.0",
            "_view_name": "ProgressView",
            "bar_style": "success",
            "description": "",
            "description_tooltip": null,
            "layout": "IPY_MODEL_6e58cd4f28da4dcabf46240768cdf3c0",
            "max": 1389353,
            "min": 0,
            "orientation": "horizontal",
            "style": "IPY_MODEL_e42255d5299e4adea8733f015279cafc",
            "value": 1389353
          }
        },
        "16225f380b8542288777ea3242d0ec26": {
          "model_module": "@jupyter-widgets/controls",
          "model_name": "HTMLModel",
          "model_module_version": "1.5.0",
          "state": {
            "_dom_classes": [],
            "_model_module": "@jupyter-widgets/controls",
            "_model_module_version": "1.5.0",
            "_model_name": "HTMLModel",
            "_view_count": null,
            "_view_module": "@jupyter-widgets/controls",
            "_view_module_version": "1.5.0",
            "_view_name": "HTMLView",
            "description": "",
            "description_tooltip": null,
            "layout": "IPY_MODEL_60420c306973454596a0b67d7ae30603",
            "placeholder": "​",
            "style": "IPY_MODEL_92056c2e0715485ea1baf1cec47d5080",
            "value": " 1.39M/1.39M [00:00&lt;00:00, 12.9MB/s]"
          }
        },
        "cc3e11c617594edaa7a8dea9afb3fd16": {
          "model_module": "@jupyter-widgets/base",
          "model_name": "LayoutModel",
          "model_module_version": "1.2.0",
          "state": {
            "_model_module": "@jupyter-widgets/base",
            "_model_module_version": "1.2.0",
            "_model_name": "LayoutModel",
            "_view_count": null,
            "_view_module": "@jupyter-widgets/base",
            "_view_module_version": "1.2.0",
            "_view_name": "LayoutView",
            "align_content": null,
            "align_items": null,
            "align_self": null,
            "border": null,
            "bottom": null,
            "display": null,
            "flex": null,
            "flex_flow": null,
            "grid_area": null,
            "grid_auto_columns": null,
            "grid_auto_flow": null,
            "grid_auto_rows": null,
            "grid_column": null,
            "grid_gap": null,
            "grid_row": null,
            "grid_template_areas": null,
            "grid_template_columns": null,
            "grid_template_rows": null,
            "height": null,
            "justify_content": null,
            "justify_items": null,
            "left": null,
            "margin": null,
            "max_height": null,
            "max_width": null,
            "min_height": null,
            "min_width": null,
            "object_fit": null,
            "object_position": null,
            "order": null,
            "overflow": null,
            "overflow_x": null,
            "overflow_y": null,
            "padding": null,
            "right": null,
            "top": null,
            "visibility": null,
            "width": null
          }
        },
        "24a6b78de889493385d0d4b3bdcb9020": {
          "model_module": "@jupyter-widgets/base",
          "model_name": "LayoutModel",
          "model_module_version": "1.2.0",
          "state": {
            "_model_module": "@jupyter-widgets/base",
            "_model_module_version": "1.2.0",
            "_model_name": "LayoutModel",
            "_view_count": null,
            "_view_module": "@jupyter-widgets/base",
            "_view_module_version": "1.2.0",
            "_view_name": "LayoutView",
            "align_content": null,
            "align_items": null,
            "align_self": null,
            "border": null,
            "bottom": null,
            "display": null,
            "flex": null,
            "flex_flow": null,
            "grid_area": null,
            "grid_auto_columns": null,
            "grid_auto_flow": null,
            "grid_auto_rows": null,
            "grid_column": null,
            "grid_gap": null,
            "grid_row": null,
            "grid_template_areas": null,
            "grid_template_columns": null,
            "grid_template_rows": null,
            "height": null,
            "justify_content": null,
            "justify_items": null,
            "left": null,
            "margin": null,
            "max_height": null,
            "max_width": null,
            "min_height": null,
            "min_width": null,
            "object_fit": null,
            "object_position": null,
            "order": null,
            "overflow": null,
            "overflow_x": null,
            "overflow_y": null,
            "padding": null,
            "right": null,
            "top": null,
            "visibility": null,
            "width": null
          }
        },
        "91d63ecf8a98408a9cade26ef30b35b7": {
          "model_module": "@jupyter-widgets/controls",
          "model_name": "DescriptionStyleModel",
          "model_module_version": "1.5.0",
          "state": {
            "_model_module": "@jupyter-widgets/controls",
            "_model_module_version": "1.5.0",
            "_model_name": "DescriptionStyleModel",
            "_view_count": null,
            "_view_module": "@jupyter-widgets/base",
            "_view_module_version": "1.2.0",
            "_view_name": "StyleView",
            "description_width": ""
          }
        },
        "6e58cd4f28da4dcabf46240768cdf3c0": {
          "model_module": "@jupyter-widgets/base",
          "model_name": "LayoutModel",
          "model_module_version": "1.2.0",
          "state": {
            "_model_module": "@jupyter-widgets/base",
            "_model_module_version": "1.2.0",
            "_model_name": "LayoutModel",
            "_view_count": null,
            "_view_module": "@jupyter-widgets/base",
            "_view_module_version": "1.2.0",
            "_view_name": "LayoutView",
            "align_content": null,
            "align_items": null,
            "align_self": null,
            "border": null,
            "bottom": null,
            "display": null,
            "flex": null,
            "flex_flow": null,
            "grid_area": null,
            "grid_auto_columns": null,
            "grid_auto_flow": null,
            "grid_auto_rows": null,
            "grid_column": null,
            "grid_gap": null,
            "grid_row": null,
            "grid_template_areas": null,
            "grid_template_columns": null,
            "grid_template_rows": null,
            "height": null,
            "justify_content": null,
            "justify_items": null,
            "left": null,
            "margin": null,
            "max_height": null,
            "max_width": null,
            "min_height": null,
            "min_width": null,
            "object_fit": null,
            "object_position": null,
            "order": null,
            "overflow": null,
            "overflow_x": null,
            "overflow_y": null,
            "padding": null,
            "right": null,
            "top": null,
            "visibility": null,
            "width": null
          }
        },
        "e42255d5299e4adea8733f015279cafc": {
          "model_module": "@jupyter-widgets/controls",
          "model_name": "ProgressStyleModel",
          "model_module_version": "1.5.0",
          "state": {
            "_model_module": "@jupyter-widgets/controls",
            "_model_module_version": "1.5.0",
            "_model_name": "ProgressStyleModel",
            "_view_count": null,
            "_view_module": "@jupyter-widgets/base",
            "_view_module_version": "1.2.0",
            "_view_name": "StyleView",
            "bar_color": null,
            "description_width": ""
          }
        },
        "60420c306973454596a0b67d7ae30603": {
          "model_module": "@jupyter-widgets/base",
          "model_name": "LayoutModel",
          "model_module_version": "1.2.0",
          "state": {
            "_model_module": "@jupyter-widgets/base",
            "_model_module_version": "1.2.0",
            "_model_name": "LayoutModel",
            "_view_count": null,
            "_view_module": "@jupyter-widgets/base",
            "_view_module_version": "1.2.0",
            "_view_name": "LayoutView",
            "align_content": null,
            "align_items": null,
            "align_self": null,
            "border": null,
            "bottom": null,
            "display": null,
            "flex": null,
            "flex_flow": null,
            "grid_area": null,
            "grid_auto_columns": null,
            "grid_auto_flow": null,
            "grid_auto_rows": null,
            "grid_column": null,
            "grid_gap": null,
            "grid_row": null,
            "grid_template_areas": null,
            "grid_template_columns": null,
            "grid_template_rows": null,
            "height": null,
            "justify_content": null,
            "justify_items": null,
            "left": null,
            "margin": null,
            "max_height": null,
            "max_width": null,
            "min_height": null,
            "min_width": null,
            "object_fit": null,
            "object_position": null,
            "order": null,
            "overflow": null,
            "overflow_x": null,
            "overflow_y": null,
            "padding": null,
            "right": null,
            "top": null,
            "visibility": null,
            "width": null
          }
        },
        "92056c2e0715485ea1baf1cec47d5080": {
          "model_module": "@jupyter-widgets/controls",
          "model_name": "DescriptionStyleModel",
          "model_module_version": "1.5.0",
          "state": {
            "_model_module": "@jupyter-widgets/controls",
            "_model_module_version": "1.5.0",
            "_model_name": "DescriptionStyleModel",
            "_view_count": null,
            "_view_module": "@jupyter-widgets/base",
            "_view_module_version": "1.2.0",
            "_view_name": "StyleView",
            "description_width": ""
          }
        }
      }
    }
  },
  "cells": [
    {
      "cell_type": "markdown",
      "source": [
        "![image.png](data:image/png;base64,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)"
      ],
      "metadata": {
        "id": "W-zC8MSvC4WQ"
      }
    },
    {
      "cell_type": "code",
      "execution_count": 1,
      "metadata": {
        "id": "fy_NoLVA3Fad"
      },
      "outputs": [],
      "source": [
        "import nltk\n",
        "import numpy as np\n",
        "import string\n",
        "from nltk.tokenize import RegexpTokenizer\n",
        "from nltk.stem import WordNetLemmatizer\n",
        "from collections import Counter\n",
        "from nltk.tokenize import sent_tokenize\n",
        "from nltk.corpus import stopwords"
      ]
    },
    {
      "cell_type": "code",
      "source": [
        "nltk.download('stopwords')\n",
        "nltk.download('wordnet')\n",
        "nltk.download('omw-1.4')"
      ],
      "metadata": {
        "colab": {
          "base_uri": "https://localhost:8080/"
        },
        "id": "3w7Z1XQ04uuM",
        "outputId": "1a6cdb91-9fde-4799-e609-751f99d62944"
      },
      "execution_count": 2,
      "outputs": [
        {
          "output_type": "stream",
          "name": "stderr",
          "text": [
            "[nltk_data] Downloading package stopwords to /root/nltk_data...\n",
            "[nltk_data]   Package stopwords is already up-to-date!\n",
            "[nltk_data] Downloading package wordnet to /root/nltk_data...\n",
            "[nltk_data]   Package wordnet is already up-to-date!\n",
            "[nltk_data] Downloading package omw-1.4 to /root/nltk_data...\n",
            "[nltk_data]   Package omw-1.4 is already up-to-date!\n"
          ]
        },
        {
          "output_type": "execute_result",
          "data": {
            "text/plain": [
              "True"
            ]
          },
          "metadata": {},
          "execution_count": 2
        }
      ]
    },
    {
      "cell_type": "markdown",
      "source": [
        "![image.png](data:image/png;base64,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)"
      ],
      "metadata": {
        "id": "e2UJJvDG5Pzx"
      }
    },
    {
      "cell_type": "code",
      "source": [
        "pattern = r'\\b[^\\d\\w]+\\b'\n",
        "tokenizer = RegexpTokenizer(pattern)"
      ],
      "metadata": {
        "id": "dJRrrOV45Q6p"
      },
      "execution_count": 3,
      "outputs": []
    },
    {
      "cell_type": "code",
      "source": [
        "en_stop = set(stopwords.words('english'))\n",
        "lemmatizer = WordNetLemmatizer()"
      ],
      "metadata": {
        "id": "pPg1r0j55qZ6"
      },
      "execution_count": 4,
      "outputs": []
    },
    {
      "cell_type": "code",
      "source": [
        "def split_into_sentences(text):\n",
        "  return[sentence.strip() for sentence in text.split('.') if sentence]"
      ],
      "metadata": {
        "id": "mUhXnG1K_fue"
      },
      "execution_count": 7,
      "outputs": []
    },
    {
      "cell_type": "code",
      "source": [
        "def extractive_summary(text, num_sentences=2):\n",
        "    sentences = split_into_sentences(text)  # Manually split text into sentences\n",
        "\n",
        "    # Corrected Tokenizer Call\n",
        "    words = tokenizer.tokenize(text.lower())  # Ensure correct function usage\n",
        "\n",
        "    # Fixed Loop Variable\n",
        "    words = [lemmatizer.lemmatize(word) for word in words if word not in en_stop and word not in string.punctuation]\n",
        "\n",
        "    # Calculate word frequency\n",
        "    word_freq = Counter(words)\n",
        "\n",
        "    # Score sentences based on word frequency\n",
        "    sentence_scores = {sent: sum(word_freq[word] for word in tokenizer.tokenize(sent.lower()) if word in word_freq) for sent in sentences}\n",
        "\n",
        "    # Select top sentences for summary\n",
        "    summary_sentences = sorted(sentence_scores, key=sentence_scores.get, reverse=True)[:num_sentences]\n",
        "\n",
        "    return ' '.join(summary_sentences)\n",
        "text1 = \"\"\"Artificial Intelligence is transforming industries. Companies are investing in AI-driven solutions to enhance automation and efficiency.\n",
        "AI-powered chatbots are revolutionizing customer service. Machine learning algorithms analyze vast amounts of data to provide valuable insights.\"\"\"\n",
        "\n",
        "\n",
        "print(\"Extracted Summary:\\n\", extractive_summary(text1))"
      ],
      "metadata": {
        "colab": {
          "base_uri": "https://localhost:8080/"
        },
        "id": "I_P8N-_W6IfU",
        "outputId": "ad4d9987-fe70-462f-a793-040054974f76"
      },
      "execution_count": 13,
      "outputs": [
        {
          "output_type": "stream",
          "name": "stdout",
          "text": [
            "Extracted Summary:\n",
            " Machine learning algorithms analyze vast amounts of data to provide valuable insights Companies are investing in AI-driven solutions to enhance automation and efficiency\n"
          ]
        }
      ]
    },
    {
      "cell_type": "code",
      "source": [
        "text2 = \"\"\"Artificial Intelligence (AI) is transforming industries worldwide.\n",
        "It enables automation, improves efficiency, and enhances decision-making.\n",
        "Machine Learning (ML) is a subset of AI that allows computers to learn from data.\n",
        "Deep Learning, a branch of ML, uses neural networks to mimic human intelligence.\n",
        "AI applications range from healthcare to finance, improving diagnosis and fraud detection.\n",
        "Self-driving cars rely on AI to navigate roads safely and efficiently.\n",
        "Natural Language Processing (NLP) enables machines to understand and generate human language.\n",
        "Chatbots and virtual assistants use NLP to interact with users effectively.\n",
        "AI-powered recommendation systems enhance user experiences in e-commerce and entertainment.\n",
        "Social media platforms use AI to filter content and detect misinformation.\n",
        "Cybersecurity benefits from AI through real-time threat detection and response.\n",
        "AI in robotics enables automation in manufacturing and logistics.\n",
        "Healthcare AI helps in medical imaging, drug discovery, and personalized treatment.\n",
        "AI-driven predictive analytics aids businesses in forecasting trends and risks.\n",
        "Ethical concerns around AI include bias, privacy, and job displacement.\n",
        "Governments and organizations are working on AI regulations and policies.\n",
        "AI is continuously evolving with advancements in computing power and data availability.\n",
        "Quantum computing may revolutionize AI by solving complex problems faster.\n",
        "AI research focuses on explainability and ensuring unbiased decision-making.\n",
        "Despite challenges, AI holds immense potential to shape the future of humanity.\n",
        ".\"\"\"\n",
        "\n",
        "print(\"Extractive Summary:\\n\", extractive_summary(text2))"
      ],
      "metadata": {
        "colab": {
          "base_uri": "https://localhost:8080/"
        },
        "id": "u2boiB4TC9vT",
        "outputId": "9233ba95-e737-4932-beef-77b504c6f5a8"
      },
      "execution_count": 14,
      "outputs": [
        {
          "output_type": "stream",
          "name": "stdout",
          "text": [
            "Extractive Summary:\n",
            " Machine Learning (ML) is a subset of AI that allows computers to learn from data AI is continuously evolving with advancements in computing power and data availability\n"
          ]
        }
      ]
    },
    {
      "cell_type": "code",
      "source": [
        "text3 = \"\"\"About the job\n",
        "Creates and implements an integrated roadmap for all aspects of data governance. Develops, maintains and monitors data governance policies and procedures. Deploys SQL and Python code, ensures compliance with standards, and provides updates on policy changes. Ensures that data is secure, private, accurate, available and usable. Provides interpretation of enterprise data governance guidelines. Ensures data strategy and management practices are aligned in support of business objectives. Creates a culture where data is managed as a valuable corporate asset, adheres to the regulations around data compliance, and reduces overall risk.\n",
        "\n",
        "Drives data governance by actively promoting improved data governance practices, enforcing policy, and following data governance best practices.\n",
        "Harmonizes data in the systems through a collaborative process with members from various business units.\n",
        "Develops SQL and Python code to generate reports, identify data quality issues and remediations.\n",
        "Establishes, maintains, periodically reviews and recommends changes to data governance policies, standards, guidelines, and procedures.\n",
        "Conducts audits to ensure that policies, procedures and metrics are in place for maintaining/improving the program.\n",
        "Aligns the Data Governance policy with the overall goals of the business strategy.\n",
        "Drives change in the organization to maximize the value of its data and plans for how the company will make those changes.\n",
        "Focus is primarily on business/group within BMO; may have broader, enterprise-wide focus.\n",
        "Exercises judgment to identify, diagnose, and solve problems within given rules.\n",
        "Works independently on a range of complex tasks, which may include unique situations.\n",
        "Broader work or accountabilities may be assigned as needed..\n",
        ".\"\"\"\n",
        "\n",
        "print(\"Extractive Summary:\\n\", extractive_summary(text3))"
      ],
      "metadata": {
        "colab": {
          "base_uri": "https://localhost:8080/"
        },
        "id": "owOPrT48EQFz",
        "outputId": "3401d25c-e562-46f9-f908-949f6c880f03"
      },
      "execution_count": 15,
      "outputs": [
        {
          "output_type": "stream",
          "name": "stdout",
          "text": [
            "Extractive Summary:\n",
            " Drives change in the organization to maximize the value of its data and plans for how the company will make those changes Creates a culture where data is managed as a valuable corporate asset, adheres to the regulations around data compliance, and reduces overall risk\n"
          ]
        }
      ]
    },
    {
      "cell_type": "markdown",
      "source": [
        "**T5**"
      ],
      "metadata": {
        "id": "iSHTujrSE5Kz"
      }
    },
    {
      "cell_type": "code",
      "source": [
        "from transformers import pipeline"
      ],
      "metadata": {
        "id": "SgbOUwqjE8F8"
      },
      "execution_count": 16,
      "outputs": []
    },
    {
      "cell_type": "code",
      "source": [
        "summarizer = pipeline(\"summarization\", model =\"t5-small\")"
      ],
      "metadata": {
        "colab": {
          "base_uri": "https://localhost:8080/",
          "height": 226,
          "referenced_widgets": [
            "8b0bd1f9b709425cad14ea803566ad01",
            "41434f20e9bb4f95b4ce3e9d8a29c50f",
            "1e38fc6dd6474a4488a553df133d11b0",
            "ef23dbaf3b8d47b980d32f867b271086",
            "281765fe40d842c0aecdd439dec9110d",
            "177f24e2a7a245c7a269a59716d607b1",
            "5c1f4c636a39443db1b04d40be7444b8",
            "e8f74b627c28454084eaebe7d9939803",
            "d1cd933fb20343acaf0b48d4188a910d",
            "3fa3c76df5ed4582ba842b96f3ae4da2",
            "0adb733f8022422c86f8bf55c26e8ab1",
            "ec0a3b810ded47c998d77565c8e4bbfb",
            "c6d46d75ca0845df8bad780568e71d3e",
            "d08f222017ce45039de0fbc60bd23d13",
            "077f4a7ab4a4408c8665052d525b3b09",
            "5daa76a7b20c48ab8c64e725f6bff78d",
            "ece78934c8bb4a9c954e394f80171d8b",
            "342762e5103845438f0576e93a9ef9a2",
            "137359b24e5a4c548f5585552ce36602",
            "d2f36b21657446b49e4c4f07050da959",
            "ffa4c3836cfe4004885375109f963b05",
            "cba0f37efb9c4c1d88604cb4cfb1b176",
            "8bc64edbc6644592a9add4745c9b7a7b",
            "36c9c954e28b4c0bafe63c25251d4f0a",
            "5b2f5e353656488893e33ec29b9e6713",
            "e3e4c9598f11485ebd6d165b25260372",
            "594d6e35a3644da59a8e0cd960ac7a0f",
            "f4ddab1af4c54636bf27a0618b1f72ef",
            "375ea6e7fec84cb1a66d9f4b2d236bb4",
            "6ddb84ea26be43428951ff418a8f5e0b",
            "8f0164ac4d8c4b11a7d7f47bc3d71aee",
            "8bd2d4e1dc8a4a13a1573e708fd0d392",
            "65d4b0e841d64ffe877910e27854872d",
            "9a8d434684cf4d79a0961e7f98830f7d",
            "99def74fca414b87b262d0641cb89be1",
            "f80cbd8616ce4b78ba025c7ee097e73c",
            "90d628d1bff046ecabc13f1173bed801",
            "fc25e0cb08634df792fd44683fbd32fa",
            "4b5ec267a1b34f5bb219d3480464d115",
            "38a85c5019af48638ce5308c435c8753",
            "8cc72450c16b46ed8c12fe2e2091a2cb",
            "fd48fa3b100a42459606d47e1c94d905",
            "5165e1a49e244ac7a98a5548daea7185",
            "905cac001e8b4b629abff2539e2e2acd",
            "45f00e533c3244639260c3dce5c8826b",
            "8d54e4d571e141d591e3a9955af4b8b7",
            "400c527c99b3430fa4662ebe0847de7b",
            "a3af0b4796f24ef78e9e9b0c65fce2ff",
            "b37e8c658319440794b02220f76e0504",
            "ae6f4a6f787c4f6980e107809dacf1f2",
            "b5b73193ca5f49a5be0ce09d5e1dfe7e",
            "2169dca12dcf43d7b86fed3a0a7e9485",
            "76ff7c31bda240c9b66daf8aa07f5b5f",
            "d8d96ca011d64a369acc5aabd4ad3c00",
            "3c22a64ea9734798b9479d5b038e954e",
            "c42b8e15f217494eabb6f716a5566c25",
            "6e9524c380da4e6e8c86ba828196bbe4",
            "2c02e8f1bdc840a89c05ce12c027f2e0",
            "16225f380b8542288777ea3242d0ec26",
            "cc3e11c617594edaa7a8dea9afb3fd16",
            "24a6b78de889493385d0d4b3bdcb9020",
            "91d63ecf8a98408a9cade26ef30b35b7",
            "6e58cd4f28da4dcabf46240768cdf3c0",
            "e42255d5299e4adea8733f015279cafc",
            "60420c306973454596a0b67d7ae30603",
            "92056c2e0715485ea1baf1cec47d5080"
          ]
        },
        "id": "GGAdJZnPFXQX",
        "outputId": "57df74a4-d468-4e31-8087-eb212b76161f"
      },
      "execution_count": 17,
      "outputs": [
        {
          "output_type": "display_data",
          "data": {
            "text/plain": [
              "config.json:   0%|          | 0.00/1.21k [00:00<?, ?B/s]"
            ],
            "application/vnd.jupyter.widget-view+json": {
              "version_major": 2,
              "version_minor": 0,
              "model_id": "8b0bd1f9b709425cad14ea803566ad01"
            }
          },
          "metadata": {}
        },
        {
          "output_type": "display_data",
          "data": {
            "text/plain": [
              "model.safetensors:   0%|          | 0.00/242M [00:00<?, ?B/s]"
            ],
            "application/vnd.jupyter.widget-view+json": {
              "version_major": 2,
              "version_minor": 0,
              "model_id": "ec0a3b810ded47c998d77565c8e4bbfb"
            }
          },
          "metadata": {}
        },
        {
          "output_type": "display_data",
          "data": {
            "text/plain": [
              "generation_config.json:   0%|          | 0.00/147 [00:00<?, ?B/s]"
            ],
            "application/vnd.jupyter.widget-view+json": {
              "version_major": 2,
              "version_minor": 0,
              "model_id": "8bc64edbc6644592a9add4745c9b7a7b"
            }
          },
          "metadata": {}
        },
        {
          "output_type": "display_data",
          "data": {
            "text/plain": [
              "tokenizer_config.json:   0%|          | 0.00/2.32k [00:00<?, ?B/s]"
            ],
            "application/vnd.jupyter.widget-view+json": {
              "version_major": 2,
              "version_minor": 0,
              "model_id": "9a8d434684cf4d79a0961e7f98830f7d"
            }
          },
          "metadata": {}
        },
        {
          "output_type": "display_data",
          "data": {
            "text/plain": [
              "spiece.model:   0%|          | 0.00/792k [00:00<?, ?B/s]"
            ],
            "application/vnd.jupyter.widget-view+json": {
              "version_major": 2,
              "version_minor": 0,
              "model_id": "45f00e533c3244639260c3dce5c8826b"
            }
          },
          "metadata": {}
        },
        {
          "output_type": "display_data",
          "data": {
            "text/plain": [
              "tokenizer.json:   0%|          | 0.00/1.39M [00:00<?, ?B/s]"
            ],
            "application/vnd.jupyter.widget-view+json": {
              "version_major": 2,
              "version_minor": 0,
              "model_id": "c42b8e15f217494eabb6f716a5566c25"
            }
          },
          "metadata": {}
        },
        {
          "output_type": "stream",
          "name": "stderr",
          "text": [
            "Device set to use cpu\n"
          ]
        }
      ]
    },
    {
      "cell_type": "code",
      "source": [
        "summary = summarizer(text1, max_length = 50, min_length = 20, do_sample = False)"
      ],
      "metadata": {
        "id": "Acb8A6RhFwHL"
      },
      "execution_count": 19,
      "outputs": []
    },
    {
      "cell_type": "code",
      "source": [
        "print(summary[0]['summary_text'])"
      ],
      "metadata": {
        "colab": {
          "base_uri": "https://localhost:8080/"
        },
        "id": "nWqCcntiGKpL",
        "outputId": "b952b4e1-5c72-426e-fbdf-10c3946fe68f"
      },
      "execution_count": 21,
      "outputs": [
        {
          "output_type": "stream",
          "name": "stdout",
          "text": [
            "companies investing in AI-driven solutions to enhance automation and efficiency . AI-powered chatbots analyze vast amounts of data to provide valuable insights .\n"
          ]
        }
      ]
    },
    {
      "cell_type": "code",
      "source": [
        "summary2 = summarizer(text2, max_length = 100, min_length = 40, do_sample = False)"
      ],
      "metadata": {
        "id": "RNB5TcsbGZJo"
      },
      "execution_count": 24,
      "outputs": []
    },
    {
      "cell_type": "code",
      "source": [
        "print(summary2[0]['summary_text'])"
      ],
      "metadata": {
        "colab": {
          "base_uri": "https://localhost:8080/"
        },
        "id": "UavXa7YaGbxm",
        "outputId": "61cae577-76e7-465c-c98f-70d539bd7c81"
      },
      "execution_count": 25,
      "outputs": [
        {
          "output_type": "stream",
          "name": "stdout",
          "text": [
            "artificial intelligence (AI) is transforming industries worldwide . it enables automation, improves efficiency, and enhances decision-making . AI applications range from healthcare to finance, improving diagnosis and fraud detection .\n"
          ]
        }
      ]
    },
    {
      "cell_type": "code",
      "source": [
        "summary3 = summarizer(text3, max_length = 200, min_length = 50, do_sample = False)"
      ],
      "metadata": {
        "id": "Llieq4tKGhn3"
      },
      "execution_count": 26,
      "outputs": []
    },
    {
      "cell_type": "code",
      "source": [
        "print(summary3[0]['summary_text'])"
      ],
      "metadata": {
        "colab": {
          "base_uri": "https://localhost:8080/"
        },
        "id": "K1y6cemYGqJS",
        "outputId": "56467b06-a8ad-4eed-be60-896430e78713"
      },
      "execution_count": 27,
      "outputs": [
        {
          "output_type": "stream",
          "name": "stdout",
          "text": [
            "about the job Creates and implements an integrated roadmap for all aspects of data governance . Deploys SQL and Python code, ensures compliance with standards, and provides updates on policy changes . creates a culture where data is managed as a valuable corporate asset, adheres to the regulations around data compliance .\n"
          ]
        }
      ]
    }
  ]
}