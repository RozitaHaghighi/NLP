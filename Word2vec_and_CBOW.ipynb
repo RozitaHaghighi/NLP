{
  "cells": [
    {
      "cell_type": "markdown",
      "metadata": {
        "id": "B7rqxJ_b9-uD"
      },
      "source": [
        "##  Word2vec and CBOW ⚡\n"
      ]
    },
    {
      "cell_type": "markdown",
      "metadata": {
        "id": "tWpKZPpdZcV8"
      },
      "source": [
        "In this assignment, we will guide you through the process of implementing Continous Bag Of Words (CBOW) using PyTorch, providing step-by-step instructions, code snippets, and explanations to aid your understanding. By the end of this assignment, you will have a solid grasp of Word2Vec's mechanics and be equipped to apply this knowledge to a wide range of NLP tasks.\n",
        "\n",
        "Let's embark on this journey to unlock the power of word embeddings with Word2Vec and PyTorch!\n",
        "\n",
        "This [guide](https://pytorch.org/tutorials/beginner/basics/intro.html) might come in handy to understand how Pytorch works."
      ]
    },
    {
      "cell_type": "markdown",
      "metadata": {
        "id": "v-kso1_rb2SM"
      },
      "source": [
        "Let's start by installing the needed libraries"
      ]
    },
    {
      "cell_type": "code",
      "execution_count": null,
      "metadata": {
        "colab": {
          "base_uri": "https://localhost:8080/"
        },
        "collapsed": true,
        "id": "aCFYPXdv_qZr",
        "outputId": "394f338e-c36b-426c-aefd-fdea0e13cf94"
      },
      "outputs": [
        {
          "output_type": "stream",
          "name": "stdout",
          "text": [
            "Collecting datasets\n",
            "  Downloading datasets-3.0.2-py3-none-any.whl.metadata (20 kB)\n",
            "Requirement already satisfied: filelock in /usr/local/lib/python3.10/dist-packages (from datasets) (3.16.1)\n",
            "Requirement already satisfied: numpy>=1.17 in /usr/local/lib/python3.10/dist-packages (from datasets) (1.26.4)\n",
            "Requirement already satisfied: pyarrow>=15.0.0 in /usr/local/lib/python3.10/dist-packages (from datasets) (16.1.0)\n",
            "Collecting dill<0.3.9,>=0.3.0 (from datasets)\n",
            "  Downloading dill-0.3.8-py3-none-any.whl.metadata (10 kB)\n",
            "Requirement already satisfied: pandas in /usr/local/lib/python3.10/dist-packages (from datasets) (2.2.2)\n",
            "Requirement already satisfied: requests>=2.32.2 in /usr/local/lib/python3.10/dist-packages (from datasets) (2.32.3)\n",
            "Requirement already satisfied: tqdm>=4.66.3 in /usr/local/lib/python3.10/dist-packages (from datasets) (4.66.5)\n",
            "Collecting xxhash (from datasets)\n",
            "  Downloading xxhash-3.5.0-cp310-cp310-manylinux_2_17_x86_64.manylinux2014_x86_64.whl.metadata (12 kB)\n",
            "Collecting multiprocess<0.70.17 (from datasets)\n",
            "  Downloading multiprocess-0.70.16-py310-none-any.whl.metadata (7.2 kB)\n",
            "Requirement already satisfied: fsspec<=2024.9.0,>=2023.1.0 in /usr/local/lib/python3.10/dist-packages (from fsspec[http]<=2024.9.0,>=2023.1.0->datasets) (2024.6.1)\n",
            "Requirement already satisfied: aiohttp in /usr/local/lib/python3.10/dist-packages (from datasets) (3.10.10)\n",
            "Requirement already satisfied: huggingface-hub>=0.23.0 in /usr/local/lib/python3.10/dist-packages (from datasets) (0.24.7)\n",
            "Requirement already satisfied: packaging in /usr/local/lib/python3.10/dist-packages (from datasets) (24.1)\n",
            "Requirement already satisfied: pyyaml>=5.1 in /usr/local/lib/python3.10/dist-packages (from datasets) (6.0.2)\n",
            "Requirement already satisfied: aiohappyeyeballs>=2.3.0 in /usr/local/lib/python3.10/dist-packages (from aiohttp->datasets) (2.4.3)\n",
            "Requirement already satisfied: aiosignal>=1.1.2 in /usr/local/lib/python3.10/dist-packages (from aiohttp->datasets) (1.3.1)\n",
            "Requirement already satisfied: attrs>=17.3.0 in /usr/local/lib/python3.10/dist-packages (from aiohttp->datasets) (24.2.0)\n",
            "Requirement already satisfied: frozenlist>=1.1.1 in /usr/local/lib/python3.10/dist-packages (from aiohttp->datasets) (1.4.1)\n",
            "Requirement already satisfied: multidict<7.0,>=4.5 in /usr/local/lib/python3.10/dist-packages (from aiohttp->datasets) (6.1.0)\n",
            "Requirement already satisfied: yarl<2.0,>=1.12.0 in /usr/local/lib/python3.10/dist-packages (from aiohttp->datasets) (1.16.0)\n",
            "Requirement already satisfied: async-timeout<5.0,>=4.0 in /usr/local/lib/python3.10/dist-packages (from aiohttp->datasets) (4.0.3)\n",
            "Requirement already satisfied: typing-extensions>=3.7.4.3 in /usr/local/lib/python3.10/dist-packages (from huggingface-hub>=0.23.0->datasets) (4.12.2)\n",
            "Requirement already satisfied: charset-normalizer<4,>=2 in /usr/local/lib/python3.10/dist-packages (from requests>=2.32.2->datasets) (3.4.0)\n",
            "Requirement already satisfied: idna<4,>=2.5 in /usr/local/lib/python3.10/dist-packages (from requests>=2.32.2->datasets) (3.10)\n",
            "Requirement already satisfied: urllib3<3,>=1.21.1 in /usr/local/lib/python3.10/dist-packages (from requests>=2.32.2->datasets) (2.2.3)\n",
            "Requirement already satisfied: certifi>=2017.4.17 in /usr/local/lib/python3.10/dist-packages (from requests>=2.32.2->datasets) (2024.8.30)\n",
            "Requirement already satisfied: python-dateutil>=2.8.2 in /usr/local/lib/python3.10/dist-packages (from pandas->datasets) (2.8.2)\n",
            "Requirement already satisfied: pytz>=2020.1 in /usr/local/lib/python3.10/dist-packages (from pandas->datasets) (2024.2)\n",
            "Requirement already satisfied: tzdata>=2022.7 in /usr/local/lib/python3.10/dist-packages (from pandas->datasets) (2024.2)\n",
            "Requirement already satisfied: six>=1.5 in /usr/local/lib/python3.10/dist-packages (from python-dateutil>=2.8.2->pandas->datasets) (1.16.0)\n",
            "Requirement already satisfied: propcache>=0.2.0 in /usr/local/lib/python3.10/dist-packages (from yarl<2.0,>=1.12.0->aiohttp->datasets) (0.2.0)\n",
            "Downloading datasets-3.0.2-py3-none-any.whl (472 kB)\n",
            "\u001b[2K   \u001b[90m━━━━━━━━━━━━━━━━━━━━━━━━━━━━━━━━━━━━━━━━\u001b[0m \u001b[32m472.7/472.7 kB\u001b[0m \u001b[31m9.3 MB/s\u001b[0m eta \u001b[36m0:00:00\u001b[0m\n",
            "\u001b[?25hDownloading dill-0.3.8-py3-none-any.whl (116 kB)\n",
            "\u001b[2K   \u001b[90m━━━━━━━━━━━━━━━━━━━━━━━━━━━━━━━━━━━━━━━━\u001b[0m \u001b[32m116.3/116.3 kB\u001b[0m \u001b[31m7.4 MB/s\u001b[0m eta \u001b[36m0:00:00\u001b[0m\n",
            "\u001b[?25hDownloading multiprocess-0.70.16-py310-none-any.whl (134 kB)\n",
            "\u001b[2K   \u001b[90m━━━━━━━━━━━━━━━━━━━━━━━━━━━━━━━━━━━━━━━━\u001b[0m \u001b[32m134.8/134.8 kB\u001b[0m \u001b[31m7.7 MB/s\u001b[0m eta \u001b[36m0:00:00\u001b[0m\n",
            "\u001b[?25hDownloading xxhash-3.5.0-cp310-cp310-manylinux_2_17_x86_64.manylinux2014_x86_64.whl (194 kB)\n",
            "\u001b[2K   \u001b[90m━━━━━━━━━━━━━━━━━━━━━━━━━━━━━━━━━━━━━━━━\u001b[0m \u001b[32m194.1/194.1 kB\u001b[0m \u001b[31m15.3 MB/s\u001b[0m eta \u001b[36m0:00:00\u001b[0m\n",
            "\u001b[?25hInstalling collected packages: xxhash, dill, multiprocess, datasets\n",
            "Successfully installed datasets-3.0.2 dill-0.3.8 multiprocess-0.70.16 xxhash-3.5.0\n",
            "Downloading...\n",
            "From: https://drive.google.com/uc?id=1-mB6idLW5Jg4aE68jOj5NDcDxRNlMXpu\n",
            "To: /content/TestSet_sample.csv\n",
            "100% 51.5k/51.5k [00:00<00:00, 59.2MB/s]\n"
          ]
        }
      ],
      "source": [
        "!pip install datasets\n",
        "!gdown https://drive.google.com/file/d/1-mB6idLW5Jg4aE68jOj5NDcDxRNlMXpu/view?usp=sharing --fuzzy"
      ]
    },
    {
      "cell_type": "markdown",
      "metadata": {
        "id": "AADnCtQddOYv"
      },
      "source": [
        "In this assigment we will use the data set wikitext. This dataset is composed of textual content extracted from Wikipedia articles which hopefully will lead to good embeddings when input in CBOW."
      ]
    },
    {
      "cell_type": "code",
      "execution_count": null,
      "metadata": {
        "collapsed": true,
        "id": "QZyk8pYS9xOJ",
        "colab": {
          "base_uri": "https://localhost:8080/",
          "height": 319,
          "referenced_widgets": [
            "6680766352404fb784d27d1a8e2fba42",
            "c9365d798ec74894bdff0ae03ea5b83f",
            "164420fab9db40be9901dadba4d9844e",
            "f947ed5b2a68439291bdd6e6dbf9570d",
            "dfa16dc69f364227a761acdd38978262",
            "0ec594e968634cc39327679c0342cc8d",
            "5e8b80f2326b47f3bb27d6853b543ef8",
            "b8702fb0476a42ff9ccab9ddbe920f0c",
            "d6dd0f53dd804131b6f6cec5ad63159e",
            "b6ca171dd9244b6ab32b685598d52798",
            "7031bc13520f43088ca0cebf11caaa72",
            "6bba5559211a4c69b26a160fc8146cfa",
            "46b7c0d60dc34c0ba34c3cdad90a10c9",
            "3bdc6b35976f4c4cbca0ad537748a270",
            "d13953d8062d4dcbb2b27feaf16b59c8",
            "e4c4a27d224f4bfc9117df49ff2b23cf",
            "7361d070751a436fb9d4b571a48997c2",
            "158bbfc563764a9d9ef308e5f4ebaf19",
            "7feabe6a4e7b48429c494d0a38f7231c",
            "76e84240e47c4c66af6593f977d30dae",
            "9444359dbf004fe3b0ce81d8d4004a02",
            "bcabe59ec9ad4d4882174a916599dac1",
            "e8840875b92341bd904fa8606b5418d4",
            "474aa9556a01407083ed0f6babdcc514",
            "0584d8902a8e4e6790371c4f8d387afd",
            "bed043b96772415391a9d76a80e8ad13",
            "23c211cdc0b543f8b5fe4e879c2bb2d6",
            "e82bc56b387e4783aa2fbc5bc7f85490",
            "e4e850039be6439a968c7414421d771d",
            "c35379bdf2f047c1a858772efea310a6",
            "992441e726534d49a6750f03484d1e1e",
            "a5eeab82633c49f2b320e6989ea8a638",
            "0275f6eb1a2b4fe68d9b11e4be115337",
            "0eeba6616ec54ce8868f9cc284792aed",
            "6aaa941a48e1446cb1fa1f1b3f3f2a38",
            "ac27e0c4f3014dc3b988b32a474aa348",
            "50593750c637499ab7ceab809a682b03",
            "d1d6a941f1cb4ff79e5f995df303fb98",
            "6dfb83efc813431db00b78f47f5d8b99",
            "8e12669e411f4a289282ce2dcae82df4",
            "ab526288092240dea7add1f88359b113",
            "996797bd7ca7429483c8008010f61b8c",
            "07a82bba43f04ab094b48d834b22b9bb",
            "919ff3c372124065b182dbeb85af70f3"
          ]
        },
        "outputId": "d4aaabc3-e1be-44be-b8b7-f2107559dbcf"
      },
      "outputs": [
        {
          "output_type": "stream",
          "name": "stderr",
          "text": [
            "/usr/local/lib/python3.10/dist-packages/huggingface_hub/utils/_token.py:89: UserWarning: \n",
            "The secret `HF_TOKEN` does not exist in your Colab secrets.\n",
            "To authenticate with the Hugging Face Hub, create a token in your settings tab (https://huggingface.co/settings/tokens), set it as secret in your Google Colab and restart your session.\n",
            "You will be able to reuse this secret in all of your notebooks.\n",
            "Please note that authentication is recommended but still optional to access public models or datasets.\n",
            "  warnings.warn(\n"
          ]
        },
        {
          "output_type": "display_data",
          "data": {
            "text/plain": [
              "README.md:   0%|          | 0.00/16.0k [00:00<?, ?B/s]"
            ],
            "application/vnd.jupyter.widget-view+json": {
              "version_major": 2,
              "version_minor": 0,
              "model_id": "6680766352404fb784d27d1a8e2fba42"
            }
          },
          "metadata": {}
        },
        {
          "output_type": "display_data",
          "data": {
            "text/plain": [
              "wikipedia.py:   0%|          | 0.00/36.7k [00:00<?, ?B/s]"
            ],
            "application/vnd.jupyter.widget-view+json": {
              "version_major": 2,
              "version_minor": 0,
              "model_id": "6bba5559211a4c69b26a160fc8146cfa"
            }
          },
          "metadata": {}
        },
        {
          "name": "stdout",
          "output_type": "stream",
          "text": [
            "The repository for wikipedia contains custom code which must be executed to correctly load the dataset. You can inspect the repository content at https://hf.co/datasets/wikipedia.\n",
            "You can avoid this prompt in future by passing the argument `trust_remote_code=True`.\n",
            "\n",
            "Do you wish to run the custom code? [y/N] y\n"
          ]
        },
        {
          "output_type": "display_data",
          "data": {
            "text/plain": [
              "train-00000-of-00001.parquet:   0%|          | 0.00/134M [00:00<?, ?B/s]"
            ],
            "application/vnd.jupyter.widget-view+json": {
              "version_major": 2,
              "version_minor": 0,
              "model_id": "e8840875b92341bd904fa8606b5418d4"
            }
          },
          "metadata": {}
        },
        {
          "output_type": "display_data",
          "data": {
            "text/plain": [
              "Generating train split:   0%|          | 0/205328 [00:00<?, ? examples/s]"
            ],
            "application/vnd.jupyter.widget-view+json": {
              "version_major": 2,
              "version_minor": 0,
              "model_id": "0eeba6616ec54ce8868f9cc284792aed"
            }
          },
          "metadata": {}
        }
      ],
      "source": [
        "from datasets import load_dataset\n",
        "from random import sample\n",
        "\n",
        "wikitext = load_dataset(\"wikipedia\", \"20220301.simple\")\n",
        "trim_dataset= sample(wikitext['train']['text'],5000)"
      ]
    },
    {
      "cell_type": "code",
      "execution_count": null,
      "metadata": {
        "colab": {
          "base_uri": "https://localhost:8080/",
          "height": 36
        },
        "id": "_pkSsdyq9YHT",
        "outputId": "87045d1e-0652-4f03-8758-5d5bfa194ec3"
      },
      "outputs": [
        {
          "output_type": "execute_result",
          "data": {
            "text/plain": [
              "'Monsures is a commune. It is in Hauts-de-France in the Somme department in north France.\\n\\nReferences \\n\\nCommunes in Somme'"
            ],
            "application/vnd.google.colaboratory.intrinsic+json": {
              "type": "string"
            }
          },
          "metadata": {},
          "execution_count": 3
        }
      ],
      "source": [
        "trim_dataset[0]"
      ]
    },
    {
      "cell_type": "markdown",
      "metadata": {
        "id": "YyU3RJIz9qpS"
      },
      "source": [
        "As you can see there are a lot of numeric values, end-of-lines and the word \"References\" at the end. We saw in the previous assigment how preprocessing can significantly reduce the vocabulary; feel free to base the following code in your previous work."
      ]
    },
    {
      "cell_type": "code",
      "execution_count": null,
      "metadata": {
        "colab": {
          "base_uri": "https://localhost:8080/"
        },
        "id": "RO4OD95DQa8b",
        "outputId": "96c2a74e-848a-4538-ad9e-103d951ba507"
      },
      "outputs": [
        {
          "output_type": "stream",
          "name": "stderr",
          "text": [
            "[nltk_data] Downloading package stopwords to /root/nltk_data...\n",
            "[nltk_data]   Unzipping corpora/stopwords.zip.\n"
          ]
        },
        {
          "output_type": "execute_result",
          "data": {
            "text/plain": [
              "True"
            ]
          },
          "metadata": {},
          "execution_count": 4
        }
      ],
      "source": [
        "import nltk\n",
        "nltk.download('stopwords')"
      ]
    },
    {
      "cell_type": "code",
      "execution_count": null,
      "metadata": {
        "id": "lR8Novc5AKMi"
      },
      "outputs": [],
      "source": [
        "import string\n",
        "import re\n",
        "from nltk.corpus import stopwords\n",
        "\n",
        "def preprocess_data(data):\n",
        "    \"\"\"\n",
        "    Method to clean text from noise and standardize text across the different classes.\n",
        "    The preprocessing includes joining all data points, converting to lowercase,\n",
        "    removing punctuation, removing stopwords, and other noise.\n",
        "\n",
        "    Arguments\n",
        "    ---------\n",
        "    data : List of Strings\n",
        "        List of texts to clean.\n",
        "\n",
        "    Returns\n",
        "    -------\n",
        "    text : String\n",
        "        Cleaned and joined text.\n",
        "    \"\"\"\n",
        "\n",
        "    # Load stopwords\n",
        "    stop_words = set(stopwords.words('english'))\n",
        "\n",
        "    # Step 1: Join all data into a single string\n",
        "    text = ' '.join(data)\n",
        "\n",
        "    # Step 2: Convert text to lowercase\n",
        "    text = text.lower()\n",
        "\n",
        "    # Step 3: Remove newline characters\n",
        "    text = text.replace('\\n', ' ')\n",
        "\n",
        "    # Step 4: Remove the word \"References\" (if this is a common issue in your dataset)\n",
        "    text = re.sub(r'\\breferences\\b', '', text)\n",
        "\n",
        "    # Step 5: Remove punctuation and special characters\n",
        "    text = text.translate(str.maketrans('', '', string.punctuation))\n",
        "\n",
        "    # Step 6: Remove all numbers\n",
        "    text = re.sub(r'\\d+', '', text)\n",
        "\n",
        "    # Step 7: Remove stopwords\n",
        "    text = ' '.join([word for word in text.split() if word not in stop_words])\n",
        "\n",
        "    return text\n",
        "text=preprocess_data(trim_dataset)"
      ]
    },
    {
      "cell_type": "markdown",
      "metadata": {
        "id": "KWZMCe_ZvVV1"
      },
      "source": [
        "Our `text` variable includes all the data in just one string. Let's create a dictionary of frequencies for more pre-processing (same as in the last assigment)."
      ]
    },
    {
      "cell_type": "code",
      "execution_count": null,
      "metadata": {
        "id": "_9oY3wz0AD9-"
      },
      "outputs": [],
      "source": [
        "def vocab_frequency(text):\n",
        "    \"\"\"\n",
        "    Creates a dictionary of word frequencies based on a dataset.\n",
        "\n",
        "    Arguments\n",
        "    ---------\n",
        "    text : String\n",
        "        Preprocessed text in which words will be counted.\n",
        "\n",
        "    Returns\n",
        "    -------\n",
        "    vocab_dict : dictionary\n",
        "        Dictionary of words and their frequencies with the format {word: frequency}.\n",
        "    \"\"\"\n",
        "\n",
        "    vocab_dict = {}\n",
        "\n",
        "    # Split the text into words\n",
        "    words = text.split()\n",
        "\n",
        "    # Count the frequency of each word\n",
        "    for word in words:\n",
        "        if word in vocab_dict:\n",
        "            vocab_dict[word] += 1\n",
        "        else:\n",
        "            vocab_dict[word] = 1\n",
        "\n",
        "    return vocab_dict\n",
        "\n",
        "\n",
        "vocabulary = vocab_frequency(text)"
      ]
    },
    {
      "cell_type": "code",
      "execution_count": null,
      "metadata": {
        "colab": {
          "base_uri": "https://localhost:8080/"
        },
        "collapsed": true,
        "id": "97_UojnMbzy7",
        "outputId": "5dbfbde1-2b32-400d-c6f3-479cbd3a9254"
      },
      "outputs": [
        {
          "output_type": "execute_result",
          "data": {
            "text/plain": [
              "60847"
            ]
          },
          "metadata": {},
          "execution_count": 7
        }
      ],
      "source": [
        "len(vocabulary)"
      ]
    },
    {
      "cell_type": "markdown",
      "metadata": {
        "id": "E1Jg5xJbcdqA"
      },
      "source": [
        "Now our vocabulary is ready 😎"
      ]
    },
    {
      "cell_type": "markdown",
      "metadata": {
        "id": "oysoGd4Wxq8I"
      },
      "source": [
        "Since our neural networks can't understand strings we have to turn these strings into integers. In this case, we can use the vocabulary index to represent the words, so we will need the mapping: word -> index"
      ]
    },
    {
      "cell_type": "code",
      "execution_count": null,
      "metadata": {
        "id": "20IvUrxpwDL-"
      },
      "outputs": [],
      "source": [
        "import torch\n",
        "import torch.nn as nn\n",
        "\n",
        "def word_to_index(vocabulary):\n",
        "    \"\"\"\n",
        "    Method to create a mapping from words to index.\n",
        "\n",
        "    Arguments\n",
        "    ---------\n",
        "    vocabulary : Dictionary\n",
        "        Dictionary of format {word: frequency}\n",
        "\n",
        "    Returns\n",
        "    -------\n",
        "    word_to_index : Dictionary\n",
        "        Dictionary mapping words to indices with format {word: index}\n",
        "    \"\"\"\n",
        "\n",
        "    word_to_index = {}\n",
        "\n",
        "    # Special token for out-of-vocabulary (OOV) words\n",
        "    word_to_index['<OOV>'] = 0  # Index 0 reserved for OOV words\n",
        "\n",
        "    # Assign each word in the vocabulary a unique index starting from 1\n",
        "    for i, word in enumerate(vocabulary.keys(), start=1):\n",
        "        word_to_index[word] = i\n",
        "\n",
        "    return word_to_index\n",
        "\n",
        "word_to_index = word_to_index(vocabulary)\n"
      ]
    },
    {
      "cell_type": "markdown",
      "metadata": {
        "id": "AUxUbk8nyTmu"
      },
      "source": [
        "Let's start to get more on topic. If you remember, Word2Vec has a specific way of generating each vector.\n",
        "![Captura de pantalla 2024-05-21 161613.jpg](data:image/jpeg;base64,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)\n",
        "\n",
        "The embedding is based on the surrounding words (before and after) taken as context. In the case of CBOW, we input the surrounding words to our neural network and expect that it predicts the middle word. Let's format our dataset to meet the needs of the neural network.\n"
      ]
    },
    {
      "cell_type": "code",
      "execution_count": null,
      "metadata": {
        "id": "1OkVuGeFQ9Bk"
      },
      "outputs": [],
      "source": [
        "import torch\n",
        "\n",
        "def generate_dataset(data, window_size, word_to_index):\n",
        "    \"\"\"\n",
        "    Method to generate training dataset for CBOW.\n",
        "\n",
        "    Arguments\n",
        "    ---------\n",
        "    data : String\n",
        "        Training dataset (a single string).\n",
        "    window_size : int\n",
        "        Size of the context window (number of words before and after the target).\n",
        "    word_to_index : Dictionary\n",
        "        Dictionary mapping words to indices with format {word: index}.\n",
        "\n",
        "    Returns\n",
        "    -------\n",
        "    surroundings : Tensor\n",
        "        Tensor with indices of surrounding words, shape (N x 2*window_size), where N is the number of samples.\n",
        "    targets : Tensor\n",
        "        Tensor with indices of target words, shape (N,).\n",
        "    \"\"\"\n",
        "\n",
        "    surroundings = []\n",
        "    targets = []\n",
        "\n",
        "    # Split the input data into a list of words\n",
        "    data = data.split(\" \")\n",
        "\n",
        "    # Iterate through the dataset starting at window_size and stopping window_size before the end\n",
        "    for i in range(window_size, len(data) - window_size):\n",
        "        # Collect the surrounding words, window_size on both sides of the target word\n",
        "        surrounding = data[i - window_size:i] + data[i + 1:i + 1 + window_size]\n",
        "\n",
        "        # Convert the surrounding words to their indices\n",
        "        surrounding_indices = [word_to_index.get(word, word_to_index['<OOV>']) for word in surrounding]\n",
        "\n",
        "        # Get the target word (the word in the middle) and convert it to its index\n",
        "        target_word = data[i]\n",
        "        target_index = word_to_index.get(target_word, word_to_index['<OOV>'])\n",
        "\n",
        "        # Append the surrounding indices and target index to their respective lists\n",
        "        surroundings.append(surrounding_indices)\n",
        "        targets.append(target_index)\n",
        "\n",
        "    # Convert lists to tensors for PyTorch compatibility\n",
        "    surroundings_tensor = torch.tensor(surroundings, dtype=torch.long)\n",
        "    targets_tensor = torch.tensor(targets, dtype=torch.long)\n",
        "\n",
        "    return surroundings_tensor, targets_tensor\n",
        "\n",
        "\n",
        "surroundings, targets = generate_dataset(text, window_size=2, word_to_index=word_to_index)"
      ]
    },
    {
      "cell_type": "markdown",
      "metadata": {
        "id": "7OYFIK0g0YsI"
      },
      "source": [
        "With our dataset ready we can finally create our Neural Network. The idea is to replicate what Mikolov did in 2013 (see slides of Word2Vec)."
      ]
    },
    {
      "cell_type": "code",
      "source": [
        "print(surroundings.shape, targets.shape)"
      ],
      "metadata": {
        "colab": {
          "base_uri": "https://localhost:8080/"
        },
        "id": "b3Pxl-GMXsP6",
        "outputId": "a8b23611-d191-4567-bc50-cb55a345d188"
      },
      "execution_count": null,
      "outputs": [
        {
          "output_type": "stream",
          "name": "stdout",
          "text": [
            "torch.Size([492594, 4]) torch.Size([492594])\n"
          ]
        }
      ]
    },
    {
      "cell_type": "markdown",
      "source": [
        "![image.png](data:image/png;base64,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)"
      ],
      "metadata": {
        "id": "e8-gpVrxBrvd"
      }
    },
    {
      "cell_type": "markdown",
      "source": [
        "![image.png](data:image/png;base64,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)"
      ],
      "metadata": {
        "id": "AwkLhvWGC30z"
      }
    },
    {
      "cell_type": "code",
      "source": [
        "import torch\n",
        "import torch.nn as nn\n",
        "\n",
        "class CBOW(nn.Module):\n",
        "    def __init__(self, vocab_size, embed_dim=300):\n",
        "        \"\"\"\n",
        "        Class to define the CBOW model.\n",
        "\n",
        "        Attributes\n",
        "        ---------\n",
        "        vocab_size : int\n",
        "            Size of the vocabulary\n",
        "        embed_dim : int\n",
        "            Size of the embedding layer (dimension of word vectors)\n",
        "        \"\"\"\n",
        "        super(CBOW, self).__init__()\n",
        "\n",
        "        # Embedding layer to map word indices to dense vectors of size embed_dim\n",
        "        self.embedding = nn.Embedding(vocab_size, embed_dim)\n",
        "\n",
        "        # Linear layer to project the average embedding into the vocabulary size space\n",
        "        self.linear = nn.Linear(embed_dim, vocab_size)\n",
        "\n",
        "    def forward(self, x):\n",
        "        \"\"\"\n",
        "        Forward pass through the network.\n",
        "\n",
        "        Arguments\n",
        "        ---------\n",
        "        x : Tensor\n",
        "            Input tensor containing indices of the surrounding words, shape: (batch_size, context_window * 2)\n",
        "\n",
        "        Returns\n",
        "        -------\n",
        "        out : Tensor\n",
        "            Output tensor representing the predicted scores for each word in the vocabulary, shape: (batch_size, vocab_size)\n",
        "        \"\"\"\n",
        "\n",
        "        # Pass input through the embedding layer (shape: (batch_size, context_window * 2, embed_dim))\n",
        "        emb = self.embedding(x)\n",
        "\n",
        "        # Compute the average of the embeddings over the context window (axis 1)\n",
        "        # Resulting shape: (batch_size, embed_dim)\n",
        "        average = torch.mean(emb, dim=1)\n",
        "\n",
        "        # Normalize the averaged embedding (L2 normalization)\n",
        "        normalized_average = average / average.norm(dim=1, keepdim=True)\n",
        "\n",
        "        # Pass the normalized averaged embedding through the linear layer (shape: (batch_size, vocab_size))\n",
        "        out = self.linear(normalized_average)\n",
        "\n",
        "        return out\n"
      ],
      "metadata": {
        "id": "x8WsktvcMML5"
      },
      "execution_count": null,
      "outputs": []
    },
    {
      "cell_type": "markdown",
      "source": [
        "print(surroundings.shape, targets.shape)"
      ],
      "metadata": {
        "id": "6d-RfbzAeYNJ"
      }
    },
    {
      "cell_type": "code",
      "source": [
        "from torch.utils.data import DataLoader\n",
        "\n",
        "# Create DataLoader for training data\n",
        "batch_size = 64  # Adjust this based on your GPU's capacity\n",
        "train_dataloader = DataLoader(\n",
        "    list(zip(surroundings, targets)), batch_size=batch_size, shuffle=True\n",
        ")\n"
      ],
      "metadata": {
        "id": "AAreQ6KoL7ZQ"
      },
      "execution_count": null,
      "outputs": []
    },
    {
      "cell_type": "code",
      "execution_count": null,
      "metadata": {
        "colab": {
          "base_uri": "https://localhost:8080/"
        },
        "outputId": "dae9426d-99a2-4d95-d89a-5c4618067b0f",
        "id": "kexSYJE3vp_d"
      },
      "outputs": [
        {
          "output_type": "stream",
          "name": "stderr",
          "text": [
            "100%|██████████| 7697/7697 [01:54<00:00, 67.46it/s]\n"
          ]
        },
        {
          "output_type": "stream",
          "name": "stdout",
          "text": [
            "Epoch 1/10, Loss: 9.31131941488196\n"
          ]
        },
        {
          "output_type": "stream",
          "name": "stderr",
          "text": [
            "100%|██████████| 7697/7697 [01:51<00:00, 68.93it/s]\n"
          ]
        },
        {
          "output_type": "stream",
          "name": "stdout",
          "text": [
            "Epoch 2/10, Loss: 8.216178706703023\n"
          ]
        },
        {
          "output_type": "stream",
          "name": "stderr",
          "text": [
            "100%|██████████| 7697/7697 [01:51<00:00, 68.96it/s]\n"
          ]
        },
        {
          "output_type": "stream",
          "name": "stdout",
          "text": [
            "Epoch 3/10, Loss: 7.651694781256447\n"
          ]
        },
        {
          "output_type": "stream",
          "name": "stderr",
          "text": [
            "100%|██████████| 7697/7697 [01:51<00:00, 68.94it/s]\n"
          ]
        },
        {
          "output_type": "stream",
          "name": "stdout",
          "text": [
            "Epoch 4/10, Loss: 7.182895281198072\n"
          ]
        },
        {
          "output_type": "stream",
          "name": "stderr",
          "text": [
            "100%|██████████| 7697/7697 [01:51<00:00, 68.96it/s]\n"
          ]
        },
        {
          "output_type": "stream",
          "name": "stdout",
          "text": [
            "Epoch 5/10, Loss: 6.759742878436485\n"
          ]
        },
        {
          "output_type": "stream",
          "name": "stderr",
          "text": [
            "100%|██████████| 7697/7697 [01:51<00:00, 68.96it/s]\n"
          ]
        },
        {
          "output_type": "stream",
          "name": "stdout",
          "text": [
            "Epoch 6/10, Loss: 6.364987672389723\n"
          ]
        },
        {
          "output_type": "stream",
          "name": "stderr",
          "text": [
            "100%|██████████| 7697/7697 [01:51<00:00, 68.96it/s]\n"
          ]
        },
        {
          "output_type": "stream",
          "name": "stdout",
          "text": [
            "Epoch 7/10, Loss: 5.989703947094271\n"
          ]
        },
        {
          "output_type": "stream",
          "name": "stderr",
          "text": [
            "100%|██████████| 7697/7697 [01:51<00:00, 68.86it/s]\n"
          ]
        },
        {
          "output_type": "stream",
          "name": "stdout",
          "text": [
            "Epoch 8/10, Loss: 5.62789958759579\n"
          ]
        },
        {
          "output_type": "stream",
          "name": "stderr",
          "text": [
            "100%|██████████| 7697/7697 [01:51<00:00, 68.99it/s]\n"
          ]
        },
        {
          "output_type": "stream",
          "name": "stdout",
          "text": [
            "Epoch 9/10, Loss: 5.278389606597254\n"
          ]
        },
        {
          "output_type": "stream",
          "name": "stderr",
          "text": [
            "100%|██████████| 7697/7697 [01:51<00:00, 68.90it/s]"
          ]
        },
        {
          "output_type": "stream",
          "name": "stdout",
          "text": [
            "Epoch 10/10, Loss: 4.9399397224516965\n"
          ]
        },
        {
          "output_type": "stream",
          "name": "stderr",
          "text": [
            "\n"
          ]
        }
      ],
      "source": [
        "from tqdm import tqdm\n",
        "import torch\n",
        "\n",
        "# Set the device to GPU if available\n",
        "device = torch.device(\"cuda\" if torch.cuda.is_available() else \"cpu\")\n",
        "\n",
        "# Initialize the model, loss function, and optimizer\n",
        "model = CBOW(len(word_to_index)).to(device)\n",
        "loss_function = nn.CrossEntropyLoss()\n",
        "optimizer = torch.optim.Adam(model.parameters(), lr=0.001)\n",
        "epochs = 10\n",
        "\n",
        "# Train the model\n",
        "for epoch in range(epochs):\n",
        "    total_loss = 0\n",
        "    i = 0\n",
        "    model.train()  # Set the model to training mode\n",
        "\n",
        "    for surr, tar in tqdm(train_dataloader):\n",
        "        # Move data to the appropriate device (GPU or CPU)\n",
        "        surr, tar = surr.to(device), tar.to(device)\n",
        "\n",
        "        # Clear gradients for the optimizer\n",
        "        optimizer.zero_grad()\n",
        "\n",
        "        # Forward pass: Get predictions from the model\n",
        "        log_probs = model(surr)\n",
        "\n",
        "        # Compute the loss between predicted output and actual target\n",
        "        loss = loss_function(log_probs, tar)\n",
        "\n",
        "        # Add the loss to the running total loss\n",
        "        total_loss += loss.item()\n",
        "\n",
        "        # Backward pass: compute gradients\n",
        "        loss.backward()\n",
        "\n",
        "        # Update the model parameters\n",
        "        optimizer.step()\n",
        "\n",
        "    # Print the average loss for the epoch\n",
        "    print(f\"Epoch {epoch+1}/{epochs}, Loss: {total_loss/len(train_dataloader)}\")\n"
      ]
    },
    {
      "cell_type": "markdown",
      "metadata": {
        "id": "tMjs6zu63bnh"
      },
      "source": [
        "## Let's test it! 🤓"
      ]
    },
    {
      "cell_type": "markdown",
      "metadata": {
        "id": "7rarP3Yw3eCW"
      },
      "source": [
        "Now that we hopefully have good embeddings we can put them to the test. Let's start by creating some useful functions."
      ]
    },
    {
      "cell_type": "markdown",
      "source": [
        "![image.png](data:image/png;base64,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)"
      ],
      "metadata": {
        "id": "S6j7kospDrGt"
      }
    },
    {
      "cell_type": "code",
      "execution_count": null,
      "metadata": {
        "collapsed": true,
        "id": "xJndx_85UJeY",
        "colab": {
          "base_uri": "https://localhost:8080/"
        },
        "outputId": "599a2749-231b-4cee-dbfc-1346d1b389b9"
      },
      "outputs": [
        {
          "output_type": "stream",
          "name": "stdout",
          "text": [
            "Embedding for 'shot': tensor([ 0.4906,  0.4058, -0.2096, -0.0825, -0.4296,  0.9605,  0.6184, -0.6737,\n",
            "        -0.2662, -0.3394, -0.7091, -0.7375,  2.9506,  0.6168,  0.0698,  1.2080,\n",
            "        -1.5716, -0.7252, -2.5542,  0.2557,  2.3047, -1.1911,  0.2084,  0.2010,\n",
            "        -1.2168, -1.3964,  1.0020,  0.2814, -0.7739, -1.2707,  0.2911, -1.2924,\n",
            "         0.2945, -0.2626, -0.1390, -1.5841, -1.8393, -1.2004, -1.7925,  0.5352,\n",
            "        -1.0450, -1.3900, -0.1019,  0.0335, -1.2053,  1.2193, -0.1586, -0.2722,\n",
            "        -1.2070,  0.2006,  1.7352, -0.3360, -0.1414,  0.7695, -0.8912, -2.0434,\n",
            "         0.0706, -0.9972, -0.2261,  0.1900,  1.0348, -0.1160,  0.4793, -1.0945,\n",
            "         1.8457, -0.0371, -0.0822, -0.2489,  0.6893, -0.1574, -0.4453, -1.2365,\n",
            "        -0.5821,  0.5904,  0.4173, -1.7085, -0.3306, -0.8262, -0.0429, -0.3440,\n",
            "         0.8920, -1.2269,  1.3997,  0.2008,  0.1899, -0.8591,  0.9244,  1.8702,\n",
            "        -0.8124, -1.6061, -1.5608,  0.6280,  0.1056, -0.0785, -1.6354,  1.0180,\n",
            "         0.5638,  0.2022,  0.7018, -0.3976, -0.0753,  0.4832, -0.8022, -0.4787,\n",
            "         1.7313, -0.1510, -1.8937,  1.1938,  0.5972, -0.1595, -0.2478,  0.9572,\n",
            "        -0.3175,  1.6074,  0.7055, -1.5404,  0.2429, -0.6739, -0.6158,  2.4461,\n",
            "         0.3301,  1.3910, -0.3000, -0.8778, -0.0388,  1.7350,  1.8728,  0.2653,\n",
            "         1.3437,  0.6701,  1.0701, -0.0084,  0.9738, -1.7350, -0.7791, -0.2919,\n",
            "        -0.8904,  0.1049,  0.4700,  0.1151, -1.5275,  0.2903, -0.6707, -1.3825,\n",
            "         0.5887,  0.6595, -0.4393,  1.7630,  0.8177, -1.3132,  0.3375,  0.4556,\n",
            "         1.0159, -0.1887,  0.0092,  0.7441,  0.1566,  0.6845, -0.0206, -0.1997,\n",
            "        -0.2529, -0.2921, -0.6019,  2.0854,  0.1603,  0.4027,  2.5973,  2.1512,\n",
            "         1.4963,  0.8408, -1.1048,  0.8081,  0.0951, -0.7061, -1.7706,  0.8686,\n",
            "         0.8359, -0.2195,  0.6049, -1.3572, -0.8315, -0.8186, -0.2247,  0.3045,\n",
            "         1.0645, -0.7351,  0.6171,  0.1001, -0.0141, -1.3667,  0.1671,  0.8141,\n",
            "        -0.1620, -0.5897, -1.4702,  1.5998,  0.8184, -1.7521,  0.4661, -0.0039,\n",
            "        -1.5896,  0.1654, -1.3101,  0.2679,  1.2971, -0.8345,  0.3069,  0.8982,\n",
            "         0.4436, -0.5778,  0.1907, -0.2594, -0.8622, -0.2831,  0.8544, -1.5022,\n",
            "         0.2686,  0.1063, -0.2371,  0.7660, -0.6805, -0.2118, -0.7572,  0.1075,\n",
            "         2.1959, -0.1999, -0.5864,  0.8592, -0.5728, -0.9500,  0.4032,  0.4805,\n",
            "        -0.4431,  1.0580, -0.1264, -2.1260, -0.9149, -0.5664, -0.1198, -0.3845,\n",
            "        -0.5271,  0.3066,  2.0500, -0.1555,  0.8936,  0.1530, -0.7403,  0.9130,\n",
            "         1.3750,  0.7506,  0.7306, -1.2650, -1.5678,  1.4408,  0.4655,  0.3373,\n",
            "         0.1261,  1.2444,  1.3675,  0.5230,  1.2688,  0.7183,  0.3407,  0.8928,\n",
            "        -0.4243, -0.0297,  0.9086,  0.6478, -1.1563,  0.1390, -1.1244, -0.4326,\n",
            "        -0.5536, -0.3903, -0.2655,  1.4457, -0.4903,  0.6820, -0.6170,  1.6591,\n",
            "         1.2340,  0.2089, -0.6417, -1.4038, -1.0259, -0.3917, -0.6041,  1.1557,\n",
            "         0.3122,  1.1979, -0.3345, -0.0656, -0.3539, -0.0948,  0.6062, -0.3106,\n",
            "         0.9142, -0.1874,  1.3745,  0.7176], device='cuda:0')\n"
          ]
        }
      ],
      "source": [
        "import torch\n",
        "\n",
        "def get_embedding(word, model, word_to_index):\n",
        "    \"\"\"\n",
        "    Method to get the embedding vector for a given word.\n",
        "\n",
        "    Arguments\n",
        "    ---------\n",
        "    word : String\n",
        "        Word given.\n",
        "    model : nn.Module\n",
        "        CBOW model containing the embedding layer.\n",
        "    word_to_index : Dictionary\n",
        "        Dictionary mapping words to index with format {word: index}.\n",
        "\n",
        "    Returns\n",
        "    -------\n",
        "    word_embedding : Tensor\n",
        "        Embedding vector for the given word.\n",
        "    \"\"\"\n",
        "    # Get the index for the given word, or handle OOV words\n",
        "    index = word_to_index.get(word, word_to_index.get('<OOV>'))  # Use <OOV> if word not in vocabulary\n",
        "\n",
        "    # Ensure no gradients are calculated (inference mode)\n",
        "    with torch.no_grad():\n",
        "        # Get the weights from the embedding layer in the model\n",
        "        embedding_weights = model.embedding.weight  # Assuming your model has an 'embedding' attribute\n",
        "        embedding_weights.requires_grad = False\n",
        "\n",
        "        # Extract the embedding vector for the given word index\n",
        "        word_embedding = embedding_weights[index]\n",
        "\n",
        "    return word_embedding\n",
        "\n",
        "# Test the function by getting the embedding of the word \"shot\"\n",
        "word_embedding = get_embedding(\"shot\", model, word_to_index)\n",
        "print(f\"Embedding for 'shot': {word_embedding}\")\n",
        "\n",
        "\n",
        "\n",
        "\n"
      ]
    },
    {
      "cell_type": "code",
      "source": [
        "print(f\"Embedding size: {word_embedding.shape}\")\n"
      ],
      "metadata": {
        "id": "QRIjWMhXGPWk",
        "colab": {
          "base_uri": "https://localhost:8080/"
        },
        "outputId": "e2c6ac4b-94cf-4222-94cb-0fc82a174bdc"
      },
      "execution_count": null,
      "outputs": [
        {
          "output_type": "stream",
          "name": "stdout",
          "text": [
            "Embedding size: torch.Size([300])\n"
          ]
        }
      ]
    },
    {
      "cell_type": "code",
      "source": [
        "# Check the size of your vocabulary\n",
        "print(f\"Vocabulary size: {len(word_to_index)}\")\n",
        "\n",
        "# Print the first 50 words in the vocabulary to get a sense of what it contains\n",
        "print(list(word_to_index.keys())[:50])\n"
      ],
      "metadata": {
        "id": "TwSDpg4twCsI",
        "colab": {
          "base_uri": "https://localhost:8080/"
        },
        "outputId": "adfa08db-a3ec-430f-c6f0-055dae406771"
      },
      "execution_count": null,
      "outputs": [
        {
          "output_type": "stream",
          "name": "stdout",
          "text": [
            "Vocabulary size: 60848\n",
            "['<OOV>', 'monsures', 'commune', 'hautsdefrance', 'somme', 'department', 'north', 'france', 'communes', 'john', 'stewart', 'herrington', 'born', 'may', 'american', 'republican', 'politician', 'served', 'united', 'states', 'secretary', 'energy', 'ronald', 'reagan', 'second', 'term', 'websites', 'clean', 'corp', 'bio', 'forbes', 'profile', 'births', 'living', 'people', 'secretaries', 'us', 'party', 'politicians', 'california', 'los', 'angeles', 'johnny', 'destiny', 'space', 'ranger', 'black', 'knight', 'korean', 'captain']\n"
          ]
        }
      ]
    },
    {
      "cell_type": "markdown",
      "source": [
        "![image.png](data:image/png;base64,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)"
      ],
      "metadata": {
        "id": "RSrM_jsaD_dV"
      }
    },
    {
      "cell_type": "code",
      "execution_count": null,
      "metadata": {
        "id": "LzvJUi9a52d3"
      },
      "outputs": [],
      "source": [
        "import torch\n",
        "\n",
        "def cosine_similarity(v1, v2):\n",
        "    \"\"\"\n",
        "    Method to calculate cosine similarity between two vectors.\n",
        "\n",
        "    Arguments\n",
        "    ---------\n",
        "    v1 : Tensor\n",
        "        First vector.\n",
        "    v2 : Tensor\n",
        "        Second vector.\n",
        "\n",
        "    Returns\n",
        "    -------\n",
        "    cosine_sim : float\n",
        "        Cosine similarity between v1 and v2.\n",
        "    \"\"\"\n",
        "    dot_product = torch.dot(v1, v2)  # Calculate the dot product\n",
        "    v1_norm = torch.norm(v1)  # Calculate the norm of v1\n",
        "    v2_norm = torch.norm(v2)  # Calculate the norm of v2\n",
        "\n",
        "    # Avoid division by zero\n",
        "    if v1_norm == 0 or v2_norm == 0:\n",
        "        return 0.0\n",
        "\n",
        "    cosine_sim = dot_product / (v1_norm * v2_norm)  # Compute cosine similarity\n",
        "    return cosine_sim.item()  # Convert to Python float\n",
        "\n"
      ]
    },
    {
      "cell_type": "code",
      "source": [
        "word_embedding = get_embedding(\"shot\", model, word_to_index)\n",
        "print(f\"Embedding for 'shot': {word_embedding}\")"
      ],
      "metadata": {
        "colab": {
          "base_uri": "https://localhost:8080/"
        },
        "id": "N8J9p2aPejVZ",
        "outputId": "1309c420-6923-4f15-bb3e-dad0bb277ceb"
      },
      "execution_count": null,
      "outputs": [
        {
          "output_type": "stream",
          "name": "stdout",
          "text": [
            "Embedding for 'shot': tensor([ 0.4906,  0.4058, -0.2096, -0.0825, -0.4296,  0.9605,  0.6184, -0.6737,\n",
            "        -0.2662, -0.3394, -0.7091, -0.7375,  2.9506,  0.6168,  0.0698,  1.2080,\n",
            "        -1.5716, -0.7252, -2.5542,  0.2557,  2.3047, -1.1911,  0.2084,  0.2010,\n",
            "        -1.2168, -1.3964,  1.0020,  0.2814, -0.7739, -1.2707,  0.2911, -1.2924,\n",
            "         0.2945, -0.2626, -0.1390, -1.5841, -1.8393, -1.2004, -1.7925,  0.5352,\n",
            "        -1.0450, -1.3900, -0.1019,  0.0335, -1.2053,  1.2193, -0.1586, -0.2722,\n",
            "        -1.2070,  0.2006,  1.7352, -0.3360, -0.1414,  0.7695, -0.8912, -2.0434,\n",
            "         0.0706, -0.9972, -0.2261,  0.1900,  1.0348, -0.1160,  0.4793, -1.0945,\n",
            "         1.8457, -0.0371, -0.0822, -0.2489,  0.6893, -0.1574, -0.4453, -1.2365,\n",
            "        -0.5821,  0.5904,  0.4173, -1.7085, -0.3306, -0.8262, -0.0429, -0.3440,\n",
            "         0.8920, -1.2269,  1.3997,  0.2008,  0.1899, -0.8591,  0.9244,  1.8702,\n",
            "        -0.8124, -1.6061, -1.5608,  0.6280,  0.1056, -0.0785, -1.6354,  1.0180,\n",
            "         0.5638,  0.2022,  0.7018, -0.3976, -0.0753,  0.4832, -0.8022, -0.4787,\n",
            "         1.7313, -0.1510, -1.8937,  1.1938,  0.5972, -0.1595, -0.2478,  0.9572,\n",
            "        -0.3175,  1.6074,  0.7055, -1.5404,  0.2429, -0.6739, -0.6158,  2.4461,\n",
            "         0.3301,  1.3910, -0.3000, -0.8778, -0.0388,  1.7350,  1.8728,  0.2653,\n",
            "         1.3437,  0.6701,  1.0701, -0.0084,  0.9738, -1.7350, -0.7791, -0.2919,\n",
            "        -0.8904,  0.1049,  0.4700,  0.1151, -1.5275,  0.2903, -0.6707, -1.3825,\n",
            "         0.5887,  0.6595, -0.4393,  1.7630,  0.8177, -1.3132,  0.3375,  0.4556,\n",
            "         1.0159, -0.1887,  0.0092,  0.7441,  0.1566,  0.6845, -0.0206, -0.1997,\n",
            "        -0.2529, -0.2921, -0.6019,  2.0854,  0.1603,  0.4027,  2.5973,  2.1512,\n",
            "         1.4963,  0.8408, -1.1048,  0.8081,  0.0951, -0.7061, -1.7706,  0.8686,\n",
            "         0.8359, -0.2195,  0.6049, -1.3572, -0.8315, -0.8186, -0.2247,  0.3045,\n",
            "         1.0645, -0.7351,  0.6171,  0.1001, -0.0141, -1.3667,  0.1671,  0.8141,\n",
            "        -0.1620, -0.5897, -1.4702,  1.5998,  0.8184, -1.7521,  0.4661, -0.0039,\n",
            "        -1.5896,  0.1654, -1.3101,  0.2679,  1.2971, -0.8345,  0.3069,  0.8982,\n",
            "         0.4436, -0.5778,  0.1907, -0.2594, -0.8622, -0.2831,  0.8544, -1.5022,\n",
            "         0.2686,  0.1063, -0.2371,  0.7660, -0.6805, -0.2118, -0.7572,  0.1075,\n",
            "         2.1959, -0.1999, -0.5864,  0.8592, -0.5728, -0.9500,  0.4032,  0.4805,\n",
            "        -0.4431,  1.0580, -0.1264, -2.1260, -0.9149, -0.5664, -0.1198, -0.3845,\n",
            "        -0.5271,  0.3066,  2.0500, -0.1555,  0.8936,  0.1530, -0.7403,  0.9130,\n",
            "         1.3750,  0.7506,  0.7306, -1.2650, -1.5678,  1.4408,  0.4655,  0.3373,\n",
            "         0.1261,  1.2444,  1.3675,  0.5230,  1.2688,  0.7183,  0.3407,  0.8928,\n",
            "        -0.4243, -0.0297,  0.9086,  0.6478, -1.1563,  0.1390, -1.1244, -0.4326,\n",
            "        -0.5536, -0.3903, -0.2655,  1.4457, -0.4903,  0.6820, -0.6170,  1.6591,\n",
            "         1.2340,  0.2089, -0.6417, -1.4038, -1.0259, -0.3917, -0.6041,  1.1557,\n",
            "         0.3122,  1.1979, -0.3345, -0.0656, -0.3539, -0.0948,  0.6062, -0.3106,\n",
            "         0.9142, -0.1874,  1.3745,  0.7176], device='cuda:0')\n"
          ]
        }
      ]
    },
    {
      "cell_type": "markdown",
      "source": [
        "Second Version"
      ],
      "metadata": {
        "id": "_q5weoGPHGO8"
      }
    },
    {
      "cell_type": "code",
      "source": [
        "import torch\n",
        "\n",
        "def get_k_nearest_words(k, input_vector, vocabulary, model, word_to_index, exclude_words=None, is_word=True):\n",
        "    \"\"\"\n",
        "    Method to find the k nearest words of a given word or vector.\n",
        "\n",
        "    Arguments\n",
        "    ---------\n",
        "    k : int\n",
        "        Number of nearest words to return.\n",
        "    input_vector : Tensor or String\n",
        "        If is_word is True, this should be the word. Otherwise, a vector.\n",
        "    vocabulary : Dictionary\n",
        "        Dictionary mapping words to their frequency (or presence).\n",
        "    model : nn.Module\n",
        "        Trained CBOW model.\n",
        "    word_to_index : Dictionary\n",
        "        Dictionary mapping words to indices.\n",
        "    exclude_words : List of Strings, optional\n",
        "        Words to exclude from the results (e.g., input words in analogy).\n",
        "    is_word : bool, optional\n",
        "        If True, input is treated as a word; otherwise, as a vector.\n",
        "\n",
        "    Returns\n",
        "    -------\n",
        "    similar : List of Strings\n",
        "        List of k nearest words.\n",
        "    \"\"\"\n",
        "    # # Get the embedding if the input is a word\n",
        "    # if is_word:\n",
        "    #     input_vector = get_embedding(input_vector, model, word_to_index)\n",
        "\n",
        "    similarity_scores = torch.zeros(len(vocabulary))\n",
        "    vocab_keys = list(vocabulary.keys())\n",
        "\n",
        "    # Compute cosine similarities for all words in the vocabulary\n",
        "    for i, other_word in enumerate(vocab_keys):\n",
        "        if exclude_words and other_word in exclude_words:\n",
        "            similarity_scores[i] = -float('inf')  # Exclude specified words\n",
        "            continue\n",
        "\n",
        "        other_word_embedding = get_embedding(other_word, model, word_to_index)\n",
        "        similarity_scores[i] = cosine_similarity(input_vector, other_word_embedding)\n",
        "\n",
        "    # Get the top k most similar words\n",
        "    k_first = torch.topk(similarity_scores, k)\n",
        "    similar = [vocab_keys[idx] for idx in k_first.indices]\n",
        "\n",
        "    return similar\n"
      ],
      "metadata": {
        "id": "wtzitOwOGng9"
      },
      "execution_count": null,
      "outputs": []
    },
    {
      "cell_type": "code",
      "source": [
        "# Get the embedding vector for the word \"shot\"\n",
        "shot_embedding = get_embedding(\"shot\", model, word_to_index)\n",
        "\n",
        "# Use the existing get_k_nearest_words function\n",
        "similar_words = get_k_nearest_words(\n",
        "    k=5,\n",
        "    input_vector=shot_embedding,  # Pass the embedding vector of \"shot\"\n",
        "    vocabulary=vocabulary,\n",
        "    model=model,\n",
        "    word_to_index=word_to_index,\n",
        "    is_word=False  # Since we are passing an embedding vector, not a word\n",
        ")\n",
        "\n",
        "# Print the top 5 similar words to 'shot'\n",
        "print(f\"Top 5 words similar to 'shot': {similar_words}\")\n",
        "\n"
      ],
      "metadata": {
        "colab": {
          "base_uri": "https://localhost:8080/"
        },
        "id": "df7JHoGF-N7H",
        "outputId": "400d1a3b-d7bd-4660-a7a2-e03012d7f6a9"
      },
      "execution_count": null,
      "outputs": [
        {
          "output_type": "stream",
          "name": "stdout",
          "text": [
            "Top 5 words similar to 'shot': ['shot', 'baritoneeuphonium', 'sidecar', 'nagraj', 'raj']\n"
          ]
        }
      ]
    },
    {
      "cell_type": "code",
      "source": [
        "for similar_word in similar_words:\n",
        "    # Get the embedding for each similar word\n",
        "    similar_word_embedding = get_embedding(similar_word, model, word_to_index)\n",
        "\n",
        "    # Calculate the cosine similarity between \"shot\" and the similar word\n",
        "    similarity = cosine_similarity(shot_embedding, similar_word_embedding)\n",
        "\n",
        "    # Print the word and its similarity score\n",
        "    print(f\"{similar_word}: {similarity:.4f}\")"
      ],
      "metadata": {
        "colab": {
          "base_uri": "https://localhost:8080/"
        },
        "id": "XkNRxXO__Is-",
        "outputId": "5319dd19-ed43-4734-9a53-57a26ac4e0e6"
      },
      "execution_count": null,
      "outputs": [
        {
          "output_type": "stream",
          "name": "stdout",
          "text": [
            "shot: 1.0000\n",
            "baritoneeuphonium: 0.2483\n",
            "sidecar: 0.2297\n",
            "nagraj: 0.2136\n",
            "raj: 0.2126\n"
          ]
        }
      ]
    },
    {
      "cell_type": "markdown",
      "metadata": {
        "id": "ITgPYX7l39Vj"
      },
      "source": [
        "The Google analogy test set is a state of the art data set for word embeddings that tests their ability to solve analogy tasks. A well-known example for it is: \"king is to man as queen is to women.\" We will use a subset of this dataset to see how our CBOW model performs.\n"
      ]
    },
    {
      "cell_type": "markdown",
      "source": [
        "![image.png](data:image/png;base64,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)"
      ],
      "metadata": {
        "id": "3uq46FcrFyWI"
      }
    },
    {
      "cell_type": "code",
      "source": [
        "import pandas as pd\n",
        "\n",
        "def test_analogy(model, word_to_index, analogy_file, subset_size=None):\n",
        "    \"\"\"\n",
        "    Method to test accuracy of CBOW embeddings on analogy tasks.\n",
        "\n",
        "    Arguments\n",
        "    ---------\n",
        "    model : nn.Module\n",
        "        Trained CBOW model.\n",
        "    word_to_index : Dictionary\n",
        "        Dictionary mapping words to indices {word: index}.\n",
        "    analogy_file : String\n",
        "        File containing analogy tasks.\n",
        "    subset_size : int, optional\n",
        "        Number of rows to use from the dataset (for testing purposes).\n",
        "\n",
        "    Returns\n",
        "    -------\n",
        "    accuracy : float\n",
        "        Accuracy of the model on the analogy tasks.\n",
        "    \"\"\"\n",
        "    # Load the CSV file\n",
        "    df = pd.read_csv(analogy_file)\n",
        "\n",
        "    # Filter by the 'capital-common-countries' category\n",
        "    df = df[df['category'] == 'capital-common-countries']\n",
        "\n",
        "    # Reduce the dataset size for testing, if subset_size is provided\n",
        "    if subset_size:\n",
        "        df = df.head(subset_size)\n",
        "\n",
        "    correct = 0\n",
        "    total = 0\n",
        "    skipped = 0  # Counter for skipped tasks\n",
        "\n",
        "    # Iterate through each analogy task\n",
        "    for index, row in df.iterrows():\n",
        "        word_one = row['word_one'].lower()\n",
        "        word_two = row['word_two'].lower()\n",
        "        word_three = row['word_three'].lower()\n",
        "        word_four = row['word_four'].lower()\n",
        "\n",
        "        # Skip tasks if any word is not in the vocabulary\n",
        "        if (word_one not in word_to_index) or (word_two not in word_to_index) or \\\n",
        "           (word_three not in word_to_index) or (word_four not in word_to_index):\n",
        "            skipped += 1\n",
        "            continue\n",
        "\n",
        "        # Get embeddings for the words\n",
        "        embedding_word_one = get_embedding(word_one, model, word_to_index)\n",
        "        embedding_word_two = get_embedding(word_two, model, word_to_index)\n",
        "        embedding_word_three = get_embedding(word_three, model, word_to_index)\n",
        "\n",
        "        # Compute the resulting analogy vector\n",
        "        result_embedding = embedding_word_two - embedding_word_one + embedding_word_three\n",
        "\n",
        "        # Find the top 3 nearest words to the result\n",
        "        predictions = get_k_nearest_words(10, result_embedding, word_to_index, model, word_to_index)\n",
        "\n",
        "        # Print detailed results\n",
        "        is_correct = word_four in predictions\n",
        "        print(f\"Analogy: {word_one} -> {word_two} :: {word_three} -> {word_four} | Prediction: {predictions}, Correct: {is_correct}\")\n",
        "\n",
        "        if is_correct:\n",
        "            correct += 1\n",
        "\n",
        "        total += 1\n",
        "\n",
        "    # Print final stats\n",
        "    print(f\"Total tasks skipped due to missing words: {skipped}\")\n",
        "    if total == 0:\n",
        "        print(\"No valid tasks were processed.\")\n",
        "        return 'No word was found in the embeddings'\n",
        "\n",
        "    accuracy = correct / total\n",
        "    print(f\"Analogy task accuracy: {accuracy:.4f}\")\n",
        "    return accuracy\n",
        "\n",
        "# Test the model on a reduced subset for quick debugging (e.g., 10 rows)\n",
        "accuracy = test_analogy(model, word_to_index, 'TestSet_sample.csv', subset_size=200)\n",
        "\n",
        "# accuracy = test_analogy(model, word_to_index, 'TestSet_sample.csv')"
      ],
      "metadata": {
        "id": "lhuKzjeUudrL",
        "colab": {
          "base_uri": "https://localhost:8080/"
        },
        "outputId": "0b5c97da-cfd5-40ba-d7e1-de974bf64bf4"
      },
      "execution_count": null,
      "outputs": [
        {
          "output_type": "stream",
          "name": "stdout",
          "text": [
            "Analogy: athens -> greece :: baghdad -> iraq | Prediction: ['baghdad', 'greece', 'ad', 'counterbalanced', 'féin', 'consumables', 'katzelsdorf', 'wass', 'fostering', 'marshman'], Correct: False\n",
            "Analogy: athens -> greece :: bangkok -> thailand | Prediction: ['bangkok', 'greece', 'league', 'vedic', 'nasda', 'barros', 'avrakotos', 'mawddach', 'tecate', 'theater'], Correct: False\n",
            "Analogy: athens -> greece :: beijing -> china | Prediction: ['greece', 'beijing', 'licensed', 'príncipe', 'convers', 'chair', 'soldiers', 'crespo', 'colonnades', 'league'], Correct: False\n",
            "Analogy: athens -> greece :: berlin -> germany | Prediction: ['berlin', 'greece', 'orbital', 'hadrians', 'neumünster', 'detachment', 'league', 'centres', 'taliesin', 'productspecific'], Correct: False\n",
            "Analogy: athens -> greece :: bern -> switzerland | Prediction: ['greece', 'bern', 'toukley', 'ticino', 'verda', 'nasda', 'juvenile', 'thorazine', 'yasmin', 'tibor'], Correct: False\n",
            "Analogy: athens -> greece :: cairo -> egypt | Prediction: ['cairo', 'greece', 'soldiers', 'crespo', 'bergkvara', 'league', 'avrakotos', '···−−−···', 'faulting', 'isere'], Correct: False\n",
            "Analogy: athens -> greece :: canberra -> australia | Prediction: ['canberra', 'greece', 'racks', 'beholder', 'decreased', 'viennois', 'pats', 'poporiented', 'cuteanal', 'daigakuryō'], Correct: False\n",
            "Analogy: athens -> greece :: hanoi -> vietnam | Prediction: ['greece', 'hanoi', 'league', 'stadia', 'applicationsprograms', 'smallthsmall', 'deshmukh', 'sorai', 'multiple', 'administrators'], Correct: False\n",
            "Analogy: athens -> greece :: havana -> cuba | Prediction: ['havana', 'greece', 'poporiented', 'applicationsprograms', 'counterbalanced', 'league', 'deshmukh', 'isolationist', 'věstonice', 'unincorporated'], Correct: False\n",
            "Analogy: athens -> greece :: helsinki -> finland | Prediction: ['helsinki', 'greece', 'league', 'isere', 'juvenile', 'minatti', 'forts', 'itt', 'jamerson', 'socinus'], Correct: False\n",
            "Analogy: athens -> greece :: islamabad -> pakistan | Prediction: ['islamabad', 'greece', 'xv', 'broadbeaked', 'amuryakutsk', 'príncipe', 'league', 'nardo', 'caucasus', 'kazakhstan'], Correct: False\n",
            "Analogy: athens -> greece :: kabul -> afghanistan | Prediction: ['kabul', 'greece', 'soldiers', 'somebody', 'kyrgyzstan', 'seseña', 'meenaxi', 'officially', 'aenictogitoninae', 'millennial'], Correct: False\n",
            "Analogy: athens -> greece :: london -> england | Prediction: ['greece', 'london', 'teasing', 'oghur', 'féin', 'alstom', 'league', 'izu', 'poporiented', 'sauces'], Correct: False\n",
            "Analogy: athens -> greece :: madrid -> spain | Prediction: ['greece', 'madrid', 'league', 'chair', 'counterbalanced', 'dépy', 'avrakotos', 'buckshot', 'lalka', 'barros'], Correct: False\n",
            "Analogy: athens -> greece :: moscow -> russia | Prediction: ['greece', 'moscow', 'league', 'mesolithic', 'shakti', 'glazunovs', 'hornung', 'holder', 'socinus', 'jämtland'], Correct: False\n",
            "Analogy: athens -> greece :: oslo -> norway | Prediction: ['greece', 'oslo', 'wass', 'canberra', 'guyaneamazonie', 'crespo', 'kollek', 'soldiers', 'bolling', 'mareech'], Correct: False\n",
            "Analogy: athens -> greece :: ottawa -> canada | Prediction: ['ottawa', 'greece', 'rishiraj', 'clausura', 'league', 'príncipe', 'canberra', 'orbital', 'teasing', 'degeneres'], Correct: False\n",
            "Analogy: athens -> greece :: paris -> france | Prediction: ['greece', 'paris', 'league', 'perpetua', 'jōkyō', 'đại', 'boulez', 'jämtland', 'licensed', 'príncipe'], Correct: False\n",
            "Analogy: athens -> greece :: rome -> italy | Prediction: ['greece', 'rome', 'boulez', 'league', 'depardieu', 'príncipe', 'vedic', 'nardo', 'egyptians', 'petersburg'], Correct: False\n",
            "Analogy: athens -> greece :: stockholm -> sweden | Prediction: ['stockholm', 'greece', 'teasing', 'bakewell', 'príncipe', 'league', 'boulez', 'shili', 'pats', 'chinese'], Correct: False\n",
            "Analogy: athens -> greece :: tehran -> iran | Prediction: ['greece', 'tehran', 'shakti', 'boulez', 'league', 'sabri', 'nbr', 'moas', 'wass', 'ad'], Correct: False\n",
            "Analogy: athens -> greece :: tokyo -> japan | Prediction: ['greece', 'tokyo', 'league', 'licensed', 'barros', 'applicationsprograms', 'fukuoka', 'shili', 'teasing', 'brachycephaloides'], Correct: False\n",
            "Analogy: baghdad -> iraq :: bangkok -> thailand | Prediction: ['bangkok', 'iraq', 'estavayerlelac', 'autonomic', 'eugie', 'beggingen', 'pharos', 'sunell', 'wess', 'pagans'], Correct: False\n",
            "Analogy: baghdad -> iraq :: beijing -> china | Prediction: ['beijing', 'iraq', 'sinofrench', 'gaimersheim', 'nerwork', 'frates', 'baldrige', 'rakoczy', 'locarno', 'pikes'], Correct: False\n",
            "Analogy: baghdad -> iraq :: berlin -> germany | Prediction: ['berlin', 'iraq', 'neumünster', 'sunell', 'saarland', 'imgur', 'rail', 'semetabaj', 'downloads', 'oltenia'], Correct: False\n",
            "Analogy: baghdad -> iraq :: bern -> switzerland | Prediction: ['bern', 'iraq', 'tenero', 'ticino', 'neuchâtel', 'alpnach', 'sba', 'schaffhausen', 'assamese', 'valais'], Correct: False\n",
            "Analogy: baghdad -> iraq :: cairo -> egypt | Prediction: ['cairo', 'iraq', 'methodius', 'residents', 'weizmann', 'murderers', 'armenia', 'crespo', 'assamese', 'struggled'], Correct: False\n",
            "Analogy: baghdad -> iraq :: canberra -> australia | Prediction: ['canberra', 'iraq', 'pagans', 'gaimersheim', 'althani', 'locarno', 'groesbeek', 'methodius', 'ownedandoperated', 'kutjungka'], Correct: False\n",
            "Analogy: baghdad -> iraq :: hanoi -> vietnam | Prediction: ['hanoi', 'iraq', 'cambodia', 'gaimersheim', 'estavayerlelac', 'bellatrix', 'tactics', 'sorai', 'bülach', 'varamin'], Correct: False\n",
            "Analogy: baghdad -> iraq :: havana -> cuba | Prediction: ['havana', 'iraq', 'downloads', 'aryanization', 'estavayerlelac', 'pagans', 'pharos', 'sinojapanese', 'ruffieu', 'presteahuni'], Correct: False\n",
            "Analogy: baghdad -> iraq :: helsinki -> finland | Prediction: ['helsinki', 'iraq', 'alegrense', 'jamestown', 'glimpses', 'abdication', 'entire', 'brownsville', 'holiest', 'tarija'], Correct: False\n",
            "Analogy: baghdad -> iraq :: islamabad -> pakistan | Prediction: ['islamabad', 'iraq', 'amuryakutsk', 'pharos', 'beverage', 'rail', 'solomonovitch', 'millan', 'khmau', 'sinofrench'], Correct: False\n",
            "Analogy: baghdad -> iraq :: kabul -> afghanistan | Prediction: ['kabul', 'iraq', 'executionstyle', 'pagans', 'seseña', 'estavayerlelac', 'neopilina', 'boughera', 'pharos', 'important—money'], Correct: False\n",
            "Analogy: baghdad -> iraq :: london -> england | Prediction: ['iraq', 'london', 'kutjungka', 'revived', 'rail', 'beverage', 'methodius', 'pharos', 'saarland', 'autonomic'], Correct: False\n",
            "Analogy: baghdad -> iraq :: madrid -> spain | Prediction: ['iraq', 'madrid', 'veitsbronn', 'estavayerlelac', 'bellatrix', 'patio', 'lahore', 'pharos', 'nolberto', 'ammianus'], Correct: False\n",
            "Analogy: baghdad -> iraq :: moscow -> russia | Prediction: ['moscow', 'iraq', 'kutjungka', 'assamese', 'estavayerlelac', 'akinnuoyeagbaje', 'proposing', 'pharos', 'saarland', 'drienok'], Correct: False\n",
            "Analogy: baghdad -> iraq :: oslo -> norway | Prediction: ['oslo', 'iraq', 'veitsbronn', 'pharos', 'estavayerlelac', 'tenero', 'nauru', 'landau', 'locarno', 'ended'], Correct: False\n",
            "Analogy: baghdad -> iraq :: ottawa -> canada | Prediction: ['ottawa', 'iraq', 'pagans', 'gurmukhi', 'inanimate', 'veitsbronn', 'fiancee', 'estavayerlelac', 'montreal', 'aneursym'], Correct: False\n",
            "Analogy: baghdad -> iraq :: paris -> france | Prediction: ['iraq', 'paris', 'bernards', 'rakoczy', 'ecured', 'armenia', 'estavayerlelac', 'tactics', 'birwinken', 'pagans'], Correct: False\n",
            "Analogy: baghdad -> iraq :: rome -> italy | Prediction: ['rome', 'iraq', 'europe', 'pharos', 'methodius', 'armenia', 'pagans', 'knowingly', 'akinnuoyeagbaje', 'alcohol'], Correct: False\n",
            "Analogy: baghdad -> iraq :: stockholm -> sweden | Prediction: ['stockholm', 'iraq', 'estavayerlelac', 'pagans', 'pharos', 'landau', 'värmland', 'germaniranian', 'pikes', 'ownedandoperated'], Correct: False\n",
            "Analogy: baghdad -> iraq :: tehran -> iran | Prediction: ['iraq', 'tehran', 'sunell', 'shizuoka', 'bellatrix', 'gaimersheim', 'font', 'estavayerlelac', 'tenero', 'iran'], Correct: True\n",
            "Analogy: baghdad -> iraq :: tokyo -> japan | Prediction: ['tokyo', 'iraq', 'shizuoka', 'grosvenor', 'hungarians', 'gaimersheim', 'alpnach', 'estavayerlelac', 'landau', 'antitobacco'], Correct: False\n",
            "Analogy: baghdad -> iraq :: athens -> greece | Prediction: ['athens', 'iraq', 'turkey', 'verulam', 'shizuoka', 'montenegro', 'estavayerlelac', 'vlines', 'pharos', 'mercouri'], Correct: False\n",
            "Analogy: bangkok -> thailand :: beijing -> china | Prediction: ['beijing', 'thailand', 'islamabad', 'lamore', 'heavilyoutnumbered', 'chusan', 'previously', 'annexed', 'kong', 'isolationist'], Correct: False\n",
            "Analogy: bangkok -> thailand :: berlin -> germany | Prediction: ['berlin', 'thailand', 'madeline', 'annexed', 'highrise', 'groundwaters', 'cizre', 'neuweg', 'samoa', 'kong'], Correct: False\n",
            "Analogy: bangkok -> thailand :: bern -> switzerland | Prediction: ['bern', 'thailand', 'leicestershire', 'swieten', 'graubünden', 'greeks', 'printmakers', 'rocquigny', 'unbiased', 'disintegrating'], Correct: False\n",
            "Analogy: bangkok -> thailand :: cairo -> egypt | Prediction: ['cairo', 'thailand', 'eritrea', 'islamabad', 'unbiased', 'armenia', 'bce–', 'ffa', 'carles', 'otome'], Correct: False\n",
            "Analogy: bangkok -> thailand :: canberra -> australia | Prediction: ['canberra', 'thailand', 'united', 'southbank', 'azerbaijan', 'islamabad', 'leicestershire', 'lucius', 'jumpman', 'irishamerican'], Correct: False\n",
            "Analogy: bangkok -> thailand :: hanoi -> vietnam | Prediction: ['thailand', 'hanoi', 'bellatrix', 'cambodia', 'financial', 'austriaitaly', 'announcement', 'receiving', 'sicheng', 'dependent'], Correct: False\n",
            "Analogy: bangkok -> thailand :: havana -> cuba | Prediction: ['havana', 'thailand', 'isolationist', 'industrialisation', 'madeline', 'dhaka', 'httpswwwelitedailycomentertainmentjonbellioninterview', 'indus', 'cstation', 'věstonice'], Correct: False\n",
            "Analogy: bangkok -> thailand :: helsinki -> finland | Prediction: ['helsinki', 'thailand', 'objective', 'asbl', 'magga', 'faq', 'islamabad', 'ramiro', 'spinelli', 'bellatrix'], Correct: False\n",
            "Analogy: bangkok -> thailand :: islamabad -> pakistan | Prediction: ['islamabad', 'thailand', 'footprints', 'restrict', 'broadbeaked', 'eritrea', 'unbiased', 'fide', 'indus', 'amuryakutsk'], Correct: False\n",
            "Analogy: bangkok -> thailand :: kabul -> afghanistan | Prediction: ['kabul', 'thailand', 'islamabad', 'mariano', 'fide', 'became', 'blackaf', 'chott', 'kyrgyzstan', 'transgenders’'], Correct: False\n",
            "Analogy: bangkok -> thailand :: london -> england | Prediction: ['thailand', 'london', 'faults', 'kong', 'regulations', 'ffa', 'french', 'vista', 'httpswwwelitedailycomentertainmentjonbellioninterview', 'islamabad'], Correct: False\n",
            "Analogy: bangkok -> thailand :: madrid -> spain | Prediction: ['thailand', 'madrid', 'highrise', 'lamore', 'united', 'ponvannan', 'bellatrix', 'kong', 'duel', 'rare'], Correct: False\n",
            "Analogy: bangkok -> thailand :: moscow -> russia | Prediction: ['thailand', 'moscow', 'leicestershire', 'united', 'highrise', 'httpswwwelitedailycomentertainmentjonbellioninterview', 'mujhey', 'samoa', 'turkey', 'whistled'], Correct: False\n",
            "Analogy: bangkok -> thailand :: oslo -> norway | Prediction: ['thailand', 'oslo', 'adhaim', 'omer', 'fasciculation', 'bellatrix', 'threatre', 'elsa', 'clownish', 'mainly'], Correct: False\n",
            "Analogy: bangkok -> thailand :: ottawa -> canada | Prediction: ['ottawa', 'thailand', 'binghamton', 'united', 'ronstadts', 'previously', 'hauteloire', 'asante', 'ugandan', 'heavilyoutnumbered'], Correct: False\n",
            "Analogy: bangkok -> thailand :: paris -> france | Prediction: ['thailand', 'paris', 'madeline', 'united', 'eritrea', 'kesler', 'highrise', 'heavilyoutnumbered', 'hauteloire', 'majesty'], Correct: False\n",
            "Analogy: bangkok -> thailand :: rome -> italy | Prediction: ['thailand', 'rome', 'priest', 'armenia', 'aryan', 'bryansk', 'vespasians', 'annexed', 'threatre', 'bce–'], Correct: False\n",
            "Analogy: bangkok -> thailand :: stockholm -> sweden | Prediction: ['thailand', 'stockholm', 'united', 'dependent', 'islamabad', 'militant', 'eritrea', 'confederate', 'princip', 'bakewell'], Correct: False\n",
            "Analogy: bangkok -> thailand :: tehran -> iran | Prediction: ['thailand', 'tehran', 'annexed', 'bellatrix', 'lamore', 'chusan', 'jpl', 'paulaner', 'albelin', 'carles'], Correct: False\n",
            "Analogy: bangkok -> thailand :: tokyo -> japan | Prediction: ['thailand', 'tokyo', 'administrative', 'acronis', 'darawiish', 'daniele', 'blackaf', 'southbank', 'bernois', 'previously'], Correct: False\n",
            "Analogy: bangkok -> thailand :: athens -> greece | Prediction: ['thailand', 'athens', 'turkey', 'acronis', 'pagnell', 'schnell', 'netherlands', 'ramiro', 'cyprus', 'commodity'], Correct: False\n",
            "Analogy: bangkok -> thailand :: baghdad -> iraq | Prediction: ['baghdad', 'thailand', 'pig', 'aoun', 'alsadr', 'rosenau', 'pluralistic', 'establishing', 'matsu', 'langatte'], Correct: False\n",
            "Analogy: beijing -> china :: berlin -> germany | Prediction: ['berlin', 'china', 'neumünster', 'nuremberg', 'lyriker', 'drüwa', 'captivated', 'borneo', 'chichester', 'sellières'], Correct: False\n",
            "Analogy: beijing -> china :: bern -> switzerland | Prediction: ['bern', 'china', 'valais', 'ticino', 'sodankylä', 'euroleague', 'lyriker', 'bey', 'australis', 'gymnast'], Correct: False\n",
            "Analogy: beijing -> china :: cairo -> egypt | Prediction: ['cairo', 'china', 'ganglia', 'temple', 'gland', 'pontiffs', 'jános', 'ihor', 'readers', 'hayato'], Correct: False\n",
            "Analogy: beijing -> china :: canberra -> australia | Prediction: ['canberra', 'china', 'estimation', 'mâcon', 'rewritten', 'ratchasima', 'composers', 'lissack', 'butana', 'kaesong'], Correct: False\n",
            "Analogy: beijing -> china :: hanoi -> vietnam | Prediction: ['hanoi', 'china', 'cambodia', 'mansized', 'conflicts', 'lyriker', 'sirte', 'butana', 'ryōko', 'vysočina'], Correct: False\n",
            "Analogy: beijing -> china :: havana -> cuba | Prediction: ['havana', 'china', 'aromas', 'wealthiest', 'punjabi', 'shenandoah', 'horrorcoremidwest', 'reason', 'a’tong', 'medewi'], Correct: False\n",
            "Analogy: beijing -> china :: helsinki -> finland | Prediction: ['helsinki', 'china', 'mâcon', 'lissack', 'superpermutations', 'bonar', 'atuan', 'obelisk', 'mormons', 'founders'], Correct: False\n",
            "Analogy: beijing -> china :: islamabad -> pakistan | Prediction: ['islamabad', 'china', 'jupiters', 'lyriker', 'saintclaude', 'tyches', 'migrant', 'conflicts', 'dyrrhachium', 'givings'], Correct: False\n",
            "Analogy: beijing -> china :: kabul -> afghanistan | Prediction: ['kabul', 'china', 'orlandi', 'kneel', 'ljube', 'colorants', 'foreign', 'marxistleninist', 'saintclaude', 'transfermarktat'], Correct: False\n",
            "Analogy: beijing -> china :: london -> england | Prediction: ['london', 'china', 'islington', 'vista', 'catchphrase', 'suspense', 'vysočina', 'ganglia', 'तू', 'zanjan'], Correct: False\n",
            "Analogy: beijing -> china :: madrid -> spain | Prediction: ['china', 'madrid', 'lyriker', 'butana', 'campsie', 'usable', 'энциклопедия', 'hyaenas', 'vysočina', 'violist'], Correct: False\n",
            "Analogy: beijing -> china :: moscow -> russia | Prediction: ['moscow', 'china', 'moab', 'zanjan', 'sodankylä', 'hb', 'lyriker', 'monuments', 'beege', 'composers'], Correct: False\n",
            "Analogy: beijing -> china :: oslo -> norway | Prediction: ['oslo', 'china', 'ganglia', 'vertebral', 'butana', 'rub', 'livy', 'bloeme', 'brabant', 'dartford'], Correct: False\n",
            "Analogy: beijing -> china :: ottawa -> canada | Prediction: ['ottawa', 'china', 'bivio', 'piketon', 'iași', 'arnulf', 'termites', 'энциклопедия', 'morozov', 'fordham'], Correct: False\n",
            "Analogy: beijing -> china :: paris -> france | Prediction: ['china', 'paris', 'borneo', 'lyriker', 'shusuke', 'culiat', 'gros', 'masovian', 'saintclaude', 'exploratorium'], Correct: False\n",
            "Analogy: beijing -> china :: rome -> italy | Prediction: ['rome', 'china', 'ganglia', 'babylon', 'lyriker', 'crouttessurmarne', 'normans', 'mari', 'titus', 'scirea'], Correct: False\n",
            "Analogy: beijing -> china :: stockholm -> sweden | Prediction: ['stockholm', 'china', 'vysočina', 'piedmont', 'westbrook', 'greasy', 'scarlett', 'herrnstein', 'mesonychids', 'deductive'], Correct: False\n",
            "Analogy: beijing -> china :: tehran -> iran | Prediction: ['tehran', 'china', 'sodankylä', 'icefree', 'ganglia', 'borneo', 'shusuke', 'iași', 'lyriker', 'kaliningrad'], Correct: False\n",
            "Analogy: beijing -> china :: tokyo -> japan | Prediction: ['tokyo', 'china', 'shizuoka', 'icefree', 'bivio', 'ypané', 'increasingly', 'kumamoto', 'carnosaurs', 'hayato'], Correct: False\n",
            "Analogy: beijing -> china :: athens -> greece | Prediction: ['athens', 'china', 'garlic', 'sodankylä', 'shizuoka', 'arciferal', 'hublak', 'coronial', 'वल्ली', 'alices'], Correct: False\n",
            "Analogy: beijing -> china :: baghdad -> iraq | Prediction: ['baghdad', 'china', 'górne', 'ihor', 'rats', 'valenty', 'icefree', 'mari', 'edelin', 'dordogne'], Correct: False\n",
            "Analogy: beijing -> china :: bangkok -> thailand | Prediction: ['bangkok', 'china', 'scarlett', 'hasyasamrat', 'airdrie', 'bat', 'emancipation', 'sagal', 'ganglia', 'arpa'], Correct: False\n",
            "Analogy: berlin -> germany :: bern -> switzerland | Prediction: ['bern', 'germany', 'मराठी', 'lover', 'documentos', 'saintfiel', 'mustelinae', 'conjectandi', 'ticino', 'neuchâtel'], Correct: False\n",
            "Analogy: berlin -> germany :: cairo -> egypt | Prediction: ['cairo', 'germany', 'saintfiel', 'atreus', 'poinsettia', 'merito', 'taluks', '楽斗', 'rotweiß', 'leibniz'], Correct: False\n",
            "Analogy: berlin -> germany :: canberra -> australia | Prediction: ['canberra', 'germany', 'northwoods', 'nantucket', 'lancers', 'olympiad', 'cupchampions', 'chaco', 'marusan', 'ccm'], Correct: False\n",
            "Analogy: berlin -> germany :: hanoi -> vietnam | Prediction: ['hanoi', 'germany', 'cambodia', 'telstra', 'carly', 'carretera', 'philippines', 'surrounds', 'слова’', 'varamin'], Correct: False\n",
            "Analogy: berlin -> germany :: havana -> cuba | Prediction: ['havana', 'germany', 'compassion', 'gooding', 'hanamiwalkerpluscom', 'poporiented', 'worsening', 'stied', 'coldwater', 'reason'], Correct: False\n",
            "Analogy: berlin -> germany :: helsinki -> finland | Prediction: ['helsinki', 'germany', 'burke', 'leibniz', '聖闘士星矢', 'borgo', 'rulership', 'jamerson', 'buffalos', 'draw'], Correct: False\n",
            "Analogy: berlin -> germany :: islamabad -> pakistan | Prediction: ['islamabad', 'germany', 'alerts', 'qadiriyya', 'migrant', 'ouest', 'desegregate', 'fermanagh', 'xonaşen', 'sikkim'], Correct: False\n",
            "Analogy: berlin -> germany :: kabul -> afghanistan | Prediction: ['kabul', 'germany', 'saintfiel', 'xonaşen', 'pran', 'trophe', 'documentos', 'imf', 'elections', 'chott'], Correct: False\n",
            "Analogy: berlin -> germany :: london -> england | Prediction: ['london', 'germany', 'philippines', 'chaco', 'lanzenkirchen', 'farkas', 'forming', 'hindiurdu', 'airdisaster', 'faboideae'], Correct: False\n",
            "Analogy: berlin -> germany :: madrid -> spain | Prediction: ['madrid', 'germany', 'boolie', 'carly', 'godoy', 'arguelles', 'husn', 'nuptown', 'donau', 'aatos'], Correct: False\n",
            "Analogy: berlin -> germany :: moscow -> russia | Prediction: ['moscow', 'germany', 'boolie', 'слова’', 'dio', 'surrounds', 'amok', 'erik', 'rowspanventforet', 'srireghunathan'], Correct: False\n",
            "Analogy: berlin -> germany :: oslo -> norway | Prediction: ['oslo', 'germany', 'hindiurdu', 'documentos', 'mir', 'stabbing', 'giro', 'forfour', 'bāt', 'pouch'], Correct: False\n",
            "Analogy: berlin -> germany :: ottawa -> canada | Prediction: ['ottawa', 'germany', 'boolie', 'pooh', 'northwoods', 'oxfordshire', 'toronto', 'montreal', 'acetabulosa', 'lockout'], Correct: False\n",
            "Analogy: berlin -> germany :: paris -> france | Prediction: ['paris', 'germany', 'boolie', 'warmington', 'larch', '聖闘士星矢', 'solange', 'ardon', 'perpetua', 'saintfiel'], Correct: False\n",
            "Analogy: berlin -> germany :: rome -> italy | Prediction: ['rome', 'germany', 'boolie', 'amok', 'priest', 'leonidovich', 'leibniz', 'genoa', 'biz', 'atreus'], Correct: False\n",
            "Analogy: berlin -> germany :: stockholm -> sweden | Prediction: ['stockholm', 'germany', 'shopping', 'modus', 'genoa', 'leibniz', 'yiannakis', 'nuptown', 'halmstad', 'unquestioned'], Correct: False\n",
            "Analogy: berlin -> germany :: tehran -> iran | Prediction: ['tehran', 'germany', 'autumnal', 'edith', 'vasekatro', 'hippo', 'potico', 'arguelles', 'prabhu', 'modibo'], Correct: False\n",
            "Analogy: berlin -> germany :: tokyo -> japan | Prediction: ['tokyo', 'germany', 'carly', 'taras', 'aceae', 'zinzin', 'philippines', 'eisch', 'fictionaction', 'prasad'], Correct: False\n",
            "Analogy: berlin -> germany :: athens -> greece | Prediction: ['athens', 'germany', 'compassion', 'dio', 'atreus', 'collectors', 'rowspanventforet', 'boolie', 'cyprus', 'saintfiel'], Correct: False\n",
            "Analogy: berlin -> germany :: baghdad -> iraq | Prediction: ['baghdad', 'germany', 'совета', 'bongos', 'prabhu', 'formative', 'huns', 'matsu', '’dhat', 'sopra'], Correct: False\n",
            "Analogy: berlin -> germany :: bangkok -> thailand | Prediction: ['bangkok', 'germany', 'illinois', 'saintfiel', 'ichihararowspanj', 'prabhu', 'warmington', 'kolubara', 'infanta', 'crudup'], Correct: False\n",
            "Analogy: berlin -> germany :: beijing -> china | Prediction: ['beijing', 'germany', 'krautrock', 'modibo', 'savarkar', 'genoa', 'hindiurdu', 'xonaşen', 'mojtech', 'bāt'], Correct: False\n",
            "Analogy: bern -> switzerland :: cairo -> egypt | Prediction: ['cairo', 'switzerland', 'chapois', 'durable', 'mura', 'meselha', 'thatroulettecom', 'kiilu', 'grieg', 'quarashi'], Correct: False\n",
            "Analogy: bern -> switzerland :: canberra -> australia | Prediction: ['canberra', 'switzerland', 'locarno', 'mura', 'sadhwani', 'humbert', 'nishikori', 'mauriac', 'lemons', 'paraguarí'], Correct: False\n",
            "Analogy: bern -> switzerland :: hanoi -> vietnam | Prediction: ['hanoi', 'switzerland', 'oman', 'lasts', 'ruislip', 'teutonic', 'परत', 'ossetia–alania', 'methodist', 'tus'], Correct: False\n",
            "Analogy: bern -> switzerland :: havana -> cuba | Prediction: ['havana', 'switzerland', 'passengers', 'addie', 'meléndez', 'ichiharaj', 'ruislip', 'sahni', 'hams', 'fare'], Correct: False\n",
            "Analogy: bern -> switzerland :: helsinki -> finland | Prediction: ['helsinki', 'switzerland', 'cadoxton', 'tattooed', 'symmetrical', 'argentina', 'durable', 'mondale', 'kidshealthorg', 'tovuz'], Correct: False\n",
            "Analogy: bern -> switzerland :: islamabad -> pakistan | Prediction: ['islamabad', 'switzerland', 'nishikori', 'civilians', 'kidshealthorg', 'amuryakutsk', 'alsadr', 'goaltenders', 'migrant', 'lebanon'], Correct: False\n",
            "Analogy: bern -> switzerland :: kabul -> afghanistan | Prediction: ['kabul', 'switzerland', 'civilians', 'wounding', 'pereira', 'mehboba', 'capability', 'argentina', 'lasts', 'durable'], Correct: False\n",
            "Analogy: bern -> switzerland :: london -> england | Prediction: ['switzerland', 'london', 'tram', 'ruislip', 'addo', 'meselha', 'chale', 'quesnoy', 'southwark', 'kia'], Correct: False\n",
            "Analogy: bern -> switzerland :: madrid -> spain | Prediction: ['switzerland', 'madrid', 'durable', 'brazilian', 'commenchon', 'teen', 'krušné', 'civilians', 'françoisjoseph', 'argentina'], Correct: False\n",
            "Analogy: bern -> switzerland :: moscow -> russia | Prediction: ['moscow', 'switzerland', 'salomon', 'argentina', 'belle', 'ahuactzin', 'addo', 'lasts', 'chale', 'khuzestan'], Correct: False\n",
            "Analogy: bern -> switzerland :: oslo -> norway | Prediction: ['oslo', 'switzerland', 'addo', 'iltgen', 'deprived', 'ahuactzin', 'durable', 'yosam', 'krušné', 'commenchon'], Correct: False\n",
            "Analogy: bern -> switzerland :: ottawa -> canada | Prediction: ['ottawa', 'switzerland', 'durable', 'belle', 'argentina', 'federated', 'yuan', 'binghamton', 'steinman', 'cor'], Correct: False\n",
            "Analogy: bern -> switzerland :: paris -> france | Prediction: ['switzerland', 'paris', 'durable', 'tus', 'date', 'sclerosis', 'yuan', 'saintchristophe', 'cardesse', 'saucer'], Correct: False\n",
            "Analogy: bern -> switzerland :: rome -> italy | Prediction: ['switzerland', 'rome', 'sadhwani', 'khuzestan', 'परत', 'yuan', 'tovuz', 'japan', 'succeeds', 'argentina'], Correct: False\n",
            "Analogy: bern -> switzerland :: stockholm -> sweden | Prediction: ['stockholm', 'switzerland', 'addo', 'yuan', 'accident', 'municipalities', 'meléndez', 'tæt', 'greasy', 'polk'], Correct: False\n",
            "Analogy: bern -> switzerland :: tehran -> iran | Prediction: ['tehran', 'switzerland', 'durable', 'brazilian', 'pereira', 'sadhwani', 'yh', 'okamoto', 'fc', 'oman'], Correct: False\n",
            "Analogy: bern -> switzerland :: tokyo -> japan | Prediction: ['switzerland', 'tokyo', 'tonnes', 'aichi', 'durable', 'alhasani', 'he’ll', 'japan', 'octuple', 'lunatus'], Correct: True\n",
            "Analogy: bern -> switzerland :: athens -> greece | Prediction: ['athens', 'switzerland', 'tonnes', 'cornell', 'turkey', 'durable', 'succeeds', 'humbert', 'fontainesaintmartin', 'fertilizers'], Correct: False\n",
            "Analogy: bern -> switzerland :: baghdad -> iraq | Prediction: ['baghdad', 'switzerland', 'teutonic', 'alsadr', 'handgrenades', 'arrigo', 'pereira', 'judicial—the', 'islesbardel', 'öffentlichrechtlichen'], Correct: False\n",
            "Analogy: bern -> switzerland :: bangkok -> thailand | Prediction: ['bangkok', 'switzerland', 'durable', 'teen', 'thatroulettecom', 'quesnoy', 'arrhenius', 'skipworth', 'cor', 'fey'], Correct: False\n",
            "Analogy: bern -> switzerland :: beijing -> china | Prediction: ['beijing', 'switzerland', 'addo', 'yuan', 'civilians', 'schemes', 'oman', 'zlatko', 'gangraped', 'cardesse'], Correct: False\n",
            "Analogy: bern -> switzerland :: berlin -> germany | Prediction: ['berlin', 'switzerland', 'neumünster', 'lasts', 'addo', 'nuremberg', 'kidshealthorg', 'teen', 'sen', 'ruislip'], Correct: False\n",
            "Analogy: cairo -> egypt :: canberra -> australia | Prediction: ['canberra', 'egypt', 'ert', 'aer', 'oyo', 'dykstra', 'delicate', 'ccm', 'seville', 'technologyrelated'], Correct: False\n",
            "Analogy: cairo -> egypt :: hanoi -> vietnam | Prediction: ['hanoi', 'egypt', 'ilham', 'hainaut', 'oyo', 'cambodia', 'bc—pangeng', 'orions', 'torch', 'duration'], Correct: False\n",
            "Analogy: cairo -> egypt :: havana -> cuba | Prediction: ['havana', 'egypt', 'hainaut', 'conilhacdelamontagne', 'headmaster', 'reminders', 'avars', 'reason', 'schuster', 'cristina'], Correct: False\n",
            "Analogy: cairo -> egypt :: helsinki -> finland | Prediction: ['helsinki', 'egypt', 'oyo', 'selfharm', 'plasticity', 'trips', 'altituderando', 'holder', 'tribed', 'soubrebost'], Correct: False\n",
            "Analogy: cairo -> egypt :: islamabad -> pakistan | Prediction: ['islamabad', 'egypt', 'desegregate', 'serruria', 'selfdeclared', 'mechelen', 'technologyrelated', 'tonepoems', 'selten', 'kalmar'], Correct: False\n",
            "Analogy: cairo -> egypt :: kabul -> afghanistan | Prediction: ['kabul', 'egypt', 'alternatively', 'inflation', 'khatmenabuwat', 'wounding', 'hooft', 'headmaster', 'ridgefield', 'stewed'], Correct: False\n",
            "Analogy: cairo -> egypt :: london -> england | Prediction: ['egypt', 'london', 'paradox', 'theodor', 'michaëlle', 'french', 'tram', 'italian', 'sawn', 'cui'], Correct: False\n",
            "Analogy: cairo -> egypt :: madrid -> spain | Prediction: ['egypt', 'madrid', 'godunov', 'argentine', 'josephus', 'parashkevov', 'chechen', 'fmp', 'stabbed', 'njomë'], Correct: False\n",
            "Analogy: cairo -> egypt :: moscow -> russia | Prediction: ['moscow', 'egypt', 'holder', 'hainaut', 'conventionally', 'dykstra', 'italian', 'shostakov', 'oyo', 'torch'], Correct: False\n",
            "Analogy: cairo -> egypt :: oslo -> norway | Prediction: ['oslo', 'egypt', 'exercise', 'technologyrelated', 'kōi', 'amphisbaenians', 'oyo', 'arakanese', 'tire', 'liguria'], Correct: False\n",
            "Analogy: cairo -> egypt :: ottawa -> canada | Prediction: ['ottawa', 'egypt', 'ert', 'tucson', 'ronstadts', 'mumbai', 'falsely', 'wwwf', 'morpheus', 'cayley'], Correct: False\n",
            "Analogy: cairo -> egypt :: paris -> france | Prediction: ['egypt', 'paris', 'darius', 'booting', 'ashingdon', 'styles', 'bhaduri', 'michaëlle', 'franceempire', 'italian'], Correct: False\n",
            "Analogy: cairo -> egypt :: rome -> italy | Prediction: ['rome', 'egypt', 'mahoney', 'romans', 'kalhasti', 'torch', 'oyo', 'foreigners', 'lindig', 'holy'], Correct: False\n",
            "Analogy: cairo -> egypt :: stockholm -> sweden | Prediction: ['stockholm', 'egypt', 'uppsala', 'värmland', 'vorarlberg', 'kalmar', 'delicate', 'handball', 'valdarno', 'örnsköldsvik'], Correct: False\n",
            "Analogy: cairo -> egypt :: tehran -> iran | Prediction: ['tehran', 'egypt', 'tucson', 'theodor', 'diliman', 'vip', 'technologyrelated', 'barn', 'uts', 'selfdeclared'], Correct: False\n",
            "Analogy: cairo -> egypt :: tokyo -> japan | Prediction: ['tokyo', 'egypt', 'ashingdon', 'telok', 'valdarno', 'inuits', 'mbara', 'alternatively', 'subspecies', 'département'], Correct: False\n",
            "Analogy: cairo -> egypt :: athens -> greece | Prediction: ['athens', 'egypt', 'oxycodone', 'cassius', 'verdun', 'oyo', 'vampirewithasoul', 'decolonizing', 'extraordinary', 'kōi'], Correct: False\n",
            "Analogy: cairo -> egypt :: baghdad -> iraq | Prediction: ['baghdad', 'egypt', 'islamic', 'muslim', 'arguably', 'darius', 'sawn', '“suburban', 'fritzens', 'dolomite'], Correct: False\n",
            "Analogy: cairo -> egypt :: bangkok -> thailand | Prediction: ['bangkok', 'egypt', 'states', 'leopoldo', 'baronetage', 'monford', 'manual', 'secured', 'county', 'nawabi'], Correct: False\n",
            "Analogy: cairo -> egypt :: beijing -> china | Prediction: ['egypt', 'beijing', 'inflation', 'portability', 'dirigible', 'morpheus', 'exercise', 'bicameral', 'ridgefield', 'kanisah'], Correct: False\n",
            "Analogy: cairo -> egypt :: berlin -> germany | Prediction: ['berlin', 'egypt', 'nuremberg', 'hainaut', 'bahru–singapore', 'selfdeclared', 'cui', 'oyo', 'valdarno', 'nutt'], Correct: False\n",
            "Analogy: cairo -> egypt :: bern -> switzerland | Prediction: ['bern', 'egypt', 'valais', 'graubünden', 'isorno', 'oyo', 'ticino', 'alamein', 'soubrebost', 'plasticity'], Correct: False\n",
            "Analogy: canberra -> australia :: hanoi -> vietnam | Prediction: ['hanoi', 'australia', 'inscribed', 'cambodia', 'marchino', 'haploid', 'ruthless', 'russia', 'meinertzhageni', 'barajevo'], Correct: False\n",
            "Analogy: canberra -> australia :: havana -> cuba | Prediction: ['havana', 'australia', 'reason', 'coils', 'ноч', 'lake', 'booths', 'approaching', 'junejo', 'palta'], Correct: False\n",
            "Analogy: canberra -> australia :: helsinki -> finland | Prediction: ['helsinki', 'australia', 'meinertzhageni', 'maturation', 'skimmer', 'pirkot', 'montagnalereconduit', 'organosulfur', 'assenoncourt', 'squeezing'], Correct: False\n",
            "Analogy: canberra -> australia :: islamabad -> pakistan | Prediction: ['islamabad', 'australia', 'pirkot', 'maclachlan', 'ricky', 'lake', 'orca', 'millan', 'genuine', 'sindansu'], Correct: False\n",
            "Analogy: canberra -> australia :: kabul -> afghanistan | Prediction: ['kabul', 'australia', 'skimmer', 'supernova', 'organosulfur', 'dench', 'susann', 'arkin', 'meinertzhageni', 'singh'], Correct: False\n",
            "Analogy: canberra -> australia :: london -> england | Prediction: ['australia', 'london', 'murrin', 'java', 'barajevo', 'australian', 'permanent', 'freeman', 'futurians', 'netmedia'], Correct: False\n",
            "Analogy: canberra -> australia :: madrid -> spain | Prediction: ['madrid', 'australia', 'meinertzhageni', 'quaking', 'ophthalmologist', 'trigun', 'arndorf', 'sindansu', 'ferdinandi', 'ransdorf'], Correct: False\n",
            "Analogy: canberra -> australia :: moscow -> russia | Prediction: ['moscow', 'australia', 'lászló', 'zahidi', 'azriel', 'lichtenwörth', 'world', 'junejo', 'neusaß', 'višňovský'], Correct: False\n",
            "Analogy: canberra -> australia :: oslo -> norway | Prediction: ['oslo', 'australia', 'broughton', 'giuseppe', 'authenticate', 'officiating', 'feichtenbach', 'jazib', 'february', 'kangas'], Correct: False\n",
            "Analogy: canberra -> australia :: ottawa -> canada | Prediction: ['ottawa', 'australia', 'lungt', 'bornstedt', 'yaoundé', 'sindansu', 'montreal', 'venegas', 'pharma', 'falsely'], Correct: False\n",
            "Analogy: canberra -> australia :: paris -> france | Prediction: ['paris', 'australia', 'trigun', 'barajevo', 'mandan', 'sherei', 'yarn', 'marchino', 'haploid', 'wingtip'], Correct: False\n",
            "Analogy: canberra -> australia :: rome -> italy | Prediction: ['rome', 'australia', 'nagardaha', 'meinertzhageni', 'asylmuratova', 'ecole', 'reorganize', 'mandan', 'segment', 'crusade'], Correct: False\n",
            "Analogy: canberra -> australia :: stockholm -> sweden | Prediction: ['stockholm', 'australia', 'lichtenwörth', 'java', 'beerwah', 'unload', 'summary', 'bugloss', 'quiero', 'pyrénéesatlantiques'], Correct: False\n",
            "Analogy: canberra -> australia :: tehran -> iran | Prediction: ['tehran', 'australia', 'meinertzhageni', 'widefield', 'quiero', 'maturation', 'muher', 'buckup', 'httpseuropeanmastersathleticsorgresultshtml', 'junejo'], Correct: False\n",
            "Analogy: canberra -> australia :: tokyo -> japan | Prediction: ['tokyo', 'australia', 'montagnalereconduit', 'artnouveau', 'cosmo', 'moshe', 'pirkot', 'trigun', 'grosvenor', 'buinfig'], Correct: False\n",
            "Analogy: canberra -> australia :: athens -> greece | Prediction: ['athens', 'australia', 'segment', 'borsieri', 'turkey', 'meinertzhageni', 'scilab', 'creepy', 'ноч', 'toolkit'], Correct: False\n",
            "Analogy: canberra -> australia :: baghdad -> iraq | Prediction: ['baghdad', 'australia', 'barajevo', 'višňovský', 'muni', 'nagardaha', 'hoy', 'courboin', 'montagnalereconduit', 'ankylosaurids'], Correct: False\n",
            "Analogy: canberra -> australia :: bangkok -> thailand | Prediction: ['bangkok', 'australia', 'artnouveau', 'meinertzhageni', 'montagnalereconduit', 'saintsimeux', 'barclay', 'quiero', 'bowler', 'recanoz'], Correct: False\n",
            "Analogy: canberra -> australia :: beijing -> china | Prediction: ['beijing', 'australia', 'lillehammer', 'meinertzhageni', 'dandy', 'skimmer', 'quiero', 'videregående', 'motel', 'fleaswallow'], Correct: False\n",
            "Analogy: canberra -> australia :: berlin -> germany | Prediction: ['berlin', 'australia', 'sophie', 'nuremberg', 'transformed', 'oed', 'neumünster', 'deuce', 'arndorf', 'trigun'], Correct: False\n",
            "Analogy: canberra -> australia :: bern -> switzerland | Prediction: ['bern', 'australia', 'ticino', 'meinertzhageni', 'sunglasses', 'ноч', 'lorraine', 'honours', 'wight', 'saintsimeux'], Correct: False\n",
            "Analogy: canberra -> australia :: cairo -> egypt | Prediction: ['cairo', 'australia', 'thommer', 'barajevo', 'meinertzhageni', 'java', 'saadat', 'कहाणी', 'comments', 'poyle'], Correct: False\n",
            "Analogy: hanoi -> vietnam :: havana -> cuba | Prediction: ['vietnam', 'havana', 'korean', 'criminal', 'plinys', 'costars', 'führer', 'waterways', 'columnists', 'korea'], Correct: False\n",
            "Analogy: hanoi -> vietnam :: helsinki -> finland | Prediction: ['helsinki', 'vietnam', 'costars', 'uncovers', 'bogie', 'chechen', 'field', 'synchronously', 'potomac', 'toya'], Correct: False\n",
            "Analogy: hanoi -> vietnam :: islamabad -> pakistan | Prediction: ['islamabad', 'vietnam', 'korean', 'balkan', 'pattan', 'fond', 'haram', 'unclaimed', 'meteorology', 'migrant'], Correct: False\n",
            "Analogy: hanoi -> vietnam :: kabul -> afghanistan | Prediction: ['kabul', 'vietnam', 'korean', 'mehboba', 'civil', 'drsubramania', 'korea', 'bcp', 'decision', 'criminal'], Correct: False\n",
            "Analogy: hanoi -> vietnam :: london -> england | Prediction: ['vietnam', 'london', 'korean', 'korea', 'srinivasa', 'carolina', 'transom', 'adewale', 'bécheresse', 'longitude'], Correct: False\n",
            "Analogy: hanoi -> vietnam :: madrid -> spain | Prediction: ['vietnam', 'madrid', 'korean', 'mannheim', 'vietnameseborn', 'privatized', 'srinivasa', 'johnsonjeff', 'stromberg', 'josephus'], Correct: False\n",
            "Analogy: hanoi -> vietnam :: moscow -> russia | Prediction: ['vietnam', 'moscow', 'world', 'korean', 'adewale', 'nerothe', 'korea', 'koh', 'pokora', 'nahl'], Correct: False\n",
            "Analogy: hanoi -> vietnam :: oslo -> norway | Prediction: ['oslo', 'vietnam', 'korean', 'mannheim', 'carolina', 'korea', 'stabbing', 'regard', 'mandela', 'diaghilevs'], Correct: False\n",
            "Analogy: hanoi -> vietnam :: ottawa -> canada | Prediction: ['ottawa', 'vietnam', 'narth', 'privatized', 'falsely', 'carolina', 'gurmukhi', 'sapiens', 'coverages', 'korean'], Correct: False\n",
            "Analogy: hanoi -> vietnam :: paris -> france | Prediction: ['vietnam', 'paris', 'korean', 'puthod', 'mannheim', 'stromberg', 'vatter', 'dromaeosaur', 'vietnameseborn', 'korea'], Correct: False\n",
            "Analogy: hanoi -> vietnam :: rome -> italy | Prediction: ['rome', 'vietnam', 'korean', 'titus', 'normans', 'mannheim', 'nerothe', 'yadkin', 'balkan', 'persecute'], Correct: False\n",
            "Analogy: hanoi -> vietnam :: stockholm -> sweden | Prediction: ['stockholm', 'vietnam', 'unquestioned', 'rudi', 'korean', 'serge', 'haram', 'uncovers', 'jacobsson', 'chinese'], Correct: False\n",
            "Analogy: hanoi -> vietnam :: tehran -> iran | Prediction: ['vietnam', 'tehran', 'korean', 'toya', 'keinan', 'damien', 'korea', 'haram', 'isouljaboytellem', 'wörthersee'], Correct: False\n",
            "Analogy: hanoi -> vietnam :: tokyo -> japan | Prediction: ['tokyo', 'vietnam', 'korea', 'korean', 'adewale', 'statute', 'usono', 'rius', 'mahallas', 'kumamoto'], Correct: False\n",
            "Analogy: hanoi -> vietnam :: athens -> greece | Prediction: ['athens', 'vietnam', 'korea', 'korean', 'miltiades', 'bcp', 'cassius', 'braunschweig', 'turkey', 'keinan'], Correct: False\n",
            "Analogy: hanoi -> vietnam :: baghdad -> iraq | Prediction: ['baghdad', 'vietnam', 'korean', 'korea', 'emperor', 'evolutions', 'maxillae', 'johnsonjeff', 'kambiz', 'preservative'], Correct: False\n",
            "Analogy: hanoi -> vietnam :: bangkok -> thailand | Prediction: ['bangkok', 'vietnam', 'korean', 'korea', 'lowercase', 'crudup', 'rius', 'bellange', 'musso', 'quits'], Correct: False\n",
            "Analogy: hanoi -> vietnam :: beijing -> china | Prediction: ['vietnam', 'beijing', 'korean', 'korea', 'evolutions', 'vietnameseborn', 'amendment', '具体重新上映时间另行通知', 'yoho', 'haram'], Correct: False\n",
            "Analogy: hanoi -> vietnam :: berlin -> germany | Prediction: ['berlin', 'vietnam', 'korean', 'johnsonjeff', 'oclc', 'onehour', 'mannheim', 'kaghan', 'killing', 'campswindows'], Correct: False\n",
            "Analogy: hanoi -> vietnam :: bern -> switzerland | Prediction: ['bern', 'vietnam', 'korean', 'ticino', 'berne', 'civil', 'preservative', 'gulnazar', 'osmanthus', 'diaghilevs'], Correct: False\n",
            "Analogy: hanoi -> vietnam :: cairo -> egypt | Prediction: ['cairo', 'vietnam', 'korean', 'cabinet', 'startup', 'keinan', 'saintfiel', 'korea', 'box', 'putins'], Correct: False\n",
            "Analogy: hanoi -> vietnam :: canberra -> australia | Prediction: ['canberra', 'vietnam', 'korean', 'korea', 'katwijk', 'balgo', 'carolina', 'dryness', 'seville', 'decade'], Correct: False\n",
            "Analogy: havana -> cuba :: helsinki -> finland | Prediction: ['helsinki', 'cuba', 'unterallgäu', 'eagles', 'kerrigan', 'supplementary', 'mcclung', 'deadliest', 'scandals', 'canopus'], Correct: False\n",
            "Analogy: havana -> cuba :: islamabad -> pakistan | Prediction: ['islamabad', 'cuba', 'kazakhstan', 'wards', 'doorway', 'rainforest', 'englishoccupied', '“less', 'halted', 'pierreantoine'], Correct: False\n",
            "Total tasks skipped due to missing words: 0\n",
            "Analogy task accuracy: 0.0100\n"
          ]
        }
      ]
    },
    {
      "cell_type": "markdown",
      "metadata": {
        "id": "_rP0Vw7ZW_Ex"
      },
      "source": [
        "Our model can do much better! In the \"Let's experiment\" part we will try to improve this model. Also depending on your GPU accesibility you can train for more epochs and data (making trim_dataset bigger in cell #3)."
      ]
    },
    {
      "cell_type": "markdown",
      "metadata": {
        "id": "LpVIN3nvP7pE"
      },
      "source": [
        "TSNE can be a very helpful and cool visualization method of our vectors, this way we can clearly see the relationship between different words (maybe even find some clusters!). Let's implement this visualization."
      ]
    },
    {
      "cell_type": "code",
      "source": [
        "import pandas as pd\n",
        "import torch\n",
        "import numpy as np\n",
        "from sklearn.manifold import TSNE\n",
        "import plotly.graph_objects as go\n",
        "\n",
        "# Step 1: Load the analogy dataset\n",
        "analogy_df = pd.read_csv('TestSet_sample.csv')\n",
        "\n",
        "# Step 2: Extract words by category\n",
        "family_words = set(analogy_df[analogy_df['category'] == 'family'][['word_one', 'word_two', 'word_three', 'word_four']].values.flatten())\n",
        "capital_words = set(analogy_df[analogy_df['category'] == 'capital-common-countries'][['word_one', 'word_two', 'word_three', 'word_four']].values.flatten())\n",
        "\n",
        "# Normalize words to lowercase to avoid mismatches\n",
        "family_words = [word.lower() for word in family_words if word.lower() in word_to_index]\n",
        "capital_words = [word.lower() for word in capital_words if word.lower() in word_to_index]\n",
        "\n",
        "# Debugging: Print unmatched words\n",
        "unmatched_family = [word for word in family_words if word not in word_to_index]\n",
        "unmatched_capital = [word for word in capital_words if word not in word_to_index]\n",
        "\n",
        "print(f\"Unmatched family words: {unmatched_family}\")\n",
        "print(f\"Unmatched capital words: {unmatched_capital}\")\n",
        "\n",
        "# Check if any category is empty\n",
        "if not family_words or not capital_words:\n",
        "    raise ValueError(\"One of the categories has no valid words in the vocabulary.\")\n",
        "\n",
        "# Step 4: Extract embeddings for each category\n",
        "def get_embeddings_for_words(words):\n",
        "    with torch.no_grad():\n",
        "        return np.array([model.embedding.weight[word_to_index[word]].cpu().detach().numpy() for word in words])\n",
        "\n",
        "family_embeddings = get_embeddings_for_words(family_words)\n",
        "capital_embeddings = get_embeddings_for_words(capital_words)\n",
        "\n",
        "# Combine all embeddings and labels\n",
        "all_embeddings = np.vstack([family_embeddings, capital_embeddings])\n",
        "all_labels = family_words + capital_words\n",
        "\n",
        "# Step 5: Apply t-SNE on the combined embeddings\n",
        "tsne = TSNE(n_components=2, random_state=0, perplexity=30)\n",
        "reduced_embeddings = tsne.fit_transform(all_embeddings)\n",
        "\n",
        "# Step 6: Create a scatter plot using Plotly with color-coding by category\n",
        "colors = ['blue'] * len(family_words) + ['green'] * len(capital_words)  # Assign colors based on category\n",
        "\n",
        "fig = go.Figure()\n",
        "\n",
        "# Add scatter plot with color-coding\n",
        "fig.add_trace(go.Scatter(\n",
        "    x=reduced_embeddings[:, 0],\n",
        "    y=reduced_embeddings[:, 1],\n",
        "    mode='markers+text',\n",
        "    text=all_labels,\n",
        "    textposition='top center',\n",
        "    marker=dict(size=10, color=colors, showscale=False),\n",
        "    hoverinfo='text'\n",
        "))\n",
        "\n",
        "# Set plot title and axis labels\n",
        "fig.update_layout(\n",
        "    title=\"t-SNE Visualization of Family and Capital Words\",\n",
        "    xaxis=dict(title='t-SNE Dimension 1'),\n",
        "    yaxis=dict(title='t-SNE Dimension 2'),\n",
        "    height=800\n",
        ")\n",
        "\n",
        "# Display the plot\n",
        "fig.show()\n",
        "\n"
      ],
      "metadata": {
        "id": "0HIJsP6dnq2Q",
        "outputId": "868b2e22-1cb3-4c3a-a57c-0821102b59d8",
        "colab": {
          "base_uri": "https://localhost:8080/",
          "height": 852
        }
      },
      "execution_count": null,
      "outputs": [
        {
          "output_type": "stream",
          "name": "stdout",
          "text": [
            "Unmatched family words: []\n",
            "Unmatched capital words: []\n"
          ]
        },
        {
          "output_type": "display_data",
          "data": {
            "text/html": [
              "<html>\n",
              "<head><meta charset=\"utf-8\" /></head>\n",
              "<body>\n",
              "    <div>            <script src=\"https://cdnjs.cloudflare.com/ajax/libs/mathjax/2.7.5/MathJax.js?config=TeX-AMS-MML_SVG\"></script><script type=\"text/javascript\">if (window.MathJax && window.MathJax.Hub && window.MathJax.Hub.Config) {window.MathJax.Hub.Config({SVG: {font: \"STIX-Web\"}});}</script>                <script type=\"text/javascript\">window.PlotlyConfig = {MathJaxConfig: 'local'};</script>\n",
              "        <script charset=\"utf-8\" src=\"https://cdn.plot.ly/plotly-2.35.2.min.js\"></script>                <div id=\"b511e4cc-df54-4d1e-94fc-8adbc74ad465\" class=\"plotly-graph-div\" style=\"height:800px; width:100%;\"></div>            <script type=\"text/javascript\">                                    window.PLOTLYENV=window.PLOTLYENV || {};                                    if (document.getElementById(\"b511e4cc-df54-4d1e-94fc-8adbc74ad465\")) {                    Plotly.newPlot(                        \"b511e4cc-df54-4d1e-94fc-8adbc74ad465\",                        [{\"hoverinfo\":\"text\",\"marker\":{\"color\":[\"blue\",\"blue\",\"blue\",\"blue\",\"blue\",\"blue\",\"blue\",\"blue\",\"blue\",\"blue\",\"blue\",\"blue\",\"blue\",\"blue\",\"blue\",\"blue\",\"blue\",\"blue\",\"blue\",\"blue\",\"blue\",\"blue\",\"blue\",\"blue\",\"blue\",\"blue\",\"blue\",\"blue\",\"blue\",\"blue\",\"blue\",\"blue\",\"blue\",\"blue\",\"blue\",\"blue\",\"blue\",\"blue\",\"blue\",\"blue\",\"green\",\"green\",\"green\",\"green\",\"green\",\"green\",\"green\",\"green\",\"green\",\"green\",\"green\",\"green\",\"green\",\"green\",\"green\",\"green\",\"green\",\"green\",\"green\",\"green\",\"green\",\"green\",\"green\",\"green\",\"green\",\"green\",\"green\",\"green\",\"green\",\"green\",\"green\",\"green\",\"green\",\"green\",\"green\",\"green\",\"green\",\"green\",\"green\",\"green\",\"green\",\"green\",\"green\",\"green\",\"green\",\"green\"],\"showscale\":false,\"size\":10},\"mode\":\"markers+text\",\"text\":[\"sons\",\"son\",\"nephew\",\"stepbrother\",\"queen\",\"aunt\",\"granddaughter\",\"brothers\",\"wife\",\"girl\",\"daughter\",\"prince\",\"mom\",\"policeman\",\"stepmother\",\"man\",\"princess\",\"brother\",\"mother\",\"sisters\",\"husband\",\"stepfather\",\"uncle\",\"king\",\"boy\",\"grandmother\",\"grandfather\",\"niece\",\"groom\",\"father\",\"stepsister\",\"grandpa\",\"woman\",\"daughters\",\"stepdaughter\",\"bride\",\"grandson\",\"sister\",\"grandma\",\"dad\",\"japan\",\"hanoi\",\"helsinki\",\"iraq\",\"switzerland\",\"egypt\",\"moscow\",\"kabul\",\"oslo\",\"paris\",\"havana\",\"athens\",\"madrid\",\"norway\",\"berlin\",\"iran\",\"australia\",\"england\",\"tokyo\",\"cuba\",\"rome\",\"bern\",\"pakistan\",\"canberra\",\"afghanistan\",\"bangkok\",\"stockholm\",\"islamabad\",\"canada\",\"london\",\"baghdad\",\"germany\",\"cairo\",\"tehran\",\"greece\",\"vietnam\",\"finland\",\"sweden\",\"italy\",\"russia\",\"china\",\"france\",\"beijing\",\"ottawa\",\"thailand\",\"spain\"],\"textposition\":\"top center\",\"x\":[3.7063257694244385,3.1440317630767822,2.435209274291992,1.744051456451416,3.3891055583953857,3.564314842224121,2.8141822814941406,2.8551857471466064,3.1676876544952393,3.936370372772217,3.172438144683838,3.04023814201355,3.5140860080718994,-0.05385742709040642,1.3078389167785645,2.8096299171447754,3.2097978591918945,2.9871695041656494,3.050467014312744,4.18505334854126,2.8546321392059326,3.2393558025360107,2.650357484817505,2.689847230911255,3.780885696411133,2.0809431076049805,0.797613799571991,2.5995113849639893,1.4267973899841309,2.765021562576294,-0.2077569216489792,1.2647192478179932,2.181654214859009,4.260125637054443,0.3867674171924591,1.7795161008834839,3.8159327507019043,2.8086330890655518,4.185619354248047,3.2046306133270264,1.6770910024642944,1.2117547988891602,1.0709935426712036,0.4259972870349884,1.009339451789856,1.2894272804260254,1.6195971965789795,1.6368885040283203,2.154966115951538,1.9352461099624634,0.5376719236373901,1.6667813062667847,1.8819183111190796,2.4851322174072266,0.7624583840370178,1.006402850151062,1.9429187774658203,2.13020396232605,1.8237793445587158,1.1175583600997925,1.6300456523895264,1.9896304607391357,1.3289910554885864,1.9837042093276978,0.527487576007843,1.5662897825241089,2.22920298576355,-0.16297794878482819,1.6933425664901733,1.821393609046936,2.794175863265991,1.6319310665130615,0.8400158286094666,2.1424713134765625,0.7855182886123657,0.32246488332748413,1.295009732246399,2.2062134742736816,2.0087573528289795,1.5904699563980103,1.2837333679199219,1.928393840789795,1.8318454027175903,2.4269189834594727,0.4791201055049896,1.9158110618591309],\"y\":[1.7129122018814087,2.120875597000122,2.9197170734405518,3.5473859310150146,1.6643095016479492,3.1812217235565186,0.6100354790687561,3.5846893787384033,1.9587119817733765,2.915997266769409,1.9734680652618408,1.399590015411377,0.4376029074192047,2.28582501411438,2.6102964878082275,2.101760149002075,0.9433039426803589,3.125924587249756,2.311655044555664,1.691717505455017,2.1509158611297607,-0.10068418830633163,2.586351156234741,1.8666939735412598,2.4591755867004395,3.3725674152374268,2.9187426567077637,0.8205918073654175,2.415821075439453,2.490025043487549,1.44711434841156,3.2013797760009766,2.5720951557159424,2.072723865509033,2.627114772796631,2.637364387512207,0.7264154553413391,2.805938720703125,0.9360322952270508,2.939301013946533,1.3492650985717773,0.5590015053749084,-0.3216841518878937,0.8454771637916565,0.5023004412651062,1.5470415353775024,0.46698853373527527,-0.8180321455001831,0.3238370418548584,1.0752443075180054,0.1985335648059845,1.9164677858352661,0.8764519691467285,1.185577392578125,-0.2846146821975708,1.0564303398132324,1.4050136804580688,1.2814676761627197,1.6877753734588623,1.3751544952392578,1.70194673538208,2.0634350776672363,1.0975710153579712,-0.2259850949048996,1.141216516494751,-0.16277822852134705,0.1139412447810173,0.30836376547813416,1.3787060976028442,0.6966637372970581,0.12769147753715515,1.154215693473816,1.9925662279129028,0.7504729628562927,1.6169735193252563,1.0582882165908813,0.5448628067970276,1.037377953529358,1.4503216743469238,1.1348848342895508,1.2982966899871826,1.3978132009506226,0.6560816764831543,-0.6979202032089233,1.7916679382324219,1.1315094232559204],\"type\":\"scatter\"}],                        {\"template\":{\"data\":{\"histogram2dcontour\":[{\"type\":\"histogram2dcontour\",\"colorbar\":{\"outlinewidth\":0,\"ticks\":\"\"},\"colorscale\":[[0.0,\"#0d0887\"],[0.1111111111111111,\"#46039f\"],[0.2222222222222222,\"#7201a8\"],[0.3333333333333333,\"#9c179e\"],[0.4444444444444444,\"#bd3786\"],[0.5555555555555556,\"#d8576b\"],[0.6666666666666666,\"#ed7953\"],[0.7777777777777778,\"#fb9f3a\"],[0.8888888888888888,\"#fdca26\"],[1.0,\"#f0f921\"]]}],\"choropleth\":[{\"type\":\"choropleth\",\"colorbar\":{\"outlinewidth\":0,\"ticks\":\"\"}}],\"histogram2d\":[{\"type\":\"histogram2d\",\"colorbar\":{\"outlinewidth\":0,\"ticks\":\"\"},\"colorscale\":[[0.0,\"#0d0887\"],[0.1111111111111111,\"#46039f\"],[0.2222222222222222,\"#7201a8\"],[0.3333333333333333,\"#9c179e\"],[0.4444444444444444,\"#bd3786\"],[0.5555555555555556,\"#d8576b\"],[0.6666666666666666,\"#ed7953\"],[0.7777777777777778,\"#fb9f3a\"],[0.8888888888888888,\"#fdca26\"],[1.0,\"#f0f921\"]]}],\"heatmap\":[{\"type\":\"heatmap\",\"colorbar\":{\"outlinewidth\":0,\"ticks\":\"\"},\"colorscale\":[[0.0,\"#0d0887\"],[0.1111111111111111,\"#46039f\"],[0.2222222222222222,\"#7201a8\"],[0.3333333333333333,\"#9c179e\"],[0.4444444444444444,\"#bd3786\"],[0.5555555555555556,\"#d8576b\"],[0.6666666666666666,\"#ed7953\"],[0.7777777777777778,\"#fb9f3a\"],[0.8888888888888888,\"#fdca26\"],[1.0,\"#f0f921\"]]}],\"heatmapgl\":[{\"type\":\"heatmapgl\",\"colorbar\":{\"outlinewidth\":0,\"ticks\":\"\"},\"colorscale\":[[0.0,\"#0d0887\"],[0.1111111111111111,\"#46039f\"],[0.2222222222222222,\"#7201a8\"],[0.3333333333333333,\"#9c179e\"],[0.4444444444444444,\"#bd3786\"],[0.5555555555555556,\"#d8576b\"],[0.6666666666666666,\"#ed7953\"],[0.7777777777777778,\"#fb9f3a\"],[0.8888888888888888,\"#fdca26\"],[1.0,\"#f0f921\"]]}],\"contourcarpet\":[{\"type\":\"contourcarpet\",\"colorbar\":{\"outlinewidth\":0,\"ticks\":\"\"}}],\"contour\":[{\"type\":\"contour\",\"colorbar\":{\"outlinewidth\":0,\"ticks\":\"\"},\"colorscale\":[[0.0,\"#0d0887\"],[0.1111111111111111,\"#46039f\"],[0.2222222222222222,\"#7201a8\"],[0.3333333333333333,\"#9c179e\"],[0.4444444444444444,\"#bd3786\"],[0.5555555555555556,\"#d8576b\"],[0.6666666666666666,\"#ed7953\"],[0.7777777777777778,\"#fb9f3a\"],[0.8888888888888888,\"#fdca26\"],[1.0,\"#f0f921\"]]}],\"surface\":[{\"type\":\"surface\",\"colorbar\":{\"outlinewidth\":0,\"ticks\":\"\"},\"colorscale\":[[0.0,\"#0d0887\"],[0.1111111111111111,\"#46039f\"],[0.2222222222222222,\"#7201a8\"],[0.3333333333333333,\"#9c179e\"],[0.4444444444444444,\"#bd3786\"],[0.5555555555555556,\"#d8576b\"],[0.6666666666666666,\"#ed7953\"],[0.7777777777777778,\"#fb9f3a\"],[0.8888888888888888,\"#fdca26\"],[1.0,\"#f0f921\"]]}],\"mesh3d\":[{\"type\":\"mesh3d\",\"colorbar\":{\"outlinewidth\":0,\"ticks\":\"\"}}],\"scatter\":[{\"fillpattern\":{\"fillmode\":\"overlay\",\"size\":10,\"solidity\":0.2},\"type\":\"scatter\"}],\"parcoords\":[{\"type\":\"parcoords\",\"line\":{\"colorbar\":{\"outlinewidth\":0,\"ticks\":\"\"}}}],\"scatterpolargl\":[{\"type\":\"scatterpolargl\",\"marker\":{\"colorbar\":{\"outlinewidth\":0,\"ticks\":\"\"}}}],\"bar\":[{\"error_x\":{\"color\":\"#2a3f5f\"},\"error_y\":{\"color\":\"#2a3f5f\"},\"marker\":{\"line\":{\"color\":\"#E5ECF6\",\"width\":0.5},\"pattern\":{\"fillmode\":\"overlay\",\"size\":10,\"solidity\":0.2}},\"type\":\"bar\"}],\"scattergeo\":[{\"type\":\"scattergeo\",\"marker\":{\"colorbar\":{\"outlinewidth\":0,\"ticks\":\"\"}}}],\"scatterpolar\":[{\"type\":\"scatterpolar\",\"marker\":{\"colorbar\":{\"outlinewidth\":0,\"ticks\":\"\"}}}],\"histogram\":[{\"marker\":{\"pattern\":{\"fillmode\":\"overlay\",\"size\":10,\"solidity\":0.2}},\"type\":\"histogram\"}],\"scattergl\":[{\"type\":\"scattergl\",\"marker\":{\"colorbar\":{\"outlinewidth\":0,\"ticks\":\"\"}}}],\"scatter3d\":[{\"type\":\"scatter3d\",\"line\":{\"colorbar\":{\"outlinewidth\":0,\"ticks\":\"\"}},\"marker\":{\"colorbar\":{\"outlinewidth\":0,\"ticks\":\"\"}}}],\"scattermapbox\":[{\"type\":\"scattermapbox\",\"marker\":{\"colorbar\":{\"outlinewidth\":0,\"ticks\":\"\"}}}],\"scatterternary\":[{\"type\":\"scatterternary\",\"marker\":{\"colorbar\":{\"outlinewidth\":0,\"ticks\":\"\"}}}],\"scattercarpet\":[{\"type\":\"scattercarpet\",\"marker\":{\"colorbar\":{\"outlinewidth\":0,\"ticks\":\"\"}}}],\"carpet\":[{\"aaxis\":{\"endlinecolor\":\"#2a3f5f\",\"gridcolor\":\"white\",\"linecolor\":\"white\",\"minorgridcolor\":\"white\",\"startlinecolor\":\"#2a3f5f\"},\"baxis\":{\"endlinecolor\":\"#2a3f5f\",\"gridcolor\":\"white\",\"linecolor\":\"white\",\"minorgridcolor\":\"white\",\"startlinecolor\":\"#2a3f5f\"},\"type\":\"carpet\"}],\"table\":[{\"cells\":{\"fill\":{\"color\":\"#EBF0F8\"},\"line\":{\"color\":\"white\"}},\"header\":{\"fill\":{\"color\":\"#C8D4E3\"},\"line\":{\"color\":\"white\"}},\"type\":\"table\"}],\"barpolar\":[{\"marker\":{\"line\":{\"color\":\"#E5ECF6\",\"width\":0.5},\"pattern\":{\"fillmode\":\"overlay\",\"size\":10,\"solidity\":0.2}},\"type\":\"barpolar\"}],\"pie\":[{\"automargin\":true,\"type\":\"pie\"}]},\"layout\":{\"autotypenumbers\":\"strict\",\"colorway\":[\"#636efa\",\"#EF553B\",\"#00cc96\",\"#ab63fa\",\"#FFA15A\",\"#19d3f3\",\"#FF6692\",\"#B6E880\",\"#FF97FF\",\"#FECB52\"],\"font\":{\"color\":\"#2a3f5f\"},\"hovermode\":\"closest\",\"hoverlabel\":{\"align\":\"left\"},\"paper_bgcolor\":\"white\",\"plot_bgcolor\":\"#E5ECF6\",\"polar\":{\"bgcolor\":\"#E5ECF6\",\"angularaxis\":{\"gridcolor\":\"white\",\"linecolor\":\"white\",\"ticks\":\"\"},\"radialaxis\":{\"gridcolor\":\"white\",\"linecolor\":\"white\",\"ticks\":\"\"}},\"ternary\":{\"bgcolor\":\"#E5ECF6\",\"aaxis\":{\"gridcolor\":\"white\",\"linecolor\":\"white\",\"ticks\":\"\"},\"baxis\":{\"gridcolor\":\"white\",\"linecolor\":\"white\",\"ticks\":\"\"},\"caxis\":{\"gridcolor\":\"white\",\"linecolor\":\"white\",\"ticks\":\"\"}},\"coloraxis\":{\"colorbar\":{\"outlinewidth\":0,\"ticks\":\"\"}},\"colorscale\":{\"sequential\":[[0.0,\"#0d0887\"],[0.1111111111111111,\"#46039f\"],[0.2222222222222222,\"#7201a8\"],[0.3333333333333333,\"#9c179e\"],[0.4444444444444444,\"#bd3786\"],[0.5555555555555556,\"#d8576b\"],[0.6666666666666666,\"#ed7953\"],[0.7777777777777778,\"#fb9f3a\"],[0.8888888888888888,\"#fdca26\"],[1.0,\"#f0f921\"]],\"sequentialminus\":[[0.0,\"#0d0887\"],[0.1111111111111111,\"#46039f\"],[0.2222222222222222,\"#7201a8\"],[0.3333333333333333,\"#9c179e\"],[0.4444444444444444,\"#bd3786\"],[0.5555555555555556,\"#d8576b\"],[0.6666666666666666,\"#ed7953\"],[0.7777777777777778,\"#fb9f3a\"],[0.8888888888888888,\"#fdca26\"],[1.0,\"#f0f921\"]],\"diverging\":[[0,\"#8e0152\"],[0.1,\"#c51b7d\"],[0.2,\"#de77ae\"],[0.3,\"#f1b6da\"],[0.4,\"#fde0ef\"],[0.5,\"#f7f7f7\"],[0.6,\"#e6f5d0\"],[0.7,\"#b8e186\"],[0.8,\"#7fbc41\"],[0.9,\"#4d9221\"],[1,\"#276419\"]]},\"xaxis\":{\"gridcolor\":\"white\",\"linecolor\":\"white\",\"ticks\":\"\",\"title\":{\"standoff\":15},\"zerolinecolor\":\"white\",\"automargin\":true,\"zerolinewidth\":2},\"yaxis\":{\"gridcolor\":\"white\",\"linecolor\":\"white\",\"ticks\":\"\",\"title\":{\"standoff\":15},\"zerolinecolor\":\"white\",\"automargin\":true,\"zerolinewidth\":2},\"scene\":{\"xaxis\":{\"backgroundcolor\":\"#E5ECF6\",\"gridcolor\":\"white\",\"linecolor\":\"white\",\"showbackground\":true,\"ticks\":\"\",\"zerolinecolor\":\"white\",\"gridwidth\":2},\"yaxis\":{\"backgroundcolor\":\"#E5ECF6\",\"gridcolor\":\"white\",\"linecolor\":\"white\",\"showbackground\":true,\"ticks\":\"\",\"zerolinecolor\":\"white\",\"gridwidth\":2},\"zaxis\":{\"backgroundcolor\":\"#E5ECF6\",\"gridcolor\":\"white\",\"linecolor\":\"white\",\"showbackground\":true,\"ticks\":\"\",\"zerolinecolor\":\"white\",\"gridwidth\":2}},\"shapedefaults\":{\"line\":{\"color\":\"#2a3f5f\"}},\"annotationdefaults\":{\"arrowcolor\":\"#2a3f5f\",\"arrowhead\":0,\"arrowwidth\":1},\"geo\":{\"bgcolor\":\"white\",\"landcolor\":\"#E5ECF6\",\"subunitcolor\":\"white\",\"showland\":true,\"showlakes\":true,\"lakecolor\":\"white\"},\"title\":{\"x\":0.05},\"mapbox\":{\"style\":\"light\"}}},\"title\":{\"text\":\"t-SNE Visualization of Family and Capital Words\"},\"xaxis\":{\"title\":{\"text\":\"t-SNE Dimension 1\"}},\"yaxis\":{\"title\":{\"text\":\"t-SNE Dimension 2\"}},\"height\":800},                        {\"responsive\": true}                    ).then(function(){\n",
              "                            \n",
              "var gd = document.getElementById('b511e4cc-df54-4d1e-94fc-8adbc74ad465');\n",
              "var x = new MutationObserver(function (mutations, observer) {{\n",
              "        var display = window.getComputedStyle(gd).display;\n",
              "        if (!display || display === 'none') {{\n",
              "            console.log([gd, 'removed!']);\n",
              "            Plotly.purge(gd);\n",
              "            observer.disconnect();\n",
              "        }}\n",
              "}});\n",
              "\n",
              "// Listen for the removal of the full notebook cells\n",
              "var notebookContainer = gd.closest('#notebook-container');\n",
              "if (notebookContainer) {{\n",
              "    x.observe(notebookContainer, {childList: true});\n",
              "}}\n",
              "\n",
              "// Listen for the clearing of the current output cell\n",
              "var outputEl = gd.closest('.output');\n",
              "if (outputEl) {{\n",
              "    x.observe(outputEl, {childList: true});\n",
              "}}\n",
              "\n",
              "                        })                };                            </script>        </div>\n",
              "</body>\n",
              "</html>"
            ]
          },
          "metadata": {}
        }
      ]
    },
    {
      "cell_type": "code",
      "source": [],
      "metadata": {
        "id": "ruQxGodAqYuS"
      },
      "execution_count": null,
      "outputs": []
    },
    {
      "cell_type": "code",
      "source": [
        "import numpy as np\n",
        "import pandas as pd\n",
        "import torch\n",
        "from sklearn.manifold import TSNE\n",
        "import plotly.graph_objects as go\n",
        "\n",
        "# Step 1: Initialize t-SNE\n",
        "# We will use 2 dimensions for visualization\n",
        "tsne = TSNE(n_components=2, random_state=0, perplexity=30)\n",
        "\n",
        "# Step 2: Get the embedding weights from the trained CBOW model\n",
        "# We will take only the first 1000 words for visualization\n",
        "with torch.no_grad():\n",
        "    embeddings = model.embedding.weight[:1000].cpu().detach().numpy()  # Get the first 1000 words\n",
        "\n",
        "# Step 3: Apply t-SNE to reduce dimensionality of the embeddings\n",
        "reduced_embeddings = tsne.fit_transform(embeddings)\n",
        "\n",
        "# Step 4: Get the first 1000 words from the vocabulary\n",
        "# Create a reverse dictionary to map indices back to words\n",
        "index_to_word = {index: word for word, index in word_to_index.items()}\n",
        "words = [index_to_word[i] for i in range(1000)]\n",
        "\n",
        "# Step 5: Create a scatter plot using Plotly\n",
        "fig = go.Figure()\n",
        "\n",
        "# Add a scatter plot trace\n",
        "fig.add_trace(go.Scatter(\n",
        "    x=reduced_embeddings[:, 0],\n",
        "    y=reduced_embeddings[:, 1],\n",
        "    mode='markers+text',\n",
        "    text=words,\n",
        "    textposition='top center',\n",
        "    marker=dict(size=10, color=np.arange(1000), colorscale='Viridis', showscale=False),\n",
        "    hoverinfo='text'\n",
        "))\n",
        "\n",
        "# Set plot title and labels\n",
        "fig.update_layout(\n",
        "    title=\"t-SNE Visualization of Word Embeddings\",\n",
        "    xaxis=dict(title='t-SNE Dimension 1'),\n",
        "    yaxis=dict(title='t-SNE Dimension 2'),\n",
        "    height=800\n",
        ")\n",
        "\n",
        "# Display the plot\n",
        "fig.show()"
      ],
      "metadata": {
        "colab": {
          "base_uri": "https://localhost:8080/",
          "height": 817
        },
        "id": "24qhwuXdcvxF",
        "outputId": "8a36623d-b2ca-4a6a-e996-6cea56557f98"
      },
      "execution_count": null,
      "outputs": [
        {
          "output_type": "display_data",
          "data": {
            "text/html": [
              "<html>\n",
              "<head><meta charset=\"utf-8\" /></head>\n",
              "<body>\n",
              "    <div>            <script src=\"https://cdnjs.cloudflare.com/ajax/libs/mathjax/2.7.5/MathJax.js?config=TeX-AMS-MML_SVG\"></script><script type=\"text/javascript\">if (window.MathJax && window.MathJax.Hub && window.MathJax.Hub.Config) {window.MathJax.Hub.Config({SVG: {font: \"STIX-Web\"}});}</script>                <script type=\"text/javascript\">window.PlotlyConfig = {MathJaxConfig: 'local'};</script>\n",
              "        <script charset=\"utf-8\" src=\"https://cdn.plot.ly/plotly-2.35.2.min.js\"></script>                <div id=\"d1883d19-5232-46e5-9e5a-91edf3cf9ea0\" class=\"plotly-graph-div\" style=\"height:800px; width:100%;\"></div>            <script type=\"text/javascript\">                                    window.PLOTLYENV=window.PLOTLYENV || {};                                    if (document.getElementById(\"d1883d19-5232-46e5-9e5a-91edf3cf9ea0\")) {                    Plotly.newPlot(                        \"d1883d19-5232-46e5-9e5a-91edf3cf9ea0\",                        [{\"hoverinfo\":\"text\",\"marker\":{\"color\":[0,1,2,3,4,5,6,7,8,9,10,11,12,13,14,15,16,17,18,19,20,21,22,23,24,25,26,27,28,29,30,31,32,33,34,35,36,37,38,39,40,41,42,43,44,45,46,47,48,49,50,51,52,53,54,55,56,57,58,59,60,61,62,63,64,65,66,67,68,69,70,71,72,73,74,75,76,77,78,79,80,81,82,83,84,85,86,87,88,89,90,91,92,93,94,95,96,97,98,99,100,101,102,103,104,105,106,107,108,109,110,111,112,113,114,115,116,117,118,119,120,121,122,123,124,125,126,127,128,129,130,131,132,133,134,135,136,137,138,139,140,141,142,143,144,145,146,147,148,149,150,151,152,153,154,155,156,157,158,159,160,161,162,163,164,165,166,167,168,169,170,171,172,173,174,175,176,177,178,179,180,181,182,183,184,185,186,187,188,189,190,191,192,193,194,195,196,197,198,199,200,201,202,203,204,205,206,207,208,209,210,211,212,213,214,215,216,217,218,219,220,221,222,223,224,225,226,227,228,229,230,231,232,233,234,235,236,237,238,239,240,241,242,243,244,245,246,247,248,249,250,251,252,253,254,255,256,257,258,259,260,261,262,263,264,265,266,267,268,269,270,271,272,273,274,275,276,277,278,279,280,281,282,283,284,285,286,287,288,289,290,291,292,293,294,295,296,297,298,299,300,301,302,303,304,305,306,307,308,309,310,311,312,313,314,315,316,317,318,319,320,321,322,323,324,325,326,327,328,329,330,331,332,333,334,335,336,337,338,339,340,341,342,343,344,345,346,347,348,349,350,351,352,353,354,355,356,357,358,359,360,361,362,363,364,365,366,367,368,369,370,371,372,373,374,375,376,377,378,379,380,381,382,383,384,385,386,387,388,389,390,391,392,393,394,395,396,397,398,399,400,401,402,403,404,405,406,407,408,409,410,411,412,413,414,415,416,417,418,419,420,421,422,423,424,425,426,427,428,429,430,431,432,433,434,435,436,437,438,439,440,441,442,443,444,445,446,447,448,449,450,451,452,453,454,455,456,457,458,459,460,461,462,463,464,465,466,467,468,469,470,471,472,473,474,475,476,477,478,479,480,481,482,483,484,485,486,487,488,489,490,491,492,493,494,495,496,497,498,499,500,501,502,503,504,505,506,507,508,509,510,511,512,513,514,515,516,517,518,519,520,521,522,523,524,525,526,527,528,529,530,531,532,533,534,535,536,537,538,539,540,541,542,543,544,545,546,547,548,549,550,551,552,553,554,555,556,557,558,559,560,561,562,563,564,565,566,567,568,569,570,571,572,573,574,575,576,577,578,579,580,581,582,583,584,585,586,587,588,589,590,591,592,593,594,595,596,597,598,599,600,601,602,603,604,605,606,607,608,609,610,611,612,613,614,615,616,617,618,619,620,621,622,623,624,625,626,627,628,629,630,631,632,633,634,635,636,637,638,639,640,641,642,643,644,645,646,647,648,649,650,651,652,653,654,655,656,657,658,659,660,661,662,663,664,665,666,667,668,669,670,671,672,673,674,675,676,677,678,679,680,681,682,683,684,685,686,687,688,689,690,691,692,693,694,695,696,697,698,699,700,701,702,703,704,705,706,707,708,709,710,711,712,713,714,715,716,717,718,719,720,721,722,723,724,725,726,727,728,729,730,731,732,733,734,735,736,737,738,739,740,741,742,743,744,745,746,747,748,749,750,751,752,753,754,755,756,757,758,759,760,761,762,763,764,765,766,767,768,769,770,771,772,773,774,775,776,777,778,779,780,781,782,783,784,785,786,787,788,789,790,791,792,793,794,795,796,797,798,799,800,801,802,803,804,805,806,807,808,809,810,811,812,813,814,815,816,817,818,819,820,821,822,823,824,825,826,827,828,829,830,831,832,833,834,835,836,837,838,839,840,841,842,843,844,845,846,847,848,849,850,851,852,853,854,855,856,857,858,859,860,861,862,863,864,865,866,867,868,869,870,871,872,873,874,875,876,877,878,879,880,881,882,883,884,885,886,887,888,889,890,891,892,893,894,895,896,897,898,899,900,901,902,903,904,905,906,907,908,909,910,911,912,913,914,915,916,917,918,919,920,921,922,923,924,925,926,927,928,929,930,931,932,933,934,935,936,937,938,939,940,941,942,943,944,945,946,947,948,949,950,951,952,953,954,955,956,957,958,959,960,961,962,963,964,965,966,967,968,969,970,971,972,973,974,975,976,977,978,979,980,981,982,983,984,985,986,987,988,989,990,991,992,993,994,995,996,997,998,999],\"colorscale\":[[0.0,\"#440154\"],[0.1111111111111111,\"#482878\"],[0.2222222222222222,\"#3e4989\"],[0.3333333333333333,\"#31688e\"],[0.4444444444444444,\"#26828e\"],[0.5555555555555556,\"#1f9e89\"],[0.6666666666666666,\"#35b779\"],[0.7777777777777778,\"#6ece58\"],[0.8888888888888888,\"#b5de2b\"],[1.0,\"#fde725\"]],\"showscale\":false,\"size\":10},\"mode\":\"markers+text\",\"text\":[\"\\u003cOOV\\u003e\",\"monsures\",\"commune\",\"hautsdefrance\",\"somme\",\"department\",\"north\",\"france\",\"communes\",\"john\",\"stewart\",\"herrington\",\"born\",\"may\",\"american\",\"republican\",\"politician\",\"served\",\"united\",\"states\",\"secretary\",\"energy\",\"ronald\",\"reagan\",\"second\",\"term\",\"websites\",\"clean\",\"corp\",\"bio\",\"forbes\",\"profile\",\"births\",\"living\",\"people\",\"secretaries\",\"us\",\"party\",\"politicians\",\"california\",\"los\",\"angeles\",\"johnny\",\"destiny\",\"space\",\"ranger\",\"black\",\"knight\",\"korean\",\"captain\",\"cosmos\",\"hong\",\"kong\",\"release\",\"south\",\"koreanamerican\",\"science\",\"fictionaction\",\"adventure\",\"animated\",\"film\",\"directed\",\"jong\",\"huipark\",\"george\",\"vieira\",\"produced\",\"geumyong\",\"production\",\"world\",\"films\",\"released\",\"december\",\"directto\",\"video\",\"august\",\"plagiarism\",\"characters\",\"char\",\"aznable\",\"green\",\"skinned\",\"dozle\",\"plot\",\"set\",\"outer\",\"forces\",\"fights\",\"army\",\"evil\",\"queen\",\"destroy\",\"voices\",\"park\",\"youngnammark\",\"beraru\",\"ilene\",\"latter\",\"jane\",\"steve\",\"brodie\",\"cappy\",\"mickie\",\"mcgowan\",\"utopia\",\"gary\",\"laine\",\"master\",\"robert\",\"christopher\",\"duncan\",\"paul\",\"smith\",\"doc\",\"additional\",\"frank\",\"rada\",\"joey\",\"blaze\",\"v\",\"davis\",\"anna\",\"felice\",\"koresko\",\"sarah\",\"lawrence\",\"bob\",\"sheckler\",\"mark\",\"slate\",\"stone\",\"movies\",\"action\",\"fiction\",\"lukas\",\"katnik\",\"july\",\"austrian\",\"footballer\",\"plays\",\"fc\",\"pasching\",\"austrias\",\"regionalliga\",\"mitte\",\"striker\",\"career\",\"started\",\"playing\",\"football\",\"local\",\"clubs\",\"m\\u00e4der\",\"k\\u00f6blach\",\"province\",\"vorarlberg\",\"went\",\"lustenau\",\"made\",\"professional\",\"debut\",\"dornbirn\",\"scored\",\"goals\",\"first\",\"part\",\"season\",\"january\",\"red\",\"bull\",\"juniors\",\"usk\",\"anif\",\"loan\",\"came\",\"back\",\"mostly\",\"starting\",\"team\",\"west\",\"rd\",\"division\",\"cooperation\",\"transferred\",\"club\",\"players\",\"transfermarktat\",\"footballers\",\"salzburg\",\"staten\",\"island\",\"borough\",\"new\",\"york\",\"city\",\"fewer\",\"half\",\"million\",\"live\",\"smallest\",\"population\",\"five\",\"boroughs\",\"three\",\"bridges\",\"connect\",\"jersey\",\"verrazanonarrows\",\"bridge\",\"connects\",\"brooklyn\",\"passenger\",\"railroad\",\"runs\",\"along\",\"shore\",\"northeast\",\"end\",\"called\",\"saint\",\"boundaries\",\"county\",\"richmond\",\"free\",\"ferry\",\"carries\",\"passengers\",\"year\",\"miles\",\"eight\",\"km\",\"across\",\"harbor\",\"manhattan\",\"nine\",\"boats\",\"provide\",\"service\",\"began\",\"england\",\"took\",\"control\",\"netherland\",\"anglodutch\",\"war\",\"th\",\"century\",\"instead\",\"citizendium\",\"islands\",\"seats\",\"establishments\",\"thirteen\",\"colonies\",\"thcentury\",\"neihu\",\"metro\",\"station\",\"taipei\",\"taiwan\",\"wenhu\",\"line\",\"whose\",\"code\",\"br\",\"layout\",\"information\",\"platforms\",\"ground\",\"level\",\"platform\",\"nangang\",\"exhibition\",\"center\",\"zoo\",\"around\",\"lake\",\"square\",\"qingbai\",\"huguang\",\"openair\",\"market\",\"institute\",\"planned\",\"location\",\"bihu\",\"elementary\",\"school\",\"kangning\",\"jinbi\",\"temple\",\"railway\",\"stations\",\"miami\",\"florida\",\"cities\",\"milan\",\"lane\",\"gutovi\\u0107\",\"\\u2013\",\"serbian\",\"actor\",\"cabaret\",\"performer\",\"television\",\"personality\",\"best\",\"known\",\"role\",\"sre\\u0107ko\",\"\\u0161oji\\u0107\",\"tesna\",\"ko\\u017ea\",\"bela\",\"la\\u0111a\",\"umka\",\"fpr\",\"yugoslavia\",\"died\",\"belgrade\",\"serbia\",\"covid\",\"age\",\"deaths\",\"pandemic\",\"actors\",\"comedians\",\"burghul\",\"cereal\",\"food\",\"wheat\",\"sometimes\",\"bulgur\",\"popular\",\"middle\",\"eastern\",\"african\",\"armenian\",\"lebanese\",\"moroccan\",\"tunisian\",\"cuisines\",\"couscous\",\"grains\",\"burnham\",\"public\",\"located\",\"chicago\",\"illinois\",\"michigan\",\"shoreline\",\"grant\",\"street\",\"jackson\",\"parkland\",\"owned\",\"managed\",\"district\",\"named\",\"urban\",\"planner\",\"architect\",\"daniel\",\"parks\",\"ruth\",\"ann\",\"buzzi\",\"comedian\",\"actress\",\"famous\",\"performances\",\"variety\",\"show\",\"rowan\",\"martins\",\"laughin\",\"often\",\"appeared\",\"unwilling\",\"object\",\"dirty\",\"old\",\"man\",\"character\",\"tyrone\",\"f\",\"horneighs\",\"affection\",\"ruthie\",\"seasons\",\"sesame\",\"awards\",\"received\",\"emmy\",\"award\",\"nominations\",\"golden\",\"globe\",\"work\",\"lifetime\",\"achievement\",\"pasadena\",\"playhouse\",\"performing\",\"arts\",\"clio\",\"spokesperson\",\"commercial\",\"series\",\"clorox\",\"commercials\",\"among\",\"caucasian\",\"women\",\"win\",\"naacp\",\"image\",\"guest\",\"starred\",\"music\",\"comedy\",\"dozens\",\"prime\",\"time\",\"specials\",\"colleagues\",\"including\",\"jonathan\",\"winters\",\"carol\",\"burnett\",\"jim\",\"nabors\",\"dean\",\"martin\",\"sinatra\",\"jerry\",\"lee\",\"lewis\",\"wayne\",\"newton\",\"anne\",\"murray\",\"rolf\",\"harris\",\"dom\",\"deluise\",\"tony\",\"orlando\",\"name\",\"times\",\"tonight\",\"starring\",\"carson\",\"appearances\",\"graduated\",\"honors\",\"one\",\"recipients\",\"alumni\",\"former\",\"classmates\",\"dustin\",\"hoffman\",\"gene\",\"hackman\",\"presenter\",\"several\",\"members\",\"personal\",\"life\",\"lives\",\"fort\",\"worth\",\"texas\",\"husband\",\"collect\",\"automobiles\",\"collection\",\"petersen\",\"automotive\",\"museum\",\"rhode\",\"movie\",\"stage\",\"winners\",\"winning\",\"wii\",\"also\",\"nintendo\",\"game\",\"home\",\"console\",\"november\",\"america\",\"games\",\"specifically\",\"original\",\"model\",\"gamecube\",\"succeeded\",\"u\",\"backwards\",\"compatibility\",\"controllers\",\"units\",\"sold\",\"nintendos\",\"highestselling\",\"family\",\"edition\",\"discontinued\",\"october\",\"although\",\"mini\",\"remained\",\"recieved\",\"positive\",\"reviews\",\"hardware\",\"cpu\",\"broadway\",\"processor\",\"ghz\",\"gpu\",\"ati\",\"hollywood\",\"mhz\",\"memory\",\"mb\",\"ram\",\"storage\",\"flash\",\"channels\",\"many\",\"things\",\"like\",\"tv\",\"look\",\"pressing\",\"\\u2212\",\"channel\",\"something\",\"different\",\"need\",\"internet\",\"using\",\"either\",\"wifi\",\"connection\",\"wiiconnect\",\"saved\",\"viewed\",\"without\",\"june\",\"however\",\"support\",\"lasted\",\"ways\",\"accessing\",\"removed\",\"disc\",\"played\",\"put\",\"slot\",\"shop\",\"used\",\"buy\",\"downloadable\",\"virtual\",\"wiiware\",\"mentioned\",\"required\",\"use\",\"closed\",\"mii\",\"player\",\"make\",\"avatar\",\"represent\",\"online\",\"feature\",\"parade\",\"allow\",\"miis\",\"news\",\"topics\",\"ranging\",\"national\",\"sport\",\"entertainment\",\"forecast\",\"check\",\"weather\",\"let\",\"select\",\"area\",\"receive\",\"updates\",\"everybody\",\"votes\",\"containing\",\"regularly\",\"updated\",\"polls\",\"tuesdays\",\"thursdays\",\"saturdays\",\"worldwide\",\"poll\",\"allowed\",\"users\",\"access\",\"web\",\"based\",\"opera\",\"browser\",\"would\",\"september\",\"became\",\"download\",\"update\",\"adobe\",\"program\",\"watch\",\"refunds\",\"consisting\",\"nes\",\"title\",\"points\",\"offered\",\"owners\",\"downloaded\",\"price\",\"contest\",\"uk\",\"send\",\"pick\",\"voting\",\"contests\",\"see\",\"videos\",\"feedback\",\"certain\",\"titles\",\"ds\",\"demos\",\"needed\",\"today\",\"tomorrow\",\"europe\",\"view\",\"daily\",\"horoscopes\",\"six\",\"registered\",\"offers\",\"advice\",\"love\",\"study\",\"communication\",\"money\",\"hints\",\"fun\",\"care\",\"another\",\"homebrew\",\"unofficial\",\"loading\",\"software\",\"cannot\",\"normally\",\"play\",\"dvds\",\"stream\",\"media\",\"computer\",\"run\",\"emulators\",\"etc\",\"supported\",\"help\",\"fix\",\"problems\",\"speak\",\"animal\",\"crossing\",\"folk\",\"remote\",\"controller\",\"regular\",\"uses\",\"accelerometers\",\"infrared\",\"light\",\"sensors\",\"leds\",\"inside\",\"sensor\",\"bar\",\"know\",\"lets\",\"physical\",\"movement\",\"buttons\",\"bluetooth\",\"rumble\",\"shakes\",\"tells\",\"speaker\",\"attachment\",\"comes\",\"bought\",\"stores\",\"nunchuk\",\"accelerometer\",\"analog\",\"stick\",\"two\",\"bottom\",\"wire\",\"wrist\",\"strap\",\"stop\",\"dropping\",\"throwing\",\"straps\",\"given\",\"stronger\",\"replacement\",\"cover\",\"jacket\",\"protects\",\"thing\",\"hits\",\"damaged\",\"broken\",\"gives\",\"grip\",\"makes\",\"harder\",\"slide\",\"hands\",\"attachments\",\"companies\",\"usually\",\"connected\",\"small\",\"plug\",\"common\",\"fit\",\"perfectly\",\"someones\",\"hand\",\"packaged\",\"front\",\"move\",\"motion\",\"plus\",\"find\",\"accurately\",\"improves\",\"classic\",\"design\",\"similar\",\"sness\",\"sticks\",\"four\",\"shoulder\",\"opposed\",\"mainly\",\"older\",\"zapper\",\"case\",\"looks\",\"gun\",\"placed\",\"shape\",\"changed\",\"actually\",\"holds\",\"place\",\"includes\",\"short\",\"get\",\"instruments\",\"pretend\",\"guitar\",\"hero\",\"rock\",\"band\",\"far\",\"guitars\",\"drums\",\"microphones\",\"usb\",\"port\",\"wheel\",\"plastic\",\"come\",\"mario\",\"kart\",\"racing\",\"car\",\"driving\",\"goes\",\"builtin\",\"easier\",\"click\",\"screen\",\"models\",\"revision\",\"rvl\",\"near\",\"lifecycle\",\"announced\",\"designed\",\"sit\",\"horizontally\",\"accordingly\",\"incompatible\",\"gamecubes\",\"accessories\",\"australia\",\"asian\",\"countries\",\"super\",\"bros\",\"galaxy\",\"soundtrack\",\"latecycle\",\"suggests\",\"compatibile\",\"addition\",\"features\",\"photo\",\"mode\",\"main\",\"notable\",\"redesign\",\"unlike\",\"white\",\"framing\",\"top\",\"lacks\",\"additionally\",\"manually\",\"operated\",\"toploading\",\"drive\",\"slots\",\"launched\",\"canada\",\"march\",\"cost\",\"least\",\"finally\",\"bundled\",\"predecessor\",\"third\",\"since\",\"snes\",\"right\",\"respective\",\"successors\",\"though\",\"years\",\"n\",\"redesigns\",\"kind\",\"lacked\",\"unused\",\"serial\",\"still\",\"remains\",\"unpopular\",\"digital\",\"av\",\"related\",\"pages\",\"xbox\",\"dsi\",\"xl\",\"switch\",\"sources\",\"official\",\"website\",\"seventh\",\"generation\",\"consoles\",\"highland\",\"upland\",\"plateau\",\"transcaucasian\",\"constitutes\",\"continuation\",\"caucasus\",\"mountains\",\"referred\",\"armenia\",\"apricot\",\"native\",\"china\",\"spread\",\"highlands\",\"throughout\",\"ancient\",\"fruit\",\"botanical\",\"prunus\",\"armeniaca\",\"derives\",\"latin\",\"vernacular\",\"armeniacum\",\"scholars\",\"linked\",\"akkadian\",\"indoeuropean\",\"homeland\",\"asia\",\"minor\",\"southwest\",\"others\",\"believe\",\"southern\",\"russia\",\"example\",\"earliest\",\"mention\",\"armenians\",\"inscriptions\",\"dating\",\"thth\",\"centuries\",\"bc\",\"sons\",\"haya\",\"regional\",\"god\",\"greater\",\"political\",\"concept\",\"genocide\",\"empire\",\"history\",\"geography\",\"herd\",\"large\",\"group\",\"animals\",\"refer\",\"zoology\",\"bachelor\",\"gatherings\",\"juvenile\",\"male\",\"sexually\",\"immature\",\"herding\",\"act\",\"bringing\",\"individual\",\"together\",\"dog\",\"trained\",\"member\",\"breed\",\"developed\",\"sports\",\"david\",\"scottish\",\"fred\",\"golfer\",\"st\",\"andrews\",\"sandy\",\"psychology\",\"behavior\",\"situations\",\"individuals\",\"react\",\"coherently\",\"coordination\",\"instinct\",\"social\",\"tendency\",\"humans\",\"identify\",\"behaviors\",\"beliefs\",\"larger\",\"album\",\"selftitled\",\"australian\",\"hip\",\"hop\",\"outfit\",\"suburbs\",\"sydney\"],\"textposition\":\"top center\",\"x\":[-0.6176743507385254,-0.40271100401878357,-2.237483263015747,-2.547910690307617,-1.7838126420974731,-1.0447710752487183,-1.0239319801330566,-0.2823037803173065,-2.458404302597046,-0.5074900984764099,-0.6768093109130859,0.6411750316619873,-0.49800577759742737,0.07426705211400986,-0.6692894101142883,-1.3103595972061157,1.9340934753417969,-0.6392824649810791,0.014648674987256527,-0.8974100947380066,-1.7868287563323975,-0.12925581634044647,-0.5677289366722107,-1.473852515220642,-0.03552737087011337,-0.49478885531425476,-0.6576785445213318,1.840688705444336,-1.4924826622009277,-1.1424686908721924,-1.6600044965744019,-0.4280143976211548,-0.9161216616630554,1.4733973741531372,0.35318705439567566,-1.7452993392944336,-0.2923766076564789,0.1328343152999878,0.466017484664917,-2.2950711250305176,-2.3838024139404297,1.7622158527374268,-1.1009844541549683,-0.8830407857894897,0.3770832121372223,-0.676489531993866,1.9602471590042114,-0.298007994890213,-1.4186794757843018,-0.17431896924972534,1.536476492881775,-0.6656208038330078,-1.9253085851669312,0.06646403670310974,-1.0600546598434448,0.4996010959148407,-2.065387487411499,1.461297869682312,1.863678216934204,2.0509071350097656,1.3030340671539307,-1.5602880716323853,-1.9757221937179565,1.1557295322418213,-0.49386149644851685,-0.5358785390853882,-0.7355930209159851,1.1555527448654175,0.5869051218032837,-0.022899644449353218,1.212131142616272,-0.8120975494384766,0.012308508157730103,1.0092757940292358,-0.18365930020809174,0.01762908697128296,0.2553183138370514,2.2478935718536377,-0.28165340423583984,1.6604204177856445,-0.7443910241127014,-0.4618055522441864,0.8842562437057495,0.17077165842056274,-0.35164281725883484,0.6037408709526062,-0.39337801933288574,0.08756352216005325,1.852652907371521,0.642938494682312,1.565437912940979,1.7552921772003174,-1.533522367477417,0.6159141063690186,1.9069786071777344,-1.1914687156677246,-2.1059274673461914,0.6414881944656372,-0.06794615834951401,-1.5229758024215698,0.5433855652809143,-1.0691883563995361,-0.8387877345085144,0.2882939577102661,0.18855266273021698,-1.90919828414917,-0.3240675628185272,0.30875131487846375,-0.6671760678291321,-1.3661062717437744,-0.1551228016614914,-0.5966094732284546,-1.2613327503204346,-0.9951112270355225,-1.654497504234314,-0.722538948059082,0.8030799627304077,-0.93438321352005,-0.0987730622291565,-0.15653590857982635,-0.6739492416381836,-1.5282825231552124,-0.6980137228965759,-2.1338298320770264,0.1714688539505005,-1.3190230131149292,-1.3278675079345703,-1.1217447519302368,-0.2087051272392273,-1.4105077981948853,-0.046558234840631485,0.5611679553985596,0.666318953037262,1.5249937772750854,1.2611743211746216,-1.5707964897155762,-0.020658500492572784,-1.1664402484893799,1.946534276008606,-0.5625022053718567,-0.17674697935581207,-0.40784507989883423,-1.1455461978912354,-1.7859700918197632,-0.5959388613700867,1.6397252082824707,0.05419750139117241,-0.6452739834785461,-0.6011543869972229,1.8204107284545898,-0.20238953828811646,1.1580747365951538,-0.890234649181366,-1.4430770874023438,-0.25919756293296814,1.5785447359085083,-0.4851897656917572,1.3135156631469727,-0.29207369685173035,1.3686245679855347,-0.7040760517120361,-0.49118536710739136,-0.97718745470047,0.6735135912895203,-0.020646177232265472,-0.1728769838809967,0.7061785459518433,-0.03921477869153023,-0.4858855903148651,-0.09728598594665527,-0.15402676165103912,1.101775050163269,0.22176815569400787,-0.24283447861671448,-0.584248423576355,-0.26020756363868713,0.6006280779838562,-0.4211381673812866,0.8259611129760742,-0.26680880784988403,-2.5080339908599854,0.10388702899217606,-0.7293528914451599,-1.035774827003479,0.3692401647567749,-0.1123875230550766,-1.6186617612838745,1.5242197513580322,0.5693596005439758,-2.4874582290649414,-0.9435252547264099,-1.5979541540145874,-0.5006779432296753,-2.955674409866333,-0.3062882721424103,-0.02398063614964485,1.3800606727600098,0.5074291229248047,0.18229129910469055,0.017067326232790947,-1.1590794324874878,1.101891040802002,-1.4249359369277954,0.6452654004096985,-0.6512032151222229,-2.281062364578247,-3.05009126663208,0.27305546402931213,-0.734633207321167,-0.8092790842056274,-0.6158696413040161,0.20632538199424744,-0.16527283191680908,-1.3723368644714355,-0.7042503952980042,-1.896468162536621,-0.8193511366844177,-0.25750860571861267,-0.2984122335910797,-2.73439359664917,-0.691094696521759,-0.6943321228027344,-0.6730760335922241,-2.326014518737793,-1.6816295385360718,-0.5252485871315002,0.5404682755470276,0.08187275379896164,-1.074284553527832,0.9691596627235413,-1.326862096786499,-0.7496025562286377,-0.9318174123764038,-0.9555026888847351,1.3988927602767944,-0.16351185739040375,-1.2274115085601807,-0.6814420223236084,-0.850955069065094,-0.2410682588815689,-0.8191788792610168,1.183251976966858,-2.211625099182129,0.18830673396587372,0.2523684501647949,-2.4724721908569336,0.4550599753856659,0.20146119594573975,-1.3501793146133423,0.38119441270828247,1.3549742698669434,-0.5511825680732727,-1.8016763925552368,0.9305819272994995,-1.117539644241333,-0.16616366803646088,-1.1160296201705933,-1.7199755907058716,-1.607486367225647,-1.3264981508255005,1.202692985534668,-1.795539379119873,0.13986508548259735,1.2714143991470337,-1.6787195205688477,-2.0376782417297363,0.34984809160232544,-0.8691160678863525,0.261839896440506,1.9475622177124023,-0.3167107105255127,-0.5499945878982544,-0.06070922687649727,-0.5251585245132446,0.2980581521987915,-0.045926887542009354,-1.0895426273345947,0.17575238645076752,1.4258036613464355,0.5053555369377136,-1.8310134410858154,-1.8430142402648926,-1.474724292755127,0.051492515951395035,-0.4088529348373413,0.6014176607131958,-1.7766132354736328,0.6788428425788879,1.1630859375,1.5751477479934692,-0.06042821705341339,-0.09673941880464554,-1.7807914018630981,-1.0100395679473877,-2.6165645122528076,-0.6579742431640625,-0.7977902293205261,-0.25617554783821106,0.09419943392276764,-0.48202747106552124,-1.1573752164840698,2.0014357566833496,-0.93100905418396,-0.30542507767677307,-2.537269115447998,1.4999319314956665,0.04390329867601395,-0.44379401206970215,0.40444695949554443,0.44713500142097473,-1.9719281196594238,-1.3510109186172485,-1.371826410293579,-0.15978030860424042,-1.2050491571426392,-1.22305428981781,1.3417481184005737,0.12076546996831894,-0.5065691471099854,-0.13994960486888885,-0.4545862674713135,-0.9478950500488281,-0.10224991291761398,1.3691105842590332,-1.4477050304412842,1.1520112752914429,1.4429503679275513,-2.081479787826538,0.6119213104248047,1.4209147691726685,0.9392450451850891,0.1860012710094452,1.1454365253448486,0.22105367481708527,-0.9888290166854858,-0.41315051913261414,-1.457877278327942,0.2197682112455368,-1.0492442846298218,-1.7229433059692383,-1.4375972747802734,0.4478747546672821,0.27016013860702515,1.2253320217132568,-0.747144877910614,-0.7379336953163147,-0.929086446762085,-1.3138405084609985,-2.5029258728027344,-2.5629446506500244,-1.5336112976074219,-0.08452628552913666,-0.0926966667175293,-0.0372716449201107,0.19558419287204742,-0.7137628197669983,-0.41125014424324036,-0.6867848038673401,-0.46215882897377014,-0.9707820415496826,-0.8586783409118652,2.3151960372924805,-1.1578314304351807,1.6257659196853638,-0.3838682472705841,-1.7245270013809204,1.9569586515426636,0.2658051550388336,2.1093485355377197,-0.5355060696601868,0.2759074866771698,1.1204488277435303,0.0703788697719574,-1.1552259922027588,-1.1609044075012207,-1.3881036043167114,0.35140785574913025,-1.2133342027664185,0.9955116510391235,0.7023857235908508,-0.5848561525344849,0.6060305833816528,0.6503792405128479,2.337906837463379,-1.988322377204895,-0.9403873682022095,-1.0860302448272705,2.096750020980835,-1.8990607261657715,-0.09281673282384872,2.1778204441070557,1.1566294431686401,-0.8812364339828491,1.0090304613113403,1.1444127559661865,1.4933204650878906,-1.4393486976623535,1.2416459321975708,0.08610884100198746,-0.2997974157333374,0.9485158324241638,-0.6762486696243286,-0.10644754022359848,0.6668393611907959,1.1018956899642944,-0.5981338620185852,-0.2152283936738968,1.3595890998840332,1.3721574544906616,-0.29570797085762024,0.809955894947052,1.0068690776824951,-0.6566678285598755,0.9860810041427612,0.003500008024275303,1.4943370819091797,-1.0742777585983276,1.8210432529449463,-1.4263533353805542,0.8994891047477722,2.12580943107605,1.6475434303283691,-1.3695460557937622,-0.0656358003616333,-1.7436354160308838,-0.9731057286262512,-0.24701254069805145,-0.16374707221984863,-1.9694604873657227,0.5206632614135742,-0.37147027254104614,-0.3745187520980835,-1.0045411586761475,-1.1845420598983765,-2.250102996826172,-1.6476495265960693,-1.1418899297714233,-1.4090580940246582,-0.6500851511955261,-2.077598810195923,-0.9683756232261658,-1.569149374961853,-0.35966959595680237,-0.9575526118278503,-1.160740852355957,0.3234283924102783,-1.8629636764526367,0.9710967540740967,-1.0190112590789795,0.31294745206832886,0.1666283905506134,0.7380267977714539,-1.2087708711624146,-2.237265110015869,0.9524787664413452,-1.5436627864837646,-0.9023233652114868,0.05541694536805153,-0.10913782566785812,-1.485397458076477,-0.3223332464694977,-0.8615274429321289,-0.2894492745399475,-0.9186827540397644,-0.5012269020080566,-1.761250615119934,-1.5150412321090698,1.0384420156478882,-0.00012442556908354163,-0.9035148024559021,0.15330547094345093,-1.2047126293182373,-0.43515485525131226,0.9141570329666138,-2.336674928665161,0.016620660200715065,-0.6103156805038452,-0.8920798897743225,-1.3850101232528687,-2.037440299987793,0.04102621227502823,-0.4898606240749359,-2.596597909927368,0.7058273553848267,1.3958021402359009,0.8320509195327759,-0.4157305359840393,1.162508487701416,0.1053142324090004,0.26584428548812866,0.2920992076396942,-0.23223763704299927,0.08487481623888016,-0.09443259984254837,-1.4236434698104858,0.26957106590270996,-0.1986781805753708,-0.0672033429145813,-0.1923690140247345,-0.015926379710435867,-0.7387833595275879,-0.10122019797563553,-0.338356077671051,-0.8088775873184204,1.0496926307678223,0.5390326380729675,-0.026619816198945045,-0.15867318212985992,0.3306763172149658,0.20895718038082123,-0.7437812685966492,-1.5870435237884521,-0.0744672566652298,0.34764841198921204,1.9015121459960938,-0.7430285215377808,-0.16447317600250244,1.6317836046218872,1.5363390445709229,0.03120717592537403,-1.4329348802566528,1.208731770515442,-0.6582313776016235,1.8424322605133057,0.5498217344284058,0.028628839179873466,-1.0158989429473877,-1.0986133813858032,2.083040475845337,1.6964731216430664,-1.9577115774154663,0.8102108240127563,-0.8165845274925232,0.10135602205991745,0.7137690186500549,0.6502397656440735,0.03602742403745651,-2.714256525039673,0.6392084360122681,-0.5267750024795532,-1.2436304092407227,0.8437566161155701,0.9862526059150696,0.7446131110191345,0.2301165908575058,1.3809618949890137,0.113053098320961,-0.1720200628042221,0.7387571334838867,1.0220385789871216,1.9645692110061646,-1.8361047506332397,-0.30819347500801086,0.46931472420692444,-0.04465698450803757,-0.1080101728439331,-0.11995197832584381,-1.7469152212142944,0.6247539520263672,0.22028598189353943,-0.019328534603118896,0.9318687319755554,-0.5572816133499146,-0.5417495369911194,-0.6141695976257324,2.1314165592193604,-0.09216475486755371,0.27372121810913086,0.4484792649745941,-0.6898513436317444,0.09100671112537384,-0.3457612097263336,0.23992770910263062,0.0010080550564453006,-0.7573652267456055,0.9759144186973572,0.7996661067008972,0.0008534674998372793,-0.9488820433616638,-0.11313070356845856,-1.1238367557525635,2.09016489982605,-0.3190954923629761,0.05277924984693527,-0.34779250621795654,-0.838696300983429,-0.46207383275032043,1.3893197774887085,-0.33946171402931213,1.0612196922302246,-1.156214952468872,0.515425443649292,1.1662960052490234,-0.9328606724739075,-0.3480971157550812,0.4731702208518982,-0.9915773868560791,-0.37303367257118225,0.267185240983963,1.1169297695159912,0.30939778685569763,-0.3809082806110382,0.5637102127075195,-0.9923588633537292,1.5408447980880737,1.9785737991333008,-0.6523251533508301,0.11549945920705795,0.9984752535820007,0.6386780142784119,0.048103466629981995,0.8105483055114746,-0.5560102462768555,-1.3314719200134277,-0.45753228664398193,0.8967210054397583,0.3506813645362854,0.41232699155807495,-0.029268192127346992,-0.4776555001735687,-2.3772597312927246,0.14649789035320282,0.9636443257331848,1.1157984733581543,-0.7306891679763794,-1.6308082342147827,0.10534121096134186,-0.25779780745506287,-0.04393008351325989,0.692745566368103,-0.520810067653656,-0.45944738388061523,1.4351624250411987,0.12527728080749512,-2.172577142715454,0.22696304321289062,0.49314790964126587,1.3707451820373535,-1.9900267124176025,0.31163185834884644,0.01923665590584278,-1.2288376092910767,1.8571197986602783,1.0821419954299927,0.5105782747268677,-0.014689534902572632,0.960460901260376,0.2738295793533325,0.2908633351325989,0.9986335635185242,-0.5772459506988525,0.45458826422691345,-1.972468376159668,-0.28441521525382996,1.2061853408813477,-0.9099619388580322,-2.045585870742798,1.6508958339691162,0.6402923464775085,1.9662963151931763,-0.8245481252670288,0.7436530590057373,1.2098361253738403,0.8383207321166992,0.754301905632019,-0.0878165140748024,0.5593286752700806,-0.01236945390701294,1.5713675022125244,0.3281761407852173,0.6608433723449707,0.566358208656311,-0.5980871319770813,1.1954654455184937,-0.16830241680145264,1.035833716392517,0.4384428560733795,-0.7666977047920227,-0.779353678226471,0.15563900768756866,0.4323088824748993,0.3657533824443817,-0.21530240774154663,0.9424565434455872,0.48044055700302124,0.11026457697153091,-0.4299503564834595,-1.9977388381958008,1.031584620475769,0.18478979170322418,-0.06836365163326263,-0.1639837771654129,-1.1739072799682617,-1.2726497650146484,0.9976044297218323,-0.05257267504930496,-0.03690953552722931,0.24208152294158936,-0.006187045015394688,0.3208666443824768,-0.02421077899634838,0.4454006254673004,0.8163338303565979,-2.153590679168701,-0.07902278751134872,-2.0897984504699707,-0.8014978170394897,1.726468801498413,-0.8670855760574341,0.3516647517681122,-0.10293610394001007,0.18347766995429993,-0.9961674213409424,-0.7668881416320801,1.1147117614746094,0.12675844132900238,-0.1850084364414215,2.1129753589630127,0.6334221959114075,1.1319224834442139,0.3320747911930084,0.9045906662940979,2.1106960773468018,-0.39806509017944336,-0.5326248407363892,0.5874666571617126,1.1382182836532593,-0.7114055156707764,-0.16469734907150269,-1.3353091478347778,0.35396963357925415,0.8813593983650208,-0.3689144551753998,0.9869766235351562,1.6824060678482056,-0.5898419618606567,-0.29338815808296204,-0.07598290592432022,0.36024338006973267,-0.14524805545806885,-0.04305709898471832,2.051656723022461,0.6852455735206604,1.6202183961868286,0.8754863142967224,0.06868442893028259,-1.073029637336731,-0.28550559282302856,2.016144275665283,0.0987439751625061,-0.02216508984565735,-0.12228167057037354,-0.058231253176927567,1.1724674701690674,1.0274672508239746,-1.9612529277801514,-0.5537656545639038,-0.5550522804260254,0.15235547721385956,0.23489853739738464,1.1434186697006226,2.10382080078125,-2.247631311416626,0.14451022446155548,0.024878254160284996,-0.2780214548110962,-0.6673988103866577,0.8446564078330994,1.0910444259643555,0.5539931654930115,0.7700671553611755,0.7876988053321838,-0.2370259314775467,0.06620524078607559,-0.3203763961791992,0.06557183712720871,-0.17668983340263367,1.6502656936645508,-0.6878137588500977,0.25817516446113586,-0.022457992658019066,-0.2437632828950882,-1.0500121116638184,0.005737286061048508,-0.03487173840403557,0.7246513962745667,0.16698004305362701,-1.3390705585479736,-0.6824269890785217,0.5687934756278992,0.7534183859825134,0.39847615361213684,0.8443995118141174,0.2785279452800751,-0.29869475960731506,-0.7594718337059021,-1.9880231618881226,1.4962835311889648,0.507205069065094,0.0765373632311821,1.1302672624588013,2.079921007156372,1.0344301462173462,0.7830031514167786,-1.334260106086731,-1.1172767877578735,-1.3481422662734985,0.6345641016960144,0.7601866126060486,0.5332040190696716,0.23645074665546417,0.015486560761928558,0.3926624655723572,-0.2692473828792572,0.8452802896499634,-1.218265414237976,-0.2978220582008362,0.3592531085014343,0.8306313753128052,2.093189001083374,-0.5888476967811584,-0.4855307936668396,1.33713960647583,-0.298411101102829,0.1271243691444397,0.38114526867866516,1.9778943061828613,2.150420904159546,0.9671400189399719,0.2176831066608429,-0.6462753415107727,-1.2119746208190918,-0.6407822966575623,-0.9341661334037781,-0.6884675621986389,-1.4660236835479736,0.29768186807632446,-0.32998910546302795,-1.5154024362564087,0.7203348278999329,0.6088321208953857,-1.1286190748214722,1.7210538387298584,-0.22117526829242706,0.4099569022655487,0.49667954444885254,-0.5306299924850464,-1.4705818891525269,-0.29240724444389343,-0.7443190217018127,-0.6091124415397644,-1.0682263374328613,-0.20683449506759644,-0.07301820069551468,-1.2646571397781372,0.04602554067969322,-0.5332967638969421,0.5267467498779297,-0.3977721333503723,0.07168137282133102,-0.15325389802455902,-0.601299524307251,0.1053728461265564,1.5342603921890259,0.13323593139648438,0.06455859541893005,0.23449347913265228,-0.06258634477853775,0.6341399550437927,0.31332436203956604,-0.1759120225906372,-0.013272915966808796,0.19553455710411072,0.23153278231620789,0.49323177337646484,-0.031987499445676804,0.1844131052494049,-0.8938896059989929,-0.8405671119689941,-1.625618577003479,0.23346206545829773,-2.081777334213257,-0.23080886900424957,0.008161017671227455,-0.7998842597007751,-0.04384839907288551,-0.688895046710968,-0.5961154699325562,1.1612963676452637,0.4850156009197235,-2.020301580429077,1.8314297199249268,-0.6691488027572632,-0.46952688694000244,-1.899976134300232,-1.536954402923584,-1.5567156076431274,-1.3217713832855225,-0.5125380754470825,-0.8221005201339722,0.6702434420585632,1.2788668870925903,-0.5115403532981873,-0.2594671845436096,1.7790330648422241,0.14270170032978058,-1.7588939666748047,1.5626428127288818,-1.041482925415039,0.522676944732666,0.6200327277183533,-1.528393030166626,0.13774143159389496,-0.6710658073425293,0.6632624268531799,1.1406294107437134,1.0466804504394531,0.32328513264656067,0.2903343737125397,-2.1380274295806885,-1.1726524829864502,-0.19660969078540802,-0.8144829869270325,0.7427538633346558,1.280025601387024,-0.05197025090456009,-0.38632047176361084,0.02108004130423069,1.320028305053711,0.14857880771160126,-0.23602668941020966,-0.7250184416770935,0.10461906343698502,-1.8228509426116943,0.4663635492324829,-0.8469162583351135,0.11729694157838821,1.277873158454895,-0.033833812922239304,0.5294917821884155,-2.265221118927002,1.4740020036697388,0.3901134133338928,0.27649277448654175,-0.09808593988418579,-0.08292408287525177,-0.7811450958251953,-0.8123078346252441,-0.11253900825977325,0.014489024877548218,-0.005620761774480343,-0.4941461980342865,0.5397878885269165,0.2195424735546112,2.150999069213867,-0.2758273780345917,-2.1695644855499268,1.0771301984786987,-0.7126815319061279,1.3430559635162354,0.0751613974571228,0.685048520565033,0.8435538411140442,0.35573628544807434,-0.040162526071071625,-0.6211289763450623,-0.02330104261636734,0.5552233457565308,-0.4826258718967438,0.7046443223953247,-0.41086092591285706,-1.1870802640914917,0.1361149698495865,2.2010812759399414,-2.647951126098633,-0.9821535348892212,-1.0635143518447876,0.1765371710062027,-1.5301626920700073,1.1151841878890991,0.7843582630157471,0.6540120244026184,0.3943033814430237,-1.5428791046142578,0.5244091153144836,-0.2982632517814636,-1.2301326990127563,0.42725855112075806,0.8021184802055359,0.3765813410282135,0.47913771867752075,0.7277361154556274,2.0628368854522705,0.09919501096010208,-1.039670705795288,0.402938574552536,-0.8706415891647339,-1.3741211891174316,1.6845808029174805,0.06939780712127686],\"y\":[-0.843621015548706,0.5061856508255005,1.2162392139434814,1.3261020183563232,-0.47981902956962585,0.3465898036956787,2.565131664276123,0.0815787985920906,1.318027138710022,0.847418487071991,1.5192770957946777,2.231806516647339,0.12226474285125732,0.5089349150657654,-0.5547184348106384,1.9271063804626465,-0.46712738275527954,0.034099921584129333,0.4823174774646759,0.3700897991657257,-2.1655967235565186,0.4177855849266052,1.8394800424575806,-0.9021150469779968,0.07302922755479813,0.4663783609867096,0.1206265240907669,-0.09806682169437408,-1.1304066181182861,0.4931492805480957,-0.09909133613109589,0.7088143825531006,0.1866404414176941,1.0122413635253906,0.0740421786904335,-2.08606219291687,-0.055503975600004196,0.524405300617218,-0.34775882959365845,0.4132573902606964,0.6630258560180664,-0.13381777703762054,1.2283176183700562,-2.089982271194458,-0.17907001078128815,-1.885359525680542,0.8718602657318115,1.3180668354034424,-1.4487521648406982,-0.32817572355270386,1.5058505535125732,-2.0679025650024414,-1.2709633111953735,1.7512404918670654,2.5903563499450684,2.1974236965179443,0.14278540015220642,-1.601077914237976,-1.016958475112915,-1.123034954071045,-0.7993744611740112,-0.8784503936767578,-0.2759723365306854,-0.5847163796424866,1.0111266374588013,-1.986163854598999,-0.4605734646320343,-0.10232796519994736,2.1558525562286377,-0.5747147798538208,-0.8934836983680725,-0.4248709976673126,0.6763308644294739,1.4302070140838623,-2.277130603790283,0.5760108232498169,1.6901514530181885,0.16884414851665497,2.470879316329956,0.4045277535915375,-0.037401728332042694,0.6791410446166992,2.0418994426727295,-0.13385091722011566,0.21182924509048462,-0.18439464271068573,1.9768909215927124,1.9710801839828491,-0.8057233095169067,1.0898876190185547,1.7821376323699951,0.8860927224159241,1.8599973917007446,1.1264578104019165,0.9052824378013611,-1.8388538360595703,0.0675855204463005,0.8856220245361328,1.383923053741455,1.7322312593460083,1.4258266687393188,-0.3507351875305176,-0.24351416528224945,1.116422176361084,1.7173064947128296,0.986467182636261,2.008287191390991,-0.3216626048088074,1.099830985069275,-0.3922867774963379,1.5898189544677734,1.217091679573059,1.3513509035110474,1.746073603630066,-0.04536115750670433,1.1724355220794678,1.700326919555664,-2.0140397548675537,1.5507434606552124,1.2323949337005615,1.4127261638641357,-0.5618337988853455,1.9819737672805786,0.7202997207641602,1.6333531141281128,1.8486155271530151,1.3683445453643799,-1.1577032804489136,0.606360673904419,-0.6994050145149231,1.0763115882873535,-0.2615222632884979,0.13850364089012146,-1.5774482488632202,0.3631325662136078,1.7416722774505615,0.5676764845848083,-1.1700775623321533,-0.8946162462234497,-0.6127532720565796,1.0838717222213745,1.9568601846694946,-1.081477403640747,-0.3770870864391327,-0.760614812374115,1.8031268119812012,0.7103068828582764,-0.5513797402381897,-1.172165036201477,-1.0328923463821411,-0.452761709690094,-1.1337206363677979,1.9952313899993896,1.2288235425949097,0.47071704268455505,-1.195215106010437,0.3236697018146515,-0.2559100389480591,-0.08991912007331848,-1.3164345026016235,-1.8992862701416016,-0.32298776507377625,-0.38162800669670105,-2.13152813911438,0.10740314424037933,-0.06884052604436874,1.5977959632873535,0.571224570274353,-0.3641164004802704,0.1722707599401474,2.4372782707214355,0.8646613359451294,1.016749382019043,0.7590535283088684,-0.32718753814697266,0.13673709332942963,0.02698228508234024,-0.0033325902186334133,-0.6461013555526733,0.7136561870574951,-1.309146523475647,1.1978782415390015,0.14750955998897552,-0.01127649750560522,-0.5499675273895264,-0.026046225801110268,1.6656533479690552,-0.8384307622909546,-1.347092866897583,0.9084078669548035,1.6863789558410645,0.9279711842536926,-0.18072567880153656,0.4458225667476654,0.39842212200164795,0.6820707321166992,-0.26132291555404663,1.065304160118103,0.29417064785957336,-0.9145810008049011,0.3738710284233093,0.20194853842258453,0.5003671050071716,0.20416249334812164,0.9490039944648743,-0.49621862173080444,0.45906656980514526,1.0665572881698608,0.5993413925170898,-0.31126952171325684,0.4815678894519806,1.9154905080795288,0.8214285373687744,-0.3438282012939453,-0.13506226241588593,0.6695948243141174,1.7694498300552368,0.2978808879852295,-0.11343739926815033,-1.3639565706253052,2.142707347869873,0.4374351501464844,1.2585018873214722,-0.04484308138489723,1.6393216848373413,-0.6083078384399414,0.9261241555213928,0.5661056637763977,0.8494291305541992,0.29468074440956116,1.7519100904464722,0.655033528804779,0.8249197006225586,0.33645400404930115,0.3671983480453491,-1.0681084394454956,1.512730598449707,1.308068871498108,-0.8097032904624939,0.36871537566185,0.037501685321331024,0.3714090585708618,1.2637102603912354,-1.5741136074066162,1.2164722681045532,-1.2665760517120361,3.1000795364379883,0.17086555063724518,1.8502014875411987,-0.027218667790293694,-1.3253637552261353,0.3376583158969879,0.31548723578453064,2.1711370944976807,0.4218345582485199,2.50709867477417,0.2757377326488495,2.32792592048645,2.12638783454895,0.7822058796882629,-1.5360209941864014,2.429076671600342,-1.4728000164031982,1.387252926826477,0.35964691638946533,1.3110826015472412,-0.2779777944087982,2.1092143058776855,0.10468748211860657,0.5174536108970642,0.5874680280685425,0.7137835621833801,1.372031569480896,0.26067888736724854,1.1659489870071411,0.13057495653629303,0.7250646948814392,1.1931802034378052,1.8529551029205322,-1.3112573623657227,0.10768730193376541,-0.32821911573410034,0.18608839809894562,0.31334131956100464,0.2904968857765198,0.38014110922813416,1.3782564401626587,1.4722820520401,1.2462046146392822,1.2753273248672485,1.1220324039459229,0.6185020208358765,2.4031131267547607,-2.098027229309082,0.35172468423843384,0.29903843998908997,-0.9646921753883362,1.566408395767212,1.1449077129364014,0.016792599111795425,-1.1982542276382446,-0.7700295448303223,-1.0657838582992554,-0.08114791661500931,-0.06729135662317276,-1.4035741090774536,-1.2504703998565674,-0.2891334295272827,-1.548604130744934,-0.19480526447296143,-0.8135722875595093,-0.05380089208483696,0.3234747052192688,0.9500656723976135,2.062055826187134,0.2925226390361786,-0.7067126035690308,1.06184720993042,0.2050400823354721,1.1478447914123535,1.2022998332977295,1.0140759944915771,0.4212077260017395,0.9966567754745483,0.8873457908630371,-0.7438185214996338,-0.9633240699768066,1.3489807844161987,-0.44670969247817993,0.8430286049842834,-0.22672298550605774,0.0017998715629801154,0.529144823551178,-0.6763892769813538,2.5200138092041016,0.869891881942749,-1.4833778142929077,0.5449316501617432,-1.0373106002807617,-1.140236735343933,-1.251657485961914,2.265721082687378,-1.473656177520752,0.26035159826278687,2.1347463130950928,0.010515714064240456,0.503542959690094,-0.7932098507881165,0.32965636253356934,0.3079328238964081,0.8726409673690796,0.9445977807044983,1.5554842948913574,0.8027083277702332,0.6362721920013428,-0.20560699701309204,-0.4119810461997986,0.3189765214920044,-0.018164049834012985,0.8430455923080444,-1.30160653591156,-0.2662836015224457,-0.8226912021636963,-0.12843629717826843,1.8534646034240723,1.544879674911499,1.149593472480774,1.2151200771331787,-0.8131835460662842,-0.6850532293319702,-1.5870366096496582,0.8244053721427917,0.24251362681388855,0.9187800288200378,0.6673830151557922,0.5235031843185425,-0.07165016978979111,-0.7471283674240112,1.2314039468765259,0.027786897495388985,-1.559731125831604,0.3299473822116852,0.1803026646375656,0.3190063536167145,-0.45916324853897095,0.14598895609378815,-1.9251035451889038,-0.5954874157905579,-1.4699232578277588,-0.14427228271961212,-0.20962035655975342,-2.8015778064727783,-0.1413344144821167,-2.050679922103882,-2.766303300857544,-1.1474311351776123,0.6923526525497437,-1.4299036264419556,-0.03848101943731308,2.4767353534698486,-1.3827900886535645,1.9937655925750732,2.0411789417266846,-1.2900842428207397,-0.9818123579025269,-0.057502761483192444,2.4495439529418945,-0.09397958219051361,-1.0683677196502686,-1.2951020002365112,-0.5721399188041687,0.10013148933649063,-1.9069595336914062,0.31474655866622925,0.5052940249443054,0.3193689286708832,0.1708403080701828,1.4211935997009277,-0.8896905779838562,0.2873489558696747,-1.0210750102996826,0.7972586750984192,1.0622018575668335,0.3717029094696045,0.7104204297065735,-1.2056111097335815,-0.10422082990407944,1.4694806337356567,0.009470072574913502,1.6274985074996948,-1.0009455680847168,0.9144653677940369,-1.5233705043792725,-0.8489777445793152,-0.3228696286678314,-1.3481770753860474,1.3697848320007324,1.3976157903671265,1.0148347616195679,0.6740821599960327,1.279375672340393,0.9434801936149597,1.6705927848815918,-0.12699152529239655,1.4160548448562622,0.5442422032356262,-1.2702579498291016,-1.9299437999725342,0.9340347647666931,0.31406643986701965,0.09038213640451431,1.0682377815246582,-0.647040843963623,-0.09519015997648239,-1.1672130823135376,0.21379272639751434,-0.8412792086601257,-0.02352152019739151,1.1691133975982666,-0.2760910987854004,0.0011061611585319042,-0.6400588750839233,-1.7801852226257324,1.2554045915603638,1.932610034942627,-1.4030760526657104,-1.5832570791244507,0.09794474393129349,-0.939060628414154,0.24411290884017944,0.8941065669059753,-0.38475918769836426,1.4937962293624878,0.4349060654640198,0.32219335436820984,-0.26278257369995117,-0.5931757092475891,1.6784961223602295,-0.01616894081234932,-1.2440471649169922,-0.3930160403251648,0.4643823802471161,1.0104155540466309,-0.36020317673683167,0.5348582863807678,-1.6535062789916992,-1.6916104555130005,-2.230149030685425,-0.04387272894382477,-2.568129777908325,-2.611253261566162,0.23479095101356506,-2.5722930431365967,0.6379486918449402,-1.337411880493164,-2.517615556716919,-1.6806713342666626,-0.3127065896987915,0.7059470415115356,-2.9710185527801514,1.1436808109283447,-0.7794511914253235,1.1819430589675903,-0.6816253066062927,1.5802158117294312,-0.4431416690349579,0.5161402821540833,-1.970983624458313,1.0443594455718994,0.4976678788661957,0.5790839195251465,-0.766129732131958,0.5839449763298035,0.1403515636920929,-0.1884888857603073,0.7134810090065002,1.239460825920105,1.3743047714233398,-0.716199517250061,-1.9505352973937988,-1.32565438747406,-1.1530355215072632,-1.0942186117172241,0.7728257179260254,2.262068510055542,0.9370042681694031,-1.8970465660095215,-0.7508842349052429,0.7020969390869141,-0.1743384301662445,-1.040481448173523,0.8772380948066711,-1.1706997156143188,-1.8080966472625732,0.0017655001720413566,-0.19311308860778809,-0.17217831313610077,-0.08844506740570068,-0.7741657495498657,-1.7497155666351318,-0.8857144117355347,1.8096832036972046,0.024462029337882996,-0.22753410041332245,-0.8105743527412415,2.025204658508301,0.2767287790775299,-0.7439339756965637,2.261521100997925,-0.7332566380500793,1.2161234617233276,-0.7989537715911865,1.7912558317184448,0.4878794252872467,0.5600965619087219,-0.06027119979262352,-0.21935725212097168,-1.4829072952270508,-0.5683115124702454,2.2242584228515625,1.0631424188613892,-1.85362708568573,-0.4640607237815857,-0.38831061124801636,-0.15073435008525848,-0.105184406042099,-0.17059242725372314,-0.6719347238540649,-1.0894112586975098,-1.9387401342391968,0.7717379331588745,0.7323864698410034,0.7139620780944824,-0.296836793422699,0.6704497933387756,1.7220343351364136,-0.6294763684272766,-0.15473529696464539,-1.476464867591858,0.08926929533481598,-0.07156140357255936,0.5676512718200684,-1.0005042552947998,0.1353919357061386,-1.3427799940109253,1.174991488456726,-0.5839998722076416,1.036421298980713,0.0911211371421814,-0.9751262068748474,0.46662306785583496,1.3503488302230835,1.552789330482483,-0.2570212185382843,-0.8072124719619751,-0.951442301273346,0.8427254557609558,-1.6582319736480713,1.5663750171661377,-0.16290873289108276,2.2818853855133057,-0.15607775747776031,1.0692764520645142,-0.21886005997657776,1.8246785402297974,0.5051294565200806,1.1475402116775513,1.1580479145050049,0.8906233310699463,-1.650860071182251,0.24448466300964355,0.5711100697517395,0.063236765563488,0.672985315322876,-0.25859227776527405,0.045897528529167175,0.7464607357978821,0.5707337260246277,0.5343393087387085,-0.2079518586397171,-0.356596440076828,1.5043189525604248,0.5038111805915833,-1.070837140083313,-1.3230129480361938,0.3531518578529358,0.022631272673606873,0.46950873732566833,-0.027184665203094482,-1.8868253231048584,0.945077121257782,0.4247151017189026,0.04173608869314194,1.0413410663604736,0.40526071190834045,1.0822944641113281,-0.19235694408416748,1.826725959777832,0.6052399277687073,0.09530050307512283,0.43250253796577454,-1.6982632875442505,-0.27269279956817627,0.023622043430805206,0.7489479780197144,-2.9774975776672363,2.222809314727783,-0.4670411944389343,0.37344133853912354,2.1336634159088135,-0.09104173630475998,-0.12754888832569122,-0.6524583101272583,2.01141357421875,0.2927039563655853,1.5416783094406128,-0.7598995566368103,0.36895862221717834,0.4211105406284332,-0.4605025351047516,2.3725736141204834,0.523000180721283,-0.5023332834243774,-0.7365338802337646,0.8264709115028381,-0.19745589792728424,-0.6558173298835754,0.5109112858772278,1.192386269569397,0.5717840790748596,-0.20504894852638245,-0.2944231927394867,-1.1475354433059692,-0.6941351890563965,-1.5597901344299316,1.1463028192520142,0.5159380435943604,0.41005411744117737,-1.3407907485961914,0.5457075834274292,0.020719191059470177,0.22896985709667206,-1.2212440967559814,1.388210415840149,-0.28496530652046204,0.1944282501935959,2.381884813308716,0.7611514329910278,-1.7002607583999634,-2.186940908432007,-0.953424870967865,-0.1568310558795929,-0.4867033064365387,-0.07563605904579163,0.7928338050842285,-0.15192995965480804,-0.7743605375289917,0.5830716490745544,-1.504800796508789,-0.5206559896469116,-0.2900826334953308,-0.6002083420753479,0.8421400785446167,0.08121507614850998,-0.9062897562980652,-0.13674381375312805,0.2955142557621002,0.6124681234359741,-1.0902727842330933,-1.237260341644287,-0.23631833493709564,-0.34509649872779846,-0.8837904930114746,-1.0092560052871704,-2.070599317550659,-1.0233259201049805,-0.5729566812515259,0.34742656350135803,0.13174119591712952,1.6219383478164673,0.1986531913280487,-0.9724684357643127,0.49415987730026245,-0.6609196066856384,0.005292808171361685,-0.9330540895462036,1.976638674736023,-0.5311546325683594,-0.19583992660045624,0.16264650225639343,0.6048178672790527,-0.4086771309375763,0.06635291874408722,0.24689842760562897,-0.35998016595840454,0.3901088237762451,1.1503041982650757,-0.5286101698875427,-1.2674267292022705,-0.3342626094818115,-0.7271900177001953,0.008398158475756645,0.3939095735549927,1.6186531782150269,1.159865379333496,-0.023235099390149117,-0.059129320085048676,-0.23113895952701569,-0.3538081645965576,-0.22285760939121246,-0.7991801500320435,-0.17967841029167175,2.1683645248413086,0.09279385209083557,-0.18623565137386322,0.6237660646438599,-0.18079254031181335,-1.5127084255218506,-1.0555022954940796,-0.42208555340766907,-0.6205905079841614,1.0272105932235718,-0.7511874437332153,-0.0066579794511199,-0.20962390303611755,-0.6799238920211792,-0.20646925270557404,0.17815619707107544,0.783836841583252,0.6067940592765808,-0.3540779948234558,-0.6172937154769897,0.2581366002559662,0.02989363670349121,-0.652025580406189,1.0506227016448975,-0.8085961937904358,-0.7447889447212219,-0.341402530670166,0.8814765810966492,0.5854913592338562,0.28948915004730225,-0.3854468762874603,-0.35992196202278137,-0.5224040746688843,-0.4929187595844269,0.3488573133945465,-1.7944276332855225,-1.191286325454712,1.7557227611541748,0.9506663084030151,-0.0466555617749691,1.888002872467041,1.0985573530197144,1.178922414779663,-0.10276076197624207,0.4549589157104492,0.18585127592086792,-0.483561635017395,-0.34130480885505676,-1.771729588508606,-1.8927909135818481,1.655970573425293,1.5713213682174683,-0.5463293194770813,-0.19308170676231384,0.306147038936615,-0.9481499195098877,-0.5933350920677185,-1.2684215307235718,1.0044653415679932,1.093248963356018,1.1350088119506836,0.5004168748855591,1.082474708557129,-0.0038691433146595955,0.4484545886516571,-0.9959363341331482,-0.12845690548419952,0.8855734467506409,1.506730318069458,-0.36748388409614563,0.37163931131362915,0.47090139985084534,-1.3434664011001587,0.7365357875823975,-1.8187298774719238,-1.9518579244613647,1.0062127113342285,2.056811571121216,0.11240760236978531,-0.05814453959465027,-0.6685627102851868,-0.41097304224967957,-0.377509206533432,0.17745327949523926,0.9817368388175964,0.4391247630119324,-0.04112044721841812,1.053382396697998,0.20250213146209717,-0.8759198188781738,1.472153902053833,0.25210341811180115,0.9513659477233887,0.5179119110107422,0.9245696067810059,0.04997672885656357,1.4177206754684448,-0.11007538437843323,-0.5343480706214905,0.0795820876955986,0.3271332085132599,0.667452335357666,0.6881986856460571,0.45070692896842957,0.5398222804069519,-1.8676469326019287,1.0701525211334229,0.01164054311811924,0.05724209547042847,0.7873713374137878,0.05348577722907066,0.23100201785564423,0.9191657900810242,-0.2570689618587494,0.8624398708343506,1.508082389831543,-0.9450790286064148,0.7705922722816467,-1.3113222122192383,-0.18587027490139008,2.301809072494507,-0.16119222342967987,0.0012818957911804318,1.0027774572372437,-1.819144368171692,0.011698025278747082,0.8969296813011169,1.4003771543502808,-2.640697479248047,-0.5622398257255554,0.5430892705917358,-2.317535877227783,0.7222087979316711,0.9231699705123901,-0.04990716278553009,-0.8139356374740601,1.9559658765792847,-2.040126323699951,-0.6589184999465942,1.3198497295379639,0.7815255522727966,0.9507437348365784,1.4394690990447998,-0.44653478264808655,1.0769294500350952,0.9939413666725159,-0.7955586910247803,-0.8397984504699707,-1.441334843635559,0.6257132291793823,0.13849346339702606,0.5038778185844421,-0.6732937693595886,-0.5230879783630371,0.8013084530830383,0.972061276435852,0.5820504426956177,2.334794044494629,0.3642624020576477,-0.0053130327723920345,-0.3385867476463318,-0.3039804697036743,-1.5924181938171387,-0.2849484980106354,-0.5146668553352356,-0.5749828815460205,-1.078999400138855,1.0145527124404907,-0.215620756149292,-0.9602195620536804,2.5338850021362305,-0.2868191599845886,-0.4657769501209259,0.1494075208902359,0.41920316219329834,-0.16667678952217102,0.10154696553945541,0.037690337747335434,-0.2572481036186218,-0.43078911304473877,0.9999448657035828,1.4254900217056274,3.156141757965088,1.4914542436599731,0.9975395202636719,-0.16497555375099182,2.3238813877105713,-0.28417932987213135,-0.4382413923740387,0.9182496666908264,-0.5575177669525146,-0.9549362063407898,0.6767002940177917,0.11238929629325867,0.3873785734176636,-0.998572826385498,0.0706452876329422,0.42742249369621277,-1.5507017374038696,-0.6755021214485168,1.3782293796539307,-0.9132518768310547,0.29330581426620483,-1.49004065990448,-0.656338632106781,0.6906935572624207,-0.01993361860513687,-0.12954695522785187,0.7683542370796204,-0.042833998799324036,-0.33364182710647583,0.20138849318027496,-1.1151156425476074,-1.592354416847229,-0.5864055156707764,0.6777747869491577,-0.4597247242927551,-0.9257060289382935,0.9155564904212952,-1.1449058055877686,1.4669557809829712,-0.06220688670873642,-1.3364452123641968,1.949342966079712,0.3044860064983368,-1.7234151363372803,-0.2814803123474121,-0.026929397135972977,0.8053401708602905,0.13421249389648438,0.1084088683128357,0.9790217280387878,1.9020949602127075,-1.0356045961380005,0.03133869543671608,-0.31609171628952026,-0.29836830496788025,-1.1323087215423584,-0.5606250166893005,0.606000542640686,0.5404337644577026,2.2916955947875977,-0.9661564826965332,1.6210918426513672,-1.4176708459854126,0.515519917011261,-0.1535545289516449,0.7495209574699402],\"type\":\"scatter\"}],                        {\"template\":{\"data\":{\"histogram2dcontour\":[{\"type\":\"histogram2dcontour\",\"colorbar\":{\"outlinewidth\":0,\"ticks\":\"\"},\"colorscale\":[[0.0,\"#0d0887\"],[0.1111111111111111,\"#46039f\"],[0.2222222222222222,\"#7201a8\"],[0.3333333333333333,\"#9c179e\"],[0.4444444444444444,\"#bd3786\"],[0.5555555555555556,\"#d8576b\"],[0.6666666666666666,\"#ed7953\"],[0.7777777777777778,\"#fb9f3a\"],[0.8888888888888888,\"#fdca26\"],[1.0,\"#f0f921\"]]}],\"choropleth\":[{\"type\":\"choropleth\",\"colorbar\":{\"outlinewidth\":0,\"ticks\":\"\"}}],\"histogram2d\":[{\"type\":\"histogram2d\",\"colorbar\":{\"outlinewidth\":0,\"ticks\":\"\"},\"colorscale\":[[0.0,\"#0d0887\"],[0.1111111111111111,\"#46039f\"],[0.2222222222222222,\"#7201a8\"],[0.3333333333333333,\"#9c179e\"],[0.4444444444444444,\"#bd3786\"],[0.5555555555555556,\"#d8576b\"],[0.6666666666666666,\"#ed7953\"],[0.7777777777777778,\"#fb9f3a\"],[0.8888888888888888,\"#fdca26\"],[1.0,\"#f0f921\"]]}],\"heatmap\":[{\"type\":\"heatmap\",\"colorbar\":{\"outlinewidth\":0,\"ticks\":\"\"},\"colorscale\":[[0.0,\"#0d0887\"],[0.1111111111111111,\"#46039f\"],[0.2222222222222222,\"#7201a8\"],[0.3333333333333333,\"#9c179e\"],[0.4444444444444444,\"#bd3786\"],[0.5555555555555556,\"#d8576b\"],[0.6666666666666666,\"#ed7953\"],[0.7777777777777778,\"#fb9f3a\"],[0.8888888888888888,\"#fdca26\"],[1.0,\"#f0f921\"]]}],\"heatmapgl\":[{\"type\":\"heatmapgl\",\"colorbar\":{\"outlinewidth\":0,\"ticks\":\"\"},\"colorscale\":[[0.0,\"#0d0887\"],[0.1111111111111111,\"#46039f\"],[0.2222222222222222,\"#7201a8\"],[0.3333333333333333,\"#9c179e\"],[0.4444444444444444,\"#bd3786\"],[0.5555555555555556,\"#d8576b\"],[0.6666666666666666,\"#ed7953\"],[0.7777777777777778,\"#fb9f3a\"],[0.8888888888888888,\"#fdca26\"],[1.0,\"#f0f921\"]]}],\"contourcarpet\":[{\"type\":\"contourcarpet\",\"colorbar\":{\"outlinewidth\":0,\"ticks\":\"\"}}],\"contour\":[{\"type\":\"contour\",\"colorbar\":{\"outlinewidth\":0,\"ticks\":\"\"},\"colorscale\":[[0.0,\"#0d0887\"],[0.1111111111111111,\"#46039f\"],[0.2222222222222222,\"#7201a8\"],[0.3333333333333333,\"#9c179e\"],[0.4444444444444444,\"#bd3786\"],[0.5555555555555556,\"#d8576b\"],[0.6666666666666666,\"#ed7953\"],[0.7777777777777778,\"#fb9f3a\"],[0.8888888888888888,\"#fdca26\"],[1.0,\"#f0f921\"]]}],\"surface\":[{\"type\":\"surface\",\"colorbar\":{\"outlinewidth\":0,\"ticks\":\"\"},\"colorscale\":[[0.0,\"#0d0887\"],[0.1111111111111111,\"#46039f\"],[0.2222222222222222,\"#7201a8\"],[0.3333333333333333,\"#9c179e\"],[0.4444444444444444,\"#bd3786\"],[0.5555555555555556,\"#d8576b\"],[0.6666666666666666,\"#ed7953\"],[0.7777777777777778,\"#fb9f3a\"],[0.8888888888888888,\"#fdca26\"],[1.0,\"#f0f921\"]]}],\"mesh3d\":[{\"type\":\"mesh3d\",\"colorbar\":{\"outlinewidth\":0,\"ticks\":\"\"}}],\"scatter\":[{\"fillpattern\":{\"fillmode\":\"overlay\",\"size\":10,\"solidity\":0.2},\"type\":\"scatter\"}],\"parcoords\":[{\"type\":\"parcoords\",\"line\":{\"colorbar\":{\"outlinewidth\":0,\"ticks\":\"\"}}}],\"scatterpolargl\":[{\"type\":\"scatterpolargl\",\"marker\":{\"colorbar\":{\"outlinewidth\":0,\"ticks\":\"\"}}}],\"bar\":[{\"error_x\":{\"color\":\"#2a3f5f\"},\"error_y\":{\"color\":\"#2a3f5f\"},\"marker\":{\"line\":{\"color\":\"#E5ECF6\",\"width\":0.5},\"pattern\":{\"fillmode\":\"overlay\",\"size\":10,\"solidity\":0.2}},\"type\":\"bar\"}],\"scattergeo\":[{\"type\":\"scattergeo\",\"marker\":{\"colorbar\":{\"outlinewidth\":0,\"ticks\":\"\"}}}],\"scatterpolar\":[{\"type\":\"scatterpolar\",\"marker\":{\"colorbar\":{\"outlinewidth\":0,\"ticks\":\"\"}}}],\"histogram\":[{\"marker\":{\"pattern\":{\"fillmode\":\"overlay\",\"size\":10,\"solidity\":0.2}},\"type\":\"histogram\"}],\"scattergl\":[{\"type\":\"scattergl\",\"marker\":{\"colorbar\":{\"outlinewidth\":0,\"ticks\":\"\"}}}],\"scatter3d\":[{\"type\":\"scatter3d\",\"line\":{\"colorbar\":{\"outlinewidth\":0,\"ticks\":\"\"}},\"marker\":{\"colorbar\":{\"outlinewidth\":0,\"ticks\":\"\"}}}],\"scattermapbox\":[{\"type\":\"scattermapbox\",\"marker\":{\"colorbar\":{\"outlinewidth\":0,\"ticks\":\"\"}}}],\"scatterternary\":[{\"type\":\"scatterternary\",\"marker\":{\"colorbar\":{\"outlinewidth\":0,\"ticks\":\"\"}}}],\"scattercarpet\":[{\"type\":\"scattercarpet\",\"marker\":{\"colorbar\":{\"outlinewidth\":0,\"ticks\":\"\"}}}],\"carpet\":[{\"aaxis\":{\"endlinecolor\":\"#2a3f5f\",\"gridcolor\":\"white\",\"linecolor\":\"white\",\"minorgridcolor\":\"white\",\"startlinecolor\":\"#2a3f5f\"},\"baxis\":{\"endlinecolor\":\"#2a3f5f\",\"gridcolor\":\"white\",\"linecolor\":\"white\",\"minorgridcolor\":\"white\",\"startlinecolor\":\"#2a3f5f\"},\"type\":\"carpet\"}],\"table\":[{\"cells\":{\"fill\":{\"color\":\"#EBF0F8\"},\"line\":{\"color\":\"white\"}},\"header\":{\"fill\":{\"color\":\"#C8D4E3\"},\"line\":{\"color\":\"white\"}},\"type\":\"table\"}],\"barpolar\":[{\"marker\":{\"line\":{\"color\":\"#E5ECF6\",\"width\":0.5},\"pattern\":{\"fillmode\":\"overlay\",\"size\":10,\"solidity\":0.2}},\"type\":\"barpolar\"}],\"pie\":[{\"automargin\":true,\"type\":\"pie\"}]},\"layout\":{\"autotypenumbers\":\"strict\",\"colorway\":[\"#636efa\",\"#EF553B\",\"#00cc96\",\"#ab63fa\",\"#FFA15A\",\"#19d3f3\",\"#FF6692\",\"#B6E880\",\"#FF97FF\",\"#FECB52\"],\"font\":{\"color\":\"#2a3f5f\"},\"hovermode\":\"closest\",\"hoverlabel\":{\"align\":\"left\"},\"paper_bgcolor\":\"white\",\"plot_bgcolor\":\"#E5ECF6\",\"polar\":{\"bgcolor\":\"#E5ECF6\",\"angularaxis\":{\"gridcolor\":\"white\",\"linecolor\":\"white\",\"ticks\":\"\"},\"radialaxis\":{\"gridcolor\":\"white\",\"linecolor\":\"white\",\"ticks\":\"\"}},\"ternary\":{\"bgcolor\":\"#E5ECF6\",\"aaxis\":{\"gridcolor\":\"white\",\"linecolor\":\"white\",\"ticks\":\"\"},\"baxis\":{\"gridcolor\":\"white\",\"linecolor\":\"white\",\"ticks\":\"\"},\"caxis\":{\"gridcolor\":\"white\",\"linecolor\":\"white\",\"ticks\":\"\"}},\"coloraxis\":{\"colorbar\":{\"outlinewidth\":0,\"ticks\":\"\"}},\"colorscale\":{\"sequential\":[[0.0,\"#0d0887\"],[0.1111111111111111,\"#46039f\"],[0.2222222222222222,\"#7201a8\"],[0.3333333333333333,\"#9c179e\"],[0.4444444444444444,\"#bd3786\"],[0.5555555555555556,\"#d8576b\"],[0.6666666666666666,\"#ed7953\"],[0.7777777777777778,\"#fb9f3a\"],[0.8888888888888888,\"#fdca26\"],[1.0,\"#f0f921\"]],\"sequentialminus\":[[0.0,\"#0d0887\"],[0.1111111111111111,\"#46039f\"],[0.2222222222222222,\"#7201a8\"],[0.3333333333333333,\"#9c179e\"],[0.4444444444444444,\"#bd3786\"],[0.5555555555555556,\"#d8576b\"],[0.6666666666666666,\"#ed7953\"],[0.7777777777777778,\"#fb9f3a\"],[0.8888888888888888,\"#fdca26\"],[1.0,\"#f0f921\"]],\"diverging\":[[0,\"#8e0152\"],[0.1,\"#c51b7d\"],[0.2,\"#de77ae\"],[0.3,\"#f1b6da\"],[0.4,\"#fde0ef\"],[0.5,\"#f7f7f7\"],[0.6,\"#e6f5d0\"],[0.7,\"#b8e186\"],[0.8,\"#7fbc41\"],[0.9,\"#4d9221\"],[1,\"#276419\"]]},\"xaxis\":{\"gridcolor\":\"white\",\"linecolor\":\"white\",\"ticks\":\"\",\"title\":{\"standoff\":15},\"zerolinecolor\":\"white\",\"automargin\":true,\"zerolinewidth\":2},\"yaxis\":{\"gridcolor\":\"white\",\"linecolor\":\"white\",\"ticks\":\"\",\"title\":{\"standoff\":15},\"zerolinecolor\":\"white\",\"automargin\":true,\"zerolinewidth\":2},\"scene\":{\"xaxis\":{\"backgroundcolor\":\"#E5ECF6\",\"gridcolor\":\"white\",\"linecolor\":\"white\",\"showbackground\":true,\"ticks\":\"\",\"zerolinecolor\":\"white\",\"gridwidth\":2},\"yaxis\":{\"backgroundcolor\":\"#E5ECF6\",\"gridcolor\":\"white\",\"linecolor\":\"white\",\"showbackground\":true,\"ticks\":\"\",\"zerolinecolor\":\"white\",\"gridwidth\":2},\"zaxis\":{\"backgroundcolor\":\"#E5ECF6\",\"gridcolor\":\"white\",\"linecolor\":\"white\",\"showbackground\":true,\"ticks\":\"\",\"zerolinecolor\":\"white\",\"gridwidth\":2}},\"shapedefaults\":{\"line\":{\"color\":\"#2a3f5f\"}},\"annotationdefaults\":{\"arrowcolor\":\"#2a3f5f\",\"arrowhead\":0,\"arrowwidth\":1},\"geo\":{\"bgcolor\":\"white\",\"landcolor\":\"#E5ECF6\",\"subunitcolor\":\"white\",\"showland\":true,\"showlakes\":true,\"lakecolor\":\"white\"},\"title\":{\"x\":0.05},\"mapbox\":{\"style\":\"light\"}}},\"title\":{\"text\":\"t-SNE Visualization of Word Embeddings\"},\"xaxis\":{\"title\":{\"text\":\"t-SNE Dimension 1\"}},\"yaxis\":{\"title\":{\"text\":\"t-SNE Dimension 2\"}},\"height\":800},                        {\"responsive\": true}                    ).then(function(){\n",
              "                            \n",
              "var gd = document.getElementById('d1883d19-5232-46e5-9e5a-91edf3cf9ea0');\n",
              "var x = new MutationObserver(function (mutations, observer) {{\n",
              "        var display = window.getComputedStyle(gd).display;\n",
              "        if (!display || display === 'none') {{\n",
              "            console.log([gd, 'removed!']);\n",
              "            Plotly.purge(gd);\n",
              "            observer.disconnect();\n",
              "        }}\n",
              "}});\n",
              "\n",
              "// Listen for the removal of the full notebook cells\n",
              "var notebookContainer = gd.closest('#notebook-container');\n",
              "if (notebookContainer) {{\n",
              "    x.observe(notebookContainer, {childList: true});\n",
              "}}\n",
              "\n",
              "// Listen for the clearing of the current output cell\n",
              "var outputEl = gd.closest('.output');\n",
              "if (outputEl) {{\n",
              "    x.observe(outputEl, {childList: true});\n",
              "}}\n",
              "\n",
              "                        })                };                            </script>        </div>\n",
              "</body>\n",
              "</html>"
            ]
          },
          "metadata": {}
        }
      ]
    },
    {
      "cell_type": "markdown",
      "metadata": {
        "id": "OcctyCqXRn22"
      },
      "source": [
        "## Let's Experiment!"
      ]
    },
    {
      "cell_type": "markdown",
      "metadata": {
        "id": "khVfQDiqRyuW"
      },
      "source": [
        "Now it's your time to experiment.\n",
        "- Find a new training corpus to train our CBOW model from scratch (it can be books, tweets, etc).  This should change the embeddings. Analyse and report how this new training set changes the vectors themselves and the accuracy on the analogy test.\n",
        "- Test your embeddings on a different sub-section of the analogy dataset or another dataset. Analyse and report how these results compare with the original dataset."
      ]
    },
    {
      "cell_type": "markdown",
      "source": [
        "Category: Family"
      ],
      "metadata": {
        "id": "dwqzw2xHcplN"
      }
    },
    {
      "cell_type": "code",
      "source": [
        "import pandas as pd\n",
        "\n",
        "def test_analogy_2(model, word_to_index, analogy_file, subset_size=None):\n",
        "    \"\"\"\n",
        "    Method to test accuracy of CBOW embeddings on analogy tasks.\n",
        "\n",
        "    Arguments\n",
        "    ---------\n",
        "    model : nn.Module\n",
        "        Trained CBOW model.\n",
        "    word_to_index : Dictionary\n",
        "        Dictionary mapping words to indices {word: index}.\n",
        "    analogy_file : String\n",
        "        File containing analogy tasks.\n",
        "    subset_size : int, optional\n",
        "        Number of rows to use from the dataset (for testing purposes).\n",
        "\n",
        "    Returns\n",
        "    -------\n",
        "    accuracy : float\n",
        "        Accuracy of the model on the analogy tasks.\n",
        "    \"\"\"\n",
        "    # Load the CSV file\n",
        "    df = pd.read_csv(analogy_file)\n",
        "\n",
        "    # Filter by the 'capital-common-countries' category\n",
        "    df = df[df['category'] == 'family']\n",
        "\n",
        "    # Reduce the dataset size for testing, if subset_size is provided\n",
        "    if subset_size:\n",
        "        df = df.head(subset_size)\n",
        "\n",
        "    correct = 0\n",
        "    total = 0\n",
        "    skipped = 0  # Counter for skipped tasks\n",
        "\n",
        "    # Iterate through each analogy task\n",
        "    for index, row in df.iterrows():\n",
        "        word_one = row['word_one'].lower()\n",
        "        word_two = row['word_two'].lower()\n",
        "        word_three = row['word_three'].lower()\n",
        "        word_four = row['word_four'].lower()\n",
        "\n",
        "        # Skip tasks if any word is not in the vocabulary\n",
        "        if (word_one not in word_to_index) or (word_two not in word_to_index) or \\\n",
        "           (word_three not in word_to_index) or (word_four not in word_to_index):\n",
        "            skipped += 1\n",
        "            continue\n",
        "\n",
        "        # Get embeddings for the words\n",
        "        embedding_word_one = get_embedding(word_one, model, word_to_index)\n",
        "        embedding_word_two = get_embedding(word_two, model, word_to_index)\n",
        "        embedding_word_three = get_embedding(word_three, model, word_to_index)\n",
        "\n",
        "        # Compute the resulting analogy vector\n",
        "        result_embedding = embedding_word_two - embedding_word_one + embedding_word_three\n",
        "\n",
        "        # Find the top 3 nearest words to the result\n",
        "        predictions = get_k_nearest_words(10, result_embedding, word_to_index, model, word_to_index)\n",
        "\n",
        "        # Print detailed results\n",
        "        is_correct = word_four in predictions\n",
        "        print(f\"Analogy: {word_one} -> {word_two} :: {word_three} -> {word_four} | Prediction: {predictions}, Correct: {is_correct}\")\n",
        "\n",
        "        if is_correct:\n",
        "            correct += 1\n",
        "\n",
        "        total += 1\n",
        "\n",
        "    # Print final stats\n",
        "    print(f\"Total tasks skipped due to missing words: {skipped}\")\n",
        "    if total == 0:\n",
        "        print(\"No valid tasks were processed.\")\n",
        "        return 'No word was found in the embeddings'\n",
        "\n",
        "    accuracy = correct / total\n",
        "    print(f\"Analogy task accuracy: {accuracy:.4f}\")\n",
        "    return accuracy\n",
        "\n",
        "# Test the model on a reduced subset for quick debugging (e.g., 10 rows)\n",
        "accuracy = test_analogy_2(model, word_to_index, 'TestSet_sample.csv', subset_size=200)\n",
        "\n",
        "# accuracy = test_analogy(model, word_to_index, 'TestSet_sample.csv')"
      ],
      "metadata": {
        "colab": {
          "base_uri": "https://localhost:8080/"
        },
        "id": "Nxsrb2PycvzX",
        "outputId": "88ebbc61-fb38-4083-d501-76bb2e1c9376"
      },
      "execution_count": null,
      "outputs": [
        {
          "output_type": "stream",
          "name": "stdout",
          "text": [
            "Analogy: boy -> girl :: brother -> sister | Prediction: ['girl', 'brother', 'tornillo', 'eberhard', 'batsman', 'stood', 'haiduts', 'blaue', 'selfreferential', 'facade'], Correct: False\n",
            "Analogy: boy -> girl :: brothers -> sisters | Prediction: ['brothers', 'girl', 'atc', 'db', 'missiles', 'discusses', 'affiliation', 'rowspanrosso', 'cpm', 'petr'], Correct: False\n",
            "Analogy: boy -> girl :: dad -> mom | Prediction: ['girl', 'dad', 'willingham', 'saintexupéry', 'bulb', 'socialize', 'sinotibetan', 'gifuj', 'neuharth', 'inexplicable'], Correct: False\n",
            "Analogy: boy -> girl :: father -> mother | Prediction: ['girl', 'father', 'ecological', 'midtwentieth', 'tornillo', 'german–french–english', 'hedberg', 'willingham', 'db', 'dads'], Correct: False\n",
            "Analogy: boy -> girl :: grandfather -> grandmother | Prediction: ['grandfather', 'girl', 'starlifter', 'dangers', 'comingofage', 'limerick', 'willingham', 'bmw', 'pythagoras', 'jails'], Correct: False\n",
            "Analogy: boy -> girl :: grandpa -> grandma | Prediction: ['grandpa', 'girl', 'dartmoor', 'rationale', 'trumpeter', 'passed', 'extent', 'db', 'socialize', 'jungang'], Correct: False\n",
            "Analogy: boy -> girl :: grandson -> granddaughter | Prediction: ['grandson', 'girl', 'midtwentieth', 'adventurers', 'viewers', 'literature', 'buddhist', 'atc', 'friend', 'jik'], Correct: False\n",
            "Analogy: boy -> girl :: groom -> bride | Prediction: ['groom', 'girl', 'tornillo', 'stylized', 'midtwentieth', 'vary', 'extent', 'minimoys', 'comedic', 'zubbair'], Correct: False\n",
            "Analogy: boy -> girl :: husband -> wife | Prediction: ['girl', 'husband', 'tornillo', 'bullock', 'simulator', 'cruel', 'adventurers', 'friend', 'zdeněk', 'db'], Correct: False\n",
            "Analogy: boy -> girl :: king -> queen | Prediction: ['girl', 'king', 'willingham', 'cinema', 'jik', 'abdicated', 'db', 'midtwentieth', 'haiduts', 'friend'], Correct: False\n",
            "Analogy: boy -> girl :: man -> woman | Prediction: ['girl', 'man', 'tornillo', 'atc', 'stood', 'mehr', 'midtwentieth', 'mitsurō', 'cat', 'parramon'], Correct: False\n",
            "Analogy: boy -> girl :: nephew -> niece | Prediction: ['girl', 'nephew', 'nostrils', 'canals', 'tornillo', 'willingham', 'midtwentieth', 'jails', 'zdeněk', 'encourage'], Correct: False\n",
            "Analogy: boy -> girl :: prince -> princess | Prediction: ['girl', 'prince', 'canyon', 'tornillo', 'king', 'habibu', 'friend', 'admits', 'malloy', 'affiliation'], Correct: False\n",
            "Analogy: boy -> girl :: son -> daughter | Prediction: ['girl', 'son', 'midtwentieth', 'canals', '“on', 'bullock', 'bhuttos', 'rentals', 'buchrain', 'chapí'], Correct: False\n",
            "Analogy: boy -> girl :: sons -> daughters | Prediction: ['sons', 'girl', 'लेक', 'urge', 'willingham', 'rabeya', 'disability', 'squares', 'burleigh', 'cui'], Correct: False\n",
            "Analogy: boy -> girl :: stepbrother -> stepsister | Prediction: ['stepbrother', 'girl', 'ova', 'caroll', 'angical', '’glocal’', 'supporting', 'otome', 'adventurers', 'comingofage'], Correct: False\n",
            "Analogy: boy -> girl :: stepfather -> stepmother | Prediction: ['stepfather', 'girl', 'metric', 'solidarity', 'midtwentieth', 'fonts', 'schröter', 'reproduction', 'burleigh', 'bmw'], Correct: False\n",
            "Analogy: boy -> girl :: uncle -> aunt | Prediction: ['girl', 'uncle', '“on', 'stamps', 'rutherfordium', 'atc', 'willingham', 'baden', 'curcas', 'dartmoor'], Correct: False\n",
            "Analogy: brother -> sister :: brothers -> sisters | Prediction: ['brothers', 'sister', 'plight', 'heaton', 'gorman', 'gonadotropinreleasing', '£million', 'madhav', 'wa', 'aareleuchten'], Correct: False\n",
            "Analogy: brother -> sister :: dad -> mom | Prediction: ['dad', 'sister', 'piazza', 'austral', 'cocker', 'distant', 'jagdish', 'allisons', 'synistor', 'kareem'], Correct: False\n",
            "Analogy: brother -> sister :: father -> mother | Prediction: ['father', 'sister', 'stockcross', 'अळी', 'columbias', 'abnormalities', 'girlfriendboyfriend', 'nagar', 'peasant', 'limestones'], Correct: False\n",
            "Analogy: brother -> sister :: grandfather -> grandmother | Prediction: ['grandfather', 'sister', 'oakie', 'bojowa', 'ilsley', 'hüttel', 'banks', 'sassanids', 'aandhi', 'cocker'], Correct: False\n",
            "Analogy: brother -> sister :: grandpa -> grandma | Prediction: ['grandpa', 'sister', 'allisons', 'recensions', 'kodansha', 'kenji', 'अळी', 'nationcolumbia', 'salé', 'millis'], Correct: False\n",
            "Analogy: brother -> sister :: grandson -> granddaughter | Prediction: ['grandson', 'sister', 'thessalia', 'allisons', 'eucalyptus', 'arenzano', 'supreme', 'insming', 'ambani', 'kriva'], Correct: False\n",
            "Analogy: brother -> sister :: groom -> bride | Prediction: ['groom', 'sister', 'mokèlémbèmbé', 'kalte', 'stròlegh', 'runes', 'gorman', 'convenience', 'minimoys', 'médecins'], Correct: False\n",
            "Analogy: brother -> sister :: husband -> wife | Prediction: ['husband', 'sister', 'hüttel', 'tragedy', 'evaristo', 'mammals', 'cellassociated', 'kodansha', 'loftus', 'cocker'], Correct: False\n",
            "Analogy: brother -> sister :: king -> queen | Prediction: ['king', 'sister', 'tragedy', 'thessalia', 'lingala', 'cocker', 'inspector', 'till', 'abdicated', 'marriott'], Correct: False\n",
            "Analogy: brother -> sister :: man -> woman | Prediction: ['man', 'sister', 'conchita', 'cocker', 'hawaiian', 'patrik', 'circa', 'tyrolean', 'mammals', 'thessalia'], Correct: False\n",
            "Analogy: brother -> sister :: nephew -> niece | Prediction: ['nephew', 'sister', 'kodansha', 'thessalia', 'pashinyan', 'sorprese', 'trajan', 'cambridgeshire', 'mitsotakis', 'naoaki'], Correct: False\n",
            "Analogy: brother -> sister :: prince -> princess | Prediction: ['prince', 'sister', 'telecasters', 'tragedy', 'shiptonunderwichwood', 'stalins', 'trémoille', 'hüttel', 'nicolaï', 'mokèlémbèmbé'], Correct: False\n",
            "Analogy: brother -> sister :: son -> daughter | Prediction: ['son', 'sister', 'abnormalities', 'piazza', 'ambani', 'fifteen', 'visions', 'kareem', 'vinegarroon', 'plight'], Correct: False\n",
            "Analogy: brother -> sister :: sons -> daughters | Prediction: ['sons', 'sister', 'duhem', 'baekje', 'brittanie', 'hawaiian', 'yuji', 'cornwall', 'galicia', 'shayon'], Correct: False\n",
            "Analogy: brother -> sister :: stepbrother -> stepsister | Prediction: ['stepbrother', 'sister', 'lingala', 'purmerend', 'plight', 'seventyseven', 'protoslavic', 'limestones', 'danieli', 'finchampstead'], Correct: False\n",
            "Analogy: brother -> sister :: stepfather -> stepmother | Prediction: ['stepfather', 'sister', 'hüttel', 'currawongs', 'médecins', 'precinct', 'inspector', 'daring', 'fiancé', 'thai'], Correct: False\n",
            "Analogy: brother -> sister :: uncle -> aunt | Prediction: ['uncle', 'sister', 'evaristo', 'abnormalities', 'pesaro', 'tire', 'thessalia', 'ladders', 'loftus', 'партия'], Correct: False\n",
            "Analogy: brother -> sister :: boy -> girl | Prediction: ['boy', 'sister', 'vic', 'kareem', 'अळी', 'slumberland', 'tahiti', 'anemone', 'cb', 'conchita'], Correct: False\n",
            "Analogy: brothers -> sisters :: dad -> mom | Prediction: ['sisters', 'dad', 'righteous', 'commons', 'munichen', 'karadžić', 'lehman', 'tampa', 'heroin', 'idlewild'], Correct: False\n",
            "Analogy: brothers -> sisters :: father -> mother | Prediction: ['sisters', 'father', 'righteous', 'tacinda', 'ranger', 'pongal', 'highrise', 'okenmike', 'depressed', 'alkazi'], Correct: False\n",
            "Analogy: brothers -> sisters :: grandfather -> grandmother | Prediction: ['grandfather', 'sisters', 'schleswigholsteinsonderburgglücksburg', 'miyazaki', 'harshly', 'munichen', 'yazz', 'hush', 'tanu', 'corruption'], Correct: False\n",
            "Analogy: brothers -> sisters :: grandpa -> grandma | Prediction: ['sisters', 'grandpa', 'ranger', 'yazz', 'happiness', 'paragraph', 'vulum', 'adele', 'anglosaxon', 'white'], Correct: False\n",
            "Analogy: brothers -> sisters :: grandson -> granddaughter | Prediction: ['sisters', 'grandson', 'munichen', 'वल्ली', 'hainish', 'vulum', 'syllable', 'spandau', 'squeeze', 'abdülmecid'], Correct: False\n",
            "Analogy: brothers -> sisters :: groom -> bride | Prediction: ['sisters', 'groom', 'ciphertext', 'odd', 'abdülmecid', 'actibusque', 'selkämeri', 'tacinda', 'mula', 'blanchett'], Correct: False\n",
            "Analogy: brothers -> sisters :: husband -> wife | Prediction: ['sisters', 'husband', 'munichen', 'yazz', 'partnered', 'priestesses', 'skylight', 'lovecraft', 'canadiens', 'righteous'], Correct: False\n",
            "Analogy: brothers -> sisters :: king -> queen | Prediction: ['sisters', 'king', 'abdülmecid', 'coma', 'munichen', 'agincourt', 'henry', 'calicut', 'gladiators', 'fosters'], Correct: False\n",
            "Analogy: brothers -> sisters :: man -> woman | Prediction: ['sisters', 'man', 'borneo', 'aguacapa', 'righteous', 'directorial', 'ranger', 'krovi', 'weaned', 'illusion'], Correct: False\n",
            "Analogy: brothers -> sisters :: nephew -> niece | Prediction: ['sisters', 'nephew', 'psychrolutes', 'caravan', 'fellowships', 'turturro', 'jeollabukdos', 'lakes', 'munichen', 'respondent'], Correct: False\n",
            "Analogy: brothers -> sisters :: prince -> princess | Prediction: ['sisters', 'prince', 'nanoemulsions', 'longest', 'partnered', 'itu', 'munichen', 'đảng', 'rattail', 'longerlasting'], Correct: False\n",
            "Analogy: brothers -> sisters :: son -> daughter | Prediction: ['sisters', 'son', 'munichen', 'ranger', 'daughter', 'person', 'jamralcolumbia', 'righteous', 'chantal', 'pongal'], Correct: True\n",
            "Analogy: brothers -> sisters :: sons -> daughters | Prediction: ['sisters', 'sons', 'psychrolutes', 'tacinda', 'longerlasting', 'spandau', 'palmerston', 'actibusque', 'larbaâ', 'jeollabukdos'], Correct: False\n",
            "Analogy: brothers -> sisters :: stepbrother -> stepsister | Prediction: ['sisters', 'stepbrother', 'coopers', 'commons', 'schleswigholsteinsonderburgglücksburg', 'rebelheld', 'cookouts', 'katy', 'winterer', 'crusade'], Correct: False\n",
            "Analogy: brothers -> sisters :: stepfather -> stepmother | Prediction: ['sisters', 'stepfather', 'straits', 'hydride', 'blackbacked', 'alz', 'telekinesis', 'rotorua', 'trailways', 'yazz'], Correct: False\n",
            "Analogy: brothers -> sisters :: uncle -> aunt | Prediction: ['sisters', 'uncle', 'álvarez', 'sicheng', 'schleswigholsteinsonderburgglücksburg', 'psychrolutes', 'bacon', 'munichen', 'wglxfm', 'ranger'], Correct: False\n",
            "Analogy: brothers -> sisters :: boy -> girl | Prediction: ['sisters', 'boy', 'righteous', 'idlewild', 'ranger', 'carey', 'oxycodone', 'vissel', 'laird', 'shag'], Correct: False\n",
            "Analogy: brothers -> sisters :: brother -> sister | Prediction: ['sisters', 'brother', 'foreland', 'helper', 'ranger', 'doctress', 'zhou', 'andrews', 'younger', 'dazur'], Correct: False\n",
            "Analogy: dad -> mom :: father -> mother | Prediction: ['mom', 'father', 'damiba', 'kasplya', 'recognitionclarence', 'kunal', 'auroras', 'trajan', 'mandapa', 'neovenator'], Correct: False\n",
            "Analogy: dad -> mom :: grandfather -> grandmother | Prediction: ['grandfather', 'mom', 'neovenator', 'carl', 'kazi', 'ammianus', 'collins', 'randhir', 'xaver', 'mutters'], Correct: False\n",
            "Analogy: dad -> mom :: grandpa -> grandma | Prediction: ['mom', 'grandpa', 'designcurr', 'haarlem', 'komodo', 'kazahana', 'meth', 'kasplya', 'aberdeen', 'inés'], Correct: False\n",
            "Analogy: dad -> mom :: grandson -> granddaughter | Prediction: ['grandson', 'mom', 'michele', 'expeditionary', 'cognition', 'deurbaana', 'oxelösund', 'prelate', 'mutters', 'patsch'], Correct: False\n",
            "Analogy: dad -> mom :: groom -> bride | Prediction: ['groom', 'mom', 'spam', 'crush', 'hnl', 'sisley', 'xaver', 'curve', 'ottsel', 'kamaru'], Correct: False\n",
            "Analogy: dad -> mom :: husband -> wife | Prediction: ['mom', 'husband', 'srem', 'wee', 'xinya', 'aberdeen', 'ruff', 'backwards', 'σ', 'vauvert'], Correct: False\n",
            "Analogy: dad -> mom :: king -> queen | Prediction: ['mom', 'king', 'mutters', 'taymiya', 'télé', 'duke', 'neovenator', 'kinpachisensei', 'prejudice', 'obs'], Correct: False\n",
            "Analogy: dad -> mom :: man -> woman | Prediction: ['mom', 'man', 'hrunamannahreppur', 'dafydd', 'srem', 'neovenator', 'ammianus', 'myrtle', 'demeaned', '€'], Correct: False\n",
            "Analogy: dad -> mom :: nephew -> niece | Prediction: ['mom', 'nephew', 'billionaire', 'regalado', 'trajan', 'ninakku', 'vivas', 'fallout', 'snr', 'clothes'], Correct: False\n",
            "Analogy: dad -> mom :: prince -> princess | Prediction: ['prince', 'mom', 'bakhtiar', 'rowspanolympique', 'wienkorneuburg', 'chiemgau', 'tariffs', 'parsauni', 'byte', 'medewi'], Correct: False\n",
            "Analogy: dad -> mom :: son -> daughter | Prediction: ['mom', 'son', 'hrunamannahreppur', 'haarlem', 'ohhh', 'daughter', 'indemini', 'hautevillelaguichard', 'damiba', 'subcamp'], Correct: True\n",
            "Analogy: dad -> mom :: sons -> daughters | Prediction: ['sons', 'mom', 'elis', 'hrunamannahreppur', 'neovenator', 'obs', 'overijssel', 'collins', 'okubo', 'fokker'], Correct: False\n",
            "Analogy: dad -> mom :: stepbrother -> stepsister | Prediction: ['stepbrother', 'mom', 'bingo', 'collins', 'derived', 'negruzzi', 'ocr', 'surplus', 'macabebe', 'anibal'], Correct: False\n",
            "Analogy: dad -> mom :: stepfather -> stepmother | Prediction: ['stepfather', 'mom', 'derived', 'ushtogay', 'spam', 'haarlem', 'demeaned', 'tanya', 'nam', 'abode'], Correct: False\n",
            "Analogy: dad -> mom :: uncle -> aunt | Prediction: ['mom', 'uncle', 'neovenator', 'byte', 'beffia', 'biamr', 'auroras', 'haarlem', 'pesaro', 'jamal'], Correct: False\n",
            "Analogy: dad -> mom :: boy -> girl | Prediction: ['boy', 'mom', 'wee', 'kasplya', 'dha', 'xaver', 'medewi', 'johhny', 'cynthia', 'акмолинск'], Correct: False\n",
            "Analogy: dad -> mom :: brother -> sister | Prediction: ['mom', 'brother', 'maithili', 'coli', 'kekchi', 'prelate', 'cousin', 'vishneva', 'hautevillelaguichard', 'macabebe'], Correct: False\n",
            "Analogy: dad -> mom :: brothers -> sisters | Prediction: ['brothers', 'mom', 'cristiana', 'meth', 'jeanne', 'anlius', 'cynthia', 'xaver', 'ballon', 'serbian'], Correct: False\n",
            "Analogy: father -> mother :: grandfather -> grandmother | Prediction: ['grandfather', 'mother', 'vegas', 'حکیم', 'julienne', 'gave', 'alma', 'magnificent', 'agras', 'adventure'], Correct: False\n",
            "Analogy: father -> mother :: grandpa -> grandma | Prediction: ['grandpa', 'mother', 'marciszewski', 'tarente', 'wyndham', 'conacher', 'seller', 'folding', 'anonymus', 'alma'], Correct: False\n",
            "Analogy: father -> mother :: grandson -> granddaughter | Prediction: ['grandson', 'mother', 'caecilius', 'python', 'bran', 'acer', 'steer', 'zentrumspartei', 'marciszewski', 'darkseid'], Correct: False\n",
            "Analogy: father -> mother :: groom -> bride | Prediction: ['groom', 'mother', 'alma', 'велимир', 'convener', 'beauharnais', '冤家父子', 'jokers', 'rlc', 'surat'], Correct: False\n",
            "Analogy: father -> mother :: husband -> wife | Prediction: ['husband', 'mother', 'marciszewski', 'gave', 'onex', 'postlethwaite', 'augustas', 'sculpted', 'convinces', 'son'], Correct: False\n",
            "Analogy: father -> mother :: king -> queen | Prediction: ['king', 'mother', 'dramelay', 'tulbing', 'cinema', 'queen', 'convinces', 'ascended', 'abdicated', 'hoñ'], Correct: True\n",
            "Analogy: father -> mother :: man -> woman | Prediction: ['man', 'mother', 'tulbing', 'zhaksylyk', 'potwar', 'patkar', 'châteauvoué', 'specialallpagesalex', 'child', 'tanlin徐旦隣'], Correct: False\n",
            "Analogy: father -> mother :: nephew -> niece | Prediction: ['nephew', 'mother', 'untouchables', 'caecilius', 'bonnet', 'fingernails', 'convinces', 'possession', 'marciszewski', 'recruit'], Correct: False\n",
            "Analogy: father -> mother :: prince -> princess | Prediction: ['prince', 'mother', 'marciszewski', 'tonini', 'kawabata', 'constructions', 'jimjimən', 'placing', 'bando', 'catalano'], Correct: False\n",
            "Analogy: father -> mother :: son -> daughter | Prediction: ['son', 'mother', 'rlc', 'īsā', 'marciszewski', 'printing', 'edith', 'tries', 'sculpted', 'child'], Correct: False\n",
            "Analogy: father -> mother :: sons -> daughters | Prediction: ['sons', 'mother', 'wwwwallberlinorg', 'marciszewski', 'mogilny', 'sadio', 'chỉ', 'surat', 'octoblock', 'whalum'], Correct: False\n",
            "Analogy: father -> mother :: stepbrother -> stepsister | Prediction: ['stepbrother', 'mother', 'bonnet', 'gin', 'augustas', 'yevgenyevich', 'beauharnais', 'wailers', 'spaak', 'barometric'], Correct: False\n",
            "Analogy: father -> mother :: stepfather -> stepmother | Prediction: ['stepfather', 'mother', 'infection', 'kara', 'controversies', 'horned', 'patkar', 'interrupted', 'zaitokukai', 'hold'], Correct: False\n",
            "Analogy: father -> mother :: uncle -> aunt | Prediction: ['uncle', 'mother', 'touray', 'python', 'sangmu', 'surat', 'augustas', 'courtney', 'cousin', 'manchus'], Correct: False\n",
            "Analogy: father -> mother :: boy -> girl | Prediction: ['boy', 'mother', 'marciszewski', 'crank', 'brontës', 'ka', 'protestors', 'slumberland', 'dith', 'prionailurus'], Correct: False\n",
            "Analogy: father -> mother :: brother -> sister | Prediction: ['brother', 'mother', 'cousin', 'īsā', 'patkar', 'abbots', 'child', 'minoan', 'mcdermott', 'tugginmypudha'], Correct: False\n",
            "Analogy: father -> mother :: brothers -> sisters | Prediction: ['brothers', 'mother', 'patkar', 'rlc', 'ussoviet', 'dramelay', 'kowikipediaorg', 'explained', 'child', 'seasons'], Correct: False\n",
            "Analogy: father -> mother :: dad -> mom | Prediction: ['dad', 'mother', 'titanosaurs', 'ibt', 'macy', 'nps', 'tampa', 'unikonts', 'brontës', 'bootha'], Correct: False\n",
            "Analogy: grandfather -> grandmother :: grandpa -> grandma | Prediction: ['grandpa', 'grandmother', 'arrived', 'løvenkrands', 'burns', 'redden', 'menu', 'hanns', 'offbeat', 'premios'], Correct: False\n",
            "Analogy: grandfather -> grandmother :: grandson -> granddaughter | Prediction: ['grandson', 'grandmother', 'मला', 'nonhodgkin', 'israelipalestinian', 'rūsiņš', 'pagoda', 'felicia', 'stortinis', 'fawley'], Correct: False\n",
            "Analogy: grandfather -> grandmother :: groom -> bride | Prediction: ['groom', 'grandmother', 'jrl', 'conduct', 'nonhodgkin', 'tgv', 'sambhar', 'tafsir', 'positrons', 'tony'], Correct: False\n",
            "Analogy: grandfather -> grandmother :: husband -> wife | Prediction: ['grandmother', 'husband', 'dowager', 'muppets', 'modernday', 'filial', 'unborn', 'outfits', 'kahn', 'dutton'], Correct: False\n",
            "Analogy: grandfather -> grandmother :: king -> queen | Prediction: ['grandmother', 'king', 'sirajuddin', 'invade', 'blaise', 'chevelle', 'मला', 'exile', 'margo', 'caravan'], Correct: False\n",
            "Analogy: grandfather -> grandmother :: man -> woman | Prediction: ['man', 'grandmother', 'saras', 'lutetia', 'exile', 'cathleen', 'parat', 'stortinis', 'pallenberg', 'ahorn'], Correct: False\n",
            "Analogy: grandfather -> grandmother :: nephew -> niece | Prediction: ['nephew', 'grandmother', 'conduct', 'caravan', 'gonohe', 'execution', 'fawley', 'parat', 'naik', 'blackshirts'], Correct: False\n",
            "Analogy: grandfather -> grandmother :: prince -> princess | Prediction: ['grandmother', 'prince', 'dowager', 'cccvv', 'bipolar', 'princess', 'heures', 'shadix', 'duong', 'rotate'], Correct: True\n",
            "Analogy: grandfather -> grandmother :: son -> daughter | Prediction: ['grandmother', 'son', 'corrupted', 'caravan', 'productivity', 'exgirlfriend', 'oonah', 'valeska', 'otjozondjupa', 'parat'], Correct: False\n",
            "Analogy: grandfather -> grandmother :: sons -> daughters | Prediction: ['sons', 'grandmother', 'cccvv', 'bastille', 'variations', 'refugees', 'blagoev', 'permafrost', 'stortinis', 'bipolar'], Correct: False\n",
            "Analogy: grandfather -> grandmother :: stepbrother -> stepsister | Prediction: ['stepbrother', 'grandmother', 'beryllium', 'ol', 'deejay', 'scorsese', 'symonds', 'cathleen', 'asaka', 'rhoades'], Correct: False\n",
            "Analogy: grandfather -> grandmother :: stepfather -> stepmother | Prediction: ['stepfather', 'grandmother', 'lordi', 'modernday', 'mermaidthemed', 'parat', 'saras', 'raaj', 'deejay', 'apoel'], Correct: False\n",
            "Analogy: grandfather -> grandmother :: uncle -> aunt | Prediction: ['grandmother', 'uncle', 'naa', 'wass', 'positrons', 'burns', 'wikihowcom', 'fawley', 'caravan', 'norouzi'], Correct: False\n",
            "Analogy: grandfather -> grandmother :: boy -> girl | Prediction: ['boy', 'grandmother', 'conduct', 'hochneukirchen', 'lutetia', 'wingnut', 'naik', 'lindy', 'lasta', 'djerassi'], Correct: False\n",
            "Analogy: grandfather -> grandmother :: brother -> sister | Prediction: ['brother', 'grandmother', 'tafsir', 'exile', 'linen', 'rajiv', 'sean', 'polycarp', 'junkie', 'orlicí'], Correct: False\n",
            "Analogy: grandfather -> grandmother :: brothers -> sisters | Prediction: ['brothers', 'grandmother', 'bolsheviks', 'erläuterungen', 'exile', 'members', 'multiplatinum', 'silly', 'alièze', 'rūsiņš'], Correct: False\n",
            "Analogy: grandfather -> grandmother :: dad -> mom | Prediction: ['dad', 'grandmother', 'salute', 'originally', 'rath', 'gellmann', 'blagoev', 'cragon', 'deejay', 'infernal'], Correct: False\n",
            "Analogy: grandfather -> grandmother :: father -> mother | Prediction: ['grandmother', 'father', 'positrons', 'drafts', 'variations', 'caravan', 'asaka', 'naik', 'jallaucourt', 'felicia'], Correct: False\n",
            "Analogy: grandpa -> grandma :: grandson -> granddaughter | Prediction: ['grandson', 'grandma', 'bandmate', 'sewage', 'camillo', 'ukrainian', 'usacanada', 'afghanistan', 'मला', 'javed'], Correct: False\n",
            "Analogy: grandpa -> grandma :: groom -> bride | Prediction: ['grandma', 'groom', 'bandmate', 'riding', 'usacanada', 'lagarde', 'audion', 'wrestler', 'imaul', 'meryl'], Correct: False\n",
            "Analogy: grandpa -> grandma :: husband -> wife | Prediction: ['grandma', 'husband', 'bandmate', 'wee', 'argyle', 'ampullariidae', 'wrestlers', 'hodiše', 'xiaoxue', 'skylight'], Correct: False\n",
            "Analogy: grandpa -> grandma :: king -> queen | Prediction: ['grandma', 'king', 'bandmate', 'ampullariidae', 'xiaoxue', 'sewage', 'embezzler', 'usacanada', 'reuillysauvigny', 'shivraj'], Correct: False\n",
            "Analogy: grandpa -> grandma :: man -> woman | Prediction: ['grandma', 'man', 'bandmate', 'sewage', 'javed', 'moloney', 'wee', 'talibans', 'riding', 'morgan'], Correct: False\n",
            "Analogy: grandpa -> grandma :: nephew -> niece | Prediction: ['grandma', 'nephew', 'bandmate', 'xiaoxue', 'usacanada', 'sewage', 'chaudhary', 'coptic', 'graciela', 'biomolecules'], Correct: False\n",
            "Analogy: grandpa -> grandma :: prince -> princess | Prediction: ['prince', 'grandma', 'bandmate', 'cfb', 'nightline', 'surreal', 'schachspielprobleme', 'podlaski', 'xiaoxue', 'shivraj'], Correct: False\n",
            "Analogy: grandpa -> grandma :: son -> daughter | Prediction: ['son', 'grandma', 'bandmate', 'sewage', 'heptarchy', 'ernie', 'seemingly', 'viana', 'usacanada', 'monument'], Correct: False\n",
            "Analogy: grandpa -> grandma :: sons -> daughters | Prediction: ['sons', 'grandma', 'bandmate', 'xiaoxue', 'heptarchy', 'argyle', 'mossowecz', 'sewage', 'dumbrille', 'kavelaars'], Correct: False\n",
            "Analogy: grandpa -> grandma :: stepbrother -> stepsister | Prediction: ['stepbrother', 'grandma', 'bandmate', 'welsh', 'gymnastics', 'ashraf', 'womens', 'hsc', 'knmi', 'zairian'], Correct: False\n",
            "Analogy: grandpa -> grandma :: stepfather -> stepmother | Prediction: ['stepfather', 'grandma', 'sewage', 'bandmate', 'slough', 'nightline', 'javed', 'usacanada', 'heroines', 'heptarchy'], Correct: False\n",
            "Analogy: grandpa -> grandma :: uncle -> aunt | Prediction: ['grandma', 'uncle', 'usacanada', 'bandmate', 'chaudhary', 'sewage', 'biomolecules', 'heptarchy', 'schachspielprobleme', 'argyle'], Correct: False\n",
            "Analogy: grandpa -> grandma :: boy -> girl | Prediction: ['boy', 'grandma', 'nightline', 'wee', 'herbal', 'bandmate', 'minialbums', 'sewage', 'wrestler', 'belz'], Correct: False\n",
            "Analogy: grandpa -> grandma :: brother -> sister | Prediction: ['brother', 'grandma', 'bandmate', 'nussbaumen', 'kirsten', 'wrestler', 'usacanada', 'modo', 'xtra', 'snam'], Correct: False\n",
            "Analogy: grandpa -> grandma :: brothers -> sisters | Prediction: ['brothers', 'grandma', 'bandmate', 'xiaoxue', 'usacanada', 'heptarchy', 'sewage', 'silly', 'nussbaumen', 'detailing'], Correct: False\n",
            "Analogy: grandpa -> grandma :: dad -> mom | Prediction: ['dad', 'grandma', 'bandmate', 'yeshiva', 'syndrome', 'sewage', 'athletics', 'nightline', 'javed', 'bakerloo'], Correct: False\n",
            "Analogy: grandpa -> grandma :: father -> mother | Prediction: ['grandma', 'father', 'bandmate', 'mossowecz', 'vulkan', 'javed', 'xiaoxue', 'aurore', 'joshi', 'sambat'], Correct: False\n",
            "Analogy: grandpa -> grandma :: grandfather -> grandmother | Prediction: ['grandfather', 'grandma', 'sewage', 'bandmate', 'lithgow', 'podlaski', 'usacanada', 'womens', 'hann', 'like'], Correct: False\n",
            "Analogy: grandson -> granddaughter :: groom -> bride | Prediction: ['groom', 'granddaughter', 'affliction', 'vescles', 'oghur', 'irresponsibly', 'numbered', 'galmanii', 'paral·lel', 'easier'], Correct: False\n",
            "Analogy: grandson -> granddaughter :: husband -> wife | Prediction: ['granddaughter', 'husband', 'mannerfelt', 'stubai', 'drewry', 'shelby', 'devotee', 'youtubevevo', 'freshly', 'gatcombe'], Correct: False\n",
            "Analogy: grandson -> granddaughter :: king -> queen | Prediction: ['granddaughter', 'king', 'ness', 'löbe', 'gernert', 'margo', 'myungshin', 'prince', 'requesting', 'bien'], Correct: False\n",
            "Analogy: grandson -> granddaughter :: man -> woman | Prediction: ['granddaughter', 'man', 'fanlike', 'shelby', 'ieng', 'nationalfootballteamscom', 'jacquesbarthélemy', 'nadia', 'hos', 'person'], Correct: False\n",
            "Analogy: grandson -> granddaughter :: nephew -> niece | Prediction: ['nephew', 'granddaughter', 'grech', 'shwasache', 'zahrul', 'professionnel', 'thriving', 'forced', 'jealous', 'shelby'], Correct: False\n",
            "Analogy: grandson -> granddaughter :: prince -> princess | Prediction: ['prince', 'granddaughter', 'twentyfour', 'metric', 'exslaves', 'riffraff', 'borlänge', 'shelby', 'fanlike', 'uslancaster'], Correct: False\n",
            "Analogy: grandson -> granddaughter :: son -> daughter | Prediction: ['granddaughter', 'son', 'shelby', 'person', 'eyed', 'caux', 'zommange', 'alice', 'pirenópolis', 'tiger'], Correct: False\n",
            "Analogy: grandson -> granddaughter :: sons -> daughters | Prediction: ['sons', 'granddaughter', 'plankton', 'impe', 'fanlike', 'longerlasting', 'thirdparty', 'hos', 'bjt', 'doota'], Correct: False\n",
            "Analogy: grandson -> granddaughter :: stepbrother -> stepsister | Prediction: ['stepbrother', 'granddaughter', 'tarnish', 'allamerica', 'shelby', 'hetfield', 'multiparty', 'repec', 'somerset', 'karimata'], Correct: False\n",
            "Analogy: grandson -> granddaughter :: stepfather -> stepmother | Prediction: ['stepfather', 'granddaughter', 'metric', 'batter', 'chatto', 'believer', 'bengal', 'twentyfour', 'rotorua', 'velika'], Correct: False\n",
            "Analogy: grandson -> granddaughter :: uncle -> aunt | Prediction: ['granddaughter', 'uncle', 'ruffhosuecolumbia', 'fanlike', 'vescles', 'löbe', 'believer', 'locomotive', 'anwer', 'gun'], Correct: False\n",
            "Analogy: grandson -> granddaughter :: boy -> girl | Prediction: ['boy', 'granddaughter', 'slumberland', 'prionailurus', 'ev', 'crank', 'marines', 'vescles', 'lavorgna', 'raje'], Correct: False\n",
            "Analogy: grandson -> granddaughter :: brother -> sister | Prediction: ['brother', 'granddaughter', 'shelby', 'brunelleschi', 'raje', 'caux', 'adabiyet', 'clearcast', 'muzuk', 'support'], Correct: False\n",
            "Analogy: grandson -> granddaughter :: brothers -> sisters | Prediction: ['brothers', 'granddaughter', 'gem', 'lungs', 'biefdesmaisons', 'alice', 'ruffhosuecolumbia', 'boolean', 'drewry', 'galmanii'], Correct: False\n",
            "Analogy: grandson -> granddaughter :: dad -> mom | Prediction: ['dad', 'granddaughter', 'enquiry', 'allamerica', 'canaveriss', 'plankton', 'caripus', 'waco', 'uncomfortable', 'chunky'], Correct: False\n",
            "Analogy: grandson -> granddaughter :: father -> mother | Prediction: ['granddaughter', 'father', 'waern', 'baseer', 'mortem', 'httpwwwgeocitiescombfelgeschichtebhtml', 'shelby', 'stockcross', 'ongoing', 'evelyns'], Correct: False\n",
            "Analogy: grandson -> granddaughter :: grandfather -> grandmother | Prediction: ['grandfather', 'granddaughter', 'shelby', 'karimata', 'lulu', 'mazin', 'sassanids', 'bunches', 'kassymjomart', 'champagneardenne'], Correct: False\n",
            "Analogy: grandson -> granddaughter :: grandpa -> grandma | Prediction: ['grandpa', 'granddaughter', 'grech', 'curtain', 'caux', 'moat', 'httpwwwgeocitiescombfelgeschichtebhtml', 'nikolas', 'boulders', 'oka'], Correct: False\n",
            "Analogy: groom -> bride :: husband -> wife | Prediction: ['bride', 'husband', 'son', 'smokey', 'maximinus', 'nonbelief', 'fella', 'malawian', 'cesium', 'berlekamp'], Correct: False\n",
            "Analogy: groom -> bride :: king -> queen | Prediction: ['bride', 'king', 'nonbelief', 'napoleon', 'henry', 'unilaterally', 'wars', 'crowned', 'angela', 'neared'], Correct: False\n",
            "Analogy: groom -> bride :: man -> woman | Prediction: ['bride', 'man', 'aric', 'fasciitis', 'arranging', 'vara', 'lubécourt', 'gaye', 'gabler', 'morriswonder'], Correct: False\n",
            "Analogy: groom -> bride :: nephew -> niece | Prediction: ['bride', 'nephew', 'unilaterally', 'garderobe', 'aesthetically', 'maximinus', 'disbanded', 'mitsotakis', 'son', 'pringle'], Correct: False\n",
            "Analogy: groom -> bride :: prince -> princess | Prediction: ['bride', 'prince', 'maximinus', 'ptah', 'thank', 'chemist', 'phasor', 'caelorvm', 'son', 'noah'], Correct: False\n",
            "Analogy: groom -> bride :: son -> daughter | Prediction: ['bride', 'son', 'ranieri', 'arranging', 'nun', 'ibm’s', 'गजाली', 'edith', 'thank', 'phasor'], Correct: False\n",
            "Analogy: groom -> bride :: sons -> daughters | Prediction: ['sons', 'bride', 'pirellis', 'phasor', 'bayi', 'merian', 'exponent', 'son', 'arranging', 'morriswonder'], Correct: False\n",
            "Analogy: groom -> bride :: stepbrother -> stepsister | Prediction: ['bride', 'stepbrother', 'cheuse', 'angela', 'arranging', 'mcgrath', 'springboards', 'columns', 'gibbswilhelm', 'ibm’s'], Correct: False\n",
            "Analogy: groom -> bride :: stepfather -> stepmother | Prediction: ['bride', 'stepfather', 'morriswonder', 'nongarol', 'unilaterally', 'orangenassau', 'malawian', 'ptah', 'budlofsky', 'aspirational'], Correct: False\n",
            "Analogy: groom -> bride :: uncle -> aunt | Prediction: ['bride', 'uncle', 'unilaterally', 'bobbys', 'maximinus', 'son', 'shortlived', 'aesthetically', 'gibbswilhelm', 'phasor'], Correct: False\n",
            "Analogy: groom -> bride :: boy -> girl | Prediction: ['boy', 'bride', 'phasor', 'bobbys', 'prionailurus', 'smokey', 'kharish', 'collegiately', 'myspace', 'son'], Correct: False\n",
            "Analogy: groom -> bride :: brother -> sister | Prediction: ['bride', 'brother', 'caelorvm', 'rome', 'mccoubrey', 'pinson', 'accession', 'son', 'pringle', 'asb'], Correct: False\n",
            "Analogy: groom -> bride :: brothers -> sisters | Prediction: ['bride', 'brothers', 'cheuse', 'plight', 'marriage', 'advises', 'aihara', 'transcriptome', 'shopro', 'eisenhower'], Correct: False\n",
            "Analogy: groom -> bride :: dad -> mom | Prediction: ['bride', 'dad', 'cito', 'डान्सिंग', 'harms', 'mcgrath', 'randoplh', 'ibm’s', 'radovan', 'unilaterally'], Correct: False\n",
            "Analogy: groom -> bride :: father -> mother | Prediction: ['bride', 'father', 'son', 'unilaterally', 'tiryns', 'gabler', 'grietje', 'columns', 'gonzalez', 'bekhterev'], Correct: False\n",
            "Analogy: groom -> bride :: grandfather -> grandmother | Prediction: ['grandfather', 'bride', 'nun', 'son', 'bettin', 'captains', 'lithgow', 'hertzberg', 'mamma', 'dutchborn'], Correct: False\n",
            "Analogy: groom -> bride :: grandpa -> grandma | Prediction: ['bride', 'grandpa', 'arranging', 'unilaterally', 'angela', 'exponent', 'radovan', 'restlessness', 'drnovšek', 'stewi'], Correct: False\n",
            "Analogy: groom -> bride :: grandson -> granddaughter | Prediction: ['grandson', 'bride', 'maximinus', 'son', 'ibm’s', 'angela', 'mummified', 'scare', 'unilaterally', 'ਨਵਾਬ'], Correct: False\n",
            "Analogy: husband -> wife :: king -> queen | Prediction: ['wife', 'king', 'boll', 'jochen', 'charan', 'collie', 'datchet', 'duke', 'ap', 'vikas'], Correct: False\n",
            "Analogy: husband -> wife :: man -> woman | Prediction: ['wife', 'man', '龍之吻', 'beleza', 'condensate', 'norrköping', 'quicksand', 'victims', 'congolaise', 'jochen'], Correct: False\n",
            "Analogy: husband -> wife :: nephew -> niece | Prediction: ['wife', 'nephew', 'boll', 'equinox', 'shrub', 'mouthends', 'huguang', 'cartons', 'teenager', '龍之吻'], Correct: False\n",
            "Analogy: husband -> wife :: prince -> princess | Prediction: ['wife', 'prince', 'reivers', 'vishneva', 'heading', 'qtvr', 'bakhtiar', 'mori', 'ljusne', 'cohan'], Correct: False\n",
            "Analogy: husband -> wife :: son -> daughter | Prediction: ['wife', 'son', 'nakano', 'daughter', 'quizbowl', 'i’m', '“sony', 'īsā', '龍之吻', 'indemini'], Correct: True\n",
            "Analogy: husband -> wife :: sons -> daughters | Prediction: ['sons', 'wife', 'duel', 'datchet', 'beleza', 'idea', 'kon', 'boll', 'oberguntschach', 'convicted'], Correct: False\n",
            "Analogy: husband -> wife :: stepbrother -> stepsister | Prediction: ['stepbrother', 'wife', 'latreille', 'christmas', 'popular—folk', 'cartons', 'esparza', 'refills', 'megawatt', 'vachon'], Correct: False\n",
            "Analogy: husband -> wife :: stepfather -> stepmother | Prediction: ['stepfather', 'wife', 'norrköping', 'deee', 'approach’', 'barbers', 'tanya', 'application', 'effective', 'amyotrophic'], Correct: False\n",
            "Analogy: husband -> wife :: uncle -> aunt | Prediction: ['wife', 'uncle', 'marthanda', 'yvetot', 'gauche', 'armelle', 'datchet', 'boyzone', 'lindberg', 'kazahana'], Correct: False\n",
            "Analogy: husband -> wife :: boy -> girl | Prediction: ['boy', 'wife', 'huguang', 'beaks', 'charle', 'landser', 'yvetot', 'sławoj', 'carey', 'breeding'], Correct: False\n",
            "Analogy: husband -> wife :: brother -> sister | Prediction: ['brother', 'wife', 'damerei', 'fearful', 'horarioutc', 'storici', 'īsā', 'charan', 'sol', 'gillies'], Correct: False\n",
            "Analogy: husband -> wife :: brothers -> sisters | Prediction: ['brothers', 'wife', 'cappings', 'anlius', 'lùmjóʊ', 'jardine', 'norrköping', 'mengelberg’s', 'deee', 'expelled'], Correct: False\n",
            "Analogy: husband -> wife :: dad -> mom | Prediction: ['dad', 'wife', 'macy', 'prefix', 'transmitting', 'arch', 'congolaise', 'printed', 'application', 'partsongs'], Correct: False\n",
            "Analogy: husband -> wife :: father -> mother | Prediction: ['wife', 'father', '龍之吻', 'reza', 'hernández', 'gi', 'beleza', 'cartons', 'manchmal', 'moulsford'], Correct: False\n",
            "Analogy: husband -> wife :: grandfather -> grandmother | Prediction: ['grandfather', 'wife', 'arch', '靜海', 'cultur', 'moser', 'willi', 'charan', 'ufizzi', 'ºf'], Correct: False\n",
            "Analogy: husband -> wife :: grandpa -> grandma | Prediction: ['grandpa', 'wife', 'digest', 'kazahana', 'teenager', 'fearful', 'close', 'duel', 'yoshiki', 'pleaded'], Correct: False\n",
            "Analogy: husband -> wife :: grandson -> granddaughter | Prediction: ['grandson', 'wife', 'antrodemus', 'qtvr', 'colthrop', 'vishneva', 'дажыць', 'yvetot', 'bran', 'kazahana'], Correct: False\n",
            "Analogy: husband -> wife :: groom -> bride | Prediction: ['groom', 'wife', 'shrub', 'cohan', 'templars', 'miserable', 'cerniébaud', 'dynoblaze', 'taxexempt', 'megawatt'], Correct: False\n",
            "Analogy: king -> queen :: man -> woman | Prediction: ['man', 'queen', 'noppawan', 'enters', 'sallah', 'tanlin徐旦隣', 'aladdin', 'cat', 'illusion', 'nadia'], Correct: False\n",
            "Analogy: king -> queen :: nephew -> niece | Prediction: ['nephew', 'queen', 'günz', 'crewed', 'sica', 'partylist', 'macs', 'drones', 'johnathan', 'pacing'], Correct: False\n",
            "Analogy: king -> queen :: prince -> princess | Prediction: ['queen', 'prince', 'bhai', 'partnered', 'princess', 'sekull', 'humanoid', 'sica', 'groethuysen', 'thoissia'], Correct: True\n",
            "Analogy: king -> queen :: son -> daughter | Prediction: ['son', 'queen', 'daughter', 'haemoglobin', 'married', 'jams', 'homeward', 'ovas', 'navryachi', 'meagen'], Correct: True\n",
            "Analogy: king -> queen :: sons -> daughters | Prediction: ['sons', 'queen', 'sica', 'cuvier', 'तुला', 'oronlechâtel', 'romains', 'lemoine', 'işın', 'moist'], Correct: False\n",
            "Analogy: king -> queen :: stepbrother -> stepsister | Prediction: ['stepbrother', 'queen', 'contactors', 'barysaw', 'dole', 'supermodel', 'cabin', 'ovas', 'ingvar', 'luft'], Correct: False\n",
            "Analogy: king -> queen :: stepfather -> stepmother | Prediction: ['stepfather', 'queen', 'kara', 'mendonça', 'serapeum', 'dallasfort', 'فرهنگ', 'you–violin', 'knutbased', 'purified'], Correct: False\n",
            "Analogy: king -> queen :: uncle -> aunt | Prediction: ['uncle', 'queen', 'saintpierrelebost', 'burns', 'contactors', 'colombianmexican', 'enters', 'krabs', 'rena', 'vengeance'], Correct: False\n",
            "Analogy: king -> queen :: boy -> girl | Prediction: ['boy', 'queen', 'bouteville', 'bishopric', 'avila', 'kumei', 'ezlink', 'donna', 'crunchy', 'satb'], Correct: False\n",
            "Analogy: king -> queen :: brother -> sister | Prediction: ['brother', 'queen', 'sica', 'boccazzi', 'quique', 'فرهنگ', 'married', 'avila', 'jose', 'vinka'], Correct: False\n",
            "Analogy: king -> queen :: brothers -> sisters | Prediction: ['brothers', 'queen', 'bodnar', 'cuvier', 'gem', 'keselowski', 'chairpersonsinoffice', 'sr', 'cappings', 'duane'], Correct: False\n",
            "Analogy: king -> queen :: dad -> mom | Prediction: ['dad', 'queen', 'krabs', 'keselowski', 'wernher', 'jancarl', 'ezlink', 'tibbling', 'carlin', 'mannarasala'], Correct: False\n",
            "Analogy: king -> queen :: father -> mother | Prediction: ['queen', 'father', 'gregorio', 'churchill', 'gloriosa', 'singhndp', 'bexley', 'तुला', 'krabs', 'bt'], Correct: False\n",
            "Analogy: king -> queen :: grandfather -> grandmother | Prediction: ['grandfather', 'queen', 'durning', 'moser', 'homeward', 'julienne', 'sassanids', 'ju', 'gregorio', 'partnered'], Correct: False\n",
            "Analogy: king -> queen :: grandpa -> grandma | Prediction: ['grandpa', 'queen', 'thoreau', 'gregorio', 'pellegrini', 'bhai', 'ornaments', 'contactors', 'linemate', 'burns'], Correct: False\n",
            "Analogy: king -> queen :: grandson -> granddaughter | Prediction: ['grandson', 'queen', 'garo', 'ovas', 'ponvannan', 'ilmor', 'contactors', 'huinfigs', 'theroux', 'navryachi'], Correct: False\n",
            "Analogy: king -> queen :: groom -> bride | Prediction: ['groom', 'queen', 'pacing', 'pit', 'corn', 'knutbased', 'fibres', 'mole', 'screenshot', 'knutmania'], Correct: False\n",
            "Analogy: king -> queen :: husband -> wife | Prediction: ['husband', 'queen', 'unborn', 'ovas', 'motorsports', 'stafford', 'bhai', 'partnered', 'anne', 'fonda'], Correct: False\n",
            "Analogy: man -> woman :: nephew -> niece | Prediction: ['nephew', 'woman', 'depart', 'kolubara', 'materialise', 'lämnar', 'authenticity', 'conducting', 'griddle', 'ditch'], Correct: False\n",
            "Analogy: man -> woman :: prince -> princess | Prediction: ['prince', 'woman', 'llywelyn', 'oskowitz', 'exhaust', 'cheerfulness', 'škofja', 'austrianborn', 'diode', 'habibu'], Correct: False\n",
            "Analogy: man -> woman :: son -> daughter | Prediction: ['son', 'woman', 'sazedul', 'silk', 'bretagne', 'realworld', 'choffat', 'clichés', 'cheerfulness', 'abdul'], Correct: False\n",
            "Analogy: man -> woman :: sons -> daughters | Prediction: ['sons', 'woman', 'wynn', 'koresko', 'kikis', 'rodneys', 'teething', 'simple', 'sororities', 'va'], Correct: False\n",
            "Analogy: man -> woman :: stepbrother -> stepsister | Prediction: ['stepbrother', 'woman', 'pleased', 'desalination', 'ops', 'grandmother', 'ol', 'deejay', 'wynn', 'rashid'], Correct: False\n",
            "Analogy: man -> woman :: stepfather -> stepmother | Prediction: ['stepfather', 'woman', 'margarete', 'benita', 'twoaxle', 'worsened', 'consolidating', 'nude', 'deprivations', 'skilled'], Correct: False\n",
            "Analogy: man -> woman :: uncle -> aunt | Prediction: ['woman', 'uncle', 'różewicz', 'julie', 'anwer', 'rosental', 'argonauts', 'charged', 'canon', 'authenticity'], Correct: False\n",
            "Analogy: man -> woman :: boy -> girl | Prediction: ['boy', 'woman', 'nitin', 'ramone', 'cheerfulness', 'anwer', 'thinness', 'picks', '“typical”', 'beaks'], Correct: False\n",
            "Analogy: man -> woman :: brother -> sister | Prediction: ['brother', 'woman', 'butcherbird', 'barbecue', 'nitin', 'bootha', 'authorities', 'stanzas', 'austrianborn', 'stockbroker'], Correct: False\n",
            "Analogy: man -> woman :: brothers -> sisters | Prediction: ['brothers', 'woman', 'تۆڕی', 'pleased', 'clichés', 'kolubara', 'palme', 'silly', 'roser', 'villain'], Correct: False\n",
            "Analogy: man -> woman :: dad -> mom | Prediction: ['dad', 'woman', 'bootha', 'macy', 'wynn', 'rivermen', 'thinness', 'musel', 'różewicz', 'aristide'], Correct: False\n",
            "Analogy: man -> woman :: father -> mother | Prediction: ['woman', 'father', 'silk', 'consolidating', 'жураўліны', 'butcherbird', 'mute', 'grandmother', 'różewicz', 'युवा'], Correct: False\n",
            "Analogy: man -> woman :: grandfather -> grandmother | Prediction: ['grandfather', 'woman', 'pierce', 'nagayoshi', 'theodorus', 'va', 'mute', 'nitin', 'irregularity', 'oltenia'], Correct: False\n",
            "Analogy: man -> woman :: grandpa -> grandma | Prediction: ['grandpa', 'woman', 'boulders', 'backup', 'oikarainen', 'siyong', 'patterned', 'anatoly', 'handiwork', 'chlorides'], Correct: False\n",
            "Analogy: man -> woman :: grandson -> granddaughter | Prediction: ['grandson', 'woman', 'shukjurova', 'abdur', 'shamser', 'wynn', 'exhaust', '–december', 'vipers', 'storch'], Correct: False\n",
            "Analogy: man -> woman :: groom -> bride | Prediction: ['groom', 'woman', 'consolidating', 'abdul', 'negative', 'canterburybankstown', 'paraphrasing', 'ārya', 'materialise', 'migraine'], Correct: False\n",
            "Analogy: man -> woman :: husband -> wife | Prediction: ['woman', 'husband', 'wynn', 'kolubara', 'consolidating', 'amendment', 'stockbroker', 'clichés', 'deveraux', 'różewicz'], Correct: False\n",
            "Analogy: man -> woman :: king -> queen | Prediction: ['woman', 'king', 'różewicz', 'till', 'ascended', 'quba', 'zedras', 'hydrogen', 'guitardriven', 'kainar'], Correct: False\n",
            "Analogy: nephew -> niece :: prince -> princess | Prediction: ['niece', 'prince', 'principality', 'miroslav', 'garp', 'fadil', 'chalabre', 'gived', 'croatia', 'prakasam'], Correct: False\n",
            "Analogy: nephew -> niece :: son -> daughter | Prediction: ['niece', 'son', 'jhauwa', 'campesinas', 'varun', 'ganges', 'chalabre', 'kyser', 'midcontrol', 'principality'], Correct: False\n",
            "Analogy: nephew -> niece :: sons -> daughters | Prediction: ['sons', 'niece', 'hb', 'bayi', 'zeit', 'principality', 'mindpower', 'filc', 'increases', 'albersdorf'], Correct: False\n",
            "Analogy: nephew -> niece :: stepbrother -> stepsister | Prediction: ['stepbrother', 'niece', 'maltster', 'thyroid', 'scriptorum', 'tvxq', 'mindpower', 'dubochet', 'gamberelli', 'pivot'], Correct: False\n",
            "Analogy: nephew -> niece :: stepfather -> stepmother | Prediction: ['niece', 'stepfather', 'elimination', 'mindpower', 'fadil', 'hold', 'rabbits', 'linth', 'ganges', 'tvxq'], Correct: False\n",
            "Analogy: nephew -> niece :: uncle -> aunt | Prediction: ['niece', 'uncle', 'mindpower', 'increases', 'principality', 'yancey', 'svalöv', 'mej', 'caesarion', 'albersdorf'], Correct: False\n",
            "Analogy: nephew -> niece :: boy -> girl | Prediction: ['boy', 'niece', 'borsdebaignes', 'payable', 'rubens', 'fadil', 'principality', 'stadionul', 'castmember', 'svalöv'], Correct: False\n",
            "Analogy: nephew -> niece :: brother -> sister | Prediction: ['brother', 'niece', 'hb', 'brunelleschi', 'midcontrol', 'privilegium', 'borsdebaignes', 'albersdorf', 'drinking', 'overgrown'], Correct: False\n",
            "Analogy: nephew -> niece :: brothers -> sisters | Prediction: ['brothers', 'niece', 'coincide', 'pink', 'scriptorum', 'fadil', 'rue', 'hint', 'midcontrol', 'borsdebaignes'], Correct: False\n",
            "Analogy: nephew -> niece :: dad -> mom | Prediction: ['niece', 'dad', 'fadil', 'cubits', 'midcontrol', 'ibt', 'gifuj', 'toxin', 'encants', 'caisse'], Correct: False\n",
            "Analogy: nephew -> niece :: father -> mother | Prediction: ['niece', 'father', 'fadil', 'principality', 'dipolar', 'mahmud', 'tvxq', 'appoints', 'albersdorf', 'jhauwa'], Correct: False\n",
            "Analogy: nephew -> niece :: grandfather -> grandmother | Prediction: ['grandfather', 'niece', 'bushra', 'rleaguecom', 'owambos', 'polluted', 'blackandwhite', 'hint', 'martí', 'mindpower'], Correct: False\n",
            "Analogy: nephew -> niece :: grandpa -> grandma | Prediction: ['niece', 'grandpa', 'premios', 'privilegium', 'robertsdale', 'haßberge', 'borsdebaignes', 'increases', 'jordandesigned', 'dipolar'], Correct: False\n",
            "Analogy: nephew -> niece :: grandson -> granddaughter | Prediction: ['grandson', 'niece', 'pro', 'jhauwa', 'borsdebaignes', 'hagia', 'caretaker', 'división', 'svalöv', 'kautenbach'], Correct: False\n",
            "Analogy: nephew -> niece :: groom -> bride | Prediction: ['niece', 'groom', 'misusing', 'efficiently', 'endosymbioses', 'requiring', 'screenshot', 'cookham', 'ganges', 'telescopes'], Correct: False\n",
            "Analogy: nephew -> niece :: husband -> wife | Prediction: ['niece', 'husband', 'arosa', 'atolls', 'highestgrossing', 'jouanne', 'increases', 'maguari', 'midcontrol', 'puy'], Correct: False\n",
            "Analogy: nephew -> niece :: king -> queen | Prediction: ['niece', 'king', 'principality', 'fadil', 'dispatched', 'owambos', 'shrewsbury', 'neutron', 'opening', 'atolls'], Correct: False\n",
            "Analogy: nephew -> niece :: man -> woman | Prediction: ['niece', 'man', 'ganges', 'fadil', 'privilegium', 'narrowly', 'stallone', 'chalabre', 'bikers', 'kolhapur'], Correct: False\n",
            "Analogy: prince -> princess :: son -> daughter | Prediction: ['son', 'princess', 'serene', 'emphasized', 'ren', 'jew', 'mezentseva', 'jams', 'invitation', 'chan'], Correct: False\n",
            "Analogy: prince -> princess :: sons -> daughters | Prediction: ['sons', 'princess', 'yuji', 'rhodope', 'freyunggrafenau', 'easterns', 'virtuous', 'pilgrimess', 'peers', 'bartha'], Correct: False\n",
            "Analogy: prince -> princess :: stepbrother -> stepsister | Prediction: ['stepbrother', 'princess', 'heck', 'kalervo', 'ingvar', 'lifeson', 'juzuks', 'selfimprovement', 'lafia', 'iwamoto'], Correct: False\n",
            "Analogy: prince -> princess :: stepfather -> stepmother | Prediction: ['stepfather', 'princess', 'markku', 'salvadoran', 'trams', 'hoda', 'nadiyāñ', 'dietz', 'manannán', 'tankar'], Correct: False\n",
            "Analogy: prince -> princess :: uncle -> aunt | Prediction: ['uncle', 'princess', 'rowspanaston', 'selfimprovement', 'sharm', 'lovetts', 'exclusion', 'schlag', 'gaete', 'gusts'], Correct: False\n",
            "Analogy: prince -> princess :: boy -> girl | Prediction: ['boy', 'princess', 'watchmen', 'fp', 'eisch', 'narew', 'armful', 'lattimore', 'sayyed', 'इंद्रधनुष्य'], Correct: False\n",
            "Analogy: prince -> princess :: brother -> sister | Prediction: ['brother', 'princess', 'lorde', 'saintmaur', 'bader', 'kharan', 'yoshiki', 'ferris', 'fibonacci', 'wyatts'], Correct: False\n",
            "Analogy: prince -> princess :: brothers -> sisters | Prediction: ['brothers', 'princess', 'talmud', 'wlad', 'johnnys', 'silly', 'wifi', 'ballymena', 'fang', 'starship'], Correct: False\n",
            "Analogy: prince -> princess :: dad -> mom | Prediction: ['dad', 'princess', 'hihat', 'serene', 'yeshiva', 'powerless', 'seekers', 'nokia', 'ruthie', 'salmi'], Correct: False\n",
            "Analogy: prince -> princess :: father -> mother | Prediction: ['father', 'princess', 'serene', 'painters', 'gonzalez', 'subra', 'gruffudd', 'लज्जा', 'optically', 'palau'], Correct: False\n",
            "Analogy: prince -> princess :: grandfather -> grandmother | Prediction: ['grandfather', 'princess', 'toons', 'nashs', 'optically', 'bahamian', '”kala', 'thure', 'stevies', 'chester'], Correct: False\n",
            "Analogy: prince -> princess :: grandpa -> grandma | Prediction: ['grandpa', 'princess', 'rowspanaston', 'chunnennuggee', 'talmud', 'custom', 'serene', 'gruffudd', 'yoshiki', 'powerless'], Correct: False\n",
            "Analogy: prince -> princess :: grandson -> granddaughter | Prediction: ['grandson', 'princess', 'painters', 'epilepsy', 'overturn', 'starr', 'bulgakov', 'salvadoran', 'parachute', 'cornfield'], Correct: False\n",
            "Analogy: prince -> princess :: groom -> bride | Prediction: ['groom', 'princess', 'fdd', 'llc', 'vh', 'dynamics', 'manures', 'zeeman', 'jassie', 'vicariates'], Correct: False\n",
            "Analogy: prince -> princess :: husband -> wife | Prediction: ['princess', 'husband', 'weizenbaum', 'sharm', 'deborah', 'palau', 'halmstad', 'jew', 'enjoying', 'climatological'], Correct: False\n",
            "Analogy: prince -> princess :: king -> queen | Prediction: ['princess', 'king', 'selfimprovement', 'duke', 'deborah', 'autumnal', 'sirajuddin', 'queen', 'virtuous', 'लज्जा'], Correct: True\n",
            "Analogy: prince -> princess :: man -> woman | Prediction: ['man', 'princess', 'routers', 'montlevon', 'yakutia', 'optically', 'galerius', 'powerless', 'toruń', 'claymore'], Correct: False\n",
            "Analogy: prince -> princess :: nephew -> niece | Prediction: ['nephew', 'princess', 'selfimprovement', 'serene', 'leaves', 'लज्जा', 'günz', 'camerasare', 'lx', 'headphone'], Correct: False\n",
            "Analogy: son -> daughter :: sons -> daughters | Prediction: ['sons', 'daughter', 'baekje', 'membrane', 'shibuya', 'layden', 'usawomeneagleswnt', 'oronlechâtel', 'cromford', 'yuji'], Correct: False\n",
            "Analogy: son -> daughter :: stepbrother -> stepsister | Prediction: ['stepbrother', 'daughter', 'patrons', 'unchained', 'nonexistent', 'serials', 'derived', '甌雒anak', 'allamerica', 'achieved'], Correct: False\n",
            "Analogy: son -> daughter :: stepfather -> stepmother | Prediction: ['stepfather', 'daughter', 'lund', 'derived', 'potwari', 'étretat', 'serapeum', 'yasmin', 'dietz', 'raaj'], Correct: False\n",
            "Analogy: son -> daughter :: uncle -> aunt | Prediction: ['uncle', 'daughter', 'organizacja', 'takeda', 'potwari', 'kahi', 'achieved', 'subatomic', 'beffia', 'azkaban'], Correct: False\n",
            "Analogy: son -> daughter :: boy -> girl | Prediction: ['boy', 'daughter', 'charle', 'crank', 'franchi', 'sweeping', 'saïd', 'ackroyd', 'den', 'filled'], Correct: False\n",
            "Analogy: son -> daughter :: brother -> sister | Prediction: ['brother', 'daughter', 'flen', 'junkie', 'roopa', 'maurice', 'bourdon', 'apisai', 'eberhard', 'beaconsfield'], Correct: False\n",
            "Analogy: son -> daughter :: brothers -> sisters | Prediction: ['brothers', 'daughter', 'condéennormandie', 'billi', 'lund', 'arccolumbia', 'mcmann', 'tupac', 'grandparents', 'harlan'], Correct: False\n",
            "Analogy: son -> daughter :: dad -> mom | Prediction: ['dad', 'daughter', 'pendleton', 'frontispiece', 'potwari', 'yukultji', 'enquiry', 'mumford', 'brockert', 'tibbling'], Correct: False\n",
            "Analogy: son -> daughter :: father -> mother | Prediction: ['father', 'daughter', 'mcmann', 'μm', 'caty', 'frangford', 'smukke', 'charle', 'bageshwari', 'imhotep’s'], Correct: False\n",
            "Analogy: son -> daughter :: grandfather -> grandmother | Prediction: ['grandfather', 'daughter', 'chester', 'membrane', 'emmett', 'gogo', 'paulina', 'ufizzi', 'headsets', 'moser'], Correct: False\n",
            "Analogy: son -> daughter :: grandpa -> grandma | Prediction: ['grandpa', 'daughter', 'trumpeter', 'lund', 'mustelidae', 'grey', 'diemberger', 'woodwind', 'ato', 'musician'], Correct: False\n",
            "Analogy: son -> daughter :: grandson -> granddaughter | Prediction: ['grandson', 'daughter', 'shibuya', 'orthoclase', 'scooler', 'kriva', 'shipyards', 'heavensabovecom', 'tustin', 'painters'], Correct: False\n",
            "Analogy: son -> daughter :: groom -> bride | Prediction: ['groom', 'daughter', 'smileyworld', 'mustelidae', 'suchiate', 'sweeping', 'organizacja', 'taxexempt', 'veer', 'seifert'], Correct: False\n",
            "Analogy: son -> daughter :: husband -> wife | Prediction: ['husband', 'daughter', 'chott', 'whítmoré', 'grey', 'almalik', 'unborn', 'joel', 'prehistorical', 'publishing'], Correct: False\n",
            "Analogy: son -> daughter :: king -> queen | Prediction: ['king', 'daughter', 'mustelidae', 'organizacja', 'serenade', 'nebulae', 'waronker', 'halfpenny', 'prince', 'elghitani'], Correct: False\n",
            "Analogy: son -> daughter :: man -> woman | Prediction: ['man', 'daughter', 'patrik', 'aguacapa', 'musician', 'semyonov', 'retorted', 'rhode', 'minimized', 'lund'], Correct: False\n",
            "Analogy: son -> daughter :: nephew -> niece | Prediction: ['nephew', 'daughter', '甌雒anak', 'mustelidae', 'condensation', 'daba', 'occluded', 'licenses', 'dassel', 'wolnzach'], Correct: False\n",
            "Analogy: son -> daughter :: prince -> princess | Prediction: ['prince', 'daughter', 'princess', 'lund', 'maria', 'frangford', 'gogo', 'mccarty', 'prakasam', 'ferber'], Correct: True\n",
            "Analogy: sons -> daughters :: stepbrother -> stepsister | Prediction: ['stepbrother', 'daughters', 'arouet', 'rebelheld', 'selkach', 'bolivian', 'hylarana', 'ringtones', 'decomposed', 'vikings'], Correct: False\n",
            "Analogy: sons -> daughters :: stepfather -> stepmother | Prediction: ['stepfather', 'daughters', 'nayak', 'ringtones', 'vasculated', 'emperor', 'dolph', 'ranjon', 'violadores', 'sad'], Correct: False\n",
            "Analogy: sons -> daughters :: uncle -> aunt | Prediction: ['daughters', 'uncle', 'melchior', 'selkach', 'siciliana', 'veve', 'pecado', 'zack', 'werouzach', 'rahā'], Correct: False\n",
            "Analogy: sons -> daughters :: boy -> girl | Prediction: ['boy', 'daughters', 'yuva', 'dith', 'reddiyars', 'couple', 'donna', '“god’s', 'intraosseous', 'theobromine'], Correct: False\n",
            "Analogy: sons -> daughters :: brother -> sister | Prediction: ['brother', 'daughters', 'yuva', 'melchior', 'ungerbach', 'rehaiem', 'siciliana', 'darawiishdemonyms', 'dolph', 'sangallo'], Correct: False\n",
            "Analogy: sons -> daughters :: brothers -> sisters | Prediction: ['brothers', 'daughters', 'tiefencastel', 'cymru', 'selkach', 'pasp', 'inflated', 'duane', 'siciliana', 'watling'], Correct: False\n",
            "Analogy: sons -> daughters :: dad -> mom | Prediction: ['dad', 'daughters', 'krabs', 'enquiry', 'yuva', 'yoshi', 'vieri', 'tiefencastel', 'minks', 'immersed'], Correct: False\n",
            "Analogy: sons -> daughters :: father -> mother | Prediction: ['daughters', 'father', 'veve', 'siciliana', 'selkach', 'apartment', 'yuva', 'anand', 'batted', 'stimulation'], Correct: False\n",
            "Analogy: sons -> daughters :: grandfather -> grandmother | Prediction: ['grandfather', 'daughters', 'zack', 'siciliana', 'veve', 'gū', 'antifur', 'xenacoelomorph', 'emmett', 'trnavasuperliga'], Correct: False\n",
            "Analogy: sons -> daughters :: grandpa -> grandma | Prediction: ['grandpa', 'daughters', 'ringtones', 'close', 'remedy', 'sangallo', 'zack', 'nationcolumbia', 'tuson', 'werouzach'], Correct: False\n",
            "Analogy: sons -> daughters :: grandson -> granddaughter | Prediction: ['grandson', 'daughters', 'frittons', 'zack', 'allgäu', 'weinshall', 'hirsh', 'bénestroff', 'ringtones', 'veve'], Correct: False\n",
            "Analogy: sons -> daughters :: groom -> bride | Prediction: ['groom', 'daughters', 'yuva', 'vieri', 'vasculated', 'intraosseous', 'sistine', 'project”', 'neusiedl', 'lukowitz'], Correct: False\n",
            "Analogy: sons -> daughters :: husband -> wife | Prediction: ['daughters', 'husband', 'melchior', 'brodie', 'couple', 'rrggbb', 'husbands', 'jm', 'abejorral', 'thomas'], Correct: False\n",
            "Analogy: sons -> daughters :: king -> queen | Prediction: ['daughters', 'king', 'emperor', 'yoshi', 'subcontractors', 'chased', 'rrggbb', 'loo', 'wardruna', 'reigned'], Correct: False\n",
            "Analogy: sons -> daughters :: man -> woman | Prediction: ['man', 'daughters', 'zack', 'cat', 'profits', 'strange', 'melchior', 'rapa', 'laurence', 'trafficked'], Correct: False\n",
            "Analogy: sons -> daughters :: nephew -> niece | Prediction: ['nephew', 'daughters', 'remedy', 'riot', 'ossetia', 'jail', 'selkach', 'dwellings', 'brucei', 'melchior'], Correct: False\n",
            "Analogy: sons -> daughters :: prince -> princess | Prediction: ['daughters', 'prince', 'frolicking', 'vasculated', 'emperor', 'elixir', 'सुपरस्टार', 'universität', 'tiefencastel', 'meteorologia'], Correct: False\n",
            "Analogy: sons -> daughters :: son -> daughter | Prediction: ['daughters', 'son', 'daughter', 'melchior', 'moraváci', 'गजाली', 'frolicking', 'watling', 'selkach', 'veve'], Correct: True\n",
            "Analogy: stepbrother -> stepsister :: stepfather -> stepmother | Prediction: ['stepsister', 'stepfather', 'mahmood', 'oceanographers', 'adakane', 'saag', 'treason', 'tschedram', 'jodhi', 'unpaged'], Correct: False\n",
            "Analogy: stepbrother -> stepsister :: uncle -> aunt | Prediction: ['stepsister', 'uncle', 'saïd', 'focusyn', 'गजाली', 'amorite', 'मराठी', 'mica', 'pinjara', 'balkrishna'], Correct: False\n",
            "Analogy: stepbrother -> stepsister :: boy -> girl | Prediction: ['boy', 'stepsister', 'saïd', 'focusyn', 'frančišek', 'ka', 'sturtevant', 'ashmansworth', 'pinjara', 'prionailurus'], Correct: False\n",
            "Analogy: stepbrother -> stepsister :: brother -> sister | Prediction: ['stepsister', 'brother', 'saïd', 'twosday', 'radiating', 'simulators', 'slovnaft', 'implants', 'cassius', 'procter'], Correct: False\n",
            "Analogy: stepbrother -> stepsister :: brothers -> sisters | Prediction: ['brothers', 'stepsister', 'johnsonsirleaf', 'saïd', 'ani', 'rlc', 'sax', 'iolanthe', 'sellrain', 'observed'], Correct: False\n",
            "Analogy: stepbrother -> stepsister :: dad -> mom | Prediction: ['stepsister', 'dad', 'gifuj', 'revealed', 'iolanthe', 'embryonic', 'mahmood', 'jodhi', 'umar', 'armor'], Correct: False\n",
            "Analogy: stepbrother -> stepsister :: father -> mother | Prediction: ['stepsister', 'father', 'simulators', 'गजाली', 'awadhiराजस्थान', 'tschedram', 'outi', 'balkrishna', 'riyadh', 'midair'], Correct: False\n",
            "Analogy: stepbrother -> stepsister :: grandfather -> grandmother | Prediction: ['stepsister', 'grandfather', 'riyadh', 'cassius', 'pinjara', 'javid', 'pygargus', 'mebibyte', 'kirchberger', 'pargo'], Correct: False\n",
            "Analogy: stepbrother -> stepsister :: grandpa -> grandma | Prediction: ['grandpa', 'stepsister', 'conacher', 'alvaro', 'awadhiराजस्थान', 'nyalleng', 'focusyn', 'rupees', 'diagnosis', 'weekends'], Correct: False\n",
            "Analogy: stepbrother -> stepsister :: grandson -> granddaughter | Prediction: ['grandson', 'stepsister', 'itō', 'shi', 'riyadh', 'slovnaft', 'armor', 'awadhiराजस्थान', 'mesu', 'caretaker'], Correct: False\n",
            "Analogy: stepbrother -> stepsister :: groom -> bride | Prediction: ['stepsister', 'groom', 'diva', 'sax', 'dla', 'productspecific', 'ramanathapuram', 'proven', 'lorenza', 'mebibyte'], Correct: False\n",
            "Analogy: stepbrother -> stepsister :: husband -> wife | Prediction: ['stepsister', 'husband', 'jojos', 'procter', 'oostende', 'midair', 'gnome', 'abes', 'słupsk', 'aberdeen'], Correct: False\n",
            "Analogy: stepbrother -> stepsister :: king -> queen | Prediction: ['stepsister', 'king', 'radiating', 'tengu', 'cassius', 'awadhiराजस्थान', 'adakane', 'focusyn', 'amorite', 'reuillysauvigny'], Correct: False\n",
            "Analogy: stepbrother -> stepsister :: man -> woman | Prediction: ['stepsister', 'man', 'mahmood', 'armor', 'wight', 'sax', 'awadhiराजस्थान', 'गजाली', 'freedman', 'blackbeards'], Correct: False\n",
            "Analogy: stepbrother -> stepsister :: nephew -> niece | Prediction: ['stepsister', 'nephew', 'adl', 'cassius', 'mahmood', 'vvaren', 'armor', 'outi', 'approvement', 'coyolate'], Correct: False\n",
            "Analogy: stepbrother -> stepsister :: prince -> princess | Prediction: ['stepsister', 'prince', 'bram', 'freedman', 'cassel', 'fyodor', 'गजाली', 'jodhi', 'rowspanvissel', 'outi'], Correct: False\n",
            "Analogy: stepbrother -> stepsister :: son -> daughter | Prediction: ['stepsister', 'son', 'गजाली', 'moraváci', 'simulators', 'sax', 'outi', 'rlc', 'shi', 'cassel'], Correct: False\n",
            "Analogy: stepbrother -> stepsister :: sons -> daughters | Prediction: ['sons', 'stepsister', 'awadhiराजस्थान', 'radiating', 'cassius', '￼', 'adakane', 'coals', 'lucien', 'approvement'], Correct: False\n",
            "Analogy: stepfather -> stepmother :: uncle -> aunt | Prediction: ['stepmother', 'uncle', 'boyzone', 'rena', 'argonauts', 'mickey', 'dwayne', 'palette', 'potohar', 'obsessed'], Correct: False\n",
            "Analogy: stepfather -> stepmother :: boy -> girl | Prediction: ['stepmother', 'boy', 'dwayne', 'viktoria', 'montsuzain', 'isadore', 'openclipart', 'rena', 'potohar', 'hamlets'], Correct: False\n",
            "Analogy: stepfather -> stepmother :: brother -> sister | Prediction: ['stepmother', 'brother', 'pennant', 'rehaiem', 'nonspecific', 'pino', 'ritual', 'dwayne', 'calorieladen', 'secondhighest'], Correct: False\n",
            "Analogy: stepfather -> stepmother :: brothers -> sisters | Prediction: ['stepmother', 'brothers', 'रेशीमगाठी', 'mayonnaise', 'mirathea', 'dobeinitz', 'gaz', 'isadore', 'perkinelmer', 'childrenedward'], Correct: False\n",
            "Analogy: stepfather -> stepmother :: dad -> mom | Prediction: ['stepmother', 'dad', 'butler', 'khasa', 'ley', 'ouen', 'cochran', 'peasant', 'accessories', 'herds'], Correct: False\n",
            "Analogy: stepfather -> stepmother :: father -> mother | Prediction: ['stepmother', 'father', 'peasant', 'maryville', 'mickey', 'rena', 'butler', 'soviets', 'bodjongo', 'marxism–leninism'], Correct: False\n",
            "Analogy: stepfather -> stepmother :: grandfather -> grandmother | Prediction: ['stepmother', 'grandfather', 'mickey', 'hunters', 'p', 'obsessed', 'secondhighest', 'hamlets', 'stonescolumbia', 'italia'], Correct: False\n",
            "Analogy: stepfather -> stepmother :: grandpa -> grandma | Prediction: ['stepmother', 'grandpa', 'seeds', 'husbands', 'pəlasla', 'boyzone', 'moraitinis', 'patterned', 'mixes', 'mpsd'], Correct: False\n",
            "Analogy: stepfather -> stepmother :: grandson -> granddaughter | Prediction: ['stepmother', 'grandson', 'pontarion', 'dwayne', 'woke', 'división', 'रेशीमगाठी', 'zentrumspartei', 'sextans', 'malenchenko'], Correct: False\n",
            "Analogy: stepfather -> stepmother :: groom -> bride | Prediction: ['stepmother', 'groom', 'rhinoplasty', 'perkinelmer', 'haydns', 'inneraustrian', 'viktoria', 'telescopes', 'payphones', 'offline'], Correct: False\n",
            "Analogy: stepfather -> stepmother :: husband -> wife | Prediction: ['stepmother', 'husband', 'mickey', 'peasant', 'maryville', 'ley', 'cascades', 'husbands', 'pontarion', 'pino'], Correct: False\n",
            "Analogy: stepfather -> stepmother :: king -> queen | Prediction: ['stepmother', 'king', 'atropates', 'soviets', 'ley', 'prints', 'hunters', 'perkinelmer', 'annechristine', 'clu'], Correct: False\n",
            "Analogy: stepfather -> stepmother :: man -> woman | Prediction: ['stepmother', 'man', 'mickey', 'offline', 'dwayne', 'openclipart', 'peasant', 'clausen', 'secondhighest', 'griffith'], Correct: False\n",
            "Analogy: stepfather -> stepmother :: nephew -> niece | Prediction: ['stepmother', 'nephew', 'atropates', 'scrap', 'woman', 'mayonnaise', 'naha', 'soviets', 'cbstv', 'inneraustrian'], Correct: False\n",
            "Analogy: stepfather -> stepmother :: prince -> princess | Prediction: ['stepmother', 'prince', 'perkinelmer', 'soviets', 'openclipart', 'unboxed', 'monse', 'labrador', 'mickey', 'sienese'], Correct: False\n",
            "Analogy: stepfather -> stepmother :: son -> daughter | Prediction: ['stepmother', 'son', 'mickey', 'hamlets', 'visions', 'ranieri', 'cronullasutherland', 'reined', 'husband', 'ley'], Correct: False\n",
            "Analogy: stepfather -> stepmother :: sons -> daughters | Prediction: ['stepmother', 'sons', 'hamlets', 'ley', 'unboxed', 'perkinelmer', 'bollocks', 'surriya', 'refugees', 'eseninvolpin'], Correct: False\n",
            "Analogy: stepfather -> stepmother :: stepbrother -> stepsister | Prediction: ['stepmother', 'stepbrother', 'hamlets', 'predecessors', 'griff', 'accessories', 'ipswich', 'naird', 'mgm', 'tiltman'], Correct: False\n",
            "Analogy: uncle -> aunt :: boy -> girl | Prediction: ['aunt', 'boy', 'tradewinds', 'companion', 'prionailurus', 'realized', 'snowstorm', 'slumberland', 'kuzui', 'kumei'], Correct: False\n",
            "Analogy: uncle -> aunt :: brother -> sister | Prediction: ['aunt', 'brother', 'swelling', 'eamonns', 'sayeeda', 'younger', 'kōjun', 'robots', 'hintergschaid', 'agnostic'], Correct: False\n",
            "Analogy: uncle -> aunt :: brothers -> sisters | Prediction: ['aunt', 'brothers', 'tilt', 'swelling', 'hogu', 'krenz', 'saintpalaisduné', 'bestseller', 'crotalus', 'zuayyin'], Correct: False\n",
            "Analogy: uncle -> aunt :: dad -> mom | Prediction: ['dad', 'aunt', 'budawang', 'kuzui', 'bestseller', 'carlin', 'gifuj', 'minliar', 'swelling', 'yeshiva'], Correct: False\n",
            "Analogy: uncle -> aunt :: father -> mother | Prediction: ['aunt', 'father', 'tradewinds', 'arminia', 'snowstorm', 'hernández', 'lying', 'companion', 'collections', 'laveyan'], Correct: False\n",
            "Analogy: uncle -> aunt :: grandfather -> grandmother | Prediction: ['aunt', 'grandfather', 'hogu', 'steinbeck', 'cushion', 'blackandwhite', 'repeals', 'corruption', 'darrieux', 'agnostic'], Correct: False\n",
            "Analogy: uncle -> aunt :: grandpa -> grandma | Prediction: ['aunt', 'grandpa', 'zervas', 'bimonthly', 'intrepidity', 'pellegrini', 'ccsa', 'engraver', 'everette', 'sentenced'], Correct: False\n",
            "Analogy: uncle -> aunt :: grandson -> granddaughter | Prediction: ['aunt', 'grandson', 'zuayyin', 'gay', 'díaz', 'kuzui', 'bindyabasini', 'plum', 'mafasolia', 'camilo'], Correct: False\n",
            "Analogy: uncle -> aunt :: groom -> bride | Prediction: ['aunt', 'groom', 'hogu', 'blowing', 'knifed', 'tilt', 'screenshot', 'harvested', 'mcmurdo', 'reflecting'], Correct: False\n",
            "Analogy: uncle -> aunt :: husband -> wife | Prediction: ['aunt', 'husband', 'paso', 'ocean', 'zuayyin', 'gay', 'realized', 'obituaries', 'higgins', 'aonb'], Correct: False\n",
            "Analogy: uncle -> aunt :: king -> queen | Prediction: ['aunt', 'king', 'zuayyin', 'life”', 'elizondo', 'cilicia', 'chronicles', 'monarchs', 'freud', 'swelling'], Correct: False\n",
            "Analogy: uncle -> aunt :: man -> woman | Prediction: ['aunt', 'man', 'companion', 'verbandsgemeinde', 'socialis', 'leibstandarte', 'elapses', 'protector', 'robots', 'gay'], Correct: False\n",
            "Analogy: uncle -> aunt :: nephew -> niece | Prediction: ['aunt', 'nephew', 'lying', 'revokes', 'commented', 'condensation', 'bacteria', 'jacksun', 'commendation', 'coptic'], Correct: False\n",
            "Analogy: uncle -> aunt :: prince -> princess | Prediction: ['aunt', 'prince', 'engraver', 'manley', 'bindyabasini', 'admits', 'smiths', 'repeals', 'zuayyin', 'transformed'], Correct: False\n",
            "Analogy: uncle -> aunt :: son -> daughter | Prediction: ['aunt', 'son', 'jesus', 'lying', 'steinbeck', 'snowstorm', 'pareño', 'hautevillelaguichard', 'sumeet', 'wife'], Correct: False\n",
            "Analogy: uncle -> aunt :: sons -> daughters | Prediction: ['aunt', 'sons', 'snowstorm', 'freud', 'gay', 'apologizes', 'schildkraut', 'sáinz', 'sororities', 'tilt'], Correct: False\n",
            "Analogy: uncle -> aunt :: stepbrother -> stepsister | Prediction: ['aunt', 'stepbrother', 'undisputed', 'minliar', 'jacksun', 'btso', 'bourbonparma', 'nightearly', 'wishing', 'faraz'], Correct: False\n",
            "Analogy: uncle -> aunt :: stepfather -> stepmother | Prediction: ['stepfather', 'aunt', 'taxonomist', 'gay', 'precinct', 'katsumura', 'langguth', 'allaround', 'jamnia', 'cyclone'], Correct: False\n",
            "Total tasks skipped due to missing words: 164\n",
            "Analogy task accuracy: 0.0292\n"
          ]
        }
      ]
    },
    {
      "cell_type": "code",
      "source": [],
      "metadata": {
        "id": "9r2FX4H3odFI"
      },
      "execution_count": null,
      "outputs": []
    }
  ],
  "metadata": {
    "accelerator": "GPU",
    "colab": {
      "gpuType": "T4",
      "provenance": []
    },
    "kernelspec": {
      "display_name": "Python 3",
      "name": "python3"
    },
    "language_info": {
      "name": "python"
    },
    "widgets": {
      "application/vnd.jupyter.widget-state+json": {
        "6680766352404fb784d27d1a8e2fba42": {
          "model_module": "@jupyter-widgets/controls",
          "model_name": "HBoxModel",
          "model_module_version": "1.5.0",
          "state": {
            "_dom_classes": [],
            "_model_module": "@jupyter-widgets/controls",
            "_model_module_version": "1.5.0",
            "_model_name": "HBoxModel",
            "_view_count": null,
            "_view_module": "@jupyter-widgets/controls",
            "_view_module_version": "1.5.0",
            "_view_name": "HBoxView",
            "box_style": "",
            "children": [
              "IPY_MODEL_c9365d798ec74894bdff0ae03ea5b83f",
              "IPY_MODEL_164420fab9db40be9901dadba4d9844e",
              "IPY_MODEL_f947ed5b2a68439291bdd6e6dbf9570d"
            ],
            "layout": "IPY_MODEL_dfa16dc69f364227a761acdd38978262"
          }
        },
        "c9365d798ec74894bdff0ae03ea5b83f": {
          "model_module": "@jupyter-widgets/controls",
          "model_name": "HTMLModel",
          "model_module_version": "1.5.0",
          "state": {
            "_dom_classes": [],
            "_model_module": "@jupyter-widgets/controls",
            "_model_module_version": "1.5.0",
            "_model_name": "HTMLModel",
            "_view_count": null,
            "_view_module": "@jupyter-widgets/controls",
            "_view_module_version": "1.5.0",
            "_view_name": "HTMLView",
            "description": "",
            "description_tooltip": null,
            "layout": "IPY_MODEL_0ec594e968634cc39327679c0342cc8d",
            "placeholder": "​",
            "style": "IPY_MODEL_5e8b80f2326b47f3bb27d6853b543ef8",
            "value": "README.md: 100%"
          }
        },
        "164420fab9db40be9901dadba4d9844e": {
          "model_module": "@jupyter-widgets/controls",
          "model_name": "FloatProgressModel",
          "model_module_version": "1.5.0",
          "state": {
            "_dom_classes": [],
            "_model_module": "@jupyter-widgets/controls",
            "_model_module_version": "1.5.0",
            "_model_name": "FloatProgressModel",
            "_view_count": null,
            "_view_module": "@jupyter-widgets/controls",
            "_view_module_version": "1.5.0",
            "_view_name": "ProgressView",
            "bar_style": "success",
            "description": "",
            "description_tooltip": null,
            "layout": "IPY_MODEL_b8702fb0476a42ff9ccab9ddbe920f0c",
            "max": 16046,
            "min": 0,
            "orientation": "horizontal",
            "style": "IPY_MODEL_d6dd0f53dd804131b6f6cec5ad63159e",
            "value": 16046
          }
        },
        "f947ed5b2a68439291bdd6e6dbf9570d": {
          "model_module": "@jupyter-widgets/controls",
          "model_name": "HTMLModel",
          "model_module_version": "1.5.0",
          "state": {
            "_dom_classes": [],
            "_model_module": "@jupyter-widgets/controls",
            "_model_module_version": "1.5.0",
            "_model_name": "HTMLModel",
            "_view_count": null,
            "_view_module": "@jupyter-widgets/controls",
            "_view_module_version": "1.5.0",
            "_view_name": "HTMLView",
            "description": "",
            "description_tooltip": null,
            "layout": "IPY_MODEL_b6ca171dd9244b6ab32b685598d52798",
            "placeholder": "​",
            "style": "IPY_MODEL_7031bc13520f43088ca0cebf11caaa72",
            "value": " 16.0k/16.0k [00:00&lt;00:00, 332kB/s]"
          }
        },
        "dfa16dc69f364227a761acdd38978262": {
          "model_module": "@jupyter-widgets/base",
          "model_name": "LayoutModel",
          "model_module_version": "1.2.0",
          "state": {
            "_model_module": "@jupyter-widgets/base",
            "_model_module_version": "1.2.0",
            "_model_name": "LayoutModel",
            "_view_count": null,
            "_view_module": "@jupyter-widgets/base",
            "_view_module_version": "1.2.0",
            "_view_name": "LayoutView",
            "align_content": null,
            "align_items": null,
            "align_self": null,
            "border": null,
            "bottom": null,
            "display": null,
            "flex": null,
            "flex_flow": null,
            "grid_area": null,
            "grid_auto_columns": null,
            "grid_auto_flow": null,
            "grid_auto_rows": null,
            "grid_column": null,
            "grid_gap": null,
            "grid_row": null,
            "grid_template_areas": null,
            "grid_template_columns": null,
            "grid_template_rows": null,
            "height": null,
            "justify_content": null,
            "justify_items": null,
            "left": null,
            "margin": null,
            "max_height": null,
            "max_width": null,
            "min_height": null,
            "min_width": null,
            "object_fit": null,
            "object_position": null,
            "order": null,
            "overflow": null,
            "overflow_x": null,
            "overflow_y": null,
            "padding": null,
            "right": null,
            "top": null,
            "visibility": null,
            "width": null
          }
        },
        "0ec594e968634cc39327679c0342cc8d": {
          "model_module": "@jupyter-widgets/base",
          "model_name": "LayoutModel",
          "model_module_version": "1.2.0",
          "state": {
            "_model_module": "@jupyter-widgets/base",
            "_model_module_version": "1.2.0",
            "_model_name": "LayoutModel",
            "_view_count": null,
            "_view_module": "@jupyter-widgets/base",
            "_view_module_version": "1.2.0",
            "_view_name": "LayoutView",
            "align_content": null,
            "align_items": null,
            "align_self": null,
            "border": null,
            "bottom": null,
            "display": null,
            "flex": null,
            "flex_flow": null,
            "grid_area": null,
            "grid_auto_columns": null,
            "grid_auto_flow": null,
            "grid_auto_rows": null,
            "grid_column": null,
            "grid_gap": null,
            "grid_row": null,
            "grid_template_areas": null,
            "grid_template_columns": null,
            "grid_template_rows": null,
            "height": null,
            "justify_content": null,
            "justify_items": null,
            "left": null,
            "margin": null,
            "max_height": null,
            "max_width": null,
            "min_height": null,
            "min_width": null,
            "object_fit": null,
            "object_position": null,
            "order": null,
            "overflow": null,
            "overflow_x": null,
            "overflow_y": null,
            "padding": null,
            "right": null,
            "top": null,
            "visibility": null,
            "width": null
          }
        },
        "5e8b80f2326b47f3bb27d6853b543ef8": {
          "model_module": "@jupyter-widgets/controls",
          "model_name": "DescriptionStyleModel",
          "model_module_version": "1.5.0",
          "state": {
            "_model_module": "@jupyter-widgets/controls",
            "_model_module_version": "1.5.0",
            "_model_name": "DescriptionStyleModel",
            "_view_count": null,
            "_view_module": "@jupyter-widgets/base",
            "_view_module_version": "1.2.0",
            "_view_name": "StyleView",
            "description_width": ""
          }
        },
        "b8702fb0476a42ff9ccab9ddbe920f0c": {
          "model_module": "@jupyter-widgets/base",
          "model_name": "LayoutModel",
          "model_module_version": "1.2.0",
          "state": {
            "_model_module": "@jupyter-widgets/base",
            "_model_module_version": "1.2.0",
            "_model_name": "LayoutModel",
            "_view_count": null,
            "_view_module": "@jupyter-widgets/base",
            "_view_module_version": "1.2.0",
            "_view_name": "LayoutView",
            "align_content": null,
            "align_items": null,
            "align_self": null,
            "border": null,
            "bottom": null,
            "display": null,
            "flex": null,
            "flex_flow": null,
            "grid_area": null,
            "grid_auto_columns": null,
            "grid_auto_flow": null,
            "grid_auto_rows": null,
            "grid_column": null,
            "grid_gap": null,
            "grid_row": null,
            "grid_template_areas": null,
            "grid_template_columns": null,
            "grid_template_rows": null,
            "height": null,
            "justify_content": null,
            "justify_items": null,
            "left": null,
            "margin": null,
            "max_height": null,
            "max_width": null,
            "min_height": null,
            "min_width": null,
            "object_fit": null,
            "object_position": null,
            "order": null,
            "overflow": null,
            "overflow_x": null,
            "overflow_y": null,
            "padding": null,
            "right": null,
            "top": null,
            "visibility": null,
            "width": null
          }
        },
        "d6dd0f53dd804131b6f6cec5ad63159e": {
          "model_module": "@jupyter-widgets/controls",
          "model_name": "ProgressStyleModel",
          "model_module_version": "1.5.0",
          "state": {
            "_model_module": "@jupyter-widgets/controls",
            "_model_module_version": "1.5.0",
            "_model_name": "ProgressStyleModel",
            "_view_count": null,
            "_view_module": "@jupyter-widgets/base",
            "_view_module_version": "1.2.0",
            "_view_name": "StyleView",
            "bar_color": null,
            "description_width": ""
          }
        },
        "b6ca171dd9244b6ab32b685598d52798": {
          "model_module": "@jupyter-widgets/base",
          "model_name": "LayoutModel",
          "model_module_version": "1.2.0",
          "state": {
            "_model_module": "@jupyter-widgets/base",
            "_model_module_version": "1.2.0",
            "_model_name": "LayoutModel",
            "_view_count": null,
            "_view_module": "@jupyter-widgets/base",
            "_view_module_version": "1.2.0",
            "_view_name": "LayoutView",
            "align_content": null,
            "align_items": null,
            "align_self": null,
            "border": null,
            "bottom": null,
            "display": null,
            "flex": null,
            "flex_flow": null,
            "grid_area": null,
            "grid_auto_columns": null,
            "grid_auto_flow": null,
            "grid_auto_rows": null,
            "grid_column": null,
            "grid_gap": null,
            "grid_row": null,
            "grid_template_areas": null,
            "grid_template_columns": null,
            "grid_template_rows": null,
            "height": null,
            "justify_content": null,
            "justify_items": null,
            "left": null,
            "margin": null,
            "max_height": null,
            "max_width": null,
            "min_height": null,
            "min_width": null,
            "object_fit": null,
            "object_position": null,
            "order": null,
            "overflow": null,
            "overflow_x": null,
            "overflow_y": null,
            "padding": null,
            "right": null,
            "top": null,
            "visibility": null,
            "width": null
          }
        },
        "7031bc13520f43088ca0cebf11caaa72": {
          "model_module": "@jupyter-widgets/controls",
          "model_name": "DescriptionStyleModel",
          "model_module_version": "1.5.0",
          "state": {
            "_model_module": "@jupyter-widgets/controls",
            "_model_module_version": "1.5.0",
            "_model_name": "DescriptionStyleModel",
            "_view_count": null,
            "_view_module": "@jupyter-widgets/base",
            "_view_module_version": "1.2.0",
            "_view_name": "StyleView",
            "description_width": ""
          }
        },
        "6bba5559211a4c69b26a160fc8146cfa": {
          "model_module": "@jupyter-widgets/controls",
          "model_name": "HBoxModel",
          "model_module_version": "1.5.0",
          "state": {
            "_dom_classes": [],
            "_model_module": "@jupyter-widgets/controls",
            "_model_module_version": "1.5.0",
            "_model_name": "HBoxModel",
            "_view_count": null,
            "_view_module": "@jupyter-widgets/controls",
            "_view_module_version": "1.5.0",
            "_view_name": "HBoxView",
            "box_style": "",
            "children": [
              "IPY_MODEL_46b7c0d60dc34c0ba34c3cdad90a10c9",
              "IPY_MODEL_3bdc6b35976f4c4cbca0ad537748a270",
              "IPY_MODEL_d13953d8062d4dcbb2b27feaf16b59c8"
            ],
            "layout": "IPY_MODEL_e4c4a27d224f4bfc9117df49ff2b23cf"
          }
        },
        "46b7c0d60dc34c0ba34c3cdad90a10c9": {
          "model_module": "@jupyter-widgets/controls",
          "model_name": "HTMLModel",
          "model_module_version": "1.5.0",
          "state": {
            "_dom_classes": [],
            "_model_module": "@jupyter-widgets/controls",
            "_model_module_version": "1.5.0",
            "_model_name": "HTMLModel",
            "_view_count": null,
            "_view_module": "@jupyter-widgets/controls",
            "_view_module_version": "1.5.0",
            "_view_name": "HTMLView",
            "description": "",
            "description_tooltip": null,
            "layout": "IPY_MODEL_7361d070751a436fb9d4b571a48997c2",
            "placeholder": "​",
            "style": "IPY_MODEL_158bbfc563764a9d9ef308e5f4ebaf19",
            "value": "wikipedia.py: 100%"
          }
        },
        "3bdc6b35976f4c4cbca0ad537748a270": {
          "model_module": "@jupyter-widgets/controls",
          "model_name": "FloatProgressModel",
          "model_module_version": "1.5.0",
          "state": {
            "_dom_classes": [],
            "_model_module": "@jupyter-widgets/controls",
            "_model_module_version": "1.5.0",
            "_model_name": "FloatProgressModel",
            "_view_count": null,
            "_view_module": "@jupyter-widgets/controls",
            "_view_module_version": "1.5.0",
            "_view_name": "ProgressView",
            "bar_style": "success",
            "description": "",
            "description_tooltip": null,
            "layout": "IPY_MODEL_7feabe6a4e7b48429c494d0a38f7231c",
            "max": 36699,
            "min": 0,
            "orientation": "horizontal",
            "style": "IPY_MODEL_76e84240e47c4c66af6593f977d30dae",
            "value": 36699
          }
        },
        "d13953d8062d4dcbb2b27feaf16b59c8": {
          "model_module": "@jupyter-widgets/controls",
          "model_name": "HTMLModel",
          "model_module_version": "1.5.0",
          "state": {
            "_dom_classes": [],
            "_model_module": "@jupyter-widgets/controls",
            "_model_module_version": "1.5.0",
            "_model_name": "HTMLModel",
            "_view_count": null,
            "_view_module": "@jupyter-widgets/controls",
            "_view_module_version": "1.5.0",
            "_view_name": "HTMLView",
            "description": "",
            "description_tooltip": null,
            "layout": "IPY_MODEL_9444359dbf004fe3b0ce81d8d4004a02",
            "placeholder": "​",
            "style": "IPY_MODEL_bcabe59ec9ad4d4882174a916599dac1",
            "value": " 36.7k/36.7k [00:00&lt;00:00, 1.08MB/s]"
          }
        },
        "e4c4a27d224f4bfc9117df49ff2b23cf": {
          "model_module": "@jupyter-widgets/base",
          "model_name": "LayoutModel",
          "model_module_version": "1.2.0",
          "state": {
            "_model_module": "@jupyter-widgets/base",
            "_model_module_version": "1.2.0",
            "_model_name": "LayoutModel",
            "_view_count": null,
            "_view_module": "@jupyter-widgets/base",
            "_view_module_version": "1.2.0",
            "_view_name": "LayoutView",
            "align_content": null,
            "align_items": null,
            "align_self": null,
            "border": null,
            "bottom": null,
            "display": null,
            "flex": null,
            "flex_flow": null,
            "grid_area": null,
            "grid_auto_columns": null,
            "grid_auto_flow": null,
            "grid_auto_rows": null,
            "grid_column": null,
            "grid_gap": null,
            "grid_row": null,
            "grid_template_areas": null,
            "grid_template_columns": null,
            "grid_template_rows": null,
            "height": null,
            "justify_content": null,
            "justify_items": null,
            "left": null,
            "margin": null,
            "max_height": null,
            "max_width": null,
            "min_height": null,
            "min_width": null,
            "object_fit": null,
            "object_position": null,
            "order": null,
            "overflow": null,
            "overflow_x": null,
            "overflow_y": null,
            "padding": null,
            "right": null,
            "top": null,
            "visibility": null,
            "width": null
          }
        },
        "7361d070751a436fb9d4b571a48997c2": {
          "model_module": "@jupyter-widgets/base",
          "model_name": "LayoutModel",
          "model_module_version": "1.2.0",
          "state": {
            "_model_module": "@jupyter-widgets/base",
            "_model_module_version": "1.2.0",
            "_model_name": "LayoutModel",
            "_view_count": null,
            "_view_module": "@jupyter-widgets/base",
            "_view_module_version": "1.2.0",
            "_view_name": "LayoutView",
            "align_content": null,
            "align_items": null,
            "align_self": null,
            "border": null,
            "bottom": null,
            "display": null,
            "flex": null,
            "flex_flow": null,
            "grid_area": null,
            "grid_auto_columns": null,
            "grid_auto_flow": null,
            "grid_auto_rows": null,
            "grid_column": null,
            "grid_gap": null,
            "grid_row": null,
            "grid_template_areas": null,
            "grid_template_columns": null,
            "grid_template_rows": null,
            "height": null,
            "justify_content": null,
            "justify_items": null,
            "left": null,
            "margin": null,
            "max_height": null,
            "max_width": null,
            "min_height": null,
            "min_width": null,
            "object_fit": null,
            "object_position": null,
            "order": null,
            "overflow": null,
            "overflow_x": null,
            "overflow_y": null,
            "padding": null,
            "right": null,
            "top": null,
            "visibility": null,
            "width": null
          }
        },
        "158bbfc563764a9d9ef308e5f4ebaf19": {
          "model_module": "@jupyter-widgets/controls",
          "model_name": "DescriptionStyleModel",
          "model_module_version": "1.5.0",
          "state": {
            "_model_module": "@jupyter-widgets/controls",
            "_model_module_version": "1.5.0",
            "_model_name": "DescriptionStyleModel",
            "_view_count": null,
            "_view_module": "@jupyter-widgets/base",
            "_view_module_version": "1.2.0",
            "_view_name": "StyleView",
            "description_width": ""
          }
        },
        "7feabe6a4e7b48429c494d0a38f7231c": {
          "model_module": "@jupyter-widgets/base",
          "model_name": "LayoutModel",
          "model_module_version": "1.2.0",
          "state": {
            "_model_module": "@jupyter-widgets/base",
            "_model_module_version": "1.2.0",
            "_model_name": "LayoutModel",
            "_view_count": null,
            "_view_module": "@jupyter-widgets/base",
            "_view_module_version": "1.2.0",
            "_view_name": "LayoutView",
            "align_content": null,
            "align_items": null,
            "align_self": null,
            "border": null,
            "bottom": null,
            "display": null,
            "flex": null,
            "flex_flow": null,
            "grid_area": null,
            "grid_auto_columns": null,
            "grid_auto_flow": null,
            "grid_auto_rows": null,
            "grid_column": null,
            "grid_gap": null,
            "grid_row": null,
            "grid_template_areas": null,
            "grid_template_columns": null,
            "grid_template_rows": null,
            "height": null,
            "justify_content": null,
            "justify_items": null,
            "left": null,
            "margin": null,
            "max_height": null,
            "max_width": null,
            "min_height": null,
            "min_width": null,
            "object_fit": null,
            "object_position": null,
            "order": null,
            "overflow": null,
            "overflow_x": null,
            "overflow_y": null,
            "padding": null,
            "right": null,
            "top": null,
            "visibility": null,
            "width": null
          }
        },
        "76e84240e47c4c66af6593f977d30dae": {
          "model_module": "@jupyter-widgets/controls",
          "model_name": "ProgressStyleModel",
          "model_module_version": "1.5.0",
          "state": {
            "_model_module": "@jupyter-widgets/controls",
            "_model_module_version": "1.5.0",
            "_model_name": "ProgressStyleModel",
            "_view_count": null,
            "_view_module": "@jupyter-widgets/base",
            "_view_module_version": "1.2.0",
            "_view_name": "StyleView",
            "bar_color": null,
            "description_width": ""
          }
        },
        "9444359dbf004fe3b0ce81d8d4004a02": {
          "model_module": "@jupyter-widgets/base",
          "model_name": "LayoutModel",
          "model_module_version": "1.2.0",
          "state": {
            "_model_module": "@jupyter-widgets/base",
            "_model_module_version": "1.2.0",
            "_model_name": "LayoutModel",
            "_view_count": null,
            "_view_module": "@jupyter-widgets/base",
            "_view_module_version": "1.2.0",
            "_view_name": "LayoutView",
            "align_content": null,
            "align_items": null,
            "align_self": null,
            "border": null,
            "bottom": null,
            "display": null,
            "flex": null,
            "flex_flow": null,
            "grid_area": null,
            "grid_auto_columns": null,
            "grid_auto_flow": null,
            "grid_auto_rows": null,
            "grid_column": null,
            "grid_gap": null,
            "grid_row": null,
            "grid_template_areas": null,
            "grid_template_columns": null,
            "grid_template_rows": null,
            "height": null,
            "justify_content": null,
            "justify_items": null,
            "left": null,
            "margin": null,
            "max_height": null,
            "max_width": null,
            "min_height": null,
            "min_width": null,
            "object_fit": null,
            "object_position": null,
            "order": null,
            "overflow": null,
            "overflow_x": null,
            "overflow_y": null,
            "padding": null,
            "right": null,
            "top": null,
            "visibility": null,
            "width": null
          }
        },
        "bcabe59ec9ad4d4882174a916599dac1": {
          "model_module": "@jupyter-widgets/controls",
          "model_name": "DescriptionStyleModel",
          "model_module_version": "1.5.0",
          "state": {
            "_model_module": "@jupyter-widgets/controls",
            "_model_module_version": "1.5.0",
            "_model_name": "DescriptionStyleModel",
            "_view_count": null,
            "_view_module": "@jupyter-widgets/base",
            "_view_module_version": "1.2.0",
            "_view_name": "StyleView",
            "description_width": ""
          }
        },
        "e8840875b92341bd904fa8606b5418d4": {
          "model_module": "@jupyter-widgets/controls",
          "model_name": "HBoxModel",
          "model_module_version": "1.5.0",
          "state": {
            "_dom_classes": [],
            "_model_module": "@jupyter-widgets/controls",
            "_model_module_version": "1.5.0",
            "_model_name": "HBoxModel",
            "_view_count": null,
            "_view_module": "@jupyter-widgets/controls",
            "_view_module_version": "1.5.0",
            "_view_name": "HBoxView",
            "box_style": "",
            "children": [
              "IPY_MODEL_474aa9556a01407083ed0f6babdcc514",
              "IPY_MODEL_0584d8902a8e4e6790371c4f8d387afd",
              "IPY_MODEL_bed043b96772415391a9d76a80e8ad13"
            ],
            "layout": "IPY_MODEL_23c211cdc0b543f8b5fe4e879c2bb2d6"
          }
        },
        "474aa9556a01407083ed0f6babdcc514": {
          "model_module": "@jupyter-widgets/controls",
          "model_name": "HTMLModel",
          "model_module_version": "1.5.0",
          "state": {
            "_dom_classes": [],
            "_model_module": "@jupyter-widgets/controls",
            "_model_module_version": "1.5.0",
            "_model_name": "HTMLModel",
            "_view_count": null,
            "_view_module": "@jupyter-widgets/controls",
            "_view_module_version": "1.5.0",
            "_view_name": "HTMLView",
            "description": "",
            "description_tooltip": null,
            "layout": "IPY_MODEL_e82bc56b387e4783aa2fbc5bc7f85490",
            "placeholder": "​",
            "style": "IPY_MODEL_e4e850039be6439a968c7414421d771d",
            "value": "train-00000-of-00001.parquet: 100%"
          }
        },
        "0584d8902a8e4e6790371c4f8d387afd": {
          "model_module": "@jupyter-widgets/controls",
          "model_name": "FloatProgressModel",
          "model_module_version": "1.5.0",
          "state": {
            "_dom_classes": [],
            "_model_module": "@jupyter-widgets/controls",
            "_model_module_version": "1.5.0",
            "_model_name": "FloatProgressModel",
            "_view_count": null,
            "_view_module": "@jupyter-widgets/controls",
            "_view_module_version": "1.5.0",
            "_view_name": "ProgressView",
            "bar_style": "success",
            "description": "",
            "description_tooltip": null,
            "layout": "IPY_MODEL_c35379bdf2f047c1a858772efea310a6",
            "max": 133886521,
            "min": 0,
            "orientation": "horizontal",
            "style": "IPY_MODEL_992441e726534d49a6750f03484d1e1e",
            "value": 133886521
          }
        },
        "bed043b96772415391a9d76a80e8ad13": {
          "model_module": "@jupyter-widgets/controls",
          "model_name": "HTMLModel",
          "model_module_version": "1.5.0",
          "state": {
            "_dom_classes": [],
            "_model_module": "@jupyter-widgets/controls",
            "_model_module_version": "1.5.0",
            "_model_name": "HTMLModel",
            "_view_count": null,
            "_view_module": "@jupyter-widgets/controls",
            "_view_module_version": "1.5.0",
            "_view_name": "HTMLView",
            "description": "",
            "description_tooltip": null,
            "layout": "IPY_MODEL_a5eeab82633c49f2b320e6989ea8a638",
            "placeholder": "​",
            "style": "IPY_MODEL_0275f6eb1a2b4fe68d9b11e4be115337",
            "value": " 134M/134M [00:01&lt;00:00, 158MB/s]"
          }
        },
        "23c211cdc0b543f8b5fe4e879c2bb2d6": {
          "model_module": "@jupyter-widgets/base",
          "model_name": "LayoutModel",
          "model_module_version": "1.2.0",
          "state": {
            "_model_module": "@jupyter-widgets/base",
            "_model_module_version": "1.2.0",
            "_model_name": "LayoutModel",
            "_view_count": null,
            "_view_module": "@jupyter-widgets/base",
            "_view_module_version": "1.2.0",
            "_view_name": "LayoutView",
            "align_content": null,
            "align_items": null,
            "align_self": null,
            "border": null,
            "bottom": null,
            "display": null,
            "flex": null,
            "flex_flow": null,
            "grid_area": null,
            "grid_auto_columns": null,
            "grid_auto_flow": null,
            "grid_auto_rows": null,
            "grid_column": null,
            "grid_gap": null,
            "grid_row": null,
            "grid_template_areas": null,
            "grid_template_columns": null,
            "grid_template_rows": null,
            "height": null,
            "justify_content": null,
            "justify_items": null,
            "left": null,
            "margin": null,
            "max_height": null,
            "max_width": null,
            "min_height": null,
            "min_width": null,
            "object_fit": null,
            "object_position": null,
            "order": null,
            "overflow": null,
            "overflow_x": null,
            "overflow_y": null,
            "padding": null,
            "right": null,
            "top": null,
            "visibility": null,
            "width": null
          }
        },
        "e82bc56b387e4783aa2fbc5bc7f85490": {
          "model_module": "@jupyter-widgets/base",
          "model_name": "LayoutModel",
          "model_module_version": "1.2.0",
          "state": {
            "_model_module": "@jupyter-widgets/base",
            "_model_module_version": "1.2.0",
            "_model_name": "LayoutModel",
            "_view_count": null,
            "_view_module": "@jupyter-widgets/base",
            "_view_module_version": "1.2.0",
            "_view_name": "LayoutView",
            "align_content": null,
            "align_items": null,
            "align_self": null,
            "border": null,
            "bottom": null,
            "display": null,
            "flex": null,
            "flex_flow": null,
            "grid_area": null,
            "grid_auto_columns": null,
            "grid_auto_flow": null,
            "grid_auto_rows": null,
            "grid_column": null,
            "grid_gap": null,
            "grid_row": null,
            "grid_template_areas": null,
            "grid_template_columns": null,
            "grid_template_rows": null,
            "height": null,
            "justify_content": null,
            "justify_items": null,
            "left": null,
            "margin": null,
            "max_height": null,
            "max_width": null,
            "min_height": null,
            "min_width": null,
            "object_fit": null,
            "object_position": null,
            "order": null,
            "overflow": null,
            "overflow_x": null,
            "overflow_y": null,
            "padding": null,
            "right": null,
            "top": null,
            "visibility": null,
            "width": null
          }
        },
        "e4e850039be6439a968c7414421d771d": {
          "model_module": "@jupyter-widgets/controls",
          "model_name": "DescriptionStyleModel",
          "model_module_version": "1.5.0",
          "state": {
            "_model_module": "@jupyter-widgets/controls",
            "_model_module_version": "1.5.0",
            "_model_name": "DescriptionStyleModel",
            "_view_count": null,
            "_view_module": "@jupyter-widgets/base",
            "_view_module_version": "1.2.0",
            "_view_name": "StyleView",
            "description_width": ""
          }
        },
        "c35379bdf2f047c1a858772efea310a6": {
          "model_module": "@jupyter-widgets/base",
          "model_name": "LayoutModel",
          "model_module_version": "1.2.0",
          "state": {
            "_model_module": "@jupyter-widgets/base",
            "_model_module_version": "1.2.0",
            "_model_name": "LayoutModel",
            "_view_count": null,
            "_view_module": "@jupyter-widgets/base",
            "_view_module_version": "1.2.0",
            "_view_name": "LayoutView",
            "align_content": null,
            "align_items": null,
            "align_self": null,
            "border": null,
            "bottom": null,
            "display": null,
            "flex": null,
            "flex_flow": null,
            "grid_area": null,
            "grid_auto_columns": null,
            "grid_auto_flow": null,
            "grid_auto_rows": null,
            "grid_column": null,
            "grid_gap": null,
            "grid_row": null,
            "grid_template_areas": null,
            "grid_template_columns": null,
            "grid_template_rows": null,
            "height": null,
            "justify_content": null,
            "justify_items": null,
            "left": null,
            "margin": null,
            "max_height": null,
            "max_width": null,
            "min_height": null,
            "min_width": null,
            "object_fit": null,
            "object_position": null,
            "order": null,
            "overflow": null,
            "overflow_x": null,
            "overflow_y": null,
            "padding": null,
            "right": null,
            "top": null,
            "visibility": null,
            "width": null
          }
        },
        "992441e726534d49a6750f03484d1e1e": {
          "model_module": "@jupyter-widgets/controls",
          "model_name": "ProgressStyleModel",
          "model_module_version": "1.5.0",
          "state": {
            "_model_module": "@jupyter-widgets/controls",
            "_model_module_version": "1.5.0",
            "_model_name": "ProgressStyleModel",
            "_view_count": null,
            "_view_module": "@jupyter-widgets/base",
            "_view_module_version": "1.2.0",
            "_view_name": "StyleView",
            "bar_color": null,
            "description_width": ""
          }
        },
        "a5eeab82633c49f2b320e6989ea8a638": {
          "model_module": "@jupyter-widgets/base",
          "model_name": "LayoutModel",
          "model_module_version": "1.2.0",
          "state": {
            "_model_module": "@jupyter-widgets/base",
            "_model_module_version": "1.2.0",
            "_model_name": "LayoutModel",
            "_view_count": null,
            "_view_module": "@jupyter-widgets/base",
            "_view_module_version": "1.2.0",
            "_view_name": "LayoutView",
            "align_content": null,
            "align_items": null,
            "align_self": null,
            "border": null,
            "bottom": null,
            "display": null,
            "flex": null,
            "flex_flow": null,
            "grid_area": null,
            "grid_auto_columns": null,
            "grid_auto_flow": null,
            "grid_auto_rows": null,
            "grid_column": null,
            "grid_gap": null,
            "grid_row": null,
            "grid_template_areas": null,
            "grid_template_columns": null,
            "grid_template_rows": null,
            "height": null,
            "justify_content": null,
            "justify_items": null,
            "left": null,
            "margin": null,
            "max_height": null,
            "max_width": null,
            "min_height": null,
            "min_width": null,
            "object_fit": null,
            "object_position": null,
            "order": null,
            "overflow": null,
            "overflow_x": null,
            "overflow_y": null,
            "padding": null,
            "right": null,
            "top": null,
            "visibility": null,
            "width": null
          }
        },
        "0275f6eb1a2b4fe68d9b11e4be115337": {
          "model_module": "@jupyter-widgets/controls",
          "model_name": "DescriptionStyleModel",
          "model_module_version": "1.5.0",
          "state": {
            "_model_module": "@jupyter-widgets/controls",
            "_model_module_version": "1.5.0",
            "_model_name": "DescriptionStyleModel",
            "_view_count": null,
            "_view_module": "@jupyter-widgets/base",
            "_view_module_version": "1.2.0",
            "_view_name": "StyleView",
            "description_width": ""
          }
        },
        "0eeba6616ec54ce8868f9cc284792aed": {
          "model_module": "@jupyter-widgets/controls",
          "model_name": "HBoxModel",
          "model_module_version": "1.5.0",
          "state": {
            "_dom_classes": [],
            "_model_module": "@jupyter-widgets/controls",
            "_model_module_version": "1.5.0",
            "_model_name": "HBoxModel",
            "_view_count": null,
            "_view_module": "@jupyter-widgets/controls",
            "_view_module_version": "1.5.0",
            "_view_name": "HBoxView",
            "box_style": "",
            "children": [
              "IPY_MODEL_6aaa941a48e1446cb1fa1f1b3f3f2a38",
              "IPY_MODEL_ac27e0c4f3014dc3b988b32a474aa348",
              "IPY_MODEL_50593750c637499ab7ceab809a682b03"
            ],
            "layout": "IPY_MODEL_d1d6a941f1cb4ff79e5f995df303fb98"
          }
        },
        "6aaa941a48e1446cb1fa1f1b3f3f2a38": {
          "model_module": "@jupyter-widgets/controls",
          "model_name": "HTMLModel",
          "model_module_version": "1.5.0",
          "state": {
            "_dom_classes": [],
            "_model_module": "@jupyter-widgets/controls",
            "_model_module_version": "1.5.0",
            "_model_name": "HTMLModel",
            "_view_count": null,
            "_view_module": "@jupyter-widgets/controls",
            "_view_module_version": "1.5.0",
            "_view_name": "HTMLView",
            "description": "",
            "description_tooltip": null,
            "layout": "IPY_MODEL_6dfb83efc813431db00b78f47f5d8b99",
            "placeholder": "​",
            "style": "IPY_MODEL_8e12669e411f4a289282ce2dcae82df4",
            "value": "Generating train split: 100%"
          }
        },
        "ac27e0c4f3014dc3b988b32a474aa348": {
          "model_module": "@jupyter-widgets/controls",
          "model_name": "FloatProgressModel",
          "model_module_version": "1.5.0",
          "state": {
            "_dom_classes": [],
            "_model_module": "@jupyter-widgets/controls",
            "_model_module_version": "1.5.0",
            "_model_name": "FloatProgressModel",
            "_view_count": null,
            "_view_module": "@jupyter-widgets/controls",
            "_view_module_version": "1.5.0",
            "_view_name": "ProgressView",
            "bar_style": "success",
            "description": "",
            "description_tooltip": null,
            "layout": "IPY_MODEL_ab526288092240dea7add1f88359b113",
            "max": 205328,
            "min": 0,
            "orientation": "horizontal",
            "style": "IPY_MODEL_996797bd7ca7429483c8008010f61b8c",
            "value": 205328
          }
        },
        "50593750c637499ab7ceab809a682b03": {
          "model_module": "@jupyter-widgets/controls",
          "model_name": "HTMLModel",
          "model_module_version": "1.5.0",
          "state": {
            "_dom_classes": [],
            "_model_module": "@jupyter-widgets/controls",
            "_model_module_version": "1.5.0",
            "_model_name": "HTMLModel",
            "_view_count": null,
            "_view_module": "@jupyter-widgets/controls",
            "_view_module_version": "1.5.0",
            "_view_name": "HTMLView",
            "description": "",
            "description_tooltip": null,
            "layout": "IPY_MODEL_07a82bba43f04ab094b48d834b22b9bb",
            "placeholder": "​",
            "style": "IPY_MODEL_919ff3c372124065b182dbeb85af70f3",
            "value": " 205328/205328 [00:02&lt;00:00, 110864.93 examples/s]"
          }
        },
        "d1d6a941f1cb4ff79e5f995df303fb98": {
          "model_module": "@jupyter-widgets/base",
          "model_name": "LayoutModel",
          "model_module_version": "1.2.0",
          "state": {
            "_model_module": "@jupyter-widgets/base",
            "_model_module_version": "1.2.0",
            "_model_name": "LayoutModel",
            "_view_count": null,
            "_view_module": "@jupyter-widgets/base",
            "_view_module_version": "1.2.0",
            "_view_name": "LayoutView",
            "align_content": null,
            "align_items": null,
            "align_self": null,
            "border": null,
            "bottom": null,
            "display": null,
            "flex": null,
            "flex_flow": null,
            "grid_area": null,
            "grid_auto_columns": null,
            "grid_auto_flow": null,
            "grid_auto_rows": null,
            "grid_column": null,
            "grid_gap": null,
            "grid_row": null,
            "grid_template_areas": null,
            "grid_template_columns": null,
            "grid_template_rows": null,
            "height": null,
            "justify_content": null,
            "justify_items": null,
            "left": null,
            "margin": null,
            "max_height": null,
            "max_width": null,
            "min_height": null,
            "min_width": null,
            "object_fit": null,
            "object_position": null,
            "order": null,
            "overflow": null,
            "overflow_x": null,
            "overflow_y": null,
            "padding": null,
            "right": null,
            "top": null,
            "visibility": null,
            "width": null
          }
        },
        "6dfb83efc813431db00b78f47f5d8b99": {
          "model_module": "@jupyter-widgets/base",
          "model_name": "LayoutModel",
          "model_module_version": "1.2.0",
          "state": {
            "_model_module": "@jupyter-widgets/base",
            "_model_module_version": "1.2.0",
            "_model_name": "LayoutModel",
            "_view_count": null,
            "_view_module": "@jupyter-widgets/base",
            "_view_module_version": "1.2.0",
            "_view_name": "LayoutView",
            "align_content": null,
            "align_items": null,
            "align_self": null,
            "border": null,
            "bottom": null,
            "display": null,
            "flex": null,
            "flex_flow": null,
            "grid_area": null,
            "grid_auto_columns": null,
            "grid_auto_flow": null,
            "grid_auto_rows": null,
            "grid_column": null,
            "grid_gap": null,
            "grid_row": null,
            "grid_template_areas": null,
            "grid_template_columns": null,
            "grid_template_rows": null,
            "height": null,
            "justify_content": null,
            "justify_items": null,
            "left": null,
            "margin": null,
            "max_height": null,
            "max_width": null,
            "min_height": null,
            "min_width": null,
            "object_fit": null,
            "object_position": null,
            "order": null,
            "overflow": null,
            "overflow_x": null,
            "overflow_y": null,
            "padding": null,
            "right": null,
            "top": null,
            "visibility": null,
            "width": null
          }
        },
        "8e12669e411f4a289282ce2dcae82df4": {
          "model_module": "@jupyter-widgets/controls",
          "model_name": "DescriptionStyleModel",
          "model_module_version": "1.5.0",
          "state": {
            "_model_module": "@jupyter-widgets/controls",
            "_model_module_version": "1.5.0",
            "_model_name": "DescriptionStyleModel",
            "_view_count": null,
            "_view_module": "@jupyter-widgets/base",
            "_view_module_version": "1.2.0",
            "_view_name": "StyleView",
            "description_width": ""
          }
        },
        "ab526288092240dea7add1f88359b113": {
          "model_module": "@jupyter-widgets/base",
          "model_name": "LayoutModel",
          "model_module_version": "1.2.0",
          "state": {
            "_model_module": "@jupyter-widgets/base",
            "_model_module_version": "1.2.0",
            "_model_name": "LayoutModel",
            "_view_count": null,
            "_view_module": "@jupyter-widgets/base",
            "_view_module_version": "1.2.0",
            "_view_name": "LayoutView",
            "align_content": null,
            "align_items": null,
            "align_self": null,
            "border": null,
            "bottom": null,
            "display": null,
            "flex": null,
            "flex_flow": null,
            "grid_area": null,
            "grid_auto_columns": null,
            "grid_auto_flow": null,
            "grid_auto_rows": null,
            "grid_column": null,
            "grid_gap": null,
            "grid_row": null,
            "grid_template_areas": null,
            "grid_template_columns": null,
            "grid_template_rows": null,
            "height": null,
            "justify_content": null,
            "justify_items": null,
            "left": null,
            "margin": null,
            "max_height": null,
            "max_width": null,
            "min_height": null,
            "min_width": null,
            "object_fit": null,
            "object_position": null,
            "order": null,
            "overflow": null,
            "overflow_x": null,
            "overflow_y": null,
            "padding": null,
            "right": null,
            "top": null,
            "visibility": null,
            "width": null
          }
        },
        "996797bd7ca7429483c8008010f61b8c": {
          "model_module": "@jupyter-widgets/controls",
          "model_name": "ProgressStyleModel",
          "model_module_version": "1.5.0",
          "state": {
            "_model_module": "@jupyter-widgets/controls",
            "_model_module_version": "1.5.0",
            "_model_name": "ProgressStyleModel",
            "_view_count": null,
            "_view_module": "@jupyter-widgets/base",
            "_view_module_version": "1.2.0",
            "_view_name": "StyleView",
            "bar_color": null,
            "description_width": ""
          }
        },
        "07a82bba43f04ab094b48d834b22b9bb": {
          "model_module": "@jupyter-widgets/base",
          "model_name": "LayoutModel",
          "model_module_version": "1.2.0",
          "state": {
            "_model_module": "@jupyter-widgets/base",
            "_model_module_version": "1.2.0",
            "_model_name": "LayoutModel",
            "_view_count": null,
            "_view_module": "@jupyter-widgets/base",
            "_view_module_version": "1.2.0",
            "_view_name": "LayoutView",
            "align_content": null,
            "align_items": null,
            "align_self": null,
            "border": null,
            "bottom": null,
            "display": null,
            "flex": null,
            "flex_flow": null,
            "grid_area": null,
            "grid_auto_columns": null,
            "grid_auto_flow": null,
            "grid_auto_rows": null,
            "grid_column": null,
            "grid_gap": null,
            "grid_row": null,
            "grid_template_areas": null,
            "grid_template_columns": null,
            "grid_template_rows": null,
            "height": null,
            "justify_content": null,
            "justify_items": null,
            "left": null,
            "margin": null,
            "max_height": null,
            "max_width": null,
            "min_height": null,
            "min_width": null,
            "object_fit": null,
            "object_position": null,
            "order": null,
            "overflow": null,
            "overflow_x": null,
            "overflow_y": null,
            "padding": null,
            "right": null,
            "top": null,
            "visibility": null,
            "width": null
          }
        },
        "919ff3c372124065b182dbeb85af70f3": {
          "model_module": "@jupyter-widgets/controls",
          "model_name": "DescriptionStyleModel",
          "model_module_version": "1.5.0",
          "state": {
            "_model_module": "@jupyter-widgets/controls",
            "_model_module_version": "1.5.0",
            "_model_name": "DescriptionStyleModel",
            "_view_count": null,
            "_view_module": "@jupyter-widgets/base",
            "_view_module_version": "1.2.0",
            "_view_name": "StyleView",
            "description_width": ""
          }
        }
      }
    }
  },
  "nbformat": 4,
  "nbformat_minor": 0
}